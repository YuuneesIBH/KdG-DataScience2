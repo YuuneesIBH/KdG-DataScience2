{
  "cells": [
    {
      "cell_type": "code",
      "id": "initial_id",
      "metadata": {
        "collapsed": true,
        "ExecuteTime": {
          "end_time": "2025-02-10T09:17:14.912630Z",
          "start_time": "2025-02-10T09:17:14.313564Z"
        }
      },
      "source": [
        "import numpy as np\n",
        "import sklearn.datasets as ds\n",
        "import numpy as np\n",
        "b, _ = ds.make_gaussian_quantiles(n_samples=10000, n_features=4, random_state=42)\n",
        "a= np.array(ds.load_iris().data)[0:100,:]\n",
        "c = np.arange(1,5)\n",
        "d= a[10:14,0].reshape(4,1)\n"
      ],
      "outputs": [],
      "execution_count": 1
    },
    {
      "cell_type": "markdown",
      "source": [
        "## 1. Broadcasting\n",
        "a,b,c and d are generated with dummy data. You do not have to understand how it's done.\\\n",
        "a. Print the array a, b, c, and d.\\\n",
        "b. Print the number of dimensions of a, b, c, and d.\\\n",
        "c. print the shape of a, b, c, and d.\\\n",
        "_It is important to understand the shape of the arrays when broadcasting. Make sure you understand the shape of the arrays before you start the next steps._\n"
      ],
      "metadata": {
        "collapsed": false
      },
      "id": "adae51bffadde368"
    },
    {
      "cell_type": "code",
      "source": [],
      "metadata": {
        "collapsed": false,
        "ExecuteTime": {
          "end_time": "2025-02-10T09:17:14.942084Z",
          "start_time": "2025-02-10T09:17:14.925167Z"
        }
      },
      "id": "3e4c1bb4c1aa1a4b",
      "outputs": [],
      "execution_count": 2
    },
    {
      "cell_type": "markdown",
      "source": "d. Pick the first 100 rows of b. Add array a to these rows.",
      "metadata": {
        "collapsed": false
      },
      "id": "aa12de36838d0f42"
    },
    {
      "cell_type": "code",
      "source": [],
      "metadata": {
        "collapsed": false,
        "ExecuteTime": {
          "end_time": "2025-02-10T09:17:15.703950Z",
          "start_time": "2025-02-10T09:17:15.691658Z"
        }
      },
      "id": "8e05d131730b06d",
      "outputs": [],
      "execution_count": 3
    },
    {
      "cell_type": "markdown",
      "source": "e. For each row in  array a, calculate the sum of the power of the first column and the power of the second column.",
      "metadata": {
        "collapsed": false
      },
      "id": "b1a4e69b64e9b9c"
    },
    {
      "cell_type": "code",
      "source": [],
      "metadata": {
        "collapsed": false,
        "ExecuteTime": {
          "end_time": "2025-02-10T09:17:15.763452Z",
          "start_time": "2025-02-10T09:17:15.755391Z"
        }
      },
      "id": "66e5746bca89efa9",
      "outputs": [],
      "execution_count": 4
    },
    {
      "cell_type": "markdown",
      "source": [],
      "metadata": {
        "collapsed": false
      },
      "id": "ae6d5cdd19ccb43f"
    },
    {
      "cell_type": "markdown",
      "source": [
        "f. You are going to multiply array a with array c. Before doing, predict the shape of the resulting array and results of the first row based on __the rules of broadcasting__.\\\n",
        "g. Now, multiply array a with array c and compare the result with your prediction."
      ],
      "metadata": {
        "collapsed": false
      },
      "id": "f06ee6d2ff271a49"
    },
    {
      "cell_type": "code",
      "source": [],
      "metadata": {
        "collapsed": false,
        "ExecuteTime": {
          "end_time": "2025-02-10T09:17:15.966879Z",
          "start_time": "2025-02-10T09:17:15.952949Z"
        }
      },
      "id": "dd9325c76be23450",
      "outputs": [],
      "execution_count": 5
    },
    {
      "cell_type": "markdown",
      "source": [
        "First rule 1 is applied to array c. The shape of c is padded to (1,4) because it had less dimensions than a.\n",
        "`[1,2,3,4] -> [[1,2,3,4]]` \n",
        "\n",
        "Then, rule 2 is applied to c. The shape of c is stretched to (100,4) to match the shape of a.\n",
        "`[[1,2,3,4]] -> [[1,2,3,4],[1,2,3,4],...,[1,2,3,4]]`\n",
        "\n",
        "Finally, the two arrays are multiplied element-wise.   "
      ],
      "metadata": {
        "collapsed": false
      },
      "id": "c531170b24c6ec7"
    },
    {
      "cell_type": "markdown",
      "source": "h. Now multiply array a with array d. Before doing, predict the shape of the resulting array and results of the first row based on __the rules of broadcasting__.\n",
      "metadata": {
        "collapsed": false
      },
      "id": "7a0cf5080120dc37"
    },
    {
      "cell_type": "code",
      "source": [],
      "metadata": {
        "collapsed": false,
        "ExecuteTime": {
          "end_time": "2025-02-10T09:17:17.536234Z",
          "start_time": "2025-02-10T09:17:16.478413Z"
        }
      },
      "id": "7a82253889b1ad1c",
      "outputs": [],
      "execution_count": 6
    },
    {
      "cell_type": "markdown",
      "source": [
        "Rule 1: the number of dimensions is the same for both arrays. Padding not applied.\\\n",
        "Rule 2: The shape of d is stretched from (4,1) to (4,4) to match the shape of a.\\\n",
        "Rule 3: The dimensions of the arrays differ. An error is raised.\\"
      ],
      "metadata": {
        "collapsed": false
      },
      "id": "ee9fa00427a9cf7b"
    },
    {
      "cell_type": "markdown",
      "source": "i. Now multiply c with. d. Before doing, predict the shape of the resulting array and results of the first row based on __the rules of broadcasting__.",
      "metadata": {
        "collapsed": false
      },
      "id": "3081f223259f8b17"
    },
    {
      "cell_type": "code",
      "source": [],
      "metadata": {
        "collapsed": false,
        "ExecuteTime": {
          "end_time": "2025-02-10T09:17:17.559246900Z",
          "start_time": "2025-01-24T14:33:53.273059Z"
        }
      },
      "id": "3da1324c2b6341b3",
      "outputs": [],
      "execution_count": 12
    },
    {
      "cell_type": "markdown",
      "source": [
        "Rule 1:shape c (4,) becomes (1,4) to match the shape of d (4,1)\\\n",
        "Rule 2: c is stretched to (4,4). d (4,1) is stretched to (4,4) to match the shape of c.\\\n",
        "Rule 3: The two arrays are multiplied element-wise."
      ],
      "metadata": {
        "collapsed": false
      },
      "id": "ffaa48615adc69fc"
    },
    {
      "cell_type": "markdown",
      "source": [
        "j. For dataset a, normalize the data by calculating the z-score for each column. This way you can compare the columns of the dataset.\\\n",
        "*In case you don't remember, the formula for the z-score is: (x- x-mean) /std.*"
      ],
      "metadata": {
        "collapsed": false
      },
      "id": "33ae4d93c9e86079"
    },
    {
      "cell_type": "code",
      "outputs": [],
      "source": [],
      "metadata": {
        "collapsed": false,
        "ExecuteTime": {
          "end_time": "2025-02-10T09:17:17.658553100Z",
          "start_time": "2024-08-20T12:31:30.611526400Z"
        }
      },
      "id": "206437c3e08645d5",
      "execution_count": 31
    }
  ],
  "metadata": {
    "kernelspec": {
      "display_name": "Python 3",
      "language": "python",
      "name": "python3"
    },
    "language_info": {
      "codemirror_mode": {
        "name": "ipython",
        "version": 2
      },
      "file_extension": ".py",
      "mimetype": "text/x-python",
      "name": "python",
      "nbconvert_exporter": "python",
      "pygments_lexer": "ipython2",
      "version": "2.7.6"
    }
  },
  "nbformat": 4,
  "nbformat_minor": 5
}