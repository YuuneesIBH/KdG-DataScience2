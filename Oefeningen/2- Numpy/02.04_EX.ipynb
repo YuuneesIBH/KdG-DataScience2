{
  "cells": [
    {
      "cell_type": "code",
      "id": "initial_id",
      "metadata": {
        "collapsed": true,
        "ExecuteTime": {
          "end_time": "2025-02-07T10:40:21.466101Z",
          "start_time": "2025-02-07T10:40:21.429905Z"
        }
      },
      "source": [
        "import numpy as np\n",
        "import sklearn.datasets as ds\n",
        "import numpy as np\n",
        "a = np.array(ds.load_iris().data)\n"
      ],
      "outputs": [],
      "execution_count": 3
    },
    {
      "cell_type": "markdown",
      "source": [
        "## 2. Aggregations\n",
        "large_array is generated with dummy data. You do not have to understand how it's done. You can consult the shape and dtype of large_array in the output above.\\\n",
        "a. Calculate the mean of array a.\\\n",
        "b. Calculate the sum of all the columns in a.\\\n",
        "c. Calculate the product of all the rows in a.\n",
        "\n"
      ],
      "metadata": {
        "collapsed": false
      },
      "id": "adae51bffadde368"
    },
    {
      "cell_type": "code",
      "source": [],
      "metadata": {
        "collapsed": false,
        "ExecuteTime": {
          "end_time": "2025-02-07T10:43:23.264742Z",
          "start_time": "2025-02-07T10:43:23.256844Z"
        }
      },
      "id": "3e4c1bb4c1aa1a4b",
      "outputs": [],
      "execution_count": 6
    },
    {
      "cell_type": "markdown",
      "source": [
        "d. Calculate the standard deviation of the first column in a by calculation the standard deviation of every column of array a and then selecting the first element of the resulting array."
      ],
      "metadata": {
        "collapsed": false
      },
      "id": "aa12de36838d0f42"
    },
    {
      "cell_type": "code",
      "source": [],
      "metadata": {
        "collapsed": false,
        "ExecuteTime": {
          "end_time": "2025-01-24T12:29:01.218762Z",
          "start_time": "2025-01-24T12:28:57.723011Z"
        }
      },
      "id": "8e05d131730b06d",
      "outputs": [],
      "execution_count": 3
    },
    {
      "cell_type": "markdown",
      "source": [
        "\n",
        "e. Calculate the standard deviation of the first column in a by selecting the first column and then calculating the standard deviation."
      ],
      "metadata": {
        "collapsed": false
      },
      "id": "b1a4e69b64e9b9c"
    },
    {
      "cell_type": "code",
      "source": [],
      "metadata": {
        "collapsed": false,
        "ExecuteTime": {
          "end_time": "2025-01-24T12:29:03.752956Z",
          "start_time": "2025-01-24T12:29:01.279769Z"
        }
      },
      "id": "66e5746bca89efa9",
      "outputs": [],
      "execution_count": 4
    },
    {
      "cell_type": "markdown",
      "source": [
        "f. Compare the time it takes to calculate the standard deviation of the first column in a using the two methods above. Which method is faster? Why"
      ],
      "metadata": {
        "collapsed": false
      },
      "id": "f06ee6d2ff271a49"
    },
    {
      "cell_type": "code",
      "source": [],
      "metadata": {
        "collapsed": false,
        "ExecuteTime": {
          "end_time": "2025-01-24T12:31:36.085631Z",
          "start_time": "2025-01-24T12:31:30.512944Z"
        }
      },
      "id": "dd9325c76be23450",
      "outputs": [],
      "execution_count": 8
    },
    {
      "cell_type": "markdown",
      "source": [
        "This is another example where chosing the right method can make a big difference in performance. Chosing an efficient solution will be taken into account when evaluating. "
      ],
      "metadata": {
        "collapsed": false
      },
      "id": "7a0cf5080120dc37"
    }
  ],
  "metadata": {
    "kernelspec": {
      "display_name": "Python 3",
      "language": "python",
      "name": "python3"
    },
    "language_info": {
      "codemirror_mode": {
        "name": "ipython",
        "version": 2
      },
      "file_extension": ".py",
      "mimetype": "text/x-python",
      "name": "python",
      "nbconvert_exporter": "python",
      "pygments_lexer": "ipython2",
      "version": "2.7.6"
    }
  },
  "nbformat": 4,
  "nbformat_minor": 5
}