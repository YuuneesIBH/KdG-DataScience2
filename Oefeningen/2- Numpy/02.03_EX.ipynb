{
  "cells": [
    {
      "cell_type": "code",
      "id": "initial_id",
      "metadata": {
        "collapsed": true,
        "jupyter": {
          "outputs_hidden": true
        },
        "ExecuteTime": {
          "end_time": "2025-02-07T10:10:34.418689Z",
          "start_time": "2025-02-07T10:10:34.396734Z"
        }
      },
      "source": [
        "import numpy as np\n",
        "import sklearn.datasets as ds\n",
        "import numpy as np\n",
        "large_array, _ = ds.make_gaussian_quantiles(n_samples=10000, n_features=1, random_state=42)\n",
        "large_array= large_array.reshape((10000,))\n",
        "a = np.array(ds.load_iris().data)\n"
      ],
      "outputs": [],
      "execution_count": 5
    },
    {
      "cell_type": "markdown",
      "id": "448639467c360c94",
      "metadata": {
        "collapsed": false,
        "jupyter": {
          "outputs_hidden": false
        }
      },
      "source": [
        "## 1. Efficiency of numpy operations\n",
        "large_array is generated with dummy data. You do not have to understand how it's done.\n",
        "\n",
        "a. Check the dtype and shape of `large_array`"
      ]
    },
    {
      "cell_type": "code",
      "id": "fcc8a3e835c29d34",
      "metadata": {
        "collapsed": false,
        "jupyter": {
          "outputs_hidden": false
        },
        "ExecuteTime": {
          "end_time": "2025-02-07T10:06:27.388496Z",
          "start_time": "2025-02-07T10:06:27.381986Z"
        }
      },
      "source": [],
      "outputs": [],
      "execution_count": 2
    },
    {
      "cell_type": "markdown",
      "id": "f8246d99c681926c",
      "metadata": {
        "collapsed": false,
        "jupyter": {
          "outputs_hidden": false
        }
      },
      "source": [
        "b. Create a for-loop in which you calculate the power of 2 for each element. `%%timeit` is  placed at the beginning of the cell. By doing this, Jupiter will do several runs and measure the speed of the operation. The result is shown below the cell. Run the cell and wait for the result. Look how long running the for-loop takes."
      ]
    },
    {
      "cell_type": "code",
      "id": "1a3d1ecaa69acfe0",
      "metadata": {
        "collapsed": false,
        "jupyter": {
          "outputs_hidden": false
        },
        "ExecuteTime": {
          "end_time": "2025-02-07T10:06:45.759346Z",
          "start_time": "2025-02-07T10:06:31.829424Z"
        }
      },
      "source": [
        "%%timeit\n"
      ],
      "outputs": [],
      "execution_count": 3
    },
    {
      "cell_type": "markdown",
      "id": "51adf63a6fc0e8dd",
      "metadata": {
        "collapsed": false,
        "jupyter": {
          "outputs_hidden": false
        }
      },
      "source": [
        "c. In the cell below, do the same with the Ufuncs functionality instead of a for-loop. Use %%timeit again. Compare the duration. How big is the difference?"
      ]
    },
    {
      "cell_type": "code",
      "id": "2fcaa1e7c1ebdc52",
      "metadata": {
        "collapsed": false,
        "jupyter": {
          "outputs_hidden": false
        },
        "ExecuteTime": {
          "end_time": "2025-02-07T10:06:55.525647Z",
          "start_time": "2025-02-07T10:06:52.585048Z"
        }
      },
      "source": [
        "%%timeit\n"
      ],
      "outputs": [],
      "execution_count": 4
    },
    {
      "cell_type": "markdown",
      "id": "537a1c1d67f47038",
      "metadata": {
        "collapsed": false,
        "jupyter": {
          "outputs_hidden": false
        }
      },
      "source": [
        "<div style=\"border: 2px solid red; padding: 10px; border-radius: 5px; background-color: #f8d7da; color: #721c24;\">\n",
        "<strong>! </strong>As you can see for yourself there is a big difference.\n",
        "From now on, where possible, you have to use UFuncs instead of for-loops. The code is more lean and will be excecuted more efficiently. During evaluations for-loops will influence your score negatively and are even not allowed in most cases..</div>\n"
      ]
    },
    {
      "cell_type": "markdown",
      "id": "adae51bffadde368",
      "metadata": {
        "collapsed": false,
        "jupyter": {
          "outputs_hidden": false
        }
      },
      "source": [
        "## 2. Using UFuncs\n",
        "Use UFuncs to perform the following operations on array a. This array contains features of the iris dataset\\\n",
        "a. From array a, multiply every element by 2\\\n",
        "b. From array a, calculate the square root of each element.\\\n",
        "c. From array a, round the first column to the nearest integer.\\\n",
        "d. From array a, add 1 to every value of the first row.\n"
      ]
    },
    {
      "cell_type": "code",
      "id": "3e4c1bb4c1aa1a4b",
      "metadata": {
        "collapsed": false,
        "jupyter": {
          "outputs_hidden": false
        },
        "ExecuteTime": {
          "end_time": "2025-02-07T10:23:30.648644Z",
          "start_time": "2025-02-07T10:23:30.625247Z"
        }
      },
      "source": [],
      "outputs": [],
      "execution_count": 9
    },
    {
      "metadata": {},
      "cell_type": "code",
      "outputs": [],
      "execution_count": null,
      "source": [],
      "id": "1ffeea7b3c810c0e"
    }
  ],
  "metadata": {
    "kernelspec": {
      "display_name": "Python 3 (ipykernel)",
      "language": "python",
      "name": "python3"
    },
    "language_info": {
      "codemirror_mode": {
        "name": "ipython",
        "version": 3
      },
      "file_extension": ".py",
      "mimetype": "text/x-python",
      "name": "python",
      "nbconvert_exporter": "python",
      "pygments_lexer": "ipython3",
      "version": "3.12.8"
    }
  },
  "nbformat": 4,
  "nbformat_minor": 5
}