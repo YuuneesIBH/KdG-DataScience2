{
  "cells": [
    {
      "cell_type": "code",
      "id": "initial_id",
      "metadata": {
        "collapsed": true,
        "ExecuteTime": {
          "end_time": "2025-02-07T11:58:14.618236Z",
          "start_time": "2025-02-07T11:58:14.219513Z"
        }
      },
      "source": [
        "import numpy as np\n",
        "import sklearn.datasets as ds\n",
        "import numpy as np\n",
        "wine_x= np.array(ds.load_wine().data)\n",
        "wine_y= np.array(ds.load_wine().target)\n",
        "descr= ds.load_wine().DESCR\n",
        "print(descr)"
      ],
      "outputs": [],
      "execution_count": 1
    },
    {
      "cell_type": "markdown",
      "source": [
        "When running the first cell you are provided with a description of the wine dataset included in de sklearn Python module. Go through the description and complete the following tasks:\\\n",
        "The features (independent variables) are stored in the array wine_x. The target wineclass (dependent variable) is stored in the array wine_y.\\\n",
        "## 1. Boolean Arrays and Masks \n",
        "a. You want to know which of the wines are the best quality. Print a boolean array that shows whether the wineclass equals 2 in wine_y.\\\n",
        "b. Check with one statement whether column 5 (index 4) of wine_x has values above 160, also check for 170. The result has to be one boolean value.\\\n",
        "c. All values of column 5 should lie between 70 and 170. Check this with one statement. The result has to be one boolean value. If you get \"false\" check with the min and max functions which value is causing the problem.\\\n",
        "d. Now give a boolean array that shows whether the wineclass equals 0 or 2 in wine_y.\\\n",
        "e. Show all rows of wine_x where the first column of wine_x is greater than 14.\\\n",
        "f. Show all rows of wine_x where the class of the wine equals 2.\\\n",
        "g. Show all rows of wine_x where column 2 is less than 1 and the class of the wine equals 1\\\n",
        "h. Change all values in column 0 of wine_x that are higher than 13 to the nearest integer.\\"
      ],
      "metadata": {
        "collapsed": false
      },
      "id": "adae51bffadde368"
    },
    {
      "cell_type": "code",
      "source": [],
      "metadata": {
        "collapsed": false,
        "ExecuteTime": {
          "end_time": "2025-02-07T11:58:57.094559Z",
          "start_time": "2025-02-07T11:58:57.077162Z"
        }
      },
      "id": "fa06ba0aea60b378",
      "outputs": [],
      "execution_count": 4
    },
    {
      "metadata": {},
      "cell_type": "code",
      "outputs": [],
      "execution_count": null,
      "source": [],
      "id": "6431bc540801f9cb"
    }
  ],
  "metadata": {
    "kernelspec": {
      "display_name": "Python 3",
      "language": "python",
      "name": "python3"
    },
    "language_info": {
      "codemirror_mode": {
        "name": "ipython",
        "version": 2
      },
      "file_extension": ".py",
      "mimetype": "text/x-python",
      "name": "python",
      "nbconvert_exporter": "python",
      "pygments_lexer": "ipython2",
      "version": "2.7.6"
    }
  },
  "nbformat": 4,
  "nbformat_minor": 5
}