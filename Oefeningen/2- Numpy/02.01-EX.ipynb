{
  "cells": [
    {
      "cell_type": "markdown",
      "id": "96bcea7e4909a41e",
      "metadata": {
        "collapsed": false
      },
      "source": [
        "# 1. Understanding how integers and other datatypes are stored in Python\n",
        "\n",
        "a. Create an integer with value 1.\\\n",
        "b. Check how many bytes the variable occupies in memory (use getsizeof() of the sys module)\\\n",
        "c. Can you explain the difference with an integer in C which occupies 2 or 4 bytes in memory?\\"
      ]
    },
    {
      "cell_type": "code",
      "id": "initial_id",
      "metadata": {
        "collapsed": true,
        "ExecuteTime": {
          "end_time": "2025-02-07T09:17:38.624108Z",
          "start_time": "2025-02-07T09:17:38.612961Z"
        }
      },
      "source": [],
      "outputs": [],
      "execution_count": 3
    },
    {
      "cell_type": "markdown",
      "id": "aa7124780778bfaf",
      "metadata": {
        "collapsed": false
      },
      "source": [
        "# 2. Understanding the difference between lists and np arrays\n",
        "a. Create a Python list with 3 one-digit integers. \\\n",
        "b. Append one item to the list with string value \"X\".\\\n",
        "c. Check how many bytes the list occupies in memory. \\\n",
        "_In case of a list, the total size is the sum of the list-object + the size of each seperate object in the list (as the list object only contain references to the list objects). You can use a __[list-comprehension](https://www.w3schools.com/python/python_lists_comprehension.asp)__ to loop through all the items_\\\n",
        "d. Now create a Numpy ndarray with the same 3 integers. Check the objectsize with getsizeof(). How many bytes does the ndarray occupy\\\n",
        "e. Also check the size of an indivdual element in the array with the 'itemsize' property of the ndarray object. How many bytes does one integer occupy? Explain the difference with a list object. _Using the list-comprehension as done with the list object will give confusing results as Python will convert the stored integer to a fully fledged \"int\" python object and will show the 28 byes of that object).\\\n",
        "f. Now 'append' an extra item with value 4 to the ndarray. Check the size of the ndarray again. How many bytes where added? Why?\\"
      ]
    },
    {
      "cell_type": "code",
      "id": "be0fd641d5e34b05",
      "metadata": {
        "collapsed": false,
        "ExecuteTime": {
          "end_time": "2025-02-07T09:17:39.171236Z",
          "start_time": "2025-02-07T09:17:38.681126Z"
        }
      },
      "source": [],
      "outputs": [],
      "execution_count": 4
    },
    {
      "cell_type": "markdown",
      "id": "e5f61b68aebf329f",
      "metadata": {
        "collapsed": false
      },
      "source": [
        "# 3. Creating Numpy arrays\n",
        "a. Array a1 has 10 ones of type float\\\n",
        "b. Array a2 has a range of numbers from 50 to (and including) 100 with steps of 2\\\n",
        "c. Array a3 has 10 random integers between 0 and 100. To do so, first create a random number generator with the default seed, then use the 'integers' method to create the array. _The seed makes sure that the random numbers are the same each time the code is executed._\\\n",
        "d. Array a4 has to contain the values of list 'l_ex3' \\\n",
        "e. Array a5 is a compact copy a2. Look for a dtype with a smaller size knowing that the values will never be higher then 100. Check the reduction in size of the array.\\\n",
        "_As you will be working with big datasets, reducing the size of the arrays will have a big impact on processing the data._\\\n",
        "f. Array a6 is an array of ones with 2 dimensions of 2 rows and 4 columns.\n"
      ]
    },
    {
      "cell_type": "code",
      "id": "bec2b9e375d10a63",
      "metadata": {
        "collapsed": false,
        "ExecuteTime": {
          "end_time": "2025-02-07T09:17:39.315335Z",
          "start_time": "2025-02-07T09:17:39.293267Z"
        }
      },
      "source": [
        "l_oef3= [1,2,3.14,4]\n"
      ],
      "outputs": [],
      "execution_count": 5
    }
  ],
  "metadata": {
    "kernelspec": {
      "display_name": "Python 3",
      "language": "python",
      "name": "python3"
    },
    "language_info": {
      "codemirror_mode": {
        "name": "ipython",
        "version": 2
      },
      "file_extension": ".py",
      "mimetype": "text/x-python",
      "name": "python",
      "nbconvert_exporter": "python",
      "pygments_lexer": "ipython2",
      "version": "2.7.6"
    }
  },
  "nbformat": 4,
  "nbformat_minor": 5
}