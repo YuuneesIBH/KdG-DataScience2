{
 "cells": [
  {
   "cell_type": "markdown",
   "id": "96bcea7e4909a41e",
   "metadata": {
    "collapsed": false
   },
   "source": [
    "# 1. Understanding how integers and other datatypes are stored in Python\n",
    "\n",
    "a. Create an integer with value 1.\\\n",
    "b. Check how many bytes the variable occupies in memory (use getsizeof() of the sys module)\\\n",
    "c. Can you explain the difference with an integer in C which occupies 2 or 4 bytes in memory?\\"
   ]
  },
  {
   "cell_type": "code",
   "id": "initial_id",
   "metadata": {
    "collapsed": true,
    "ExecuteTime": {
     "end_time": "2025-06-10T15:45:59.649552Z",
     "start_time": "2025-06-10T15:45:59.643075Z"
    }
   },
   "source": [
    "#SOLUTION_START\n",
    "# #a\n",
    "i = 1\n",
    "#b\n",
    "import sys\n",
    "sys.getsizeof(i)\n",
    "#c\n",
    "# Data types in Python are complex by default. It's'not only a reference to a memory location, it is a struct-type containing information like the count, size...\n",
    "#SOLUTION_END"
   ],
   "outputs": [
    {
     "data": {
      "text/plain": [
       "28"
      ]
     },
     "execution_count": 1,
     "metadata": {},
     "output_type": "execute_result"
    }
   ],
   "execution_count": 1
  },
  {
   "cell_type": "markdown",
   "id": "aa7124780778bfaf",
   "metadata": {
    "collapsed": false
   },
   "source": [
    "# 2. Understanding the difference between lists and np arrays\n",
    "a. Create a Python list with 3 one-digit integers. \\\n",
    "b. Append one item to the list with string value \"X\".\\\n",
    "c. Check how many bytes the list occupies in memory. \\\n",
    "_In case of a list, the total size is the sum of the list-object + the size of each seperate object in the list (as the list object only contain references to the list objects). You can use a __[list-comprehension](https://www.w3schools.com/python/python_lists_comprehension.asp)__ to loop through all the items_\\\n",
    "d. Now create a Numpy ndarray with the same 3 integers. Check the objectsize with getsizeof(). How many bytes does the ndarray occupy\\\n",
    "e. Also check the size of an indivdual element in the array with the 'itemsize' property of the ndarray object. How many bytes does one integer occupy? Explain the difference with a list object. _Using the list-comprehension as done with the list object will give confusing results as Python will convert the stored integer to a fully fledged \"int\" python object and will show the 28 byes of that object).\\\n",
    "f. Now 'append' an extra item with value 4 to the ndarray. Check the size of the ndarray again. How many bytes where added? Why?\\"
   ]
  },
  {
   "cell_type": "code",
   "id": "be0fd641d5e34b05",
   "metadata": {
    "collapsed": false,
    "ExecuteTime": {
     "end_time": "2025-06-10T15:46:04.246241Z",
     "start_time": "2025-06-10T15:46:03.564090Z"
    }
   },
   "source": [
    "#SOLUTION_START\n",
    "import math\n",
    "#a\n",
    "L_size = 3\n",
    "L = list(range(L_size))\n",
    "#b\n",
    "L.append(\"X\")\n",
    "print(L)\n",
    "#c\n",
    "#When using f before the string, you can use variables in the string by using curly brackets {}.\n",
    "print(f\"The List:\")\n",
    "print(f\"The size of the list-object is: {sys.getsizeof(L)} bytes\")\n",
    "print(f\"The sizes of the elements are: {[sys.getsizeof(E) for E in L]} bytes\")\n",
    "print(f\"The total size is : {sum([sys.getsizeof(E) for E in L]) + sys.getsizeof(L)} bytes\")\n",
    "#d\n",
    "import numpy as np\n",
    "A_size= 3\n",
    "A = np.array(range(A_size))\n",
    "print(f\"The Numpy Array:\")\n",
    "print(f\"The size of the Numpy array is: {sys.getsizeof(A)} bytes\")\n",
    "#e\n",
    "print(f\"Every element in the array has a size of {A.itemsize} bytes\")\n",
    "#f\n",
    "A= np.append(4, A)\n",
    "print(f\"The size of the array is: {sys.getsizeof(A)} bytes\")\n",
    "#SOLUTION_END"
   ],
   "outputs": [
    {
     "name": "stdout",
     "output_type": "stream",
     "text": [
      "[0, 1, 2, 'X']\n",
      "The List:\n",
      "The size of the list-object is: 120 bytes\n",
      "The sizes of the elements are: [24, 28, 28, 50] bytes\n",
      "The total size is : 250 bytes\n",
      "The Numpy Array:\n",
      "The size of the Numpy array is: 136 bytes\n",
      "Every element in the array has a size of 8 bytes\n",
      "The size of the array is: 144 bytes\n"
     ]
    }
   ],
   "execution_count": 2
  },
  {
   "cell_type": "markdown",
   "id": "e5f61b68aebf329f",
   "metadata": {
    "collapsed": false
   },
   "source": [
    "# 3. Creating Numpy arrays\n",
    "a. Array a1 has 10 ones of type float\\\n",
    "b. Array a2 has a range of numbers from 50 to (and including) 100 with steps of 2\\\n",
    "c. Array a3 has 10 random integers between 0 and 100. To do so, first create a random number generator with the default seed, then use the 'integers' method to create the array. _The seed makes sure that the random numbers are the same each time the code is executed._\\\n",
    "d. Array a4 has to contain the values of list 'l_ex3' \\\n",
    "e. Array a5 is a compact copy a2. Look for a dtype with a smaller size knowing that the values will never be higher then 100. Check the reduction in size of the array.\\\n",
    "_As you will be working with big datasets, reducing the size of the arrays will have a big impact on processing the data._\\\n",
    "f. Array a6 is an array of ones with 2 dimensions of 2 rows and 4 columns.\n"
   ]
  },
  {
   "cell_type": "code",
   "id": "bec2b9e375d10a63",
   "metadata": {
    "collapsed": false,
    "ExecuteTime": {
     "end_time": "2025-06-10T15:46:10.639367Z",
     "start_time": "2025-06-10T15:46:10.635041Z"
    }
   },
   "source": [
    "l_oef3= [1,2,3.14,4]\n",
    "#SOLUTION_START\n",
    "a1= np.ones(10,dtype= 'float')\n",
    "print(f\"a1={a1}\")\n",
    "a2 = np.arange(50,101,2)\n",
    "print(f\"a2={a2}\")\n",
    "rng= np.random.default_rng(42)\n",
    "a3 = rng.integers(0,101,10) #high must be one above the to be drawn integer\"\n",
    "# As 'np.random.int() has become legacy, we use the new method by first creating a random number generator with the default seed, then use the 'integers' method to create the array. At this moment the legacy method is not yet deprecated, but it is good practice to use the new method.\n",
    "print(f\"a3={a3}\")\n",
    "a4 = np.array(l_oef3, dtype=np.float16)\n",
    "print(f\"a4={a4}\")\n",
    "a5 = np.array(a2,dtype= np.int8)\n",
    "print(f\"a5={a5}\")\n",
    "print(f\"The size of a2 was reduced from {sys.getsizeof(a2)} to {sys.getsizeof(a5)} bytes\")\n",
    "a6 = np.ones((2,4))\n",
    "print(f\"a6={a6}\")\n",
    "#SOLUTION_END"
   ],
   "outputs": [
    {
     "name": "stdout",
     "output_type": "stream",
     "text": [
      "a1=[1. 1. 1. 1. 1. 1. 1. 1. 1. 1.]\n",
      "a2=[ 50  52  54  56  58  60  62  64  66  68  70  72  74  76  78  80  82  84\n",
      "  86  88  90  92  94  96  98 100]\n",
      "a3=[ 9 78 66 44 43 86  8 70 20  9]\n",
      "a4=[1.   2.   3.14 4.  ]\n",
      "a5=[ 50  52  54  56  58  60  62  64  66  68  70  72  74  76  78  80  82  84\n",
      "  86  88  90  92  94  96  98 100]\n",
      "The size of a2 was reduced from 320 to 138 bytes\n",
      "a6=[[1. 1. 1. 1.]\n",
      " [1. 1. 1. 1.]]\n"
     ]
    }
   ],
   "execution_count": 3
  },
  {
   "metadata": {},
   "cell_type": "code",
   "outputs": [],
   "execution_count": null,
   "source": "",
   "id": "551418dc74266c74"
  }
 ],
 "metadata": {
  "kernelspec": {
   "display_name": "Python 3",
   "language": "python",
   "name": "python3"
  },
  "language_info": {
   "codemirror_mode": {
    "name": "ipython",
    "version": 2
   },
   "file_extension": ".py",
   "mimetype": "text/x-python",
   "name": "python",
   "nbconvert_exporter": "python",
   "pygments_lexer": "ipython2",
   "version": "2.7.6"
  }
 },
 "nbformat": 4,
 "nbformat_minor": 5
}
