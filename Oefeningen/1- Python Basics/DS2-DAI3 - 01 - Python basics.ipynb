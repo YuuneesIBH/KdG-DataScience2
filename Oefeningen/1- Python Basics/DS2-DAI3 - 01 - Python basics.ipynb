{
  "nbformat": 4,
  "nbformat_minor": 0,
  "metadata": {
    "kernelspec": {
      "display_name": "Python 3",
      "language": "python",
      "name": "python3"
    },
    "language_info": {
      "codemirror_mode": {
        "name": "ipython",
        "version": 2
      },
      "file_extension": ".py",
      "mimetype": "text/x-python",
      "name": "python",
      "nbconvert_exporter": "python",
      "pygments_lexer": "ipython2",
      "version": "2.7.6"
    },
    "colab": {
      "provenance": []
    }
  },
  "cells": [
    {
      "cell_type": "markdown",
      "metadata": {
        "collapsed": false,
        "id": "vwYphyGpXy_C"
      },
      "source": [
        "\n",
        "# Learning the Python Basics\n",
        "\n",
        "The book \"Python Data Science handbook\" expects basic knowledge of Python. This notebook introduces all the important Python basics needed for this Data Science course."
      ]
    },
    {
      "cell_type": "markdown",
      "metadata": {
        "collapsed": false,
        "id": "vda2HWQbXy_I"
      },
      "source": [
        "## Exercise 1 - Basic Python"
      ]
    },
    {
      "cell_type": "markdown",
      "metadata": {
        "collapsed": false,
        "id": "lVX7m2f0Xy_I"
      },
      "source": [
        "Print *Hello World* with the `print()`-function.\n",
        ""
      ]
    },
    {
      "cell_type": "code",
      "metadata": {
        "id": "HapN8zXWRUch",
        "ExecuteTime": {
          "end_time": "2025-01-31T13:41:15.522020Z",
          "start_time": "2025-01-31T13:41:15.510457Z"
        }
      },
      "source": [],
      "outputs": [],
      "execution_count": 5
    },
    {
      "cell_type": "markdown",
      "metadata": {
        "collapsed": false,
        "id": "YTeZ6DUrRUci"
      },
      "source": [
        "Now, create a variable `name` with your own name and print *Hello your_name*. Use a formatted string (`f'blaba {variable} blabla`) to create it, like `String.format()` in Java does.\n",
        "\n",
        "Here is an example of using an `f` string.\n",
        "```\n",
        "aantal = 3\n",
        "string_een = 'format'\n",
        "string_twee = 'specifiers'\n",
        "print(f'Dit is een string met {aantal} {string_een} {string_twee} erin')\n",
        "```"
      ]
    },
    {
      "cell_type": "code",
      "metadata": {
        "id": "3HtFcQyQXy_J",
        "ExecuteTime": {
          "end_time": "2025-01-31T13:41:15.568516Z",
          "start_time": "2025-01-31T13:41:15.557826Z"
        }
      },
      "source": [],
      "outputs": [],
      "execution_count": 6
    },
    {
      "cell_type": "markdown",
      "source": [
        "In Python, you work with modules. A module is similar to a package in Java.\n",
        "To use a module, you perform an import\n",
        "```\n",
        "import math\n",
        "```\n",
        "You then have a namespace 'math' with all the functionalities available in the module. You access them by prefixing your expression with the namespace (e.g., .math.)\n",
        "```\n",
        "print(f'{math.pi}')\n",
        "```\n",
        "You can also give an alias to a namespace. This is done to make your code more readable.\n",
        "```\n",
        "import math as m\n",
        "print(f'{m.exp2(8)}')\n",
        "```\n",
        "Finally, you can also import names directly into the main namespace\n",
        "```\n",
        "from math import sin\n",
        "print(f'{sin(1)}')\n",
        "```"
      ],
      "metadata": {
        "collapsed": false,
        "id": "LAb8jT5dW1a_"
      }
    },
    {
      "cell_type": "markdown",
      "metadata": {
        "collapsed": false,
        "id": "uYeGUu0EXy_L"
      },
      "source": [
        "Calculate the following and print them out.\n",
        "Print them also once using `f` where you print only 2 decimal places.\n",
        "* $25 \\cdot 10$\n",
        "* $e^4$\n",
        "* $3 \\cdot \\pi$\n",
        "* $sin(\\pi)$\n",
        "\n",
        "By placing `:.2f` between the format specifiers (e.g., {25*10:.2f}), you can limit the output to 2 decimal places. This can be useful for nicer formatting. The [formatting options](https://docs.python.org/3/library/string.html#format-examples) are quite extensive. We do not expect you to apply them yourself, but we often use it in the notebooks to present the output of code nicely."
      ]
    },
    {
      "cell_type": "code",
      "metadata": {
        "id": "BBzBL6C0Xy_M",
        "ExecuteTime": {
          "end_time": "2025-01-31T13:41:15.621372Z",
          "start_time": "2025-01-31T13:41:15.615012Z"
        }
      },
      "source": [],
      "outputs": [],
      "execution_count": 7
    },
    {
      "cell_type": "markdown",
      "metadata": {
        "collapsed": false,
        "id": "VRwTWVfDXy_N"
      },
      "source": [
        "Create separate variables for the following data. Then use the `type` function (e.g., type(a)) to print the data types of all variables.\n",
        "\n",
        "* 1\n",
        "* 1.23456\n",
        "* 'Hello World'\n",
        "* \"Hello World\"\n",
        "* 2 > 5\n",
        "* True\n",
        "* NaN (Not a Number)\n",
        "* infinity\n"
      ]
    },
    {
      "cell_type": "code",
      "metadata": {
        "id": "UH8gFYp-Xy_O",
        "ExecuteTime": {
          "end_time": "2025-01-31T13:41:15.678965Z",
          "start_time": "2025-01-31T13:41:15.674175Z"
        }
      },
      "source": [],
      "outputs": [],
      "execution_count": 8
    },
    {
      "cell_type": "markdown",
      "metadata": {
        "collapsed": false,
        "id": "so4UKFowRUck"
      },
      "source": [
        "Try the following basic operations on strings:\n",
        "* concatenation: with the `+` operator: `'Hello' + ' World'`\n",
        "* `.upper()`\n",
        "* `.replace( , )`\n",
        "* `in` operator: `'He' in 'Hello'`\n",
        "* `str(28)`: create a string object from `int`"
      ]
    },
    {
      "cell_type": "code",
      "metadata": {
        "id": "LnkM4I1vRUck",
        "ExecuteTime": {
          "end_time": "2025-01-31T13:41:15.741237Z",
          "start_time": "2025-01-31T13:41:15.734738Z"
        }
      },
      "source": [],
      "outputs": [],
      "execution_count": 9
    },
    {
      "cell_type": "markdown",
      "metadata": {
        "collapsed": false,
        "id": "gmoD7ByjRUck"
      },
      "source": [
        "## Exercise 2 - Data Structures in Python\n",
        "### List"
      ]
    },
    {
      "cell_type": "markdown",
      "metadata": {
        "collapsed": false,
        "id": "nKurA73XXy_P"
      },
      "source": [
        "First, create an empty Python **list** `a`.\n",
        "\n",
        "You can create an empty list with the `[]` operator, like this:\n",
        "\n",
        "```python\n",
        "a=[]\n",
        "```\n",
        "You can also create a list with the list() function, but usually, you use the square brackets where possible (see further for an example of using the list() function). Create your empty list below. Try both methods."
      ]
    },
    {
      "cell_type": "code",
      "metadata": {
        "id": "2UoFuQ2uXy_Q",
        "ExecuteTime": {
          "end_time": "2025-01-31T13:41:15.784435Z",
          "start_time": "2025-01-31T13:41:15.778938Z"
        }
      },
      "source": [],
      "outputs": [],
      "execution_count": 10
    },
    {
      "cell_type": "markdown",
      "metadata": {
        "collapsed": false,
        "id": "bQpNgC7FXy_Q"
      },
      "source": [
        "Now expand list a with the elements True and 10. Does this work? Could this also be done in Java? Use the append() method."
      ]
    },
    {
      "cell_type": "code",
      "metadata": {
        "id": "q8T35VeyXy_R",
        "ExecuteTime": {
          "end_time": "2025-01-31T13:41:15.848606Z",
          "start_time": "2025-01-31T13:41:15.842552Z"
        }
      },
      "source": [
        "# In Java, the elements must be of the same type. So only if they have a common supertype can this be done.\n",
        "# Since all classes inherit from Object, this can be done as List<object> a = new ArrayList<>(); but this has serious limitations in terms of using the elements. Unless you use instanceof and casts."
      ],
      "outputs": [],
      "execution_count": 11
    },
    {
      "cell_type": "markdown",
      "metadata": {
        "collapsed": false,
        "id": "4nHLgsVDXy_R"
      },
      "source": [
        "Insert the following list ['Hello', 10.3] between True and 10 using the insert method. Thus, you are going to add a list to a list."
      ]
    },
    {
      "cell_type": "code",
      "metadata": {
        "id": "KEzBQRl_Xy_R",
        "ExecuteTime": {
          "end_time": "2025-01-31T13:41:15.895652Z",
          "start_time": "2025-01-31T13:41:15.880156Z"
        }
      },
      "source": [],
      "outputs": [],
      "execution_count": 12
    },
    {
      "cell_type": "markdown",
      "source": [
        "The range function is handy. It allows you to quickly create a list with consecutive numbers rl = list(range(3)\n",
        "```\n",
        "l_range1 = list(range(3))  # [0,1,2]\n",
        "l_range2 = list(range(3,6))  # start, stop [3,4,5] (6 not included)\n",
        "l_range3 = list(range(10,20,2)) # start, stop, step [10,12,14,16,18] (6 not included)\n",
        "```\n",
        "\n",
        "Create a range from 0 to 100.\n",
        "Create a second range from 101 to 1000 with steps of 10.\n",
        "Create a list where the two previous ranges are stored in one list. (Tip: Use the list method extend)"
      ],
      "metadata": {
        "collapsed": false,
        "id": "0VCU8zEIW1bF"
      }
    },
    {
      "cell_type": "code",
      "source": [],
      "metadata": {
        "id": "lLYxf_BUW1bF",
        "ExecuteTime": {
          "end_time": "2025-01-31T13:41:15.945733Z",
          "start_time": "2025-01-31T13:41:15.941336Z"
        }
      },
      "outputs": [],
      "execution_count": 13
    },
    {
      "cell_type": "markdown",
      "metadata": {
        "collapsed": false,
        "id": "xAAJSP8uXy_R"
      },
      "source": [
        "### Dictionary\n",
        "A dictionary can be created with the {} operator. It works the same as a Map in Java.\n",
        "```python\n",
        "d = {\n",
        "    # here come the key : value pairs.\n",
        "    # keys are often strings\n",
        "}\n",
        "```\n",
        "Now create a dictionary d with two keys:\n",
        "* 'a' : ['e','f']\n",
        "* 'b' : ['a','b']\n",
        "\n",
        "and print it out."
      ]
    },
    {
      "cell_type": "code",
      "source": [],
      "metadata": {
        "id": "nwIscY5qW1bF",
        "ExecuteTime": {
          "end_time": "2025-01-31T13:41:15.996137Z",
          "start_time": "2025-01-31T13:41:15.991296Z"
        }
      },
      "outputs": [],
      "execution_count": 14
    },
    {
      "cell_type": "markdown",
      "source": [
        "Try the methods .keys() and .values() on dictionary d. What does .items() do? Do you see a connection with the Map interface from Java? What does .items() do? Do you see a connection with the Map interface from Java?"
      ],
      "metadata": {
        "collapsed": false,
        "id": "bGdSI0VvW1bF"
      }
    },
    {
      "cell_type": "code",
      "source": [],
      "metadata": {
        "id": "zlPYigkiW1bG",
        "ExecuteTime": {
          "end_time": "2025-01-31T13:41:16.046300Z",
          "start_time": "2025-01-31T13:41:16.040187Z"
        }
      },
      "outputs": [],
      "execution_count": 15
    },
    {
      "cell_type": "markdown",
      "source": [
        "Add the dictionary to the list a. Now look at list a. What do you see?"
      ],
      "metadata": {
        "collapsed": false,
        "id": "Z9dsrDdmW1bG"
      }
    },
    {
      "cell_type": "code",
      "metadata": {
        "id": "j6R2Tn_eXy_S",
        "ExecuteTime": {
          "end_time": "2025-01-31T13:41:16.081451Z",
          "start_time": "2025-01-31T13:41:16.076202Z"
        }
      },
      "source": [],
      "outputs": [],
      "execution_count": 16
    },
    {
      "cell_type": "markdown",
      "metadata": {
        "collapsed": false,
        "id": "XIw9hPikRUcm"
      },
      "source": [
        "Print the length of the list with the len() function."
      ]
    },
    {
      "cell_type": "code",
      "metadata": {
        "id": "VexcDl4oRUcn",
        "ExecuteTime": {
          "end_time": "2025-01-31T13:41:16.108502Z",
          "start_time": "2025-01-31T13:41:16.103088Z"
        }
      },
      "source": [],
      "outputs": [],
      "execution_count": 17
    },
    {
      "cell_type": "markdown",
      "metadata": {
        "collapsed": false,
        "id": "xBXaCMrnRUcn"
      },
      "source": [
        "Check if an element is in a list with the in operator: e in [...] Test this on list a."
      ]
    },
    {
      "cell_type": "code",
      "metadata": {
        "id": "euxDiB7PRUcn",
        "ExecuteTime": {
          "end_time": "2025-01-31T13:41:16.146591Z",
          "start_time": "2025-01-31T13:41:16.141143Z"
        }
      },
      "source": [],
      "outputs": [],
      "execution_count": 18
    },
    {
      "cell_type": "markdown",
      "metadata": {
        "collapsed": false,
        "id": "EUm_CEYpRUcn"
      },
      "source": [
        "Create a list b with the statement b=a. Change the first element of b to 10. Now print a. What do you notice?"
      ]
    },
    {
      "cell_type": "code",
      "metadata": {
        "id": "IYesP4FcRUco",
        "ExecuteTime": {
          "end_time": "2025-01-31T13:41:16.181907Z",
          "start_time": "2025-01-31T13:41:16.159998Z"
        }
      },
      "source": [],
      "outputs": [],
      "execution_count": 19
    },
    {
      "cell_type": "markdown",
      "metadata": {
        "collapsed": false,
        "id": "3hTNOovMRUco"
      },
      "source": [
        "Test the following methods on list a:\n",
        "* `.copy()`\n",
        "* `.remove()`\n",
        "* `.pop()`"
      ]
    },
    {
      "cell_type": "code",
      "metadata": {
        "id": "P2H6j-ToRUco",
        "ExecuteTime": {
          "end_time": "2025-01-31T13:41:16.245174Z",
          "start_time": "2025-01-31T13:41:16.240123Z"
        }
      },
      "source": [],
      "outputs": [],
      "execution_count": 20
    },
    {
      "cell_type": "markdown",
      "source": [
        "### If-else\n",
        "In Pyhon if structures are written as follows:\n",
        "```python\n",
        "if condition:\n",
        "    a = 1\n",
        "elif condition:\n",
        "    a =2     \n",
        "else:\n",
        "    a = 3\n",
        "```\n",
        "Python uses indentation to indicate the code block. This is different from Java, where you use curly braces {}.\n",
        "Now write an if-else structure that prints 'True' if n1 is greater than n2, 'False' if n1 is less than n2, and 'Equal' if they are equal. Create two variables n1 and n2 and test your if-else structure.\n"
      ],
      "metadata": {
        "collapsed": false,
        "id": "cAD6kMppW1bH"
      }
    },
    {
      "cell_type": "code",
      "source": [],
      "metadata": {
        "id": "NJ3FC2e8W1bH",
        "ExecuteTime": {
          "end_time": "2025-01-31T13:41:16.293863Z",
          "start_time": "2025-01-31T13:41:16.280443Z"
        }
      },
      "outputs": [],
      "execution_count": 21
    },
    {
      "cell_type": "markdown",
      "source": [
        "Now adjust the if-else structure so that the first if also prints 'True' if n1 is 0. Use the `or` operator and use == for comparison."
      ],
      "metadata": {
        "collapsed": false,
        "id": "jdwrqKUsW1bH"
      }
    },
    {
      "cell_type": "code",
      "source": [],
      "metadata": {
        "id": "mtMeCPPhW1bM",
        "ExecuteTime": {
          "end_time": "2025-01-31T13:41:16.343848Z",
          "start_time": "2025-01-31T13:41:16.324759Z"
        }
      },
      "outputs": [],
      "execution_count": 22
    },
    {
      "cell_type": "markdown",
      "metadata": {
        "collapsed": false,
        "id": "vqgFSU5mXy_S"
      },
      "source": [
        "### Iterating over data\n",
        "#### for-loop\n",
        "Create a new list and iterate over it with a for-loop. You can do this as follows:\n",
        "```python\n",
        "a = je_lijst\n",
        "\n",
        "for element in a:\n",
        "    # doe iets met het element\n",
        "```\n",
        "\n",
        "\n",
        "Iterate over the list of letters of the alphabet and print them with their index. The list of letters of the alphabet is available in the string library.\n",
        "\n",
        "```python\n",
        "import string\n",
        "string.ascii_letters  # this is a list of letters.\n",
        "```"
      ]
    },
    {
      "cell_type": "code",
      "metadata": {
        "id": "7qBtQ26sXy_T",
        "ExecuteTime": {
          "end_time": "2025-01-31T13:41:16.380154Z",
          "start_time": "2025-01-31T13:41:16.375184Z"
        }
      },
      "source": [],
      "outputs": [],
      "execution_count": 23
    },
    {
      "cell_type": "markdown",
      "metadata": {
        "collapsed": false,
        "id": "fL5tlfUmXy_T"
      },
      "source": [
        "#### List comprehension\n",
        "\n",
        "A handy way to create a list is by using a list comprehension. A simple list comprehension is shown below. It is nothing more than a for-loop within square brackets ([]) where the function to be applied to the element comes before the for. List comprehensions provide compact code.\n",
        "\n",
        "```python\n",
        "[do_something_with(x) for x in list]\n",
        "```\n",
        "The example below creates a list of strings with a sequence number. It uses a formatted string.\n",
        "\n",
        "```python\n",
        "['column {i}' for i in range(1,21)]\n",
        "```\n",
        "\n",
        "\n",
        "Now create a list of squares, called squares, of all even numbers between 0 and 50 (inclusive)."
      ]
    },
    {
      "cell_type": "code",
      "metadata": {
        "id": "Y4atNpxkXy_U",
        "ExecuteTime": {
          "end_time": "2025-01-31T13:41:16.423143Z",
          "start_time": "2025-01-31T13:41:16.417500Z"
        }
      },
      "source": [],
      "outputs": [],
      "execution_count": 24
    },
    {
      "cell_type": "markdown",
      "metadata": {
        "collapsed": false,
        "id": "NzB9CKihRUcq"
      },
      "source": [
        "## Exercise 3 - Multi-dimensional lists"
      ]
    },
    {
      "cell_type": "markdown",
      "metadata": {
        "collapsed": false,
        "id": "VKUCgJYJRUcq"
      },
      "source": [
        "Create a new Python list a that consists of two lists. You can do this by using square brackets twice.\n",
        "\n",
        "```python\n",
        "a = [\n",
        "        [1,2,3],\n",
        "        [4,5,6],\n",
        "        ...\n",
        "    ]\n",
        "```\n",
        "Create a two-dimensional list with 3 rows and 4 columns with the numbers 1 to 12. Do this in three ways:  \n",
        "by writing out all the values yourself\n",
        "by using the range() function\n",
        "by using a double list comprehension (this is more difficult). [[func(e) for e in l1] for i in l2]"
      ]
    },
    {
      "cell_type": "code",
      "metadata": {
        "id": "ecvABmFaRUcq",
        "ExecuteTime": {
          "end_time": "2025-01-31T13:41:16.466976Z",
          "start_time": "2025-01-31T13:41:16.460429Z"
        }
      },
      "source": [],
      "outputs": [],
      "execution_count": 25
    },
    {
      "cell_type": "markdown",
      "metadata": {
        "collapsed": false,
        "id": "oIAerhtURUcq"
      },
      "source": [
        "Print the lengths of the different dimensions of your two-dimensional list. Apply the len() function to your entire list and to the rows of your list. Can you determine the dimensions (3 x 4)?"
      ]
    },
    {
      "cell_type": "code",
      "metadata": {
        "id": "W1ovPHhWRUcr",
        "ExecuteTime": {
          "end_time": "2025-01-31T13:41:16.514038Z",
          "start_time": "2025-01-31T13:41:16.508766Z"
        }
      },
      "source": [],
      "outputs": [],
      "execution_count": 26
    },
    {
      "cell_type": "markdown",
      "metadata": {
        "collapsed": false,
        "id": "b5pvzs_MXy_V"
      },
      "source": [
        "## Exercise 4 - Python functions\n"
      ]
    },
    {
      "cell_type": "markdown",
      "metadata": {
        "collapsed": false,
        "id": "t49--hSMXy_V"
      },
      "source": [
        "As you probably know by now, Python is a complete object-oriented programming language, and of course, that includes user-defined functions. Here is an example of a function definition:\n",
        "\n",
        "```python\n",
        "def my_function(arg1, arg2, ..., argn):\n",
        "    # here you can calculate anything\n",
        "    # and possibly return one or more values with\n",
        "    return a,b,c,d      # we return 4 values at once (this is actually a 4-tuple)\n",
        "\n",
        "a,b,c,d = my_function(1, 2,..., 3)        # example of a call\n",
        "```\n",
        "Python is a dynamically typed language, which means that the data type of variables is only known during the execution of the program. This makes programming a bit more difficult because you are more likely to write errors (unlike Java). You can improve this somewhat by writing type hints yourself. You do this as follows, applied to the above example:\n",
        "\n",
        "```python\n",
        "def my_function(arg1 : int,arg2 : bool, ... ,argn: float):\n",
        "    # here you can calculate anything\n",
        "    # and possibly return one or more values with\n",
        "    return a,b,c,d      # we return 4 values\n",
        "\n",
        "a,b,c,d = my_function(1, True,..., 3.3)       # example of a call     # voorbeeld van een aanroep\n",
        "```\n",
        "PyCharm can take this into account and provide you with better code completion.\n",
        "Now write a function that calculates the BMI of a person based on their height (in meters, float), and their weight (in kg, float). and then execute it"
      ]
    },
    {
      "cell_type": "code",
      "metadata": {
        "id": "Szh_b-5vW1bO",
        "ExecuteTime": {
          "end_time": "2025-01-31T13:41:16.551968Z",
          "start_time": "2025-01-31T13:41:16.547458Z"
        }
      },
      "source": [],
      "outputs": [],
      "execution_count": 27
    },
    {
      "cell_type": "markdown",
      "source": [
        "You do not have to pass the parameters in order, but then you name the parameters\n",
        "```\n",
        "my_function(arg2=False, arg1=1)\n",
        "```\n",
        "\n",
        "You can also provide defaults for the parameters in the function. If you do not provide the parameter when executing, the function will use the default value. The parameters with defaults must always be placed after the non-default parameters\n",
        "\n",
        "```\n",
        "def my_function(arg2 :bool, arg1 : int = 1): ...\n",
        "\n",
        "my_function(arg2 = True)\n",
        "```\n",
        "\n",
        "Modify your bmi function so that the height defaults to 1.75. Call the function with only the weight as a parameter."
      ],
      "metadata": {
        "collapsed": false,
        "id": "a2VqtqW7W1bO"
      }
    },
    {
      "cell_type": "code",
      "source": [],
      "metadata": {
        "id": "dIAUx4QnXy_V",
        "ExecuteTime": {
          "end_time": "2025-01-31T13:41:16.577013Z",
          "start_time": "2025-01-31T13:41:16.571993Z"
        }
      },
      "outputs": [],
      "execution_count": 28
    },
    {
      "cell_type": "markdown",
      "metadata": {
        "collapsed": false,
        "id": "GqJpFAlJXy_Y"
      },
      "source": []
    }
  ]
}