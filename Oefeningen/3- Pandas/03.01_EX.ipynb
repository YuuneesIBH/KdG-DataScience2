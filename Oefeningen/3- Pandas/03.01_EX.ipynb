{
  "cells": [
    {
      "cell_type": "markdown",
      "id": "c8889a2c03c83ed8",
      "metadata": {},
      "source": [
        "For this exercise we create following simple series:"
      ]
    },
    {
      "cell_type": "code",
      "id": "initial_id",
      "metadata": {
        "ExecuteTime": {
          "end_time": "2025-02-13T15:14:19.140624Z",
          "start_time": "2025-02-13T15:14:18.559069Z"
        }
      },
      "source": [
        "import numpy as np\n",
        "import pandas as pd\n",
        "s_a = pd.Series([1, 2, 3, 4], index=['a', 'b', 'c', 'd'])\n",
        "s_a2 = pd.Series([\"one\", \"two\", \"three\", \"four\"], index=['a', 'b', 'c', 'd'])\n",
        "s_a3 = pd.Series([\"one\", \"two\", \"three\", \"four\"], index=['d', 'c', 'b', 'a'])"
      ],
      "outputs": [],
      "execution_count": 1
    },
    {
      "cell_type": "markdown",
      "id": "a8f982f2eeccae3a",
      "metadata": {
        "collapsed": false,
        "jupyter": {
          "outputs_hidden": false
        }
      },
      "source": [
        "## 1. Series basics\n",
        "a. print the values of s_a\\\n",
        "b. print the index of s_a\\\n",
        "c. print the data type of s_a\\\n",
        "d. print the shape of s_a\\\n",
        "e. print the number of dimensions of s_a\\\n",
        "f. print the size of s_a\\\n",
        "g. print the memory usage of s_a\\\n"
      ]
    },
    {
      "cell_type": "code",
      "id": "7bd051dc74d4cbd9",
      "metadata": {
        "collapsed": false,
        "jupyter": {
          "outputs_hidden": false
        },
        "ExecuteTime": {
          "end_time": "2025-02-13T15:14:19.155260Z",
          "start_time": "2025-02-13T15:14:19.148195Z"
        }
      },
      "source": [
        "#\n"
      ],
      "outputs": [],
      "execution_count": 2
    },
    {
      "cell_type": "markdown",
      "id": "9eea872d89197627",
      "metadata": {
        "collapsed": false,
        "jupyter": {
          "outputs_hidden": false
        }
      },
      "source": [
        "## 2. Creating Series\n",
        "a. create a Series s_b with the same values as s_a but with an index of [1,2,3,4].\\\n",
        "b. create a Series s_c with the same values as s_b, but with a data type of int8 instead of int64. Check the difference in memory usage between s_b and s_c.\\\n",
        "c. create a Series s_d with the same values as s_b, but use np.arange() to define the index. The range should start at 1 and end at the number of elements in s_d.\\\n",
        "d. create a Series s_e with the same values, but use a dictionary to define the Series.\\\n",
        "e. create a Series s_f with the index the numbers written out as strings (e.g. 'one', 'two', 'three', 'four')."
      ]
    },
    {
      "cell_type": "code",
      "id": "868cef7de0d2f13e",
      "metadata": {
        "collapsed": false,
        "jupyter": {
          "outputs_hidden": false
        },
        "ExecuteTime": {
          "end_time": "2025-02-13T15:14:19.850656Z",
          "start_time": "2025-02-13T15:14:19.838911Z"
        }
      },
      "source": [],
      "outputs": [],
      "execution_count": 3
    },
    {
      "cell_type": "markdown",
      "id": "d0d4019ad65acd93",
      "metadata": {
        "collapsed": false,
        "jupyter": {
          "outputs_hidden": false
        }
      },
      "source": [
        "### 3. Dataframes basics and creation\n",
        "a. create a DataFrame df_a with s_a and s_a2 as columns.\\\n",
        "b. Look at the creation of s_a2 and s_a3 in the first cell. You are going to create a DataFrame df_b with s_a2 and s_a3 as columns. Before doing that, try to predict how the dataframe will look like. Then create the DataFrame. Did you expect this result? Can you explain why the values are not aligned?\\\n",
        "c. create a Dataframe df_c based on a two-dimensional numpy array created with np.arange() and shape (3,4).\\\n",
        "d. create a Dataframe df_d like df_c. The index should be ['a', 'b', 'c'] and the columns should be ['x', 'y', 'z', 'w'].\\\n",
        "e.  Try to change te first indexvalue of df_c. What happens? Can you explain why this happens?"
      ]
    },
    {
      "cell_type": "code",
      "id": "7c5010a0ca9ac9db",
      "metadata": {
        "collapsed": false,
        "jupyter": {
          "outputs_hidden": false
        },
        "ExecuteTime": {
          "end_time": "2025-02-13T15:14:20.446153Z",
          "start_time": "2025-02-13T15:14:19.927330Z"
        }
      },
      "source": [],
      "outputs": [],
      "execution_count": 4
    }
  ],
  "metadata": {
    "kernelspec": {
      "display_name": "Python 3 (ipykernel)",
      "language": "python",
      "name": "python3"
    },
    "language_info": {
      "codemirror_mode": {
        "name": "ipython",
        "version": 3
      },
      "file_extension": ".py",
      "mimetype": "text/x-python",
      "name": "python",
      "nbconvert_exporter": "python",
      "pygments_lexer": "ipython3",
      "version": "3.11.7"
    }
  },
  "nbformat": 4,
  "nbformat_minor": 5
}