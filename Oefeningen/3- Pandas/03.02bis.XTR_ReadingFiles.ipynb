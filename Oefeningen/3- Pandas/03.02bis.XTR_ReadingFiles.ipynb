{
  "cells": [
    {
      "cell_type": "code",
      "id": "30b4e3417867625a",
      "metadata": {
        "collapsed": false,
        "jupyter": {
          "outputs_hidden": false
        },
        "ExecuteTime": {
          "end_time": "2025-02-14T09:13:33.142639Z",
          "start_time": "2025-02-14T09:13:32.043967Z"
        }
      },
      "source": [
        "import pandas as pd"
      ],
      "outputs": [],
      "execution_count": 2
    },
    {
      "cell_type": "markdown",
      "id": "96c37e3f8431c0a9",
      "metadata": {
        "collapsed": false,
        "jupyter": {
          "outputs_hidden": false
        }
      },
      "source": [
        "# Reading Data\n",
        "\n",
        "Very often you will need to read data from a file. In most cases, this will be a CSV file. A CSV file can be read and placed into a Pandas `DataFrame`. The first row of the file is usually used as a header. Pandas will automatically create column names based on the header, but you can also provide your own column names. You can also read data from other sources such as an SQL database, an Excel file, a JSON file, etc. For more information on reading data, see the [Pandas documentation](https://pandas.pydata.org/pandas-docs/stable/user_guide/io.html).\n",
        "\n",
        "## Reading CSV files and working with a dataframe\n",
        "### CSV File format\n",
        "Data in Data Science is often stored in files with the extension *.csv*. CSV stands for **Comma Separated Value**. This means that the values are separated by commas, and it is a standard that was established in the 1970s. That abbreviation has remained, but nowadays values can also be separated by other characters, such as a Tab or a semicolon (;). That character is also called the delimiter or the separator. In CSV files, strings are usually also placed between quotation marks, especially when they contain spaces (or the separator, for example), so it is clear where the string begins and ends within a CSV.\n",
        "\n",
        "Decimal numbers can be stored in two ways: with a decimal point or with a decimal comma. If you save a file in a Dutch-language Excel, you will see that a decimal comma is automatically used. In an English-language Excel, it will be a decimal point. Therefore, we recommend, only for this course, not to work with Excel.\n",
        "\n",
        "Before reading a *.csv* file, you should always first check in a text editor how it is stored. By which character are the values separated? What is the decimal notation? In PyCharm, this can also be done, and moreover, PyCharm offers the possibility to immediately view a CSV file as a real table.\n",
        "\n",
        "Go to the `data` folder and open a CSV file in PyCharm. You will notice that there are tabs at the bottom that allow you to choose how you\n",
        "In PyCharm, you can view a CSV file as a table.\n",
        "\n",
        "### Reading a CSV file"
      ]
    },
    {
      "cell_type": "markdown",
      "id": "9ca1f39822ec4ff1",
      "metadata": {
        "collapsed": false,
        "jupyter": {
          "outputs_hidden": false
        }
      },
      "source": [
        "```data = pd.read_csv('datasets/persons1.csv', )```"
      ]
    },
    {
      "cell_type": "markdown",
      "id": "30f3eb05b61ebdef",
      "metadata": {
        "collapsed": false,
        "jupyter": {
          "outputs_hidden": false
        }
      },
      "source": [
        "__READING A CSV FILE IS ONE OF THE MOST COMMON TASKS IN DATA SCIENCE. YOU ARE EXPECTED TO BE ABLE TO DO THIS FLUENTLY DURING EVALUATIONS. MANY STUDENTS LOSE UNNECESSARY TIME OR ARE NOT ABLE TO SOLVE THE QUESTIONS BECAUSE THEY ARE NOT FAMILIAR WITH THIS TASK.__\n",
        "\n",
        "Go to the data directory and open BicycleWeather.csv in PyCharm. \n",
        "a. What is the seperator in this file?\n",
        "b. Read the dataset into a DataFrame using the read_csv function. Use the sep parameter to specify the separator.\n"
      ]
    },
    {
      "cell_type": "code",
      "id": "3d71bcc66ae52ccd",
      "metadata": {
        "collapsed": false,
        "jupyter": {
          "outputs_hidden": false
        },
        "ExecuteTime": {
          "end_time": "2025-02-14T09:13:33.301926Z",
          "start_time": "2025-02-14T09:13:33.153665Z"
        }
      },
      "source": [],
      "outputs": [],
      "execution_count": 3
    },
    {
      "cell_type": "markdown",
      "id": "2919c06ac119c4f7",
      "metadata": {
        "collapsed": false,
        "jupyter": {
          "outputs_hidden": false
        }
      },
      "source": [
        "In PyCharm you can view the dataframe in a table format. Go to the data variable in the jupyter tab and click on \"View as DataFrame\".\n",
        "You can of course also print the data in a cell."
      ]
    },
    {
      "cell_type": "code",
      "id": "5d1016e40069dc5b",
      "metadata": {
        "collapsed": false,
        "jupyter": {
          "outputs_hidden": false
        },
        "ExecuteTime": {
          "end_time": "2025-02-14T09:13:33.522790Z",
          "start_time": "2025-02-14T09:13:33.492825Z"
        }
      },
      "source": [
        "print(data)"
      ],
      "outputs": [],
      "execution_count": 4
    },
    {
      "cell_type": "markdown",
      "id": "e4f47b92040b6763",
      "metadata": {
        "collapsed": false,
        "jupyter": {
          "outputs_hidden": false
        }
      },
      "source": [
        "Now, investigate the data with describe(), info() and head() functions."
      ]
    },
    {
      "cell_type": "code",
      "id": "8d647cb9ee817792",
      "metadata": {
        "collapsed": false,
        "jupyter": {
          "outputs_hidden": false
        },
        "ExecuteTime": {
          "end_time": "2025-02-14T09:13:33.766716Z",
          "start_time": "2025-02-14T09:13:33.562048Z"
        }
      },
      "source": [],
      "outputs": [],
      "execution_count": 5
    },
    {
      "cell_type": "markdown",
      "id": "a714bf3eb1dd83a1",
      "metadata": {
        "collapsed": false,
        "jupyter": {
          "outputs_hidden": false
        }
      },
      "source": [
        "Select columns Station_name, date and TMAX from rows with index 10 to 20."
      ]
    },
    {
      "cell_type": "code",
      "id": "648e06484e43a472",
      "metadata": {
        "collapsed": false,
        "jupyter": {
          "outputs_hidden": false
        },
        "ExecuteTime": {
          "end_time": "2025-02-14T09:13:34.049899Z",
          "start_time": "2025-02-14T09:13:34.023344Z"
        }
      },
      "source": [],
      "outputs": [],
      "execution_count": 6
    },
    {
      "cell_type": "markdown",
      "id": "5f18ed3de76f86e8",
      "metadata": {
        "collapsed": false,
        "jupyter": {
          "outputs_hidden": false
        }
      },
      "source": "Now, read the file again, but this time use the extra parameter names to specify your own column names. Use range(0, 26) as column names."
    },
    {
      "cell_type": "code",
      "id": "b1ba6f2d0410467c",
      "metadata": {
        "collapsed": false,
        "jupyter": {
          "outputs_hidden": false
        },
        "ExecuteTime": {
          "end_time": "2025-02-14T09:13:34.815492Z",
          "start_time": "2025-02-14T09:13:34.759080Z"
        }
      },
      "source": [],
      "outputs": [],
      "execution_count": 7
    },
    {
      "cell_type": "markdown",
      "id": "116a43ccd0d08833",
      "metadata": {
        "collapsed": false,
        "jupyter": {
          "outputs_hidden": false
        }
      },
      "source": [
        "Look at the first three rows of the data. What problem do you see?"
      ]
    },
    {
      "cell_type": "code",
      "id": "4ba1e4c54de13475",
      "metadata": {
        "collapsed": false,
        "jupyter": {
          "outputs_hidden": false
        },
        "ExecuteTime": {
          "end_time": "2025-02-14T09:13:35.739124Z",
          "start_time": "2025-02-14T09:13:35.714415Z"
        }
      },
      "source": [],
      "outputs": [],
      "execution_count": 8
    },
    {
      "cell_type": "markdown",
      "id": "b1ba9a9d2418cd81",
      "metadata": {
        "collapsed": false,
        "jupyter": {
          "outputs_hidden": false
        }
      },
      "source": [
        "Try to solve the problem by using the header parameter."
      ]
    },
    {
      "cell_type": "code",
      "id": "c5bc01194d9495d6",
      "metadata": {
        "collapsed": false,
        "jupyter": {
          "outputs_hidden": false
        },
        "ExecuteTime": {
          "end_time": "2025-02-14T09:13:36.534210Z",
          "start_time": "2025-02-14T09:13:36.491372Z"
        }
      },
      "source": [],
      "outputs": [],
      "execution_count": 9
    },
    {
      "metadata": {},
      "cell_type": "markdown",
      "source": "If you look at the data, you will notice -9999 values. These are probably missing values. Try to solve this by using the na_values parameter.",
      "id": "cf918c4aebce05a8"
    },
    {
      "metadata": {
        "ExecuteTime": {
          "end_time": "2025-02-14T09:13:37.530480Z",
          "start_time": "2025-02-14T09:13:37.432269Z"
        }
      },
      "cell_type": "code",
      "source": [
        "d",
        "a",
        "t",
        "a",
        " ",
        "=",
        " ",
        "p",
        "d",
        ".",
        "r",
        "e",
        "a",
        "d",
        "_",
        "c",
        "s",
        "v",
        "(",
        "'",
        ".",
        ".",
        "/",
        ".",
        ".",
        "/",
        "d",
        "a",
        "t",
        "a",
        "s",
        "e",
        "t",
        "s",
        "/",
        "B",
        "i",
        "c",
        "y",
        "c",
        "l",
        "e",
        "W",
        "e",
        "a",
        "t",
        "h",
        "e",
        "r",
        ".",
        "c",
        "s",
        "v",
        "'",
        ",",
        " ",
        "s",
        "e",
        "p",
        "=",
        "'",
        ",",
        "'",
        ",",
        " ",
        "n",
        "a",
        "m",
        "e",
        "s",
        "=",
        "r",
        "a",
        "n",
        "g",
        "e",
        "(",
        "0",
        ",",
        " ",
        "2",
        "6",
        ")",
        ",",
        " ",
        "h",
        "e",
        "a",
        "d",
        "e",
        "r",
        "=",
        "0",
        ",",
        " ",
        "n",
        "a",
        "_",
        "v",
        "a",
        "l",
        "u",
        "e",
        "s",
        "=",
        " ",
        "-",
        "9",
        "9",
        "9",
        "9",
        ")",
        " ",
        "#",
        " ",
        "I",
        "n",
        " ",
        "t",
        "h",
        "i",
        "s",
        " ",
        "c",
        "a",
        "s",
        "e",
        " ",
        "y",
        "o",
        "u",
        " ",
        "g",
        "i",
        "v",
        "e",
        " ",
        "t",
        "h",
        "e",
        " ",
        "n",
        "a",
        "m",
        "e",
        "s",
        " ",
        "y",
        "o",
        "u",
        "r",
        "s",
        "e",
        "l",
        "f",
        " ",
        "a",
        "n",
        "d",
        " ",
        "y",
        "o",
        "u",
        " ",
        "i",
        "n",
        "d",
        "i",
        "c",
        "a",
        "t",
        "e",
        " ",
        "t",
        "h",
        "a",
        "t",
        " ",
        "t",
        "h",
        "e",
        " ",
        "h",
        "e",
        "a",
        "d",
        "e",
        "r",
        " ",
        "i",
        "s",
        " ",
        "t",
        "h",
        "e",
        " ",
        "f",
        "i",
        "r",
        "s",
        "t",
        " ",
        "r",
        "o",
        "w",
        " ",
        "a",
        "n",
        "d",
        " ",
        "t",
        "h",
        "a",
        "t",
        " ",
        "t",
        "h",
        "e",
        " ",
        "f",
        "i",
        "l",
        "e",
        " ",
        "h",
        "e",
        "a",
        "d",
        "e",
        "r",
        " ",
        "h",
        "a",
        "s",
        " ",
        "t",
        "e",
        " ",
        "b",
        "e",
        " ",
        "s",
        "k",
        "i",
        "p",
        "p",
        "e",
        "d",
        "\n"
      ],
      "id": "af426ff4b5bd63b1",
      "outputs": [],
      "execution_count": 10
    },
    {
      "cell_type": "markdown",
      "id": "da78f4b74fef0101",
      "metadata": {
        "collapsed": false,
        "jupyter": {
          "outputs_hidden": false
        }
      },
      "source": [
        "## Categorical Variables\n",
        "In many cases, when importing data, you will encounter categorical variables. These are variables that can take on a limited number of values. These values are often represented by strings. In Pandas, you can work with these variables in a very efficient way.\n",
        "\n",
        "We start by creating a Pandas Categorical Series. A Categorical Series is a list of values that all come from a certain category. A categorical variable can take on a fixed number of values, which are usually expressed in strings. A categorical variable represents a nominal or ordinal variable, depending on whether the values in the list have a certain order or not.\n",
        "\n",
        "\n",
        "Take your **blood type** as an example. Possible values are:\n",
        "\n",
        "``> O-, O+, B-, B+, A-, A+, AB-, AB+``\n",
        "\n",
        "We know that blood type is a **nominal variable**.\n",
        "You cannot perform calculations with these values. There are also examples where there is an order, for example:\n",
        "\n",
        "Take the degree of agreement as an example. Possible values could be:\\\n",
        "``> none, little, more, most``\\\n",
        "This is clearly an example of an **ordinal variable**.\n",
        "Sometimes the values of a categorical variable are represented by numbers, but they are still categorical variables. Do not be misled by this.\n",
        "\n",
        "From the theory of measurement scales, we know that nominal variables can only be compared (using the = operator) and ordinal variables can at most be sorted (using <, >, = operators).  To work efficiently with these values, an index or category is assigned to them. Because this index is a number, it is much faster to find values of the correct category in a large dataset. Run the following code to create a nominal variable blood types.\n",
        "\n",
        "Run the following code to create a nominal variable blood types.\n",
        "```python\n",
        "values = ['AB-', 'O-', 'B-', 'B-', 'A+', 'AB+', 'O+', 'B-', 'B+', 'A-', 'A+', 'AB-']\n",
        "bloodtype = pd.Categorical(values, categories=['O-','O+','B-','B+','A-','A+','AB-','AB+'])\n",
        "bloodtype\n",
        "```"
      ]
    },
    {
      "cell_type": "code",
      "id": "ffd3e8baab2e5f64",
      "metadata": {
        "collapsed": false,
        "jupyter": {
          "outputs_hidden": false
        },
        "ExecuteTime": {
          "end_time": "2025-02-14T09:13:38.462151Z",
          "start_time": "2025-02-14T09:13:38.434358Z"
        }
      },
      "source": [],
      "outputs": [],
      "execution_count": 11
    },
    {
      "cell_type": "markdown",
      "id": "e89ebd12d761eff9",
      "metadata": {
        "collapsed": false,
        "jupyter": {
          "outputs_hidden": false
        }
      },
      "source": [
        "Now run the following code to create an ordinal variable akkoord.\n",
        "```python\n",
        "values = ['little', 'more', 'none', 'more', 'little', 'most', 'none']\n",
        "agreement = pd.Categorical(values, categories=['none', 'little', 'more', 'most'], ordered=True)\n",
        "agreement\n",
        "```"
      ]
    },
    {
      "cell_type": "code",
      "id": "fa5a8015b34ad547",
      "metadata": {
        "collapsed": false,
        "jupyter": {
          "outputs_hidden": false
        },
        "ExecuteTime": {
          "end_time": "2025-02-14T09:13:39.422800Z",
          "start_time": "2025-02-14T09:13:39.409582Z"
        }
      },
      "source": [],
      "outputs": [],
      "execution_count": 12
    },
    {
      "cell_type": "markdown",
      "id": "75fcf942f9dd203c",
      "metadata": {
        "collapsed": false,
        "jupyter": {
          "outputs_hidden": false
        }
      },
      "source": [
        "When reading a csv you can also specify which columns are categorical. This can be done with the dtype parameter. Create a new DataFrame laptops from the file laptops.csv. Specify that the columns cpuGeneration and brand are categorical. \n",
        "_Tip dtype={'col_name':'category', 'col_name2':'category'}_\n",
        " As always, first look at the file to see what the separator is. In this case it will also be important to set the decimal argument correctly."
      ]
    },
    {
      "cell_type": "code",
      "id": "e7760887ed11853a",
      "metadata": {
        "collapsed": false,
        "jupyter": {
          "outputs_hidden": false
        },
        "ExecuteTime": {
          "end_time": "2025-02-14T09:13:41.723634Z",
          "start_time": "2025-02-14T09:13:40.288331Z"
        }
      },
      "source": [],
      "outputs": [],
      "execution_count": 13
    },
    {
      "cell_type": "markdown",
      "id": "82c144feaa58f308",
      "metadata": {
        "collapsed": false,
        "jupyter": {
          "outputs_hidden": false
        }
      },
      "source": [
        "Check the result. cpuGeneration and brand should be of type category and diskspace should be of type float."
      ]
    },
    {
      "cell_type": "code",
      "id": "229095425966ae17",
      "metadata": {
        "collapsed": false,
        "jupyter": {
          "outputs_hidden": false
        },
        "ExecuteTime": {
          "end_time": "2025-02-14T09:13:41.817343Z",
          "start_time": "2025-02-14T09:13:41.791209Z"
        }
      },
      "source": [],
      "outputs": [],
      "execution_count": 14
    },
    {
      "cell_type": "markdown",
      "id": "792a545b7646ac04",
      "metadata": {
        "collapsed": false,
        "jupyter": {
          "outputs_hidden": false
        }
      },
      "source": [
        "In many cases you will want to convert a column to a categorical variable after reading the file into a dataframe. In case of the dataframe laptops, convert cpuType to a categorical. The cpuType has to be 'oridinal' and the categories should be 'i3', 'i5', 'i7'."
      ]
    },
    {
      "cell_type": "code",
      "id": "9d1ddbba698b0c41",
      "metadata": {
        "collapsed": false,
        "jupyter": {
          "outputs_hidden": false
        },
        "ExecuteTime": {
          "end_time": "2025-02-14T09:13:42.150834Z",
          "start_time": "2025-02-14T09:13:42.140497Z"
        }
      },
      "source": [],
      "outputs": [],
      "execution_count": 15
    },
    {
      "cell_type": "markdown",
      "id": "75fa16e0cd1ac645",
      "metadata": {
        "collapsed": false,
        "jupyter": {
          "outputs_hidden": false
        }
      },
      "source": [
        "Check whether the column has been converted correctly. Make sure you see < between the categories."
      ]
    },
    {
      "cell_type": "code",
      "id": "2244a3f9c1d5bb5d",
      "metadata": {
        "collapsed": false,
        "jupyter": {
          "outputs_hidden": false
        },
        "ExecuteTime": {
          "end_time": "2025-02-14T09:13:42.354482Z",
          "start_time": "2025-02-14T09:13:42.340360Z"
        }
      },
      "source": [],
      "outputs": [],
      "execution_count": 16
    }
  ],
  "metadata": {
    "kernelspec": {
      "display_name": "Python 3 (ipykernel)",
      "language": "python",
      "name": "python3"
    },
    "language_info": {
      "codemirror_mode": {
        "name": "ipython",
        "version": 3
      },
      "file_extension": ".py",
      "mimetype": "text/x-python",
      "name": "python",
      "nbconvert_exporter": "python",
      "pygments_lexer": "ipython3",
      "version": "3.11.7"
    }
  },
  "nbformat": 4,
  "nbformat_minor": 5
}