{
  "cells": [
    {
      "cell_type": "markdown",
      "metadata": {},
      "source": [
        "# EXERCISES Linear and Polynomial Regression"
      ]
    },
    {
      "cell_type": "markdown",
      "metadata": {},
      "source": [
        "(concrete compressive strength dataset)"
      ]
    },
    {
      "cell_type": "markdown",
      "metadata": {},
      "source": [
        "### Task 1 : Import libraries"
      ]
    },
    {
      "cell_type": "markdown",
      "metadata": {},
      "source": [
        "Import the necessary libraries (pandas, Numpy, Matplotlib, Seaborn and scikit-learn libraries)"
      ]
    },
    {
      "cell_type": "code",
      "metadata": {
        "ExecuteTime": {
          "end_time": "2025-04-21T13:36:25.627166Z",
          "start_time": "2025-04-21T13:36:25.609752Z"
        }
      },
      "source": [],
      "outputs": [],
      "execution_count": 16
    },
    {
      "cell_type": "markdown",
      "metadata": {
        "collapsed": false,
        "jupyter": {
          "outputs_hidden": false
        }
      },
      "source": [
        "### Task 2 : Load the data"
      ]
    },
    {
      "cell_type": "markdown",
      "metadata": {},
      "source": [
        "Load the 'Concrete_Data.csv' from the data directory and display the first rows."
      ]
    },
    {
      "cell_type": "code",
      "metadata": {
        "collapsed": false,
        "jupyter": {
          "outputs_hidden": false
        },
        "ExecuteTime": {
          "end_time": "2025-04-21T13:36:25.700107Z",
          "start_time": "2025-04-21T13:36:25.665548Z"
        }
      },
      "source": [],
      "outputs": [],
      "execution_count": 17
    },
    {
      "cell_type": "markdown",
      "metadata": {
        "collapsed": false,
        "jupyter": {
          "outputs_hidden": false
        }
      },
      "source": [
        "### Task 3 : Key statistics and missing values"
      ]
    },
    {
      "cell_type": "markdown",
      "metadata": {},
      "source": [
        "Understand the dataset by displaying key statistics and check for missing values"
      ]
    },
    {
      "cell_type": "code",
      "metadata": {
        "collapsed": false,
        "jupyter": {
          "outputs_hidden": false
        },
        "ExecuteTime": {
          "end_time": "2025-04-21T13:36:25.773813Z",
          "start_time": "2025-04-21T13:36:25.745671Z"
        }
      },
      "source": [],
      "outputs": [],
      "execution_count": 18
    },
    {
      "cell_type": "code",
      "metadata": {
        "ExecuteTime": {
          "end_time": "2025-04-21T13:36:25.888798Z",
          "start_time": "2025-04-21T13:36:25.881931Z"
        }
      },
      "source": [],
      "outputs": [],
      "execution_count": 19
    },
    {
      "cell_type": "markdown",
      "metadata": {
        "collapsed": false,
        "jupyter": {
          "outputs_hidden": false
        }
      },
      "source": [
        "### Task 4 : Correlations between features"
      ]
    },
    {
      "cell_type": "markdown",
      "metadata": {},
      "source": [
        "Calculate the correlation matrix to understand the relationships between the target variable 'csMPa' and all other variables (predictors). You can use the Pandas ``.corr()`` method for this."
      ]
    },
    {
      "cell_type": "code",
      "metadata": {
        "ExecuteTime": {
          "end_time": "2025-04-21T13:36:26.028181Z",
          "start_time": "2025-04-21T13:36:26.016569Z"
        }
      },
      "source": [],
      "outputs": [],
      "execution_count": 20
    },
    {
      "cell_type": "markdown",
      "metadata": {},
      "source": [
        "Plot a heatmap of the correlation matrix. You can use ``sns.heatmap(corr_matrix, annot=True, cmap='coolwarm')`` plot for this. Add a title to the plot."
      ]
    },
    {
      "cell_type": "code",
      "metadata": {
        "collapsed": false,
        "jupyter": {
          "outputs_hidden": false
        },
        "ExecuteTime": {
          "end_time": "2025-04-21T13:36:26.436979Z",
          "start_time": "2025-04-21T13:36:26.164384Z"
        }
      },
      "source": [],
      "outputs": [],
      "execution_count": 21
    },
    {
      "cell_type": "markdown",
      "metadata": {
        "collapsed": false,
        "jupyter": {
          "outputs_hidden": false
        }
      },
      "source": [
        "### Task 5 : Simple linear regression"
      ]
    },
    {
      "cell_type": "markdown",
      "metadata": {},
      "source": [
        "Perform a simple linear regression with 'csMPa' as target and one feature.\n",
        "\n",
        "What feature seems to be the best candidate for the job?\n",
        "\n",
        "Use a standard test setup (training set and test set) and make the predictions \n",
        "for the observations in the test set."
      ]
    },
    {
      "cell_type": "code",
      "metadata": {
        "collapsed": false,
        "jupyter": {
          "outputs_hidden": false
        },
        "ExecuteTime": {
          "end_time": "2025-04-21T13:36:26.481586Z",
          "start_time": "2025-04-21T13:36:26.470882Z"
        }
      },
      "source": [],
      "outputs": [],
      "execution_count": 22
    },
    {
      "cell_type": "markdown",
      "metadata": {
        "collapsed": false,
        "jupyter": {
          "outputs_hidden": false
        }
      },
      "source": [
        "### Task 6 : Validation"
      ]
    },
    {
      "cell_type": "markdown",
      "metadata": {},
      "source": [
        "Calculate and display the R-squared and Mean Squared Error (MSE) for the simple linear regression."
      ]
    },
    {
      "cell_type": "code",
      "metadata": {
        "collapsed": false,
        "jupyter": {
          "outputs_hidden": false
        },
        "ExecuteTime": {
          "end_time": "2025-04-21T13:36:26.560760Z",
          "start_time": "2025-04-21T13:36:26.551248Z"
        }
      },
      "source": [],
      "outputs": [],
      "execution_count": 23
    },
    {
      "cell_type": "markdown",
      "metadata": {
        "collapsed": false,
        "jupyter": {
          "outputs_hidden": false
        }
      },
      "source": [
        "### Task 7 : Regression line"
      ]
    },
    {
      "cell_type": "markdown",
      "metadata": {},
      "source": [
        "Plot the regression line along with the test data points and print the intercept and coefficients."
      ]
    },
    {
      "cell_type": "code",
      "metadata": {
        "collapsed": false,
        "jupyter": {
          "outputs_hidden": false
        },
        "ExecuteTime": {
          "end_time": "2025-04-21T13:36:26.768467Z",
          "start_time": "2025-04-21T13:36:26.593914Z"
        }
      },
      "source": [],
      "outputs": [],
      "execution_count": 24
    },
    {
      "cell_type": "code",
      "metadata": {
        "collapsed": false,
        "jupyter": {
          "outputs_hidden": false
        },
        "ExecuteTime": {
          "end_time": "2025-04-21T13:36:26.804528Z",
          "start_time": "2025-04-21T13:36:26.796870Z"
        }
      },
      "source": [],
      "outputs": [],
      "execution_count": 25
    },
    {
      "cell_type": "markdown",
      "metadata": {
        "collapsed": false,
        "jupyter": {
          "outputs_hidden": false
        }
      },
      "source": [
        "### Task 8 : Linear regression with more predictors"
      ]
    },
    {
      "cell_type": "markdown",
      "metadata": {},
      "source": [
        "As we see the single feature explains the compressive strength not to well. We continue our search for a better model:\n",
        "include more than one variable in our regression model. What other 2 features are potential good candidates?\n",
        "Make predictions for the test set and calculate the Mean Squared Error and R-squared. Print the coefficients and the intercept."
      ]
    },
    {
      "cell_type": "code",
      "metadata": {
        "collapsed": false,
        "jupyter": {
          "outputs_hidden": false
        },
        "ExecuteTime": {
          "end_time": "2025-04-21T13:36:26.863528Z",
          "start_time": "2025-04-21T13:36:26.848205Z"
        }
      },
      "source": [],
      "outputs": [],
      "execution_count": 26
    },
    {
      "cell_type": "markdown",
      "metadata": {
        "collapsed": false,
        "jupyter": {
          "outputs_hidden": false
        }
      },
      "source": [
        "### Task 9 : Polynomial regression"
      ]
    },
    {
      "cell_type": "markdown",
      "metadata": {},
      "source": [
        "Again, we will try to create a better model. We will use the same features as in task 8, but now we will use a 4 order polynomial model. Compair the Mean Squared Error and R-squared scores."
      ]
    },
    {
      "cell_type": "code",
      "metadata": {
        "ExecuteTime": {
          "end_time": "2025-04-21T13:36:26.909789Z",
          "start_time": "2025-04-21T13:36:26.879164Z"
        }
      },
      "source": [],
      "outputs": [],
      "execution_count": 27
    }
  ],
  "metadata": {
    "kernelspec": {
      "display_name": "Python 3 (ipykernel)",
      "language": "python",
      "name": "python3"
    },
    "language_info": {
      "codemirror_mode": {
        "name": "ipython",
        "version": 3
      },
      "file_extension": ".py",
      "mimetype": "text/x-python",
      "name": "python",
      "nbconvert_exporter": "python",
      "pygments_lexer": "ipython3",
      "version": "3.11.7"
    }
  },
  "nbformat": 4,
  "nbformat_minor": 4
}