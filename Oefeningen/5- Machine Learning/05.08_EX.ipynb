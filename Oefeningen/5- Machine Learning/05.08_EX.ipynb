{
 "cells": [
  {
   "cell_type": "markdown",
   "source": [
    "\n",
    "### Exercises: Decision trees, random forests and K-means"
   ],
   "metadata": {
    "collapsed": false
   }
  },
  {
   "cell_type": "code",
   "source": [
    "# Import necessary libraries here\n",
    "import numpy as np\n",
    "import pandas as pd\n",
    "from sklearn.datasets import load_wine\n",
    "from sklearn.model_selection import train_test_split, cross_val_score\n",
    "from sklearn.tree import DecisionTreeClassifier, plot_tree\n",
    "from sklearn.ensemble import RandomForestClassifier\n",
    "from sklearn.preprocessing import StandardScaler\n",
    "from sklearn.pipeline import Pipeline\n",
    "from sklearn.metrics import classification_report, confusion_matrix, accuracy_score, precision_score, recall_score, f1_score, ConfusionMatrixDisplay\n",
    "import seaborn as sns\n",
    "import matplotlib.pyplot as plt"
   ],
   "metadata": {
    "ExecuteTime": {
     "end_time": "2025-04-20T15:09:21.490853Z",
     "start_time": "2025-04-20T15:09:21.459888Z"
    }
   },
   "outputs": [],
   "execution_count": 47
  },
  {
   "metadata": {},
   "cell_type": "markdown",
   "source": [
    "This exercise uses the wine dataset included in the sklearn.datasets module.\n",
    "In the Jupyter tab explore the 'wine' object. It stores all kinds of data about the wine dataset. You will probably need data, feature_names, target and target_names. In the following cell the wine dataset is loaded."
   ]
  },
  {
   "metadata": {
    "ExecuteTime": {
     "end_time": "2025-04-20T15:09:26.792484Z",
     "start_time": "2025-04-20T15:09:26.705582Z"
    }
   },
   "cell_type": "code",
   "source": [
    "# Load the wine dataset\n",
    "wine = load_wine()"
   ],
   "outputs": [],
   "execution_count": 48
  },
  {
   "metadata": {},
   "cell_type": "markdown",
   "source": [
    "## DATA PREPARATION\n",
    "a. Create an X en y dataset with the features and the target variable. Check the first rows of the datasets.\n"
   ]
  },
  {
   "metadata": {
    "collapsed": false,
    "ExecuteTime": {
     "end_time": "2025-04-20T15:09:29.949007Z",
     "start_time": "2025-04-20T15:09:29.889291Z"
    }
   },
   "cell_type": "code",
   "source": [],
   "outputs": [],
   "execution_count": 49
  },
  {
   "metadata": {},
   "cell_type": "markdown",
   "source": [
    "### Explore data\n",
    "\n",
    " a. Investigate the target variable. Which and how many different values are there?\\\n",
    " b. Do you think these values are nominal, ordinal, interval or ratio? Why?\\\n",
    " c. Investigate the features (independant variables).\\\n",
    " d. Are they nominal, ordinal, interval or ratio? Why?"
   ]
  },
  {
   "cell_type": "markdown",
   "source": "",
   "metadata": {
    "collapsed": false
   }
  },
  {
   "cell_type": "code",
   "source": [],
   "metadata": {
    "collapsed": false,
    "ExecuteTime": {
     "end_time": "2025-04-20T15:09:34.302200Z",
     "start_time": "2025-04-20T15:09:33.977443Z"
    }
   },
   "outputs": [],
   "execution_count": 50
  },
  {
   "metadata": {},
   "cell_type": "markdown",
   "source": [
    "### Prepare data for validation\n",
    "In order to validate the model, split the dataset into a training and a test set. Use 70% of the data for training and 30% for testing.  \\"
   ]
  },
  {
   "cell_type": "code",
   "source": [],
   "metadata": {
    "ExecuteTime": {
     "end_time": "2025-04-20T15:09:38.467882Z",
     "start_time": "2025-04-20T15:09:38.415771Z"
    }
   },
   "outputs": [],
   "execution_count": 51
  },
  {
   "metadata": {},
   "cell_type": "markdown",
   "source": [
    "## Model selection and hyperparameter selection\n",
    "### 1. Creating a Decision Tree Classifier\n",
    "a. Based on the type of data in the features and target variable, would you use a classification or regression model?"
   ]
  },
  {
   "metadata": {},
   "cell_type": "code",
   "outputs": [],
   "execution_count": null,
   "source": []
  },
  {
   "metadata": {},
   "cell_type": "markdown",
   "source": [
    "\n",
    "b. First fit a \"DescisionTreeClassifier\". Use random_state=42 to make sure that the results are reproducible. In this first run all hyperparameters can be kept on their default values.\\\n",
    "c. Validate the model by using the correct classification metrics"
   ]
  },
  {
   "metadata": {
    "ExecuteTime": {
     "end_time": "2025-04-20T15:20:04.051607Z",
     "start_time": "2025-04-20T15:20:01.247005Z"
    }
   },
   "cell_type": "code",
   "source": [],
   "outputs": [],
   "execution_count": 55
  },
  {
   "metadata": {
    "collapsed": false,
    "ExecuteTime": {
     "end_time": "2025-04-20T15:20:13.504947Z",
     "start_time": "2025-04-20T15:20:12.861497Z"
    }
   },
   "cell_type": "code",
   "source": [
    "#Validate\n"
   ],
   "outputs": [],
   "execution_count": 56
  },
  {
   "metadata": {},
   "cell_type": "markdown",
   "source": "Following on this first model you are going to create extra models in the next steps. To make it easy to evaluate each model, create a function evaluate(y_test,y_test_pred) that prints the evalation results like you did in the preveous step."
  },
  {
   "metadata": {
    "ExecuteTime": {
     "end_time": "2025-04-20T15:20:21.737967Z",
     "start_time": "2025-04-20T15:20:21.720918Z"
    }
   },
   "cell_type": "code",
   "source": "",
   "outputs": [],
   "execution_count": 57
  },
  {
   "metadata": {},
   "cell_type": "markdown",
   "source": [
    "### 2. Adapting Hyperparameters\n",
    "a. Create a new model, but now adjust the hyperparameter min_samples_leaf to 11.\\\n",
    "b. What is the effect on the tree?\\\n",
    "c. What is the effect on the metrics?"
   ]
  },
  {
   "metadata": {
    "ExecuteTime": {
     "end_time": "2025-04-20T15:20:35.284897Z",
     "start_time": "2025-04-20T15:20:32.579114Z"
    }
   },
   "cell_type": "code",
   "source": [],
   "outputs": [],
   "execution_count": 58
  },
  {
   "cell_type": "markdown",
   "source": [
    "### 3. Creating and validating a random forest model\n",
    "With the same dataset we are now going to predict the wine classes using a random forest model. This model uses multiple trees and aggregates the results.\\\n",
    " a. Create a RandomForerstClassifier with n_estimators hyperparameter set to 100, also use random_state=42\\\n",
    " b. Fit the model to the training set and evaluate on the test set.\\\n",
    " c. Based on the metrics, does this model outperform the previous model?\\\n",
    " d. Lower the hyperparameter n_estimators until it is performing less compared to n_estimators=100? With how many n_estimators the model is performing less.\\\n"
   ],
   "metadata": {
    "collapsed": false
   }
  },
  {
   "cell_type": "code",
   "source": [],
   "metadata": {
    "collapsed": false,
    "ExecuteTime": {
     "end_time": "2025-04-20T15:15:30.112417Z",
     "start_time": "2025-04-20T15:15:29.365514Z"
    }
   },
   "outputs": [],
   "execution_count": 53
  },
  {
   "cell_type": "markdown",
   "source": [
    "### 4. Using another classification model\n",
    "In the previous exercises you used a Decision Tree and a Random Forest model to predict the wine classes. Now, let's try another classification model.\\\n",
    "a. Go to https://scikit-learn.org/stable/machine_learning_map.html. Start with the start node and go through the nodechart until you find the first model to use. Which model did you find?\\\n",
    "b. Create the model and perform the validation.\\\n",
    "c. What are your findings"
   ],
   "metadata": {
    "collapsed": false
   }
  },
  {
   "metadata": {
    "ExecuteTime": {
     "end_time": "2025-04-20T15:24:07.825259Z",
     "start_time": "2025-04-20T15:24:06.937753Z"
    }
   },
   "cell_type": "code",
   "source": [],
   "outputs": [],
   "execution_count": 59
  }
 ],
 "metadata": {
  "kernelspec": {
   "display_name": "Python 3",
   "language": "python",
   "name": "python3"
  },
  "language_info": {
   "codemirror_mode": {
    "name": "ipython",
    "version": 2
   },
   "file_extension": ".py",
   "mimetype": "text/x-python",
   "name": "python",
   "nbconvert_exporter": "python",
   "pygments_lexer": "ipython2",
   "version": "2.7.6"
  }
 },
 "nbformat": 4,
 "nbformat_minor": 0
}
