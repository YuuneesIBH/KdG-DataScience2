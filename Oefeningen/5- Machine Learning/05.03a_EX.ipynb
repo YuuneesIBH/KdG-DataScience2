{
  "cells": [
    {
      "cell_type": "markdown",
      "metadata": {
        "collapsed": false,
        "id": "o5IXxxDJpF4t",
        "jupyter": {
          "outputs_hidden": false
        }
      },
      "source": [
        "# EXERCISES Hyperparameter tuning\n"
      ]
    },
    {
      "cell_type": "markdown",
      "metadata": {},
      "source": [
        "### Task 1 : Import libraries"
      ]
    },
    {
      "cell_type": "markdown",
      "metadata": {},
      "source": [
        " Import the necessary libraries (Import pandas, numpy, matplotlib, seaborn, and sklearn libraries)"
      ]
    },
    {
      "cell_type": "code",
      "execution_count": 29,
      "metadata": {
        "ExecuteTime": {
          "end_time": "2024-10-13T15:53:17.185611Z",
          "start_time": "2024-10-13T15:53:17.153174Z"
        },
        "id": "WlVApf6xpF4u"
      },
      "outputs": [],
      "source": []
    },
    {
      "cell_type": "markdown",
      "metadata": {},
      "source": [
        "### Task 2 : Load the data"
      ]
    },
    {
      "cell_type": "markdown",
      "metadata": {
        "collapsed": false,
        "id": "xJqqzvwhpF6r",
        "jupyter": {
          "outputs_hidden": false
        }
      },
      "source": [
        " We load the data again from the Concrete Compressive Strength Dataset Regression Notebook 'Concrete_Data.csv'.\n"
      ]
    },
    {
      "cell_type": "code",
      "execution_count": 5,
      "metadata": {
        "ExecuteTime": {
          "end_time": "2024-10-13T18:51:23.634903Z",
          "start_time": "2024-10-13T18:51:23.551264Z"
        },
        "id": "RtAVIAsLpF6s",
        "outputId": "71957e9d-e2e6-4053-94d2-4eac0b0beae9"
      },
      "outputs": [],
      "source": []
    },
    {
      "cell_type": "markdown",
      "metadata": {
        "collapsed": false,
        "id": "Eb6-96GRpF6t",
        "jupyter": {
          "outputs_hidden": false
        }
      },
      "source": [
        "### Task 3 : Polynomial regression function"
      ]
    },
    {
      "cell_type": "markdown",
      "metadata": {},
      "source": [
        "Create a function 'polynomial_regression' with 2 parameters: degree (default=2) and **kwargs. The function returns a polynomial model, constructed by a pipeline \n",
        "of 'PolynomialFeatures' (with degree as parameter and include_bias set to False) and 'LinearRegression' (with **kwargs as parameter). \n",
        "What is the goal of the **kwargs parameter and what does the ** operator do?"
      ]
    },
    {
      "cell_type": "code",
      "execution_count": 10,
      "metadata": {
        "ExecuteTime": {
          "end_time": "2024-10-13T18:51:24.891126Z",
          "start_time": "2024-10-13T18:51:24.850098Z"
        },
        "id": "NCo39aidpF6u"
      },
      "outputs": [],
      "source": []
    },
    {
      "cell_type": "markdown",
      "metadata": {
        "collapsed": false,
        "id": "jQE9VvUspF6w",
        "jupyter": {
          "outputs_hidden": false
        }
      },
      "source": [
        "### Task 4 : Validation curves"
      ]
    },
    {
      "cell_type": "markdown",
      "metadata": {
        "collapsed": false,
        "id": "jQE9VvUspF6w",
        "jupyter": {
          "outputs_hidden": false
        }
      },
      "source": [
        "Create the the target variable 'csMPa' (y) and the feature variable (X) with 'Cement', 'Water', and 'Age' as features."
      ]
    },
    {
      "cell_type": "code",
      "execution_count": 7,
      "metadata": {},
      "outputs": [],
      "source": []
    },
    {
      "cell_type": "markdown",
      "metadata": {
        "collapsed": false,
        "id": "jQE9VvUspF6w",
        "jupyter": {
          "outputs_hidden": false
        }
      },
      "source": [
        "Calculate the training and the validation R-squared scores for the polynomial regression models of degree 1 to 5. Use a cross-validation fold value of 5. \n",
        "Print the average scores over the different cross-validation folds for the different models."
      ]
    },
    {
      "cell_type": "code",
      "execution_count": 44,
      "metadata": {
        "ExecuteTime": {
          "end_time": "2024-10-13T18:51:30.740793Z",
          "start_time": "2024-10-13T18:51:30.173887Z"
        },
        "id": "Of-SWsvNpF6w",
        "outputId": "0648cacb-3fd1-4c9f-b161-94d2a3e8d6de"
      },
      "outputs": [],
      "source": []
    },
    {
      "cell_type": "markdown",
      "metadata": {
        "collapsed": false,
        "id": "jQE9VvUspF6w",
        "jupyter": {
          "outputs_hidden": false
        }
      },
      "source": [
        "Draw the validation curve. Use the median of the scores over the different cross validation folds. What you think about (underfitting/overfitting)? Is it useful to use a more complex model?"
      ]
    },
    {
      "cell_type": "code",
      "execution_count": 45,
      "metadata": {
        "ExecuteTime": {
          "end_time": "2024-10-13T18:51:30.740793Z",
          "start_time": "2024-10-13T18:51:30.173887Z"
        },
        "id": "Of-SWsvNpF6w",
        "outputId": "0648cacb-3fd1-4c9f-b161-94d2a3e8d6de"
      },
      "outputs": [],
      "source": []
    },
    {
      "cell_type": "markdown",
      "metadata": {
        "collapsed": false,
        "id": "ztyAj1NTpF6y",
        "jupyter": {
          "outputs_hidden": false
        }
      },
      "source": [
        "### Task 5 : Grid Search"
      ]
    },
    {
      "cell_type": "markdown",
      "metadata": {
        "collapsed": false,
        "id": "ztyAj1NTpF6y",
        "jupyter": {
          "outputs_hidden": false
        }
      },
      "source": [
        "Use grid search to find the optimal polynomial model. Use a two-dimensional grid of model features, namely the polynomial degree from 1 to 10 and the flag telling us whether to fit the intercept. Use a cross-validation fold value of 7. Print the best parameters and the best scores (mean over the folds)."
      ]
    },
    {
      "cell_type": "code",
      "execution_count": 61,
      "metadata": {
        "ExecuteTime": {
          "end_time": "2024-10-13T18:51:37.796285Z",
          "start_time": "2024-10-13T18:51:37.257847Z"
        },
        "id": "KdHdsszdpF6z",
        "outputId": "ac018315-1c2f-4b17-9722-372ed8f70ca6"
      },
      "outputs": [],
      "source": []
    }
  ],
  "metadata": {
    "colab": {
      "provenance": []
    },
    "kernelspec": {
      "display_name": "Python 3 (ipykernel)",
      "language": "python",
      "name": "python3"
    },
    "language_info": {
      "codemirror_mode": {
        "name": "ipython",
        "version": 3
      },
      "file_extension": ".py",
      "mimetype": "text/x-python",
      "name": "python",
      "nbconvert_exporter": "python",
      "pygments_lexer": "ipython3",
      "version": "3.11.7"
    }
  },
  "nbformat": 4,
  "nbformat_minor": 4
}