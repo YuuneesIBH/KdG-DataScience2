{
  "cells": [
    {
      "metadata": {},
      "cell_type": "markdown",
      "source": "# Matplotlib Practice\n",
      "id": "4f29621e0a53f9c8"
    },
    {
      "cell_type": "markdown",
      "id": "7f3c344c-719e-4ad5-b032-c89cc0480524",
      "metadata": {
        "id": "7f3c344c-719e-4ad5-b032-c89cc0480524"
      },
      "source": "### 1: Simple Line Chart\n"
    },
    {
      "cell_type": "code",
      "id": "42b5011d-d765-46db-9900-af418b9a52ba",
      "metadata": {
        "id": "42b5011d-d765-46db-9900-af418b9a52ba",
        "ExecuteTime": {
          "end_time": "2025-03-06T16:32:16.311831Z",
          "start_time": "2025-03-06T16:32:16.294284Z"
        }
      },
      "source": [
        "import matplotlib.pyplot as plt\n",
        "import numpy as np\n",
        "\n",
        "# Generate data\n",
        "days = np.array([1, 2, 3, 4, 5, 6, 7])  # Days of the week\n",
        "sales_this_week = np.array([150, 200, 250, 220, 300, 400, 380])  # This week's sales\n",
        "sales_last_week = np.array([130, 180, 230, 210, 220, 390, 420])  # Last week's sales"
      ],
      "outputs": [],
      "execution_count": 53
    },
    {
      "cell_type": "markdown",
      "id": "a6e357be-9d29-46ce-b587-621873924b10",
      "metadata": {
        "id": "a6e357be-9d29-46ce-b587-621873924b10"
      },
      "source": [
        "a) Create a simple line plot using NumPy where:\n",
        "\n",
        "- The x-axis represents days of the week (1 to 7).\n",
        "- The y-axis represents daily sales from this week in euros.\n",
        "- The line should be blue and solid ('b-').\n",
        "- Add labels for the x and y axes and a title.\n",
        "- Replace the integers on the x-axis by labels=[\"Mon\", \"Tue\", \"Wed\", \"Thu\", \"Fri\", \"Sat\", \"Sun\"] (you can use plt.xticks() for this).\n",
        "- Plot grid lines (you can use plt.grid() for this)"
      ]
    },
    {
      "cell_type": "code",
      "id": "52da80b3-5b73-46bb-8806-8325f6308798",
      "metadata": {
        "id": "52da80b3-5b73-46bb-8806-8325f6308798",
        "ExecuteTime": {
          "end_time": "2025-03-06T16:32:16.430481Z",
          "start_time": "2025-03-06T16:32:16.337079Z"
        }
      },
      "source": [],
      "outputs": [],
      "execution_count": 54
    },
    {
      "cell_type": "markdown",
      "id": "f93b6984-c312-464c-9e6d-ed3064b7779c",
      "metadata": {
        "id": "f93b6984-c312-464c-9e6d-ed3064b7779c"
      },
      "source": [
        "b) Now add a second line to the plot illustrating sales from last week. \n",
        "\n",
        "- Make the second line red and dotted\n",
        "- Add a legend to explain which color is this week and which one last week"
      ]
    },
    {
      "cell_type": "code",
      "id": "de19b82a-9bd5-4924-aa17-12049b38e949",
      "metadata": {
        "id": "de19b82a-9bd5-4924-aa17-12049b38e949",
        "ExecuteTime": {
          "end_time": "2025-03-06T16:32:16.545239Z",
          "start_time": "2025-03-06T16:32:16.440286Z"
        }
      },
      "source": [],
      "outputs": [],
      "execution_count": 55
    },
    {
      "cell_type": "markdown",
      "id": "545127ea-a611-45a1-a329-7d02cbed688b",
      "metadata": {
        "id": "545127ea-a611-45a1-a329-7d02cbed688b"
      },
      "source": "### 2: Line Plots with Flight Data\n"
    },
    {
      "cell_type": "code",
      "id": "4f108e4b-8db0-4c08-98e4-3078b481cf5f",
      "metadata": {
        "id": "4f108e4b-8db0-4c08-98e4-3078b481cf5f",
        "ExecuteTime": {
          "end_time": "2025-03-06T16:32:16.860762Z",
          "start_time": "2025-03-06T16:32:16.560899Z"
        }
      },
      "source": [
        "import pandas as pd\n",
        "\n",
        "# Load dataset\n",
        "flights  = pd.read_csv('../../datasets/airlines.csv', sep=',')\n",
        "flights.head()"
      ],
      "outputs": [],
      "execution_count": 56
    },
    {
      "metadata": {},
      "cell_type": "markdown",
      "source": "a) Look at the 'Departure Date' column. Replace all the '/' characters by '-' in this column. Create a new column 'Departure Month' with only the 1st part (= month) of the column 'Departure Date' and 'int8' as data type (you can use .astype() for this).",
      "id": "49e02d658ef70050"
    },
    {
      "metadata": {
        "ExecuteTime": {
          "end_time": "2025-03-06T16:32:17.019855Z",
          "start_time": "2025-03-06T16:32:16.912378Z"
        }
      },
      "cell_type": "code",
      "source": [],
      "id": "8aeacf779941cbb3",
      "outputs": [],
      "execution_count": 57
    },
    {
      "metadata": {
        "id": "71d1011c-07da-4014-b49e-d2734884c0d9"
      },
      "cell_type": "markdown",
      "source": "b) Show the total number of passengers for all the months (in year 2022) in a line chart",
      "id": "71d1011c-07da-4014-b49e-d2734884c0d9"
    },
    {
      "cell_type": "code",
      "id": "500461f9-383e-4130-b3f8-a5f606ebb5e7",
      "metadata": {
        "id": "500461f9-383e-4130-b3f8-a5f606ebb5e7",
        "ExecuteTime": {
          "end_time": "2025-03-06T16:32:17.164747Z",
          "start_time": "2025-03-06T16:32:17.060558Z"
        }
      },
      "source": [],
      "outputs": [],
      "execution_count": 58
    },
    {
      "metadata": {},
      "cell_type": "markdown",
      "source": "",
      "id": "7a6bf441feb2c258"
    },
    {
      "cell_type": "markdown",
      "id": "0862d999-f64a-429a-8ef5-3b1389480eb1",
      "metadata": {
        "id": "0862d999-f64a-429a-8ef5-3b1389480eb1"
      },
      "source": [
        "c) Adjust the plot so:\n",
        "- It has a wider width (you can use plt.figure(figsize=...) for this).\n",
        "- The y-axis goes from 7000 to 9000 (you can use plt.ylim() for this).\n",
        "- Replace the integers on the x-axis by labels=[\"Jan\", \"Feb\", \"Mar\", ...] (you can use plt.xticks() for this).\n"
      ]
    },
    {
      "cell_type": "code",
      "id": "a6516fc9-2740-47f6-a469-7175e4293de7",
      "metadata": {
        "id": "a6516fc9-2740-47f6-a469-7175e4293de7",
        "ExecuteTime": {
          "end_time": "2025-03-06T16:32:17.286516Z",
          "start_time": "2025-03-06T16:32:17.180977Z"
        }
      },
      "source": [],
      "outputs": [],
      "execution_count": 59
    },
    {
      "cell_type": "markdown",
      "id": "1e5fd9fb-b97b-4310-8dc4-76bc3a58be0a",
      "metadata": {
        "id": "1e5fd9fb-b97b-4310-8dc4-76bc3a58be0a"
      },
      "source": [
        "Great!\n"
      ]
    }
  ],
  "metadata": {
    "kernelspec": {
      "display_name": "Python 3 (ipykernel)",
      "language": "python",
      "name": "python3"
    },
    "language_info": {
      "codemirror_mode": {
        "name": "ipython",
        "version": 3
      },
      "file_extension": ".py",
      "mimetype": "text/x-python",
      "name": "python",
      "nbconvert_exporter": "python",
      "pygments_lexer": "ipython3",
      "version": "3.12.4"
    },
    "colab": {
      "provenance": []
    }
  },
  "nbformat": 4,
  "nbformat_minor": 5
}