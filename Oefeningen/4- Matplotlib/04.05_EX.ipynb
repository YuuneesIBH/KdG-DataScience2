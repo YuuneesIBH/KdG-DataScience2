{
  "cells": [
    {
      "cell_type": "markdown",
      "id": "54db47f1-8ce9-43af-9673-2db5af368dd6",
      "metadata": {
        "id": "54db47f1-8ce9-43af-9673-2db5af368dd6"
      },
      "source": [
        "# Matplotlib Practice"
      ]
    },
    {
      "metadata": {},
      "cell_type": "markdown",
      "source": [
        "### 1: Basic Histogram\n",
        "\n",
        "Imports and generating some data"
      ],
      "id": "3cc97358bcb2d953"
    },
    {
      "metadata": {
        "ExecuteTime": {
          "end_time": "2025-03-06T11:15:07.672184Z",
          "start_time": "2025-03-06T11:15:07.066686Z"
        }
      },
      "cell_type": "code",
      "source": [
        "import numpy as np\n",
        "import matplotlib.pyplot as plt\n",
        "#plt.style.use('seaborn-v0_8-whitegrid')\n",
        "\n",
        "# Generate random data\n",
        "data = np.random.randn(1000)"
      ],
      "id": "22fd011203e0c383",
      "outputs": [],
      "execution_count": 1
    },
    {
      "metadata": {},
      "cell_type": "markdown",
      "source": [
        "\n",
        "a) Create a histogram using the randomly generated data from above.\n",
        "\n",
        "- Use 30 bins.\n",
        "\n",
        "- Set alpha=0.5 for transparency.\n",
        "\n",
        "- Use histtype='stepfilled'."
      ],
      "id": "e3ee9da1fd3cf183"
    },
    {
      "metadata": {
        "ExecuteTime": {
          "end_time": "2025-03-06T11:19:24.807509Z",
          "start_time": "2025-03-06T11:19:24.714301Z"
        }
      },
      "cell_type": "code",
      "source": [],
      "id": "db9d95e820d596de",
      "outputs": [],
      "execution_count": 19
    },
    {
      "metadata": {},
      "cell_type": "markdown",
      "source": "",
      "id": "c9a66fdc8e39ab73"
    },
    {
      "metadata": {},
      "cell_type": "markdown",
      "source": [
        "### 2: Histogram with Iris dataset\n",
        "\n",
        "import needed libaries and iris dataset."
      ],
      "id": "b41923f50f1c64cd"
    },
    {
      "metadata": {
        "ExecuteTime": {
          "end_time": "2025-03-06T11:15:09.723309Z",
          "start_time": "2025-03-06T11:15:08.044439Z"
        }
      },
      "cell_type": "code",
      "source": [
        "import matplotlib.pyplot as plt\n",
        "import numpy as np\n",
        "import pandas as pd\n",
        "from sklearn.datasets import load_iris\n",
        "\n",
        "# Load dataset\n",
        "iris_bunch = load_iris(as_frame=True)\n",
        "iris = pd.DataFrame(iris_bunch.data.to_numpy(), index=np.arange(1, 151), columns=iris_bunch.data.columns)\n",
        "iris['species'] = iris_bunch.target\n"
      ],
      "id": "247c5ddd18951b68",
      "outputs": [],
      "execution_count": 3
    },
    {
      "metadata": {},
      "cell_type": "markdown",
      "source": [
        "a) Create a histogram of sepal length from the Iris dataset.\n",
        "\n",
        "- Use 20 bins.\n",
        "\n",
        "- Set transparency to 0.7.\n",
        "\n",
        "- Change the color to 'purple'."
      ],
      "id": "a658961a8a071b7b"
    },
    {
      "metadata": {
        "ExecuteTime": {
          "end_time": "2025-03-06T11:15:09.838947Z",
          "start_time": "2025-03-06T11:15:09.743779Z"
        }
      },
      "cell_type": "code",
      "source": [],
      "id": "1a51aaf0278b678",
      "outputs": [],
      "execution_count": 4
    },
    {
      "cell_type": "markdown",
      "id": "7f3c344c-719e-4ad5-b032-c89cc0480524",
      "metadata": {
        "id": "7f3c344c-719e-4ad5-b032-c89cc0480524"
      },
      "source": [
        "b) Now plot sepal length histograms for each species separately.\n",
        "- Use different colors for each species.\n",
        "- Add a legend to distinguish species.\n",
        "- Use 15 bins per species\n",
        "- Set transparency to 0.3."
      ]
    },
    {
      "cell_type": "code",
      "id": "42b5011d-d765-46db-9900-af418b9a52ba",
      "metadata": {
        "id": "42b5011d-d765-46db-9900-af418b9a52ba",
        "ExecuteTime": {
          "end_time": "2025-03-06T11:32:28.027173Z",
          "start_time": "2025-03-06T11:32:27.903412Z"
        }
      },
      "source": [],
      "outputs": [],
      "execution_count": 27
    },
    {
      "cell_type": "markdown",
      "id": "a6e357be-9d29-46ce-b587-621873924b10",
      "metadata": {
        "id": "a6e357be-9d29-46ce-b587-621873924b10"
      },
      "source": ""
    }
  ],
  "metadata": {
    "kernelspec": {
      "display_name": "Python 3 (ipykernel)",
      "language": "python",
      "name": "python3"
    },
    "language_info": {
      "codemirror_mode": {
        "name": "ipython",
        "version": 3
      },
      "file_extension": ".py",
      "mimetype": "text/x-python",
      "name": "python",
      "nbconvert_exporter": "python",
      "pygments_lexer": "ipython3",
      "version": "3.12.4"
    },
    "colab": {
      "provenance": []
    }
  },
  "nbformat": 4,
  "nbformat_minor": 5
}