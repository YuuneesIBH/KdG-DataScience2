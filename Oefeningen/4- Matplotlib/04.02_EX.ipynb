{
  "cells": [
    {
      "cell_type": "markdown",
      "id": "54db47f1-8ce9-43af-9673-2db5af368dd6",
      "metadata": {
        "id": "54db47f1-8ce9-43af-9673-2db5af368dd6"
      },
      "source": [
        "# Matplotlib Practice"
      ]
    },
    {
      "metadata": {},
      "cell_type": "markdown",
      "source": [
        "### 1: Basic Scatterplot\n",
        "\n",
        "a) Import the pyplot module from matplotlib as plt"
      ],
      "id": "3cc97358bcb2d953"
    },
    {
      "metadata": {
        "ExecuteTime": {
          "end_time": "2025-03-06T13:01:29.834500Z",
          "start_time": "2025-03-06T13:01:29.824040Z"
        }
      },
      "cell_type": "code",
      "source": [],
      "id": "22fd011203e0c383",
      "outputs": [],
      "execution_count": 6
    },
    {
      "metadata": {},
      "cell_type": "markdown",
      "source": [
        "\n",
        "b) Create a simple scatter plot using NumPy where:\n",
        "\n",
        "- The x-axis represents 50 random values between 0 and 1 for feature A.\n",
        "\n",
        "- The y-axis represents 50 random values between 0 and 1 for feature B.\n",
        "\n",
        "- Use Matplotlib's scatter function"
      ],
      "id": "e3ee9da1fd3cf183"
    },
    {
      "metadata": {
        "ExecuteTime": {
          "end_time": "2025-03-06T13:01:29.939101Z",
          "start_time": "2025-03-06T13:01:29.840023Z"
        }
      },
      "cell_type": "code",
      "source": [],
      "id": "db9d95e820d596de",
      "outputs": [],
      "execution_count": 7
    },
    {
      "metadata": {},
      "cell_type": "markdown",
      "source": "",
      "id": "c9a66fdc8e39ab73"
    },
    {
      "metadata": {},
      "cell_type": "markdown",
      "source": [
        "### 2: city population exploration\n",
        "\n",
        "a) import needed libaries here and read in the california_cities.csv file."
      ],
      "id": "b41923f50f1c64cd"
    },
    {
      "metadata": {
        "ExecuteTime": {
          "end_time": "2025-03-06T13:01:29.968923Z",
          "start_time": "2025-03-06T13:01:29.950733Z"
        }
      },
      "cell_type": "code",
      "source": [],
      "id": "247c5ddd18951b68",
      "outputs": [],
      "execution_count": 8
    },
    {
      "metadata": {},
      "cell_type": "markdown",
      "source": "b) Make a scatterplot where you compare the Population to the Area in km squared.",
      "id": "a658961a8a071b7b"
    },
    {
      "metadata": {
        "ExecuteTime": {
          "end_time": "2025-03-06T13:01:30.151602Z",
          "start_time": "2025-03-06T13:01:30.030365Z"
        }
      },
      "cell_type": "code",
      "source": [],
      "id": "1a51aaf0278b678",
      "outputs": [],
      "execution_count": 9
    },
    {
      "cell_type": "markdown",
      "id": "7f3c344c-719e-4ad5-b032-c89cc0480524",
      "metadata": {
        "id": "7f3c344c-719e-4ad5-b032-c89cc0480524"
      },
      "source": [
        "### 3: Scatterplot with Iris dataset\n",
        "\n",
        "Import the Iris dataset:"
      ]
    },
    {
      "cell_type": "code",
      "id": "42b5011d-d765-46db-9900-af418b9a52ba",
      "metadata": {
        "id": "42b5011d-d765-46db-9900-af418b9a52ba",
        "ExecuteTime": {
          "end_time": "2025-03-06T13:01:30.205174Z",
          "start_time": "2025-03-06T13:01:30.184771Z"
        }
      },
      "source": [
        "import matplotlib.pyplot as plt\n",
        "import numpy as np\n",
        "import pandas as pd\n",
        "from sklearn.datasets import load_iris\n",
        "\n",
        "# Load dataset\n",
        "iris_bunch = load_iris(as_frame=True)\n",
        "iris = pd.DataFrame(iris_bunch.data.to_numpy(), index=np.arange(1, 151), columns=iris_bunch.data.columns)\n",
        "iris['species'] = iris_bunch.target"
      ],
      "outputs": [],
      "execution_count": 10
    },
    {
      "cell_type": "markdown",
      "id": "a6e357be-9d29-46ce-b587-621873924b10",
      "metadata": {
        "id": "a6e357be-9d29-46ce-b587-621873924b10"
      },
      "source": [
        "a) Create a scatter plot using the Iris dataset where:\n",
        "\n",
        "- The x-axis represents sepal length.\n",
        "\n",
        "- The y-axis represents sepal width.\n",
        "\n",
        "- The points are colored based on the species of the iris flower (use parameter c=... in plt.scatter()).\n",
        "\n",
        "- Plot the colorbar with a correct label"
      ]
    },
    {
      "cell_type": "code",
      "id": "52da80b3-5b73-46bb-8806-8325f6308798",
      "metadata": {
        "id": "52da80b3-5b73-46bb-8806-8325f6308798",
        "ExecuteTime": {
          "end_time": "2025-03-06T13:01:30.396954Z",
          "start_time": "2025-03-06T13:01:30.235041Z"
        }
      },
      "source": [],
      "outputs": [],
      "execution_count": 11
    },
    {
      "cell_type": "markdown",
      "id": "f93b6984-c312-464c-9e6d-ed3064b7779c",
      "metadata": {
        "id": "f93b6984-c312-464c-9e6d-ed3064b7779c"
      },
      "source": [
        "\n",
        "b) Modify the scatter plot so that:\n",
        "\n",
        "- The size of each point represents the petal width (use parameter s=... in plt.scatter()).\n",
        "\n",
        "- Keep the color mapping based on species."
      ]
    },
    {
      "cell_type": "code",
      "id": "de19b82a-9bd5-4924-aa17-12049b38e949",
      "metadata": {
        "id": "de19b82a-9bd5-4924-aa17-12049b38e949",
        "ExecuteTime": {
          "end_time": "2025-03-06T13:01:30.557736Z",
          "start_time": "2025-03-06T13:01:30.418166Z"
        }
      },
      "source": [],
      "outputs": [],
      "execution_count": 12
    }
  ],
  "metadata": {
    "kernelspec": {
      "display_name": "Python 3 (ipykernel)",
      "language": "python",
      "name": "python3"
    },
    "language_info": {
      "codemirror_mode": {
        "name": "ipython",
        "version": 3
      },
      "file_extension": ".py",
      "mimetype": "text/x-python",
      "name": "python",
      "nbconvert_exporter": "python",
      "pygments_lexer": "ipython3",
      "version": "3.12.4"
    },
    "colab": {
      "provenance": []
    }
  },
  "nbformat": 4,
  "nbformat_minor": 5
}