{
  "cells": [
    {
      "cell_type": "markdown",
      "source": [
        "# Oplossingen Airports"
      ],
      "metadata": {
        "collapsed": false
      }
    },
    {
      "cell_type": "markdown",
      "source": "Import all necessary libraries to complete the exercise here:",
      "metadata": {
        "collapsed": false
      }
    },
    {
      "cell_type": "code",
      "metadata": {
        "ExecuteTime": {
          "end_time": "2025-03-14T08:43:16.418704Z",
          "start_time": "2025-03-14T08:43:16.412735Z"
        }
      },
      "source": [],
      "outputs": [],
      "execution_count": 1
    },
    {
      "cell_type": "markdown",
      "metadata": {},
      "source": [
        "Read the following CSV files with the delay data of American airlines into two DataFrames. You can find this data at the following URLs:\\\n",
        "_Tip: Use the URL directly in the read_csv function._\\\n",
        "\n",
        "- https://raw.githubusercontent.com/nickdcox/learn-airline-delays/main/delays_2018.csv (name this dataframe `delays2018`)\n",
        "- https://raw.githubusercontent.com/nickdcox/learn-airline-delays/main/delays_2019.csv (name this dataframe `delays2019`)\n",
        "\n",
        "You will find the following data:\n"
      ]
    },
    {
      "cell_type": "markdown",
      "source": [
        "```{text}\n",
        "            Column Name                                                                                           Description\n",
        "0                  date                                                   Year and month, in the format YYYY-M (e.g., 2018-1)\n",
        "1               carrier                                                 The two character designator for the carrier/airline.\n",
        "2          carrier_name                                                                 The full name of the carrier/airline.\n",
        "3               airport                                               The three character designator for the arrival airport.\n",
        "4          airport_name                                                                 The full name of the arrival airport.\n",
        "5           arr_flights            The total number of arriving flights for the carrier-airport pair for the month specified.\n",
        "6             arr_del15   The number of arriving flights that were delayed. Delayed is when a flight arrives more than 15 ...\n",
        "7            carrier_ct                                        The number of arriving flights delayed due to a carrier issue.\n",
        "8            weather_ct                                        The number of arriving flights delayed due to a weather issue.\n",
        "9                nas_ct                            The number of arriving flights delayed due to a national air system issue.\n",
        "10          security_ct                                      The number of arriving flights delayed due to a security issue.\n",
        "11     late_aircraft_ct                The number of arriving flights delayed due to an earlier late arrival of an aircraft.\n",
        "12        arr_cancelled                                                                     The number of cancelled flights.\n",
        "13         arr_diverted                                                                      The number of diverted flights.\n",
        "14            arr_delay                                                   The total number of delayed minutes due to delays.\n",
        "15        carrier_delay                                           The total number of delayed minutes due to carrier issues.\n",
        "16        weather_delay                                           The total number of delayed minutes due to weather issues.\n",
        "17            nas_delay                               The total number of delayed minutes due to national air system issues.\n",
        "18       security_delay                                          The total number of delayed minutes due to security issues.\n",
        "19  late_aircraft_delay                        The total number of delayed minutes due to earlier later arrival of aircraft.\n",
        "```\n",
        "After the import, verify all columns and their data types. Adjust the read_csv function if needed."
      ],
      "metadata": {
        "collapsed": false
      }
    },
    {
      "cell_type": "code",
      "metadata": {
        "ExecuteTime": {
          "end_time": "2025-03-14T08:43:18.628142Z",
          "start_time": "2025-03-14T08:43:16.437737Z"
        }
      },
      "source": [],
      "outputs": [],
      "execution_count": 2
    },
    {
      "cell_type": "markdown",
      "metadata": {},
      "source": [
        "Concatenate the two dataframes into one dataframe named delays and then display the total number of rows. You can concatenate dataframes with the function pd.concat(). Create a new index when concatenating, which can be done with a specific parameter. In total, you should get 41177 rows. Verify that."
      ]
    },
    {
      "cell_type": "code",
      "metadata": {
        "ExecuteTime": {
          "end_time": "2025-03-14T08:43:19.586911Z",
          "start_time": "2025-03-14T08:43:19.548544Z"
        }
      },
      "source": [],
      "outputs": [],
      "execution_count": 3
    },
    {
      "cell_type": "markdown",
      "metadata": {},
      "source": [
        "Remove all rows where one of the following conditions is met:\n",
        "* the airport has no arriving flights (missing value for arr_flights)\n",
        "* empty carrier or empty airports\n",
        "In total, you should now have 41097 rows left. Verify that."
      ]
    },
    {
      "metadata": {
        "ExecuteTime": {
          "end_time": "2025-03-14T08:43:19.684280Z",
          "start_time": "2025-03-14T08:43:19.648193Z"
        }
      },
      "cell_type": "code",
      "source": [],
      "outputs": [],
      "execution_count": 4
    },
    {
      "cell_type": "markdown",
      "metadata": {},
      "source": "Print a list of all airports located in \"Tennessee\". These airports have the letters \"TN:\" in their \"airport_name\". There should be 5 of them."
    },
    {
      "cell_type": "code",
      "metadata": {
        "ExecuteTime": {
          "end_time": "2025-03-14T08:43:19.814751Z",
          "start_time": "2025-03-14T08:43:19.768866Z"
        }
      },
      "source": [],
      "outputs": [],
      "execution_count": 5
    },
    {
      "cell_type": "markdown",
      "metadata": {},
      "source": "Import the coordinates file https://raw.githubusercontent.com/nickdcox/learn-airline-delays/main/airport_coordinates.csv. This file contains the latitude and longitude of various American airports as well as their airport code. Check the imported data and adjust the read_csv function if necessary."
    },
    {
      "cell_type": "code",
      "metadata": {
        "ExecuteTime": {
          "end_time": "2025-03-14T08:43:20.262986Z",
          "start_time": "2025-03-14T08:43:19.937886Z"
        }
      },
      "source": [],
      "outputs": [],
      "execution_count": 6
    },
    {
      "cell_type": "markdown",
      "metadata": {},
      "source": "List the co\u00f6rdinates for each airport that is listed in the ``delays`` dataframe. Create an ``airport`` dataframe with the columns 'airport' and 'airportnames' based on the delays dataframe. Drop the duplicate values with ``drop_duplicates``. Merge the resulting dataframe with the  ."
    },
    {
      "cell_type": "code",
      "metadata": {
        "ExecuteTime": {
          "end_time": "2025-03-14T08:43:20.500052Z",
          "start_time": "2025-03-14T08:43:20.430190Z"
        }
      },
      "source": [],
      "outputs": [],
      "execution_count": 7
    },
    {
      "cell_type": "markdown",
      "metadata": {},
      "source": "Calculate the average latitude and longitude of all airports whose name starts with the letter 'B'. You can use the \"startswith()\" str-method of Series for this."
    },
    {
      "cell_type": "code",
      "metadata": {
        "ExecuteTime": {
          "end_time": "2025-03-14T08:43:20.792078Z",
          "start_time": "2025-03-14T08:43:20.771855Z"
        }
      },
      "source": [],
      "outputs": [],
      "execution_count": 8
    },
    {
      "cell_type": "markdown",
      "source": [
        "Add a new column \"zone\" that indicates where the airport is located. There are four zones:  \n",
        "\"SW\": South-Western (lat < 44.48, long < -120.72)\n",
        "\"SE\": South-Eastern (lat < 44.48, long > -120.72)\n",
        "\"NW\": North-Western (lat > 44.48, long < -120.72)\n",
        "\"NE\": North-Eastern (lat > 44.48, long > -120.72) Use the abbreviations SW, SE, NW, and NE as values for the new column."
      ],
      "metadata": {
        "collapsed": false
      }
    },
    {
      "cell_type": "code",
      "source": [],
      "metadata": {
        "collapsed": false,
        "ExecuteTime": {
          "end_time": "2025-03-14T08:43:21.018493Z",
          "start_time": "2025-03-14T08:43:20.976206Z"
        }
      },
      "outputs": [],
      "execution_count": 9
    },
    {
      "cell_type": "markdown",
      "source": [
        "Now calculate the average latitude and longitude per zone by using aggregation functions."
      ],
      "metadata": {
        "collapsed": false
      }
    },
    {
      "cell_type": "code",
      "source": [],
      "metadata": {
        "collapsed": false,
        "ExecuteTime": {
          "end_time": "2025-03-14T09:01:48.492396Z",
          "start_time": "2025-03-14T09:01:48.470769Z"
        }
      },
      "outputs": [],
      "execution_count": 11
    },
    {
      "metadata": {},
      "cell_type": "code",
      "outputs": [],
      "execution_count": null,
      "source": []
    }
  ],
  "metadata": {
    "kernelspec": {
      "display_name": "Python 3",
      "language": "python",
      "name": "python3"
    },
    "language_info": {
      "codemirror_mode": {
        "name": "ipython",
        "version": 3
      },
      "file_extension": ".py",
      "mimetype": "text/x-python",
      "name": "python",
      "nbconvert_exporter": "python",
      "pygments_lexer": "ipython3",
      "version": "3.8.7"
    },
    "toc": {
      "base_numbering": 1,
      "nav_menu": {},
      "number_sections": true,
      "sideBar": true,
      "skip_h1_title": false,
      "title_cell": "Table of Contents",
      "title_sidebar": "Contents",
      "toc_cell": false,
      "toc_position": {},
      "toc_section_display": true,
      "toc_window_display": false
    },
    "varInspector": {
      "cols": {
        "lenName": 16,
        "lenType": 16,
        "lenVar": 40
      },
      "kernels_config": {
        "python": {
          "delete_cmd_postfix": "",
          "delete_cmd_prefix": "del ",
          "library": "var_list.py",
          "varRefreshCmd": "print(var_dic_list())"
        },
        "r": {
          "delete_cmd_postfix": ") ",
          "delete_cmd_prefix": "rm(",
          "library": "var_list.r",
          "varRefreshCmd": "cat(var_dic_list()) "
        }
      },
      "types_to_exclude": [
        "module",
        "function",
        "builtin_function_or_method",
        "instance",
        "_Feature"
      ],
      "window_display": false
    }
  },
  "nbformat": 4,
  "nbformat_minor": 1
}