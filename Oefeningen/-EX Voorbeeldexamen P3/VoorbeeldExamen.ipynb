{
  "cells": [
    {
      "cell_type": "markdown",
      "id": "f5e4339bfbea53",
      "metadata": {},
      "source": [
        "Op het examen maak je nergens gebruik van Python for-loops, whiles of list comprehensions tenzij anders vermeld. De code die je schrijft moet zo efficient mogelijk worden uitgevoerd door numpy of pandas.\\"
      ]
    },
    {
      "cell_type": "code",
      "id": "initial_id",
      "metadata": {
        "collapsed": true,
        "jupyter": {
          "outputs_hidden": true
        },
        "ExecuteTime": {
          "end_time": "2025-04-22T07:52:38.781103Z",
          "start_time": "2025-04-22T07:52:38.776582Z"
        }
      },
      "source": [
        "import pandas as pd\n",
        "import numpy as np\n",
        "from seaborn import lineplot"
      ],
      "outputs": [],
      "execution_count": 1
    },
    {
      "cell_type": "markdown",
      "id": "a3582996ed6aa2f1",
      "metadata": {},
      "source": [
        "\n",
        "# Vraag 1"
      ]
    },
    {
      "metadata": {
        "ExecuteTime": {
          "end_time": "2025-04-22T07:53:09.438593Z",
          "start_time": "2025-04-22T07:53:09.426644Z"
        }
      },
      "cell_type": "code",
      "source": [
        "np_rng = np.random.default_rng(seed=15)\n",
        "df_vraag1 = pd.DataFrame(np.round(np_rng.random((100,10)),3),dtype='float32', index=range(5,105), columns=range(10,20))\n",
        "nparray_vraag1 = df_vraag1.to_numpy()\n"
      ],
      "id": "82a774d6be9f2aa1",
      "outputs": [],
      "execution_count": 4
    },
    {
      "metadata": {},
      "cell_type": "markdown",
      "source": [
        "\n",
        "Hierboven genereren we een dataframe met naam ``df_vraag1`` en de ndarray op basis vandezelfde data is ook beschikbaar als numpy-array met de naam ``nparray_vraag1``. Druk deze dataset af doe \"view as Dataframe\" in PyCharm. Beantwoord de volgende vragen zonder het echt uit te voeren. Op het examen leveren we deze dataframe en numpy-array niet mee als csv voor het examen. Het is ook niet de bedoeling dat je de dataframe/array zelf aanmaakt. Je schrijft de gevraagde code of output voorafgaand met een #\\\n",
        "a) Wat is de output van volgende code (to_numpy() zet de dataframe om naar een numpy array)? ``nparray_vraag1.shape`` 1P\\\n",
        "b) Schrijf de code om het veldje in het geel te selecteren uit ``nparray_vraag1``? 1P\\\n",
        "c) Schrijf de code om het veldje in het geel te selecteren met behulp van expliciete indexen uit ``df_vraag1``? 1P\\\n",
        "d) Schrijf de code om het vlak met stippellijnen te selecteren uit ``df_vraag1``? Gebruik daarvoor expliciete indexen. 1P\\\n",
        "e) Schrijf de code om de cellen met grijze achtergrond te selecteren uit ``df_vraag1``? Gebruik daarvoor impliciete indexen 1P\\\n",
        "f) Schrijf de output neer (in de vorm van een numpy list) voor volgende commando: ``df_vraag1.loc[5,:15:-2]`` 1P\\\n",
        "g) Schets in je antwoord de numpy array die je terug krijgt bij het uitvoeren van volgende code: ``nparray_vraag1[0:2,0:3] + np.array([2,1,0])`` 1P\\\n"
      ],
      "id": "4abbcb1bab78d041"
    },
    {
      "cell_type": "code",
      "id": "a12562bd16e03a82",
      "metadata": {
        "ExecuteTime": {
          "end_time": "2025-03-11T09:41:36.750563Z",
          "start_time": "2025-03-11T09:41:36.741070Z"
        }
      },
      "source": [
        "#a\n"
      ],
      "outputs": [],
      "execution_count": 4
    },
    {
      "cell_type": "code",
      "id": "babc512fcbef5215",
      "metadata": {
        "ExecuteTime": {
          "end_time": "2025-03-28T19:11:35.613484Z",
          "start_time": "2025-03-28T19:11:35.587957Z"
        }
      },
      "source": [
        "#b\n"
      ],
      "outputs": [],
      "execution_count": 4
    },
    {
      "cell_type": "code",
      "id": "f500c8129d32e177",
      "metadata": {
        "ExecuteTime": {
          "end_time": "2025-03-11T09:41:39.934874Z",
          "start_time": "2025-03-11T09:41:39.924594Z"
        }
      },
      "source": [
        "#c\n"
      ],
      "outputs": [],
      "execution_count": 6
    },
    {
      "cell_type": "code",
      "id": "2ba6d7539caa94cb",
      "metadata": {
        "ExecuteTime": {
          "end_time": "2025-03-11T09:41:41.515579Z",
          "start_time": "2025-03-11T09:41:41.495695Z"
        }
      },
      "source": [
        "#d\n"
      ],
      "outputs": [],
      "execution_count": 7
    },
    {
      "cell_type": "code",
      "id": "24b3c36471c61cb9",
      "metadata": {
        "ExecuteTime": {
          "end_time": "2025-03-31T17:17:03.537830Z",
          "start_time": "2025-03-31T17:17:03.517643Z"
        }
      },
      "source": [
        "#e\n"
      ],
      "outputs": [],
      "execution_count": 9
    },
    {
      "cell_type": "code",
      "id": "34dd6295fe2b2bec",
      "metadata": {
        "ExecuteTime": {
          "end_time": "2025-03-11T09:43:24.726086Z",
          "start_time": "2025-03-11T09:43:24.718859Z"
        }
      },
      "source": [
        "#f\n"
      ],
      "outputs": [],
      "execution_count": 10
    },
    {
      "cell_type": "code",
      "execution_count": 12,
      "id": "ee10dc5ea7cfa44b",
      "metadata": {
        "ExecuteTime": {
          "end_time": "2025-03-07T13:20:39.246505Z",
          "start_time": "2025-03-07T13:20:39.231895Z"
        }
      },
      "outputs": [],
      "source": [
        "#g\n"
      ]
    },
    {
      "cell_type": "markdown",
      "id": "61714a0912f479d8",
      "metadata": {},
      "source": [
        ".\n",
        "\n",
        "# Vraag 2\n",
        "De CSV's inzamelingenGFT.csv, inzamelingenRest.csv en inzamelingenPapier.csv werden gedownload van de site van het bedrijf dat de afvalophaling doet bij docent 'Jan' thuis. In de betreffende gemeente worden 'GFT' (groenten, fruit en tuinafval) , 'Restafval' en 'Papier' opgehaald in containers. Bij de ophaling worden sensoren gebruikt om het nettogewicht van de container te wegen.\\\n",
        "Volgende kolommen zijn aanwezig in de CSV's:\\\n",
        "1.\tTijdsindicatoren: Jaar, Maand, Dag en Week\\\n",
        "2.\tVerwerkings codes: Geeft aan hoe het afval verwerkt wordt. Er zijn slechts een beperkt aantal codes die gebruikt worden.\\\n",
        "3.\tGewicht (kg): het gewicht van de lediging in kg\\\n",
        "4.\tEural codes: Europees vastgelegde codes die het type afval beschrijven:\\\n",
        "150101 = 'Papier en karton', 200108 = 'GFT', 200301 = 'Restafval'.\\\n",
        "\n",
        "Maak een script dat de bestanden inleest en de nodige dataprocessing uitvoert op basis van onderstaande vereisten:\\\n",
        "a)\tHet script moet automatisch uitgevoerd kunnen worden op bestanden met dezelfde structuur.\\\n",
        "b)\tJe maakt geen gebruik van for-loops, whiles of list comprehensions. In plaats daarvan gebruik je de effici\u00ebnte verwerkingsmethoden van Pandas/Numpy\\\n",
        "c)\tMinimaliseer het geheugengebruik van de dataframe door een verstandige keuze van datatypes.\\\n",
        "Tip: Categorische data kan je het effici\u00ebnst opslaan met behulp van het category datatype.\\\n",
        "d)\t-9 kg wil zeggen dat er voor die ophaling geen weging heeft plaatsgevonden. Vervang deze waarden door NaN.\\\n",
        "e)\tAls er bij GFT-afval geen weging heeft plaatsgevonden dan is dat omwille van een defect van de weegschaal. Zorg ervoor dat die ontbrekende waarden vervangen worden door het gewicht van de voorgaande ophaling van GFT.\\\n",
        "f)\tDe informatie tussen haakjes bij Verwerkings codes is niet relevant. Haal deze weg.\\\n",
        "g)\tVoeg de kolom \"kostprijs\" toe die op volgende manier berekend wordt:\\\n",
        "    a)\tGFT: 0.21 euro/kg\\\n",
        "    b)\tRestafval: 0.31 euro/kg + 0,65 euro per ophaling\\\n",
        "    c)\tPapier: 0.4 euro per ophaling\\\n",
        "h)\tVoeg de 3 dataframes samen tot 1 dataframe met alle informatie met behulp van de concat() methode.\\\n",
        "\n",
        "\n"
      ]
    },
    {
      "cell_type": "code",
      "id": "66eac8d5bd28ae04",
      "metadata": {
        "ExecuteTime": {
          "end_time": "2025-04-22T08:01:53.414790Z",
          "start_time": "2025-04-22T08:01:53.208765Z"
        }
      },
      "source": [],
      "outputs": [],
      "execution_count": 5
    },
    {
      "cell_type": "markdown",
      "id": "51e7612732408e4a",
      "metadata": {},
      "source": [
        "# Vraag 3\n",
        "\n",
        "Voor vraag 3 a en b maak je gebruik van de csv inzamelingenALL.csv.\\\n",
        "\n",
        "a. Maak een histogram van de gewichten van de afhalingen:.\n",
        "- Zorg dat het histogram gedeeltelijk transparant (alpha=0.3) zijn\n",
        "- Werk met 20 bins.\n",
        "- Gebruik densities in plaats van absolute waarden.\n",
        "- Wegingen met 0 worden niet opgenomen in het histogram\n"
      ]
    },
    {
      "cell_type": "code",
      "id": "4fe0f37042606436",
      "metadata": {
        "ExecuteTime": {
          "end_time": "2025-04-22T08:05:49.930887Z",
          "start_time": "2025-04-22T08:05:49.145944Z"
        }
      },
      "source": [],
      "outputs": [],
      "execution_count": 7
    },
    {
      "cell_type": "markdown",
      "id": "20e8f1c640d54eaa",
      "metadata": {},
      "source": "b.Gebruik de data uit inzamelingenALL.csv om onderstaande grafiek na te bouwen. De grafiek moet er precies hetzelfde uitzien zoals de afbeelding. Let op: de jaren 2020 en 2025 zijn niet meegenomen in de resultaten, omdat de data daarvan niet volledig was. Als je halve jaartallen ziet op de x-as gebruik dan de functie ``plt.xticks`` 4p\\"
    },
    {
      "cell_type": "code",
      "id": "8e6a478895c926e5",
      "metadata": {
        "ExecuteTime": {
          "end_time": "2025-04-22T08:05:53.876191Z",
          "start_time": "2025-04-22T08:05:53.185836Z"
        }
      },
      "source": [],
      "outputs": [],
      "execution_count": 8
    }
  ],
  "metadata": {
    "kernelspec": {
      "display_name": "Python 3 (ipykernel)",
      "language": "python",
      "name": "python3"
    },
    "language_info": {
      "codemirror_mode": {
        "name": "ipython",
        "version": 3
      },
      "file_extension": ".py",
      "mimetype": "text/x-python",
      "name": "python",
      "nbconvert_exporter": "python",
      "pygments_lexer": "ipython3",
      "version": "3.12.8"
    }
  },
  "nbformat": 4,
  "nbformat_minor": 5
}