{
  "cells": [
    {
      "cell_type": "markdown",
      "id": "54db47f1-8ce9-43af-9673-2db5af368dd6",
      "metadata": {
        "id": "54db47f1-8ce9-43af-9673-2db5af368dd6"
      },
      "source": "# 4 - Data Visualization - Review Exercise"
    },
    {
      "metadata": {},
      "cell_type": "markdown",
      "source": [
        "### 1: Imports/Loading data\n",
        "\n",
        "a) Import all needed libraries here"
      ],
      "id": "3cc97358bcb2d953"
    },
    {
      "metadata": {
        "ExecuteTime": {
          "end_time": "2025-03-14T10:52:58.423898Z",
          "start_time": "2025-03-14T10:52:58.419090Z"
        }
      },
      "cell_type": "code",
      "source": [],
      "id": "22fd011203e0c383",
      "outputs": [],
      "execution_count": 1
    },
    {
      "metadata": {},
      "cell_type": "markdown",
      "source": [
        "\n",
        "In this exercise, we are going to explore the imdb movies dataset using different visualization techniques learned in chapter 4.\n",
        "\n",
        "b) Load the imdb_movies dataset into a pandas DataFrame and show the first 5 rows."
      ],
      "id": "e3ee9da1fd3cf183"
    },
    {
      "metadata": {
        "ExecuteTime": {
          "end_time": "2025-03-14T10:53:42.235318Z",
          "start_time": "2025-03-14T10:53:41.985806Z"
        }
      },
      "cell_type": "code",
      "source": [],
      "id": "db9d95e820d596de",
      "outputs": [],
      "execution_count": 4
    },
    {
      "metadata": {},
      "cell_type": "markdown",
      "source": "### 2: Movie scores\n",
      "id": "76beb69a2e28ee04"
    },
    {
      "metadata": {},
      "cell_type": "markdown",
      "source": [
        "\n",
        "a) What is the average score of all movies?"
      ],
      "id": "6ce2069291b584c5"
    },
    {
      "metadata": {
        "ExecuteTime": {
          "end_time": "2025-03-11T08:40:38.575698Z",
          "start_time": "2025-03-11T08:40:38.569460Z"
        }
      },
      "cell_type": "code",
      "source": [],
      "id": "def38fc66ecdf2c8",
      "outputs": [],
      "execution_count": 3
    },
    {
      "metadata": {},
      "cell_type": "markdown",
      "source": "b) Make a histogram of the movie scores",
      "id": "55d35cdfd470ec30"
    },
    {
      "metadata": {
        "ExecuteTime": {
          "end_time": "2025-03-11T09:41:51.753224Z",
          "start_time": "2025-03-11T09:41:51.678144Z"
        }
      },
      "cell_type": "code",
      "source": [],
      "id": "ae5d84e646f7f610",
      "outputs": [],
      "execution_count": 111
    },
    {
      "metadata": {},
      "cell_type": "markdown",
      "source": [
        "c) We want to visualize which years had the best movies.\n",
        " - You have to make a new column containing only the year (last part of 'date column') with 'int16' as data type (you can use .astype() for this).\n",
        " - Make sure you delete all scores that are 0, for those are scores that were never filled in\n",
        "- Plot the average score per year in a line chart with figsize = (15,5)"
      ],
      "id": "156a1dab11c94bb6"
    },
    {
      "metadata": {
        "ExecuteTime": {
          "end_time": "2025-03-11T09:45:33.211254Z",
          "start_time": "2025-03-11T09:45:33.076787Z"
        }
      },
      "cell_type": "code",
      "source": [],
      "id": "a1c8afa731393481",
      "outputs": [],
      "execution_count": 112
    },
    {
      "metadata": {},
      "cell_type": "markdown",
      "source": "",
      "id": "d0ca88dfe8f5dc32"
    },
    {
      "metadata": {},
      "cell_type": "markdown",
      "source": "### 3: Movie budget",
      "id": "90d87aad3d63096c"
    },
    {
      "metadata": {},
      "cell_type": "markdown",
      "source": "a) We want to know what the dispersion of the column 'budget_x' looks like. Make a boxplot to visualize this.",
      "id": "f8f15925df18748e"
    },
    {
      "metadata": {
        "ExecuteTime": {
          "end_time": "2025-03-11T09:41:45.294822Z",
          "start_time": "2025-03-11T09:41:45.234465Z"
        }
      },
      "cell_type": "code",
      "source": [],
      "id": "822ac948cfdcbd0f",
      "outputs": [],
      "execution_count": 110
    },
    {
      "metadata": {},
      "cell_type": "markdown",
      "source": "b) Show 5 movies with the highest budget, use a horizontal barchart and show the movie names.",
      "id": "964286d7b3bb8a4a"
    },
    {
      "metadata": {
        "ExecuteTime": {
          "end_time": "2025-03-11T08:40:42.696227Z",
          "start_time": "2025-03-11T08:40:42.607194Z"
        }
      },
      "cell_type": "code",
      "source": [],
      "id": "86d5b8a597797b95",
      "outputs": [],
      "execution_count": 5
    },
    {
      "metadata": {},
      "cell_type": "markdown",
      "source": "",
      "id": "41d6e3d9ce06e899"
    },
    {
      "metadata": {},
      "cell_type": "markdown",
      "source": [
        "c) Let's take a look if these expensive movies resulted in a higher revenue. \n",
        "- Make a scatterplot to visualize the relationship between budget and revenue. \n",
        "- Set transparency of the dots to 0.3\n"
      ],
      "id": "54c322b3431b6e41"
    },
    {
      "metadata": {
        "ExecuteTime": {
          "end_time": "2025-03-11T08:40:45.529320Z",
          "start_time": "2025-03-11T08:40:45.398231Z"
        }
      },
      "cell_type": "code",
      "source": [],
      "id": "dfae5fc12cf0c73",
      "outputs": [],
      "execution_count": 6
    }
  ],
  "metadata": {
    "kernelspec": {
      "display_name": "Python 3 (ipykernel)",
      "language": "python",
      "name": "python3"
    },
    "language_info": {
      "codemirror_mode": {
        "name": "ipython",
        "version": 3
      },
      "file_extension": ".py",
      "mimetype": "text/x-python",
      "name": "python",
      "nbconvert_exporter": "python",
      "pygments_lexer": "ipython3",
      "version": "3.12.4"
    },
    "colab": {
      "provenance": []
    }
  },
  "nbformat": 4,
  "nbformat_minor": 5
}