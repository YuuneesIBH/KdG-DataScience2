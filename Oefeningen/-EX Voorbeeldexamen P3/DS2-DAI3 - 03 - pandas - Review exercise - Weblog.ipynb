{
  "cells": [
    {
      "cell_type": "markdown",
      "metadata": {
        "id": "XX7WxJhL50UM"
      },
      "source": [
        "# Weblog Exercise\n",
        "\n",
        "We want to be able to perform analyses on the logs of a web server (\"UofS_access_log.small\"). To do this, you need to get the relevant data into a dataframe. This should be an automated process so that other log files can also be loaded.\n",
        "\n",
        "The following tasks need to be done. The original dataframe should be reworked so that only these columns remain:\n",
        "\n",
        "- domain: contains the addresses of the clients that sent a request\n",
        "- timestamp: is a datetime field (POSIXct) that shows the time of the request\n",
        "- resource: shows the resource that was requested\n",
        "- response_code: gives the HTTP response code returned by the server\n",
        "- response_length: indicates the length of the HTTP response\n"
      ]
    },
    {
      "cell_type": "markdown",
      "source": [
        "Import all necessary libraries here:"
      ],
      "metadata": {
        "collapsed": false
      }
    },
    {
      "cell_type": "code",
      "source": [],
      "metadata": {
        "collapsed": false,
        "ExecuteTime": {
          "end_time": "2025-03-17T05:28:49.279595Z",
          "start_time": "2025-03-17T05:28:49.275467Z"
        }
      },
      "outputs": [],
      "execution_count": 2
    },
    {
      "cell_type": "markdown",
      "metadata": {
        "id": "DiLdG3sF50U3"
      },
      "source": [
        "## Reading the data\n",
        "Open the file \"UofS_access_log.small\" and investigate its contents. The file is a log file from a web server.\n",
        "\n",
        "Read the dataframe.\n",
        "- Check for yourself what the separator is.\n",
        "- Incorrect rows can be skipped.\n",
        "- There is no header!\n",
        "- The file uses the \"latin\" encoding (consult the docs to learn how to set the encoding) for characters."
      ]
    },
    {
      "cell_type": "code",
      "metadata": {
        "ExecuteTime": {
          "end_time": "2025-03-17T05:28:54.480016Z",
          "start_time": "2025-03-17T05:28:49.299606Z"
        }
      },
      "source": [],
      "outputs": [],
      "execution_count": 3
    },
    {
      "cell_type": "markdown",
      "source": "Investigate the dataframe.",
      "metadata": {
        "collapsed": false
      }
    },
    {
      "cell_type": "code",
      "source": [],
      "metadata": {
        "collapsed": false,
        "ExecuteTime": {
          "end_time": "2025-03-14T09:05:36.132412Z",
          "start_time": "2025-03-14T09:05:35.319428Z"
        }
      },
      "outputs": [],
      "execution_count": 4
    },
    {
      "metadata": {},
      "cell_type": "markdown",
      "source": "Delete columns 1 and 2 as they do not contain any relevant information. Use the ``drop()`` function on the dataframe."
    },
    {
      "metadata": {
        "ExecuteTime": {
          "end_time": "2025-03-17T05:29:03.214620Z",
          "start_time": "2025-03-17T05:29:03.080449Z"
        }
      },
      "cell_type": "code",
      "source": [],
      "outputs": [],
      "execution_count": 4
    },
    {
      "metadata": {
        "collapsed": false
      },
      "cell_type": "markdown",
      "source": "Column 0 should be named \"domain\", column (with explicit index), 5 should be named \"resource\", 6 should be named \"response_code\", column 7 should be named response_length.Rename these columns in the dataframe by replacing log.columns with the correct names.\n"
    },
    {
      "metadata": {
        "ExecuteTime": {
          "end_time": "2025-03-17T05:29:05.424934Z",
          "start_time": "2025-03-17T05:29:05.420230Z"
        }
      },
      "cell_type": "code",
      "source": [],
      "outputs": [],
      "execution_count": 5
    },
    {
      "cell_type": "markdown",
      "source": "The \"response_length\" has the 'object' type but we expected it to be numerical. What is the reason? Try to solve the problem when reading the csv file.",
      "metadata": {
        "collapsed": false
      }
    },
    {
      "cell_type": "code",
      "source": [],
      "metadata": {
        "collapsed": false,
        "ExecuteTime": {
          "end_time": "2025-02-18T10:37:49.991747Z",
          "start_time": "2025-02-18T10:37:49.984499Z"
        }
      },
      "outputs": [],
      "execution_count": 58
    },
    {
      "cell_type": "markdown",
      "source": "In the previous question you had to replace '-' with NaN values. How many NaN values are in response_length?",
      "metadata": {
        "collapsed": false
      }
    },
    {
      "cell_type": "code",
      "source": [],
      "metadata": {
        "collapsed": false,
        "ExecuteTime": {
          "end_time": "2025-02-18T10:37:50.274442Z",
          "start_time": "2025-02-18T10:37:50.247856Z"
        }
      },
      "outputs": [],
      "execution_count": 59
    },
    {
      "cell_type": "markdown",
      "source": [
        "What percentage is that of all rows?"
      ],
      "metadata": {
        "collapsed": false
      }
    },
    {
      "cell_type": "code",
      "source": [],
      "metadata": {
        "collapsed": false,
        "ExecuteTime": {
          "end_time": "2025-02-18T10:37:50.650516Z",
          "start_time": "2025-02-18T10:37:50.631694Z"
        }
      },
      "outputs": [],
      "execution_count": 60
    },
    {
      "cell_type": "markdown",
      "source": "The timestamp is spread across columns 3 (date and time) and 4 (timezone). Combine these into one string. Place the result in a variable \"timestamp\" and drop the original columns.",
      "metadata": {
        "collapsed": false
      }
    },
    {
      "cell_type": "code",
      "source": [],
      "metadata": {
        "collapsed": false,
        "ExecuteTime": {
          "end_time": "2025-02-18T10:37:52.223882Z",
          "start_time": "2025-02-18T10:37:50.911837Z"
        }
      },
      "outputs": [],
      "execution_count": 61
    },
    {
      "cell_type": "markdown",
      "source": [
        "\n",
        "Remove the 'GET' and 'HTTP/1.0' that sometimes appear at the beginning and end of the \"resource\" column."
      ],
      "metadata": {
        "collapsed": false
      }
    },
    {
      "cell_type": "code",
      "metadata": {
        "ExecuteTime": {
          "end_time": "2025-02-18T10:37:58.309795Z",
          "start_time": "2025-02-18T10:37:52.268751Z"
        }
      },
      "source": [],
      "outputs": [],
      "execution_count": 62
    },
    {
      "cell_type": "markdown",
      "source": [
        "Remove all rows from your dataframe where a missing value occurs."
      ],
      "metadata": {
        "collapsed": false
      }
    },
    {
      "cell_type": "code",
      "source": [],
      "metadata": {
        "collapsed": false,
        "ExecuteTime": {
          "end_time": "2025-02-18T10:37:59.307899Z",
          "start_time": "2025-02-18T10:37:58.334723Z"
        }
      },
      "outputs": [],
      "execution_count": 63
    },
    {
      "cell_type": "markdown",
      "source": [
        "Find the row(s) with the largest response_length."
      ],
      "metadata": {
        "collapsed": false
      }
    },
    {
      "cell_type": "code",
      "source": [],
      "metadata": {
        "collapsed": false,
        "ExecuteTime": {
          "end_time": "2025-02-18T10:37:59.533847Z",
          "start_time": "2025-02-18T10:37:59.495328Z"
        }
      },
      "outputs": [],
      "execution_count": 64
    },
    {
      "cell_type": "markdown",
      "source": [
        "Save the result in a CSV file \"log_result.csv\". Use ',' as the separator and \".\" for decimal numbers."
      ],
      "metadata": {
        "collapsed": false
      }
    },
    {
      "cell_type": "code",
      "source": [],
      "metadata": {
        "collapsed": false,
        "ExecuteTime": {
          "end_time": "2025-02-18T10:38:19.405651Z",
          "start_time": "2025-02-18T10:37:59.977325Z"
        }
      },
      "outputs": [],
      "execution_count": 65
    },
    {
      "cell_type": "markdown",
      "source": [
        "Now, it is time to check that the solution also works for the full dataset \"UofS_access_log\". Perform the same steps as above. Mind that the file is 227Mb and processing can take a while, but should not take ages.\n",
        "When I ran the code with the full data set, it took about 1 minute.\\\n",
        "I also got a warning ``DtypeWarning: Columns (2) have mixed types.Specify dtype option on import or set low_memory=False.`` Pandas can only know the dtypes after reading the entire file. This is why it is recommended to set the dtype explicitly when reading the file. I added ``dtype={2: 'string'}`` to the read_csv function."
      ],
      "metadata": {
        "collapsed": false
      }
    },
    {
      "metadata": {},
      "cell_type": "markdown",
      "source": ""
    }
  ],
  "metadata": {
    "colab": {
      "name": "Opgaveboek - weblog - oplossingen.ipynb",
      "provenance": []
    },
    "kernelspec": {
      "display_name": "Python 3",
      "language": "python",
      "name": "python3"
    },
    "language_info": {
      "codemirror_mode": {
        "name": "ipython",
        "version": 3
      },
      "file_extension": ".py",
      "mimetype": "text/x-python",
      "name": "python",
      "nbconvert_exporter": "python",
      "pygments_lexer": "ipython3",
      "version": "3.8.7-final"
    }
  },
  "nbformat": 4,
  "nbformat_minor": 0
}