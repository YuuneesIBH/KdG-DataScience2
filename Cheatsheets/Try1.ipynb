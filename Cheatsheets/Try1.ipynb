{
 "cells": [
  {
   "cell_type": "markdown",
   "id": "f153c694ea2baed2",
   "metadata": {},
   "source": [
    "# Imports"
   ]
  },
  {
   "cell_type": "code",
   "execution_count": 39,
   "id": "5c346529ba1a0a2",
   "metadata": {
    "ExecuteTime": {
     "end_time": "2024-06-11T14:08:54.073552Z",
     "start_time": "2024-06-11T14:08:54.067837Z"
    }
   },
   "outputs": [],
   "source": [
    "import pandas as pd\n",
    "import numpy as np\n",
    "from IPython import InteractiveShell\n",
    "\n",
    "InteractiveShell.ast_node_interactivity = \"all\"\n",
    "from matplotlib import pyplot as plt\n",
    "from sklearn.discriminant_analysis import LinearDiscriminantAnalysis\n",
    "from sklearn.model_selection import train_test_split\n",
    "from sklearn.metrics import precision_score, recall_score, f1_score\n",
    "from sklearn.model_selection import validation_curve  \n",
    "from sklearn.pipeline import make_pipeline  \n",
    "from sklearn.linear_model import LinearRegression  \n",
    "from sklearn.preprocessing import PolynomialFeatures\n",
    "import sklearn.metrics as met\n",
    "from IPython.display import Image\n",
    "from tensorflow import keras\n",
    "from keras.src.layers import Input, Dense, BatchNormalization\n",
    "from keras import Model"
   ]
  },
  {
   "cell_type": "markdown",
   "id": "cc9feb21648cec97",
   "metadata": {},
   "source": [
    "# Eigen functies\n",
    "Als je zelfgemaakte functies gebruikt in je antwoorden plaats de functie zelf dan in de cel hieronder"
   ]
  },
  {
   "cell_type": "code",
   "execution_count": 42,
   "id": "7726809608d7665a",
   "metadata": {
    "ExecuteTime": {
     "end_time": "2024-06-11T14:08:54.088186Z",
     "start_time": "2024-06-11T14:08:54.074562Z"
    }
   },
   "outputs": [],
   "source": [
    "def lda_info(lda: LinearDiscriminantAnalysis, X, do_print: bool = False):\n",
    "    \"\"\"\n",
    "    Return or print the info of the given LDA.\n",
    "    :param lda: The linear discriminant analysis object.\n",
    "    :param X: The list of independent objects of the lda.\n",
    "    :param do_print: Print the output of the function instead of returning the output\n",
    "\n",
    "    :returns dfs1: The prior probabilities of groups.\n",
    "    :returns dfs2: The group means\n",
    "    :returns dfs3: The coefficients of linear discriminants\n",
    "    :returns dimensions: The dimensions of the lda\n",
    "    \"\"\"\n",
    "    df1 = pd.DataFrame(lda.priors_, index=lda.classes_, columns=['prior probabilities'])\n",
    "    df2 = pd.DataFrame(lda.means_, index=lda.classes_, columns=X.columns)\n",
    "    df3 = pd.DataFrame(lda.scalings_, index=X.columns,\n",
    "                       columns=['LD' + str(i + 1) for i in range(lda.scalings_.shape[1])])\n",
    "    dfs1 = df1.style.set_caption('Prior probabilities of groups')\n",
    "    dfs2 = df2.style.set_caption('Group means')\n",
    "    dfs3 = df3.style.set_caption('Coefficients of linear discriminants')\n",
    "    dimensions = min(X.columns.size, lda.classes_.size - 1)\n",
    "    if do_print:\n",
    "        display(dfs1)\n",
    "        display(dfs2)\n",
    "        display(dfs3)\n",
    "        print(f'The LD has {dimensions} dimension(s)')\n",
    "    return dfs1, dfs2, dfs3, dimensions\n",
    "\n",
    "def polynomial_regression(degree=2, **kwargs):  \n",
    "    model = make_pipeline(PolynomialFeatures(degree, include_bias=False), LinearRegression(**kwargs))  \n",
    "    return model\n",
    "\n",
    "def plot_roc(y_true, y_score, title='ROC Curve', **kwargs):\n",
    "    if 'pos_label' in kwargs:\n",
    "        fpr, tpr, thresholds = roc_curve(y_true=y_true, y_score=y_score, pos_label=kwargs.get('pos_label'))\n",
    "        auc = roc_auc_score(y_true, y_score)\n",
    "    else:\n",
    "        fpr, tpr, thresholds = roc_curve(y_true=y_true, y_score=y_score)\n",
    "        auc = roc_auc_score(y_true, y_score)\n",
    "    optimal_idx = np.argmax(tpr - fpr)\n",
    "    optimal_threshold = thresholds[optimal_idx]\n",
    "\n",
    "    figsize = kwargs.get('figsize', (7, 7))\n",
    "    fix, ax = plt.subplots(1, 1, figsize=figsize)\n",
    "    ax.grid(linestyle='--')\n",
    "\n",
    "    ax.plot(fpr, tpr, color='darkorange', label='AUC: {}'.format(auc))\n",
    "    ax.set_title(title)\n",
    "    ax.set_xlabel('False Positive Rate (FPR)')\n",
    "    ax.set_ylabel('True Positive Rate (FPR)')\n",
    "    ax.fill_between(fpr, tpr, alpha=0.3, color='darkorange', edgecolor='black')\n",
    "\n",
    "    ax.plot([0, 1], [0, 1], color='navy', lw=2, linestyle='--')\n",
    "\n",
    "    ax.scatter(fpr[optimal_idx], tpr[optimal_idx],\n",
    "               label='optimat cutoff {:.2f} op ({:.2f},{:.2f})'.format(optimal_threshold, fpr[optimal_idx],\n",
    "                                                                       tpr[optimal_idx]), color='red')\n",
    "    ax.plot([fpr[optimal_idx], fpr[optimal_idx]], [0, tpr[optimal_idx]], linestyle='--', color='red')\n",
    "    ax.plot([0, fpr[optimal_idx]], [tpr[optimal_idx], tpr[optimal_idx]], linestyle='--', color='red')\n",
    "    ax.legend(loc='lower right')\n",
    "    plt.show()"
   ]
  },
  {
   "cell_type": "markdown",
   "id": "876e0666fb0ab0d5",
   "metadata": {},
   "source": [
    "# Vraag 1 (1 punt)"
   ]
  },
  {
   "cell_type": "markdown",
   "id": "fbb7dc76f59a1b81",
   "metadata": {},
   "source": [
    "Iemand wil een LDA model maken om de *price_range* van een gsm te voorspellen. Hij gebruikt daarvoor 8 onafhankelijke variabelen. Hoeveel lineaire discriminant functies zal zijn model bevatten? *We vragen dus niet om een model te maken, maar enkel om het aantal lineaire discriminant functies te bepalen.*"
   ]
  },
  {
   "cell_type": "markdown",
   "id": "abd2fe41dc0459b7",
   "metadata": {},
   "source": [
    "## Antwoord\n",
    "\n",
    "Hiervoor ga ik in de csv zien naar de price range in de csv. Ik zie dat de price range de volgende waarden bevat --> 0 1 2 3 (4 klassen) hiermee doe ik de volgende berekening:\n",
    "\n",
    "K - 1 = 4 (klassen) - 1 = 3 lineaire discriminant functies bevatten"
   ]
  },
  {
   "cell_type": "markdown",
   "id": "7354f50137285d29",
   "metadata": {},
   "source": [
    "# Vraag 2\n",
    "## a. (1 punt) \n",
    "Maak nu zelf een LDA model waarbij je op basis van *battery_power*, *clock_speed*, *fc*, *int_memory*, *n_cores*, *pc*, *ram* en *talk_time* tracht te voorspellen of de prijs van de gsm in de hoogste klasse zit. De afhankelijke variabele is dus niet gewoon price_range maar heeft als waarde True indien *price_range* == 3."
   ]
  },
  {
   "cell_type": "code",
   "execution_count": 100,
   "id": "31043f05c0bfa5c4",
   "metadata": {
    "ExecuteTime": {
     "end_time": "2024-06-11T14:08:54.109020Z",
     "start_time": "2024-06-11T14:08:54.088186Z"
    }
   },
   "outputs": [
    {
     "data": {
      "text/html": [
       "<div>\n",
       "<style scoped>\n",
       "    .dataframe tbody tr th:only-of-type {\n",
       "        vertical-align: middle;\n",
       "    }\n",
       "\n",
       "    .dataframe tbody tr th {\n",
       "        vertical-align: top;\n",
       "    }\n",
       "\n",
       "    .dataframe thead th {\n",
       "        text-align: right;\n",
       "    }\n",
       "</style>\n",
       "<table border=\"1\" class=\"dataframe\">\n",
       "  <thead>\n",
       "    <tr style=\"text-align: right;\">\n",
       "      <th></th>\n",
       "      <th>Unnamed: 0.1</th>\n",
       "      <th>Unnamed: 0</th>\n",
       "      <th>battery_power</th>\n",
       "      <th>blue</th>\n",
       "      <th>clock_speed</th>\n",
       "      <th>dual_sim</th>\n",
       "      <th>fc</th>\n",
       "      <th>four_g</th>\n",
       "      <th>int_memory</th>\n",
       "      <th>m_dep</th>\n",
       "      <th>...</th>\n",
       "      <th>ram</th>\n",
       "      <th>sc_h</th>\n",
       "      <th>sc_w</th>\n",
       "      <th>talk_time</th>\n",
       "      <th>three_g</th>\n",
       "      <th>touch_screen</th>\n",
       "      <th>wifi</th>\n",
       "      <th>price_range</th>\n",
       "      <th>predicted_price_range</th>\n",
       "      <th>predicted_price_range_proba</th>\n",
       "    </tr>\n",
       "  </thead>\n",
       "  <tbody>\n",
       "    <tr>\n",
       "      <th>0</th>\n",
       "      <td>0</td>\n",
       "      <td>0</td>\n",
       "      <td>842</td>\n",
       "      <td>0</td>\n",
       "      <td>2.2</td>\n",
       "      <td>0</td>\n",
       "      <td>1</td>\n",
       "      <td>0</td>\n",
       "      <td>7</td>\n",
       "      <td>0.6</td>\n",
       "      <td>...</td>\n",
       "      <td>2549</td>\n",
       "      <td>9</td>\n",
       "      <td>7</td>\n",
       "      <td>19</td>\n",
       "      <td>0</td>\n",
       "      <td>0</td>\n",
       "      <td>1</td>\n",
       "      <td>1</td>\n",
       "      <td>2</td>\n",
       "      <td>0.228768</td>\n",
       "    </tr>\n",
       "    <tr>\n",
       "      <th>1</th>\n",
       "      <td>1</td>\n",
       "      <td>1</td>\n",
       "      <td>1021</td>\n",
       "      <td>1</td>\n",
       "      <td>0.5</td>\n",
       "      <td>1</td>\n",
       "      <td>0</td>\n",
       "      <td>1</td>\n",
       "      <td>53</td>\n",
       "      <td>0.7</td>\n",
       "      <td>...</td>\n",
       "      <td>2631</td>\n",
       "      <td>17</td>\n",
       "      <td>3</td>\n",
       "      <td>7</td>\n",
       "      <td>1</td>\n",
       "      <td>1</td>\n",
       "      <td>0</td>\n",
       "      <td>2</td>\n",
       "      <td>2</td>\n",
       "      <td>0.219890</td>\n",
       "    </tr>\n",
       "    <tr>\n",
       "      <th>2</th>\n",
       "      <td>2</td>\n",
       "      <td>2</td>\n",
       "      <td>563</td>\n",
       "      <td>1</td>\n",
       "      <td>0.5</td>\n",
       "      <td>1</td>\n",
       "      <td>2</td>\n",
       "      <td>1</td>\n",
       "      <td>41</td>\n",
       "      <td>0.9</td>\n",
       "      <td>...</td>\n",
       "      <td>2603</td>\n",
       "      <td>11</td>\n",
       "      <td>2</td>\n",
       "      <td>9</td>\n",
       "      <td>1</td>\n",
       "      <td>1</td>\n",
       "      <td>0</td>\n",
       "      <td>2</td>\n",
       "      <td>2</td>\n",
       "      <td>0.245067</td>\n",
       "    </tr>\n",
       "    <tr>\n",
       "      <th>3</th>\n",
       "      <td>3</td>\n",
       "      <td>3</td>\n",
       "      <td>615</td>\n",
       "      <td>1</td>\n",
       "      <td>2.5</td>\n",
       "      <td>0</td>\n",
       "      <td>0</td>\n",
       "      <td>0</td>\n",
       "      <td>10</td>\n",
       "      <td>0.8</td>\n",
       "      <td>...</td>\n",
       "      <td>2769</td>\n",
       "      <td>16</td>\n",
       "      <td>8</td>\n",
       "      <td>11</td>\n",
       "      <td>1</td>\n",
       "      <td>0</td>\n",
       "      <td>0</td>\n",
       "      <td>2</td>\n",
       "      <td>2</td>\n",
       "      <td>0.177855</td>\n",
       "    </tr>\n",
       "    <tr>\n",
       "      <th>4</th>\n",
       "      <td>4</td>\n",
       "      <td>4</td>\n",
       "      <td>1821</td>\n",
       "      <td>1</td>\n",
       "      <td>1.2</td>\n",
       "      <td>0</td>\n",
       "      <td>13</td>\n",
       "      <td>1</td>\n",
       "      <td>44</td>\n",
       "      <td>0.6</td>\n",
       "      <td>...</td>\n",
       "      <td>1411</td>\n",
       "      <td>8</td>\n",
       "      <td>2</td>\n",
       "      <td>15</td>\n",
       "      <td>1</td>\n",
       "      <td>1</td>\n",
       "      <td>0</td>\n",
       "      <td>1</td>\n",
       "      <td>1</td>\n",
       "      <td>0.400540</td>\n",
       "    </tr>\n",
       "    <tr>\n",
       "      <th>...</th>\n",
       "      <td>...</td>\n",
       "      <td>...</td>\n",
       "      <td>...</td>\n",
       "      <td>...</td>\n",
       "      <td>...</td>\n",
       "      <td>...</td>\n",
       "      <td>...</td>\n",
       "      <td>...</td>\n",
       "      <td>...</td>\n",
       "      <td>...</td>\n",
       "      <td>...</td>\n",
       "      <td>...</td>\n",
       "      <td>...</td>\n",
       "      <td>...</td>\n",
       "      <td>...</td>\n",
       "      <td>...</td>\n",
       "      <td>...</td>\n",
       "      <td>...</td>\n",
       "      <td>...</td>\n",
       "      <td>...</td>\n",
       "      <td>...</td>\n",
       "    </tr>\n",
       "    <tr>\n",
       "      <th>1995</th>\n",
       "      <td>1995</td>\n",
       "      <td>1995</td>\n",
       "      <td>794</td>\n",
       "      <td>1</td>\n",
       "      <td>0.5</td>\n",
       "      <td>1</td>\n",
       "      <td>0</td>\n",
       "      <td>1</td>\n",
       "      <td>2</td>\n",
       "      <td>0.8</td>\n",
       "      <td>...</td>\n",
       "      <td>668</td>\n",
       "      <td>13</td>\n",
       "      <td>4</td>\n",
       "      <td>19</td>\n",
       "      <td>1</td>\n",
       "      <td>1</td>\n",
       "      <td>0</td>\n",
       "      <td>0</td>\n",
       "      <td>0</td>\n",
       "      <td>0.471320</td>\n",
       "    </tr>\n",
       "    <tr>\n",
       "      <th>1996</th>\n",
       "      <td>1996</td>\n",
       "      <td>1996</td>\n",
       "      <td>1965</td>\n",
       "      <td>1</td>\n",
       "      <td>2.6</td>\n",
       "      <td>1</td>\n",
       "      <td>0</td>\n",
       "      <td>0</td>\n",
       "      <td>39</td>\n",
       "      <td>0.2</td>\n",
       "      <td>...</td>\n",
       "      <td>2032</td>\n",
       "      <td>11</td>\n",
       "      <td>10</td>\n",
       "      <td>16</td>\n",
       "      <td>1</td>\n",
       "      <td>1</td>\n",
       "      <td>1</td>\n",
       "      <td>2</td>\n",
       "      <td>2</td>\n",
       "      <td>0.207789</td>\n",
       "    </tr>\n",
       "    <tr>\n",
       "      <th>1997</th>\n",
       "      <td>1997</td>\n",
       "      <td>1997</td>\n",
       "      <td>1911</td>\n",
       "      <td>0</td>\n",
       "      <td>0.9</td>\n",
       "      <td>1</td>\n",
       "      <td>1</td>\n",
       "      <td>1</td>\n",
       "      <td>36</td>\n",
       "      <td>0.7</td>\n",
       "      <td>...</td>\n",
       "      <td>3057</td>\n",
       "      <td>9</td>\n",
       "      <td>1</td>\n",
       "      <td>5</td>\n",
       "      <td>1</td>\n",
       "      <td>1</td>\n",
       "      <td>0</td>\n",
       "      <td>3</td>\n",
       "      <td>3</td>\n",
       "      <td>0.127551</td>\n",
       "    </tr>\n",
       "    <tr>\n",
       "      <th>1998</th>\n",
       "      <td>1998</td>\n",
       "      <td>1998</td>\n",
       "      <td>1512</td>\n",
       "      <td>0</td>\n",
       "      <td>0.9</td>\n",
       "      <td>0</td>\n",
       "      <td>4</td>\n",
       "      <td>1</td>\n",
       "      <td>46</td>\n",
       "      <td>0.1</td>\n",
       "      <td>...</td>\n",
       "      <td>869</td>\n",
       "      <td>18</td>\n",
       "      <td>10</td>\n",
       "      <td>19</td>\n",
       "      <td>1</td>\n",
       "      <td>1</td>\n",
       "      <td>1</td>\n",
       "      <td>0</td>\n",
       "      <td>0</td>\n",
       "      <td>0.360317</td>\n",
       "    </tr>\n",
       "    <tr>\n",
       "      <th>1999</th>\n",
       "      <td>1999</td>\n",
       "      <td>1999</td>\n",
       "      <td>510</td>\n",
       "      <td>1</td>\n",
       "      <td>2.0</td>\n",
       "      <td>1</td>\n",
       "      <td>5</td>\n",
       "      <td>1</td>\n",
       "      <td>45</td>\n",
       "      <td>0.9</td>\n",
       "      <td>...</td>\n",
       "      <td>3919</td>\n",
       "      <td>19</td>\n",
       "      <td>4</td>\n",
       "      <td>2</td>\n",
       "      <td>1</td>\n",
       "      <td>1</td>\n",
       "      <td>1</td>\n",
       "      <td>3</td>\n",
       "      <td>3</td>\n",
       "      <td>0.102955</td>\n",
       "    </tr>\n",
       "  </tbody>\n",
       "</table>\n",
       "<p>2000 rows × 25 columns</p>\n",
       "</div>"
      ],
      "text/plain": [
       "      Unnamed: 0.1  Unnamed: 0  battery_power  blue  clock_speed  dual_sim  \\\n",
       "0                0           0            842     0          2.2         0   \n",
       "1                1           1           1021     1          0.5         1   \n",
       "2                2           2            563     1          0.5         1   \n",
       "3                3           3            615     1          2.5         0   \n",
       "4                4           4           1821     1          1.2         0   \n",
       "...            ...         ...            ...   ...          ...       ...   \n",
       "1995          1995        1995            794     1          0.5         1   \n",
       "1996          1996        1996           1965     1          2.6         1   \n",
       "1997          1997        1997           1911     0          0.9         1   \n",
       "1998          1998        1998           1512     0          0.9         0   \n",
       "1999          1999        1999            510     1          2.0         1   \n",
       "\n",
       "      fc  four_g  int_memory  m_dep  ...   ram  sc_h  sc_w  talk_time  \\\n",
       "0      1       0           7    0.6  ...  2549     9     7         19   \n",
       "1      0       1          53    0.7  ...  2631    17     3          7   \n",
       "2      2       1          41    0.9  ...  2603    11     2          9   \n",
       "3      0       0          10    0.8  ...  2769    16     8         11   \n",
       "4     13       1          44    0.6  ...  1411     8     2         15   \n",
       "...   ..     ...         ...    ...  ...   ...   ...   ...        ...   \n",
       "1995   0       1           2    0.8  ...   668    13     4         19   \n",
       "1996   0       0          39    0.2  ...  2032    11    10         16   \n",
       "1997   1       1          36    0.7  ...  3057     9     1          5   \n",
       "1998   4       1          46    0.1  ...   869    18    10         19   \n",
       "1999   5       1          45    0.9  ...  3919    19     4          2   \n",
       "\n",
       "      three_g  touch_screen  wifi  price_range  predicted_price_range  \\\n",
       "0           0             0     1            1                      2   \n",
       "1           1             1     0            2                      2   \n",
       "2           1             1     0            2                      2   \n",
       "3           1             0     0            2                      2   \n",
       "4           1             1     0            1                      1   \n",
       "...       ...           ...   ...          ...                    ...   \n",
       "1995        1             1     0            0                      0   \n",
       "1996        1             1     1            2                      2   \n",
       "1997        1             1     0            3                      3   \n",
       "1998        1             1     1            0                      0   \n",
       "1999        1             1     1            3                      3   \n",
       "\n",
       "      predicted_price_range_proba  \n",
       "0                        0.228768  \n",
       "1                        0.219890  \n",
       "2                        0.245067  \n",
       "3                        0.177855  \n",
       "4                        0.400540  \n",
       "...                           ...  \n",
       "1995                     0.471320  \n",
       "1996                     0.207789  \n",
       "1997                     0.127551  \n",
       "1998                     0.360317  \n",
       "1999                     0.102955  \n",
       "\n",
       "[2000 rows x 25 columns]"
      ]
     },
     "execution_count": 100,
     "metadata": {},
     "output_type": "execute_result"
    }
   ],
   "source": [
    "data = pd.read_csv('CellPhone_train.csv', sep=\",\")\n",
    "\n",
    "data"
   ]
  },
  {
   "cell_type": "code",
   "execution_count": 101,
   "id": "fafd63f2f9ef80be",
   "metadata": {
    "ExecuteTime": {
     "end_time": "2024-06-11T14:08:54.122995Z",
     "start_time": "2024-06-11T14:08:54.110028Z"
    }
   },
   "outputs": [],
   "source": [
    "X = data[['battery_power', 'clock_speed', 'fc', 'int_memory', 'n_cores', 'pc', 'ram', 'talk_time']]\n",
    "\n",
    "y = (data['price_range'] == 3).astype(int)\n",
    "\n",
    "X_train, X_test, y_train, y_test = train_test_split(X, y, train_size=0.8, shuffle=True)\n"
   ]
  },
  {
   "cell_type": "code",
   "execution_count": 102,
   "id": "77e2f853a6c86f10",
   "metadata": {
    "ExecuteTime": {
     "end_time": "2024-06-11T14:08:54.136521Z",
     "start_time": "2024-06-11T14:08:54.122995Z"
    }
   },
   "outputs": [
    {
     "data": {
      "text/html": [
       "<style>#sk-container-id-7 {\n",
       "  /* Definition of color scheme common for light and dark mode */\n",
       "  --sklearn-color-text: black;\n",
       "  --sklearn-color-line: gray;\n",
       "  /* Definition of color scheme for unfitted estimators */\n",
       "  --sklearn-color-unfitted-level-0: #fff5e6;\n",
       "  --sklearn-color-unfitted-level-1: #f6e4d2;\n",
       "  --sklearn-color-unfitted-level-2: #ffe0b3;\n",
       "  --sklearn-color-unfitted-level-3: chocolate;\n",
       "  /* Definition of color scheme for fitted estimators */\n",
       "  --sklearn-color-fitted-level-0: #f0f8ff;\n",
       "  --sklearn-color-fitted-level-1: #d4ebff;\n",
       "  --sklearn-color-fitted-level-2: #b3dbfd;\n",
       "  --sklearn-color-fitted-level-3: cornflowerblue;\n",
       "\n",
       "  /* Specific color for light theme */\n",
       "  --sklearn-color-text-on-default-background: var(--sg-text-color, var(--theme-code-foreground, var(--jp-content-font-color1, black)));\n",
       "  --sklearn-color-background: var(--sg-background-color, var(--theme-background, var(--jp-layout-color0, white)));\n",
       "  --sklearn-color-border-box: var(--sg-text-color, var(--theme-code-foreground, var(--jp-content-font-color1, black)));\n",
       "  --sklearn-color-icon: #696969;\n",
       "\n",
       "  @media (prefers-color-scheme: dark) {\n",
       "    /* Redefinition of color scheme for dark theme */\n",
       "    --sklearn-color-text-on-default-background: var(--sg-text-color, var(--theme-code-foreground, var(--jp-content-font-color1, white)));\n",
       "    --sklearn-color-background: var(--sg-background-color, var(--theme-background, var(--jp-layout-color0, #111)));\n",
       "    --sklearn-color-border-box: var(--sg-text-color, var(--theme-code-foreground, var(--jp-content-font-color1, white)));\n",
       "    --sklearn-color-icon: #878787;\n",
       "  }\n",
       "}\n",
       "\n",
       "#sk-container-id-7 {\n",
       "  color: var(--sklearn-color-text);\n",
       "}\n",
       "\n",
       "#sk-container-id-7 pre {\n",
       "  padding: 0;\n",
       "}\n",
       "\n",
       "#sk-container-id-7 input.sk-hidden--visually {\n",
       "  border: 0;\n",
       "  clip: rect(1px 1px 1px 1px);\n",
       "  clip: rect(1px, 1px, 1px, 1px);\n",
       "  height: 1px;\n",
       "  margin: -1px;\n",
       "  overflow: hidden;\n",
       "  padding: 0;\n",
       "  position: absolute;\n",
       "  width: 1px;\n",
       "}\n",
       "\n",
       "#sk-container-id-7 div.sk-dashed-wrapped {\n",
       "  border: 1px dashed var(--sklearn-color-line);\n",
       "  margin: 0 0.4em 0.5em 0.4em;\n",
       "  box-sizing: border-box;\n",
       "  padding-bottom: 0.4em;\n",
       "  background-color: var(--sklearn-color-background);\n",
       "}\n",
       "\n",
       "#sk-container-id-7 div.sk-container {\n",
       "  /* jupyter's `normalize.less` sets `[hidden] { display: none; }`\n",
       "     but bootstrap.min.css set `[hidden] { display: none !important; }`\n",
       "     so we also need the `!important` here to be able to override the\n",
       "     default hidden behavior on the sphinx rendered scikit-learn.org.\n",
       "     See: https://github.com/scikit-learn/scikit-learn/issues/21755 */\n",
       "  display: inline-block !important;\n",
       "  position: relative;\n",
       "}\n",
       "\n",
       "#sk-container-id-7 div.sk-text-repr-fallback {\n",
       "  display: none;\n",
       "}\n",
       "\n",
       "div.sk-parallel-item,\n",
       "div.sk-serial,\n",
       "div.sk-item {\n",
       "  /* draw centered vertical line to link estimators */\n",
       "  background-image: linear-gradient(var(--sklearn-color-text-on-default-background), var(--sklearn-color-text-on-default-background));\n",
       "  background-size: 2px 100%;\n",
       "  background-repeat: no-repeat;\n",
       "  background-position: center center;\n",
       "}\n",
       "\n",
       "/* Parallel-specific style estimator block */\n",
       "\n",
       "#sk-container-id-7 div.sk-parallel-item::after {\n",
       "  content: \"\";\n",
       "  width: 100%;\n",
       "  border-bottom: 2px solid var(--sklearn-color-text-on-default-background);\n",
       "  flex-grow: 1;\n",
       "}\n",
       "\n",
       "#sk-container-id-7 div.sk-parallel {\n",
       "  display: flex;\n",
       "  align-items: stretch;\n",
       "  justify-content: center;\n",
       "  background-color: var(--sklearn-color-background);\n",
       "  position: relative;\n",
       "}\n",
       "\n",
       "#sk-container-id-7 div.sk-parallel-item {\n",
       "  display: flex;\n",
       "  flex-direction: column;\n",
       "}\n",
       "\n",
       "#sk-container-id-7 div.sk-parallel-item:first-child::after {\n",
       "  align-self: flex-end;\n",
       "  width: 50%;\n",
       "}\n",
       "\n",
       "#sk-container-id-7 div.sk-parallel-item:last-child::after {\n",
       "  align-self: flex-start;\n",
       "  width: 50%;\n",
       "}\n",
       "\n",
       "#sk-container-id-7 div.sk-parallel-item:only-child::after {\n",
       "  width: 0;\n",
       "}\n",
       "\n",
       "/* Serial-specific style estimator block */\n",
       "\n",
       "#sk-container-id-7 div.sk-serial {\n",
       "  display: flex;\n",
       "  flex-direction: column;\n",
       "  align-items: center;\n",
       "  background-color: var(--sklearn-color-background);\n",
       "  padding-right: 1em;\n",
       "  padding-left: 1em;\n",
       "}\n",
       "\n",
       "\n",
       "/* Toggleable style: style used for estimator/Pipeline/ColumnTransformer box that is\n",
       "clickable and can be expanded/collapsed.\n",
       "- Pipeline and ColumnTransformer use this feature and define the default style\n",
       "- Estimators will overwrite some part of the style using the `sk-estimator` class\n",
       "*/\n",
       "\n",
       "/* Pipeline and ColumnTransformer style (default) */\n",
       "\n",
       "#sk-container-id-7 div.sk-toggleable {\n",
       "  /* Default theme specific background. It is overwritten whether we have a\n",
       "  specific estimator or a Pipeline/ColumnTransformer */\n",
       "  background-color: var(--sklearn-color-background);\n",
       "}\n",
       "\n",
       "/* Toggleable label */\n",
       "#sk-container-id-7 label.sk-toggleable__label {\n",
       "  cursor: pointer;\n",
       "  display: block;\n",
       "  width: 100%;\n",
       "  margin-bottom: 0;\n",
       "  padding: 0.5em;\n",
       "  box-sizing: border-box;\n",
       "  text-align: center;\n",
       "}\n",
       "\n",
       "#sk-container-id-7 label.sk-toggleable__label-arrow:before {\n",
       "  /* Arrow on the left of the label */\n",
       "  content: \"▸\";\n",
       "  float: left;\n",
       "  margin-right: 0.25em;\n",
       "  color: var(--sklearn-color-icon);\n",
       "}\n",
       "\n",
       "#sk-container-id-7 label.sk-toggleable__label-arrow:hover:before {\n",
       "  color: var(--sklearn-color-text);\n",
       "}\n",
       "\n",
       "/* Toggleable content - dropdown */\n",
       "\n",
       "#sk-container-id-7 div.sk-toggleable__content {\n",
       "  max-height: 0;\n",
       "  max-width: 0;\n",
       "  overflow: hidden;\n",
       "  text-align: left;\n",
       "  /* unfitted */\n",
       "  background-color: var(--sklearn-color-unfitted-level-0);\n",
       "}\n",
       "\n",
       "#sk-container-id-7 div.sk-toggleable__content.fitted {\n",
       "  /* fitted */\n",
       "  background-color: var(--sklearn-color-fitted-level-0);\n",
       "}\n",
       "\n",
       "#sk-container-id-7 div.sk-toggleable__content pre {\n",
       "  margin: 0.2em;\n",
       "  border-radius: 0.25em;\n",
       "  color: var(--sklearn-color-text);\n",
       "  /* unfitted */\n",
       "  background-color: var(--sklearn-color-unfitted-level-0);\n",
       "}\n",
       "\n",
       "#sk-container-id-7 div.sk-toggleable__content.fitted pre {\n",
       "  /* unfitted */\n",
       "  background-color: var(--sklearn-color-fitted-level-0);\n",
       "}\n",
       "\n",
       "#sk-container-id-7 input.sk-toggleable__control:checked~div.sk-toggleable__content {\n",
       "  /* Expand drop-down */\n",
       "  max-height: 200px;\n",
       "  max-width: 100%;\n",
       "  overflow: auto;\n",
       "}\n",
       "\n",
       "#sk-container-id-7 input.sk-toggleable__control:checked~label.sk-toggleable__label-arrow:before {\n",
       "  content: \"▾\";\n",
       "}\n",
       "\n",
       "/* Pipeline/ColumnTransformer-specific style */\n",
       "\n",
       "#sk-container-id-7 div.sk-label input.sk-toggleable__control:checked~label.sk-toggleable__label {\n",
       "  color: var(--sklearn-color-text);\n",
       "  background-color: var(--sklearn-color-unfitted-level-2);\n",
       "}\n",
       "\n",
       "#sk-container-id-7 div.sk-label.fitted input.sk-toggleable__control:checked~label.sk-toggleable__label {\n",
       "  background-color: var(--sklearn-color-fitted-level-2);\n",
       "}\n",
       "\n",
       "/* Estimator-specific style */\n",
       "\n",
       "/* Colorize estimator box */\n",
       "#sk-container-id-7 div.sk-estimator input.sk-toggleable__control:checked~label.sk-toggleable__label {\n",
       "  /* unfitted */\n",
       "  background-color: var(--sklearn-color-unfitted-level-2);\n",
       "}\n",
       "\n",
       "#sk-container-id-7 div.sk-estimator.fitted input.sk-toggleable__control:checked~label.sk-toggleable__label {\n",
       "  /* fitted */\n",
       "  background-color: var(--sklearn-color-fitted-level-2);\n",
       "}\n",
       "\n",
       "#sk-container-id-7 div.sk-label label.sk-toggleable__label,\n",
       "#sk-container-id-7 div.sk-label label {\n",
       "  /* The background is the default theme color */\n",
       "  color: var(--sklearn-color-text-on-default-background);\n",
       "}\n",
       "\n",
       "/* On hover, darken the color of the background */\n",
       "#sk-container-id-7 div.sk-label:hover label.sk-toggleable__label {\n",
       "  color: var(--sklearn-color-text);\n",
       "  background-color: var(--sklearn-color-unfitted-level-2);\n",
       "}\n",
       "\n",
       "/* Label box, darken color on hover, fitted */\n",
       "#sk-container-id-7 div.sk-label.fitted:hover label.sk-toggleable__label.fitted {\n",
       "  color: var(--sklearn-color-text);\n",
       "  background-color: var(--sklearn-color-fitted-level-2);\n",
       "}\n",
       "\n",
       "/* Estimator label */\n",
       "\n",
       "#sk-container-id-7 div.sk-label label {\n",
       "  font-family: monospace;\n",
       "  font-weight: bold;\n",
       "  display: inline-block;\n",
       "  line-height: 1.2em;\n",
       "}\n",
       "\n",
       "#sk-container-id-7 div.sk-label-container {\n",
       "  text-align: center;\n",
       "}\n",
       "\n",
       "/* Estimator-specific */\n",
       "#sk-container-id-7 div.sk-estimator {\n",
       "  font-family: monospace;\n",
       "  border: 1px dotted var(--sklearn-color-border-box);\n",
       "  border-radius: 0.25em;\n",
       "  box-sizing: border-box;\n",
       "  margin-bottom: 0.5em;\n",
       "  /* unfitted */\n",
       "  background-color: var(--sklearn-color-unfitted-level-0);\n",
       "}\n",
       "\n",
       "#sk-container-id-7 div.sk-estimator.fitted {\n",
       "  /* fitted */\n",
       "  background-color: var(--sklearn-color-fitted-level-0);\n",
       "}\n",
       "\n",
       "/* on hover */\n",
       "#sk-container-id-7 div.sk-estimator:hover {\n",
       "  /* unfitted */\n",
       "  background-color: var(--sklearn-color-unfitted-level-2);\n",
       "}\n",
       "\n",
       "#sk-container-id-7 div.sk-estimator.fitted:hover {\n",
       "  /* fitted */\n",
       "  background-color: var(--sklearn-color-fitted-level-2);\n",
       "}\n",
       "\n",
       "/* Specification for estimator info (e.g. \"i\" and \"?\") */\n",
       "\n",
       "/* Common style for \"i\" and \"?\" */\n",
       "\n",
       ".sk-estimator-doc-link,\n",
       "a:link.sk-estimator-doc-link,\n",
       "a:visited.sk-estimator-doc-link {\n",
       "  float: right;\n",
       "  font-size: smaller;\n",
       "  line-height: 1em;\n",
       "  font-family: monospace;\n",
       "  background-color: var(--sklearn-color-background);\n",
       "  border-radius: 1em;\n",
       "  height: 1em;\n",
       "  width: 1em;\n",
       "  text-decoration: none !important;\n",
       "  margin-left: 1ex;\n",
       "  /* unfitted */\n",
       "  border: var(--sklearn-color-unfitted-level-1) 1pt solid;\n",
       "  color: var(--sklearn-color-unfitted-level-1);\n",
       "}\n",
       "\n",
       ".sk-estimator-doc-link.fitted,\n",
       "a:link.sk-estimator-doc-link.fitted,\n",
       "a:visited.sk-estimator-doc-link.fitted {\n",
       "  /* fitted */\n",
       "  border: var(--sklearn-color-fitted-level-1) 1pt solid;\n",
       "  color: var(--sklearn-color-fitted-level-1);\n",
       "}\n",
       "\n",
       "/* On hover */\n",
       "div.sk-estimator:hover .sk-estimator-doc-link:hover,\n",
       ".sk-estimator-doc-link:hover,\n",
       "div.sk-label-container:hover .sk-estimator-doc-link:hover,\n",
       ".sk-estimator-doc-link:hover {\n",
       "  /* unfitted */\n",
       "  background-color: var(--sklearn-color-unfitted-level-3);\n",
       "  color: var(--sklearn-color-background);\n",
       "  text-decoration: none;\n",
       "}\n",
       "\n",
       "div.sk-estimator.fitted:hover .sk-estimator-doc-link.fitted:hover,\n",
       ".sk-estimator-doc-link.fitted:hover,\n",
       "div.sk-label-container:hover .sk-estimator-doc-link.fitted:hover,\n",
       ".sk-estimator-doc-link.fitted:hover {\n",
       "  /* fitted */\n",
       "  background-color: var(--sklearn-color-fitted-level-3);\n",
       "  color: var(--sklearn-color-background);\n",
       "  text-decoration: none;\n",
       "}\n",
       "\n",
       "/* Span, style for the box shown on hovering the info icon */\n",
       ".sk-estimator-doc-link span {\n",
       "  display: none;\n",
       "  z-index: 9999;\n",
       "  position: relative;\n",
       "  font-weight: normal;\n",
       "  right: .2ex;\n",
       "  padding: .5ex;\n",
       "  margin: .5ex;\n",
       "  width: min-content;\n",
       "  min-width: 20ex;\n",
       "  max-width: 50ex;\n",
       "  color: var(--sklearn-color-text);\n",
       "  box-shadow: 2pt 2pt 4pt #999;\n",
       "  /* unfitted */\n",
       "  background: var(--sklearn-color-unfitted-level-0);\n",
       "  border: .5pt solid var(--sklearn-color-unfitted-level-3);\n",
       "}\n",
       "\n",
       ".sk-estimator-doc-link.fitted span {\n",
       "  /* fitted */\n",
       "  background: var(--sklearn-color-fitted-level-0);\n",
       "  border: var(--sklearn-color-fitted-level-3);\n",
       "}\n",
       "\n",
       ".sk-estimator-doc-link:hover span {\n",
       "  display: block;\n",
       "}\n",
       "\n",
       "/* \"?\"-specific style due to the `<a>` HTML tag */\n",
       "\n",
       "#sk-container-id-7 a.estimator_doc_link {\n",
       "  float: right;\n",
       "  font-size: 1rem;\n",
       "  line-height: 1em;\n",
       "  font-family: monospace;\n",
       "  background-color: var(--sklearn-color-background);\n",
       "  border-radius: 1rem;\n",
       "  height: 1rem;\n",
       "  width: 1rem;\n",
       "  text-decoration: none;\n",
       "  /* unfitted */\n",
       "  color: var(--sklearn-color-unfitted-level-1);\n",
       "  border: var(--sklearn-color-unfitted-level-1) 1pt solid;\n",
       "}\n",
       "\n",
       "#sk-container-id-7 a.estimator_doc_link.fitted {\n",
       "  /* fitted */\n",
       "  border: var(--sklearn-color-fitted-level-1) 1pt solid;\n",
       "  color: var(--sklearn-color-fitted-level-1);\n",
       "}\n",
       "\n",
       "/* On hover */\n",
       "#sk-container-id-7 a.estimator_doc_link:hover {\n",
       "  /* unfitted */\n",
       "  background-color: var(--sklearn-color-unfitted-level-3);\n",
       "  color: var(--sklearn-color-background);\n",
       "  text-decoration: none;\n",
       "}\n",
       "\n",
       "#sk-container-id-7 a.estimator_doc_link.fitted:hover {\n",
       "  /* fitted */\n",
       "  background-color: var(--sklearn-color-fitted-level-3);\n",
       "}\n",
       "</style><div id=\"sk-container-id-7\" class=\"sk-top-container\"><div class=\"sk-text-repr-fallback\"><pre>LinearDiscriminantAnalysis()</pre><b>In a Jupyter environment, please rerun this cell to show the HTML representation or trust the notebook. <br />On GitHub, the HTML representation is unable to render, please try loading this page with nbviewer.org.</b></div><div class=\"sk-container\" hidden><div class=\"sk-item\"><div class=\"sk-estimator fitted sk-toggleable\"><input class=\"sk-toggleable__control sk-hidden--visually\" id=\"sk-estimator-id-7\" type=\"checkbox\" checked><label for=\"sk-estimator-id-7\" class=\"sk-toggleable__label fitted sk-toggleable__label-arrow fitted\">&nbsp;&nbsp;LinearDiscriminantAnalysis<a class=\"sk-estimator-doc-link fitted\" rel=\"noreferrer\" target=\"_blank\" href=\"https://scikit-learn.org/1.5/modules/generated/sklearn.discriminant_analysis.LinearDiscriminantAnalysis.html\">?<span>Documentation for LinearDiscriminantAnalysis</span></a><span class=\"sk-estimator-doc-link fitted\">i<span>Fitted</span></span></label><div class=\"sk-toggleable__content fitted\"><pre>LinearDiscriminantAnalysis()</pre></div> </div></div></div></div>"
      ],
      "text/plain": [
       "LinearDiscriminantAnalysis()"
      ]
     },
     "execution_count": 102,
     "metadata": {},
     "output_type": "execute_result"
    }
   ],
   "source": [
    "lda = LinearDiscriminantAnalysis()\n",
    "\n",
    "lda.fit(X_train, y_train)"
   ]
  },
  {
   "cell_type": "markdown",
   "id": "cf5c2bd2594dc249",
   "metadata": {},
   "source": [
    "### b. (1 punt)\n",
    "Wat zijn de coëfficiënten van de eerste discriminant functie? "
   ]
  },
  {
   "cell_type": "code",
   "execution_count": 111,
   "id": "f03bb7885891fae",
   "metadata": {
    "ExecuteTime": {
     "end_time": "2024-06-11T14:08:54.150090Z",
     "start_time": "2024-06-11T14:08:54.136521Z"
    }
   },
   "outputs": [
    {
     "name": "stdout",
     "output_type": "stream",
     "text": [
      "battery_power    0.000855\n",
      "clock_speed     -0.015213\n",
      "fc              -0.010454\n",
      "int_memory       0.004280\n",
      "n_cores         -0.001439\n",
      "pc               0.003935\n",
      "ram              0.001301\n",
      "talk_time       -0.003131\n",
      "dtype: float64\n"
     ]
    }
   ],
   "source": [
    "# 3. LDA trainen op volledige dataset\n",
    "lda = LinearDiscriminantAnalysis().fit(X, y)\n",
    "\n",
    "# 4. Coëfficiënten van de eerste discriminantfunctie (LD1)\n",
    "coef_ld1 = pd.Series(lda.scalings_[:, 0], index=X.columns)\n",
    "print(coef_ld1)  # dit geeft exact dezelfde waarden als 'Coefficients of linear discriminants' in jouw helper"
   ]
  },
  {
   "cell_type": "markdown",
   "id": "adf3e18d21a053f4",
   "metadata": {},
   "source": [
    "De coëfficiënten van de eerste LDA zijn:\n",
    "- 0.000855\n",
    "- -0.015213\n",
    "- -0.015213\n",
    "- -0.010454\n",
    "- 0.004280\n",
    "- -0.001439\n",
    "- 0.003935\n",
    "- 0.001301\n",
    "- -0.003131"
   ]
  },
  {
   "cell_type": "code",
   "execution_count": 110,
   "id": "d270561f",
   "metadata": {},
   "outputs": [
    {
     "name": "stdout",
     "output_type": "stream",
     "text": [
      "battery_power    0.000855\n",
      "clock_speed     -0.015213\n",
      "fc              -0.010454\n",
      "int_memory       0.004280\n",
      "n_cores         -0.001439\n",
      "pc               0.003935\n",
      "ram              0.001301\n",
      "talk_time       -0.003131\n",
      "dtype: float64\n"
     ]
    }
   ],
   "source": [
    "import pandas as pd\n",
    "from sklearn.discriminant_analysis import LinearDiscriminantAnalysis\n",
    "\n",
    "# 1. Data inlezen\n",
    "data = pd.read_csv('CellPhone_train.csv', sep=',')\n",
    "\n",
    "# 2. Features en binaire target\n",
    "X = data[['battery_power','clock_speed','fc','int_memory',\n",
    "          'n_cores','pc','ram','talk_time']]\n",
    "y = (data['price_range']==3).astype(int)\n",
    "\n",
    "# 3. LDA trainen op volledige dataset\n",
    "lda = LinearDiscriminantAnalysis().fit(X, y)\n",
    "\n",
    "# 4. Coëfficiënten van de eerste discriminantfunctie (LD1)\n",
    "coef_ld1 = pd.Series(lda.scalings_[:, 0], index=X.columns)\n",
    "print(coef_ld1)  # dit geeft exact dezelfde waarden als 'Coefficients of linear discriminants' in jouw helper\n",
    "\n",
    "# 5. (optioneel) Helper functie aanroepen als je 'lda_info' al hebt uitgevoerd\n",
    "# lda_info(lda, X, do_print=True)\n"
   ]
  },
  {
   "cell_type": "markdown",
   "id": "a5920c718258cbf1",
   "metadata": {},
   "source": [
    "# Vraag 3\n",
    "In de kolom *predicted_price_range* vind je de voorspelde *price_range* waarden van een AI model (waarover we verder niet in detail gaan)."
   ]
  },
  {
   "cell_type": "markdown",
   "id": "108d7640010d6d8e",
   "metadata": {},
   "source": [
    "## a. (1,5 punten)\n",
    "Bereken *precision*, *recall*, en *F1-score* voor elke klasse."
   ]
  },
  {
   "cell_type": "code",
   "execution_count": 32,
   "id": "25da85bebc9bbaf",
   "metadata": {
    "ExecuteTime": {
     "end_time": "2024-06-11T14:08:54.162386Z",
     "start_time": "2024-06-11T14:08:54.151810Z"
    }
   },
   "outputs": [
    {
     "name": "stdout",
     "output_type": "stream",
     "text": [
      "Precision = 0.819\n",
      "Recall    = 0.820\n",
      "F1-score  = 0.819\n"
     ]
    }
   ],
   "source": [
    "from sklearn.metrics import precision_score, recall_score, f1_score, classification_report\n",
    "\n",
    "y = data['price_range'].astype(int)\n",
    "y_pred_price = data['predicted_price_range'].astype(int)\n",
    "\n",
    "prec = precision_score(y_true=y, y_pred=y_pred_price, average='weighted')\n",
    "rec  = recall_score(   y_true=y, y_pred=y_pred_price, average='weighted')\n",
    "f1   = f1_score(       y_true=y, y_pred=y_pred_price, average='weighted')\n",
    "\n",
    "print(f\"Precision = {prec:.3f}\")\n",
    "print(f\"Recall    = {rec:.3f}\")\n",
    "print(f\"F1-score  = {f1:.3f}\")\n"
   ]
  },
  {
   "cell_type": "markdown",
   "id": "621880d4efee63c7",
   "metadata": {},
   "source": [
    "- Precision:\n",
    "    - 0: 0.90\n",
    "    - 1: 0.76\n",
    "    - 2: 0.74\n",
    "    - 3: 0.87\n",
    "- Recall:\n",
    "    - 0: 0.92\n",
    "    - 1: 0.76\n",
    "    - 2: 0.72\n",
    "    - 3: 0.88\n",
    "- F1-score:\n",
    "    - 0: 0.91\n",
    "    - 1: 0.77\n",
    "    - 2: 0.73\n",
    "    - 3: 0.87"
   ]
  },
  {
   "cell_type": "markdown",
   "id": "4ab5b6669389227f",
   "metadata": {},
   "source": [
    "## b. (1,5 punten)\n",
    "Voor welke klasse is het model het best in staat een voorspelling te doen? Op basis van welke informatie heb je dit beslist?"
   ]
  },
  {
   "cell_type": "markdown",
   "id": "b72ad8d8d58443ca",
   "metadata": {},
   "source": [
    "Voor klasse 0 en dit weet ik omdat zowel de prec, recall en f1 het hoogte liggen bij de metingen.\n",
    "\n",
    "Precision = TP / (TP + FP): “Hoeveel van mijn positieve voorspellingen waren écht positief?”\n",
    "Recall = TP / (TP + FN): “Hoeveel van de echte positieven heb ik gevonden?”\n",
    "F1-score = 2 · (precision × recall) / (precision + recall): harmonische mean van precision en recall."
   ]
  },
  {
   "cell_type": "markdown",
   "id": "cb3379af5906640b",
   "metadata": {},
   "source": [
    "# Vraag 4"
   ]
  },
  {
   "cell_type": "markdown",
   "id": "dd726100c7ac5cd2",
   "metadata": {},
   "source": [
    "## a. (1 punt)\n",
    "In een ander getraind AI-model hebben we onze focus gelegd op de gsm's in de middelste prijsklasse. We trachten in dit model te voorspellen of een gsm al dan niet in de prijsklasse 1 zit. De werkelijke waarde van de afhankelijke variabele is met andere woorden *price_range* == 1.\n",
    "\n",
    "In de kolom *predicted_price_range_proba* vind je de voorspelde kansen dat een gsm in die middelste prijsklasse zit volgens het model.\n",
    "\n",
    "Gebruik deze kolom om op basis van deze voorspelde kansen een ROC curve te tekenen. Wat is de AUC? \n",
    "\n",
    "de ROC‐curve laat je zien bij welke drempels je classifier een goede balans vindt tussen het vinden van positieve gevallen (TPR) en het vermijden van valse alarmen (FPR). De AUC geeft in één getal aan hoe goed dat in het algemeen lukt."
   ]
  },
  {
   "cell_type": "code",
   "execution_count": 45,
   "id": "aecf49780a52aa45",
   "metadata": {
    "ExecuteTime": {
     "end_time": "2024-06-11T14:08:54.330071Z",
     "start_time": "2024-06-11T14:08:54.176409Z"
    }
   },
   "outputs": [
    {
     "data": {
      "text/plain": [
       "[<matplotlib.lines.Line2D at 0x3342b34c0>]"
      ]
     },
     "execution_count": 45,
     "metadata": {},
     "output_type": "execute_result"
    },
    {
     "data": {
      "text/plain": [
       "[<matplotlib.lines.Line2D at 0x3342b3850>]"
      ]
     },
     "execution_count": 45,
     "metadata": {},
     "output_type": "execute_result"
    },
    {
     "data": {
      "text/plain": [
       "Text(0.5, 0, 'False Positive Rate')"
      ]
     },
     "execution_count": 45,
     "metadata": {},
     "output_type": "execute_result"
    },
    {
     "data": {
      "text/plain": [
       "Text(0, 0.5, 'True Positive Rate')"
      ]
     },
     "execution_count": 45,
     "metadata": {},
     "output_type": "execute_result"
    },
    {
     "data": {
      "text/plain": [
       "Text(0.5, 1.0, 'ROC curve')"
      ]
     },
     "execution_count": 45,
     "metadata": {},
     "output_type": "execute_result"
    },
    {
     "data": {
      "text/plain": [
       "<matplotlib.legend.Legend at 0x3342b3640>"
      ]
     },
     "execution_count": 45,
     "metadata": {},
     "output_type": "execute_result"
    },
    {
     "data": {
      "image/png": "[encoded data removed]",
      "text/plain": [
       "<Figure size 640x480 with 1 Axes>"
      ]
     },
     "metadata": {},
     "output_type": "display_data"
    }
   ],
   "source": [
    "from sklearn.metrics import roc_curve, roc_auc_score\n",
    "\n",
    "y_true  = (data['price_range']==1).astype(int)\n",
    "y_score = data['predicted_price_range_proba']\n",
    "\n",
    "# 3) bereken FPR, TPR en AUC\n",
    "fpr, tpr, thresholds = roc_curve(y_true, y_score)\n",
    "auc_val = roc_auc_score(y_true, y_score)\n",
    "\n",
    "# 4) plotten\n",
    "plt.plot(fpr, tpr, label=f'AUC = {auc_val:.3f}')\n",
    "plt.plot([0,1],[0,1],'k--')\n",
    "plt.xlabel('False Positive Rate')\n",
    "plt.ylabel('True Positive Rate')\n",
    "plt.title('ROC curve')\n",
    "plt.legend()\n",
    "plt.show()"
   ]
  },
  {
   "cell_type": "markdown",
   "id": "1e817c1d97af2c95",
   "metadata": {},
   "source": [
    "## b. (1 punt)\n",
    "Wat is het optimal cutoff point voor deze ROC curve? Wat wil dit zeggen? "
   ]
  },
  {
   "cell_type": "code",
   "execution_count": 47,
   "id": "d7d5799e",
   "metadata": {},
   "outputs": [
    {
     "name": "stdout",
     "output_type": "stream",
     "text": [
      "Optimal cutoff = 0.205  (TPR=0.904, FPR=0.474, J=0.430)\n"
     ]
    }
   ],
   "source": [
    "from sklearn.metrics import roc_curve, roc_auc_score\n",
    "\n",
    "# stel y_true en y_score in zoals je al hebt\n",
    "fpr, tpr, thresholds = roc_curve(y_true, y_score)\n",
    "\n",
    "# bereken J = TPR − FPR voor elke mogelijke drempel\n",
    "j_scores = tpr - fpr\n",
    "\n",
    "# vind de index van de maximale J\n",
    "ix = np.argmax(j_scores)\n",
    "\n",
    "optimal_threshold = thresholds[ix]\n",
    "print(f'Optimal cutoff = {optimal_threshold:.3f}  (TPR={tpr[ix]:.3f}, FPR={fpr[ix]:.3f}, J={j_scores[ix]:.3f})')"
   ]
  },
  {
   "cell_type": "markdown",
   "id": "b0db028ce3450ded",
   "metadata": {},
   "source": [
    "\n",
    "# Vraag 5 (2 punten)\n",
    "Op de afbeelding hiernaast zie je de resultaten van een getraind neuraal netwerk. In dit model worden geen biases/constante nodes gebruikt. Bij de outputlayer werd one-hot encoding toegepast.\n"
   ]
  },
  {
   "cell_type": "markdown",
   "id": "c3e92458697fa065",
   "metadata": {},
   "source": [
    "## a.\n",
    "Hoeveel inputvariabelen heeft dit netwerk?"
   ]
  },
  {
   "cell_type": "markdown",
   "id": "5b6a430add3934c3",
   "metadata": {},
   "source": [
    "### ANTWOORD\n",
    "3 inputvariabelen"
   ]
  },
  {
   "cell_type": "markdown",
   "id": "953746caffaf4950",
   "metadata": {},
   "source": [
    "## b.\n",
    "Hoeveel categorieën heeft de onafhankelijke (te voorspellen) variabele?"
   ]
  },
  {
   "cell_type": "markdown",
   "id": "f426a3baa1fc802e",
   "metadata": {},
   "source": [
    "### ANTWOORD\n",
    "\n",
    "Er zijn 2 outputvariabelen dus 2 categorieen.\n"
   ]
  },
  {
   "cell_type": "markdown",
   "id": "e485ac8401a6be2a",
   "metadata": {},
   "source": [
    "## c.\n",
    "Welke node uit de hidden layer heeft de grootste invloed op node 2 van de output layer? Geef de naam die boven de node staat."
   ]
  },
  {
   "cell_type": "markdown",
   "id": "5ad7e050069c9daf",
   "metadata": {},
   "source": [
    "### ANTWOORD\n",
    "\n",
    "node H1 met een score van 3.1 tegenover H2 1.17"
   ]
  },
  {
   "cell_type": "markdown",
   "id": "44b09e2c3718b0cc",
   "metadata": {},
   "source": [
    "## d.\n",
    "In de nodes zie je een schematische weergave van de activatiefunctie. Welke activatiefunctie wordt hier gebruikt?"
   ]
  },
  {
   "cell_type": "code",
   "execution_count": 96,
   "id": "78fe5607",
   "metadata": {},
   "outputs": [
    {
     "name": "stdout",
     "output_type": "stream",
     "text": [
      "      Functie                             Formule       Bereik  \\\n",
      "0      Linear                            g(z) = z      (-∞, ∞)   \n",
      "1     Sigmoid            g(z) = 1 / (1 + exp(-z))       (0, 1)   \n",
      "2        ReLU                    g(z) = max(0, z)       [0, ∞)   \n",
      "3  Leaky ReLU  g(z) = z if z>0 else α·z  (α≈0.01)      (-∞, ∞)   \n",
      "4        Tanh      g(z) = (eᶻ - e⁻ᶻ) / (eᶻ + e⁻ᶻ)      (-1, 1)   \n",
      "5         ELU     g(z) = z if z>0 else α·(eᶻ - 1)      (-α, ∞)   \n",
      "6     Softmax    g_j(z) = exp(z_j) / Σ_k exp(z_k)  (0, 1), Σ=1   \n",
      "\n",
      "                              Toepassing  \n",
      "0                 Regressie output-layer  \n",
      "1                  Binaire classificatie  \n",
      "2               Hidden-layers, efficiënt  \n",
      "3  Hidden-layers, voorkomt dode neuronen  \n",
      "4      Hidden-layers, gecentreerd rond 0  \n",
      "5   Hidden-layers, zachte negatieve kant  \n",
      "6              Multi-klasse output-layer  \n"
     ]
    }
   ],
   "source": [
    "import pandas as pd\n",
    "\n",
    "# Maak een DataFrame met de meestvoorkomende activatiefuncties\n",
    "# Gebruikte theorie: Activatiefuncties (linear, sigmoid, relu, etc.) uit de Neural Networks-slides\n",
    "\n",
    "data = {\n",
    "    \"Functie\": [\n",
    "        \"Linear\", \"Sigmoid\", \"ReLU\", \"Leaky ReLU\", \"Tanh\", \"ELU\", \"Softmax\"\n",
    "    ],\n",
    "    \"Formule\": [\n",
    "        \"g(z) = z\",\n",
    "        \"g(z) = 1 / (1 + exp(-z))\",\n",
    "        \"g(z) = max(0, z)\",\n",
    "        \"g(z) = z if z>0 else α·z  (α≈0.01)\",\n",
    "        \"g(z) = (eᶻ - e⁻ᶻ) / (eᶻ + e⁻ᶻ)\",\n",
    "        \"g(z) = z if z>0 else α·(eᶻ - 1)\",\n",
    "        \"g_j(z) = exp(z_j) / Σ_k exp(z_k)\"\n",
    "    ],\n",
    "    \"Bereik\": [\n",
    "        \"(-∞, ∞)\",\n",
    "        \"(0, 1)\",\n",
    "        \"[0, ∞)\",\n",
    "        \"(-∞, ∞)\",\n",
    "        \"(-1, 1)\",\n",
    "        \"(-α, ∞)\",\n",
    "        \"(0, 1), Σ=1\"\n",
    "    ],\n",
    "    \"Toepassing\": [\n",
    "        \"Regressie output-layer\",\n",
    "        \"Binaire classificatie\",\n",
    "        \"Hidden-layers, efficiënt\",\n",
    "        \"Hidden-layers, voorkomt dode neuronen\",\n",
    "        \"Hidden-layers, gecentreerd rond 0\",\n",
    "        \"Hidden-layers, zachte negatieve kant\",\n",
    "        \"Multi-klasse output-layer\"\n",
    "    ]\n",
    "}\n",
    "\n",
    "df = pd.DataFrame(data)\n",
    "print(df)\n"
   ]
  },
  {
   "cell_type": "markdown",
   "id": "e0d464b6c3e097aa",
   "metadata": {},
   "source": [
    "### ANTWOORD\n",
    "\n",
    "de sigmoid logische functie hiervoor kijk ik naar de output (runn) hieronder voor uitleg over verschillende activatiefunties"
   ]
  },
  {
   "cell_type": "markdown",
   "id": "324ac2fb16deb52c",
   "metadata": {},
   "source": [
    "# Vraag 6 (3 punten)\n",
    "Train een neuraal netwerk met volgende specificaties:\n",
    "* De inputlayer heeft een ode voor elk van de volgende variabelen:\n",
    "    * *battery_power*\n",
    "    * *clock_speed*\n",
    "    * *fc*\n",
    "    * *int_memory*\n",
    "    * *n_cores*\n",
    "    * *pc*\n",
    "    * *ram*\n",
    "    * *talk_time*\n",
    "* De afhankelijke variabele (Y) is *price_range*\n",
    "* Pas BatchNormalization toe op de inputlayer om de data te normaliseren.\n",
    "* De (enige) hidden layer heeft 8 nodes en gebruikt de ReLU activatiefunctie.\n",
    "* De outputlayer heeft 4 nodes voor elke categorie van *price_range* en gebruikt de softmax activatiefunctie.\n",
    "* Gebruik ```model.compile(optimizer=keras.optimizers.Adam(learning_rate=0.10), loss=keras.losses.categorical_crossentropy, metrics=['accuracy'])``` om het model te compileren.\n",
    "* Train het model gedurende 10 epochs met een batch_size van 32 en een validation_split van 0.2. We moeten in de output kunnen zien dat het model getraind werd."
   ]
  },
  {
   "cell_type": "code",
   "execution_count": 65,
   "id": "4b25163b314baa42",
   "metadata": {
    "ExecuteTime": {
     "end_time": "2024-06-11T14:08:56.195169Z",
     "start_time": "2024-06-11T14:08:54.335128Z"
    }
   },
   "outputs": [
    {
     "name": "stdout",
     "output_type": "stream",
     "text": [
      "(1600, 4) (400, 4)\n",
      "Epoch 1/10\n",
      "\u001b[1m40/40\u001b[0m \u001b[32m━━━━━━━━━━━━━━━━━━━━\u001b[0m\u001b[37m\u001b[0m \u001b[1m0s\u001b[0m 4ms/step - accuracy: 0.3764 - loss: 563.3707 - val_accuracy: 0.4156 - val_loss: 41.9235\n",
      "Epoch 2/10\n",
      "\u001b[1m40/40\u001b[0m \u001b[32m━━━━━━━━━━━━━━━━━━━━\u001b[0m\u001b[37m\u001b[0m \u001b[1m0s\u001b[0m 2ms/step - accuracy: 0.4129 - loss: 44.4056 - val_accuracy: 0.4844 - val_loss: 20.3490\n",
      "Epoch 3/10\n",
      "\u001b[1m40/40\u001b[0m \u001b[32m━━━━━━━━━━━━━━━━━━━━\u001b[0m\u001b[37m\u001b[0m \u001b[1m0s\u001b[0m 2ms/step - accuracy: 0.4458 - loss: 32.5967 - val_accuracy: 0.3688 - val_loss: 52.7253\n",
      "Epoch 4/10\n",
      "\u001b[1m40/40\u001b[0m \u001b[32m━━━━━━━━━━━━━━━━━━━━\u001b[0m\u001b[37m\u001b[0m \u001b[1m0s\u001b[0m 1ms/step - accuracy: 0.4643 - loss: 31.4914 - val_accuracy: 0.4625 - val_loss: 14.1667\n",
      "Epoch 5/10\n",
      "\u001b[1m40/40\u001b[0m \u001b[32m━━━━━━━━━━━━━━━━━━━━\u001b[0m\u001b[37m\u001b[0m \u001b[1m0s\u001b[0m 1ms/step - accuracy: 0.4608 - loss: 24.4242 - val_accuracy: 0.4812 - val_loss: 28.6679\n",
      "Epoch 6/10\n",
      "\u001b[1m40/40\u001b[0m \u001b[32m━━━━━━━━━━━━━━━━━━━━\u001b[0m\u001b[37m\u001b[0m \u001b[1m0s\u001b[0m 1ms/step - accuracy: 0.4468 - loss: 43.8553 - val_accuracy: 0.4469 - val_loss: 17.2049\n",
      "Epoch 7/10\n",
      "\u001b[1m40/40\u001b[0m \u001b[32m━━━━━━━━━━━━━━━━━━━━\u001b[0m\u001b[37m\u001b[0m \u001b[1m0s\u001b[0m 1ms/step - accuracy: 0.4974 - loss: 19.2656 - val_accuracy: 0.3750 - val_loss: 35.8043\n",
      "Epoch 8/10\n",
      "\u001b[1m40/40\u001b[0m \u001b[32m━━━━━━━━━━━━━━━━━━━━\u001b[0m\u001b[37m\u001b[0m \u001b[1m0s\u001b[0m 2ms/step - accuracy: 0.4770 - loss: 28.3119 - val_accuracy: 0.4469 - val_loss: 54.6986\n",
      "Epoch 9/10\n",
      "\u001b[1m40/40\u001b[0m \u001b[32m━━━━━━━━━━━━━━━━━━━━\u001b[0m\u001b[37m\u001b[0m \u001b[1m0s\u001b[0m 3ms/step - accuracy: 0.4176 - loss: 64.2089 - val_accuracy: 0.3938 - val_loss: 74.2522\n",
      "Epoch 10/10\n",
      "\u001b[1m40/40\u001b[0m \u001b[32m━━━━━━━━━━━━━━━━━━━━\u001b[0m\u001b[37m\u001b[0m \u001b[1m0s\u001b[0m 2ms/step - accuracy: 0.4432 - loss: 48.7519 - val_accuracy: 0.5156 - val_loss: 22.5011\n"
     ]
    }
   ],
   "source": [
    "from tensorflow.keras.utils import to_categorical\n",
    "from keras.src.layers import Input, Dense, BatchNormalization\n",
    "from tensorflow.keras import Model  \n",
    "\n",
    "x_data = data[['battery_power', 'clock_speed', 'fc', 'int_memory', 'n_cores', 'pc', 'ram', 'talk_time']]\n",
    "\n",
    "y_data = data['price_range']\n",
    "\n",
    "X_train, X_test, y_train, y_test = train_test_split(\n",
    "    x_data,               # jouw dataframe met 8 features\n",
    "    y_data,               # price_range (0–3)\n",
    "    test_size=0.2,\n",
    "    random_state=42,\n",
    "    shuffle=True\n",
    ")\n",
    "\n",
    "y_train_one_hot = to_categorical(y_train)\n",
    "y_test_one_hot = to_categorical(y_test)\n",
    "print(y_train_one_hot.shape, y_test_one_hot.shape)\n",
    "\n",
    "#dit is het aantal kolommen dat waar ik mee werk in de x_data \n",
    "inputs = Input(shape=(8,)) \n",
    "inputs = BatchNormalization()(inputs)\n",
    "hidden = Dense(8, activation='relu')(inputs) # Hier geven we eerst de inputs die we zelf hebben gezet mee\n",
    "\n",
    "total_output_neurons = pd.unique(y_data).size\n",
    "outputs = Dense(total_output_neurons, activation='softmax')(inputs) # Bij de laatste kies je opnieuw de gewenste activation function en geef je de vorige output als input\n",
    "\n",
    "model = Model(inputs, outputs, name='NN')\n",
    "model.compile(optimizer=keras.optimizers.Adam(learning_rate=0.10), loss=keras.losses.categorical_crossentropy, metrics=['accuracy'])\n",
    "\n",
    "history = model.fit(\n",
    "    X_train,\n",
    "    y_train_one_hot,\n",
    "    epochs=10,\n",
    "    batch_size=32,\n",
    "    validation_split=0.2,\n",
    "    verbose=1\n",
    ")"
   ]
  },
  {
   "cell_type": "markdown",
   "id": "90c750723f770698",
   "metadata": {},
   "source": [
    "# Vraag 7 (2 punten)\n",
    "In de code onder de vraag zie je 10 chromosomen. Ook de doelfunctie waarvan we het resultaat willen maximaliseren is gegeven. Welke van deze oplossingen zal volgens het roulette selectiemechanisme het meeste kans maken om geselcteerd te worden voor mating/paring? Waarom?  "
   ]
  },
  {
   "cell_type": "code",
   "execution_count": 67,
   "id": "6d0406d58cd2945a",
   "metadata": {
    "ExecuteTime": {
     "end_time": "2024-06-11T14:08:56.201281Z",
     "start_time": "2024-06-11T14:08:56.196182Z"
    }
   },
   "outputs": [],
   "source": [
    "import math\n",
    "\n",
    "x1 = [1.0, 0.5]\n",
    "x2 = [-0.5, -0.5]\n",
    "x3 = [1.0, 1.0]\n",
    "x4 = [-0.75, -0.75]\n",
    "x5 = [-0.5, 0.0]\n",
    "x6 = [-0.5, -1.0]\n",
    "x7 = [0.5, 0.5]\n",
    "x8 = [0.5, 0.0]\n",
    "x9 = [0.75, 0.75]\n",
    "x10 = [-1.2, -1.0]\n",
    "\n",
    "\n",
    "def energy(x):\n",
    "    return ((0.2 + x[0] * x[0] + x[0] * x[1] - 0.1 * np.cos(1.0 * math.pi * x[0]) - 0.1 * np.cos(-2.0 * np.pi * x[1])))"
   ]
  },
  {
   "cell_type": "code",
   "execution_count": 71,
   "id": "a1992694c5f5397b",
   "metadata": {
    "ExecuteTime": {
     "end_time": "2024-06-11T14:08:56.217125Z",
     "start_time": "2024-06-11T14:08:56.201281Z"
    }
   },
   "outputs": [
    {
     "data": {
      "text/plain": [
       "1.9000000000000001"
      ]
     },
     "execution_count": 71,
     "metadata": {},
     "output_type": "execute_result"
    },
    {
     "data": {
      "text/plain": [
       "0.7999999999999999"
      ]
     },
     "execution_count": 71,
     "metadata": {},
     "output_type": "execute_result"
    },
    {
     "data": {
      "text/plain": [
       "2.2"
      ]
     },
     "execution_count": 71,
     "metadata": {},
     "output_type": "execute_result"
    },
    {
     "data": {
      "text/plain": [
       "1.3957106781186548"
      ]
     },
     "execution_count": 71,
     "metadata": {},
     "output_type": "execute_result"
    },
    {
     "data": {
      "text/plain": [
       "0.35"
      ]
     },
     "execution_count": 71,
     "metadata": {},
     "output_type": "execute_result"
    },
    {
     "data": {
      "text/plain": [
       "0.85"
      ]
     },
     "execution_count": 71,
     "metadata": {},
     "output_type": "execute_result"
    },
    {
     "data": {
      "text/plain": [
       "0.7999999999999999"
      ]
     },
     "execution_count": 71,
     "metadata": {},
     "output_type": "execute_result"
    },
    {
     "data": {
      "text/plain": [
       "0.35"
      ]
     },
     "execution_count": 71,
     "metadata": {},
     "output_type": "execute_result"
    },
    {
     "data": {
      "text/plain": [
       "1.3957106781186548"
      ]
     },
     "execution_count": 71,
     "metadata": {},
     "output_type": "execute_result"
    },
    {
     "data": {
      "text/plain": [
       "2.8209016994374947"
      ]
     },
     "execution_count": 71,
     "metadata": {},
     "output_type": "execute_result"
    }
   ],
   "source": [
    "energy(x1)\n",
    "energy(x2)\n",
    "energy(x3)\n",
    "energy(x4)\n",
    "energy(x5)\n",
    "energy(x6)\n",
    "energy(x7)\n",
    "energy(x8)\n",
    "energy(x9)\n",
    "energy(x10)"
   ]
  },
  {
   "cell_type": "markdown",
   "id": "bc88dd8b22c99033",
   "metadata": {},
   "source": [
    "## Antwoord\n",
    "\n",
    "x10 heeft de meeste kans om geselecteerd te worden voor pairing omdat hij de hoogste energy heeft 2.8209016994374947"
   ]
  },
  {
   "cell_type": "markdown",
   "id": "5cd2dc68b55243c6",
   "metadata": {},
   "source": [
    "# Vraag 8 (2 punten)\n",
    "In de code bij vraag 8 vind je een dataframe. Deze bevat de scores van de doelfunctie voor een generatie chromosomen. Het optimalisatieprobleem is een minimalisatieprobleem. Voor de selectie van de chromosomen die mogen paren/maten wordt het tournament selectie mechanisme gebruikt.\n",
    "\n",
    "Voor de eerste selecteren chromosoom werd in de eerste stap van het selectie-algoritme chromosomen 1, 3, 6, 8 en 20 geselecteerd. Welke van deze chromosomen zal in aanmerking komen voor 'mating/paring'? Met andere woorden wat is het resultaat van deze selecte-operatie? Waarom?"
   ]
  },
  {
   "cell_type": "code",
   "execution_count": 72,
   "id": "7d74bb18455fa0cd",
   "metadata": {
    "ExecuteTime": {
     "end_time": "2024-08-27T12:19:48.790735Z",
     "start_time": "2024-08-27T12:19:48.555548Z"
    }
   },
   "outputs": [
    {
     "data": {
      "text/html": [
       "<div>\n",
       "<style scoped>\n",
       "    .dataframe tbody tr th:only-of-type {\n",
       "        vertical-align: middle;\n",
       "    }\n",
       "\n",
       "    .dataframe tbody tr th {\n",
       "        vertical-align: top;\n",
       "    }\n",
       "\n",
       "    .dataframe thead th {\n",
       "        text-align: right;\n",
       "    }\n",
       "</style>\n",
       "<table border=\"1\" class=\"dataframe\">\n",
       "  <thead>\n",
       "    <tr style=\"text-align: right;\">\n",
       "      <th></th>\n",
       "      <th>chromosoon</th>\n",
       "      <th>score_doelfunctie</th>\n",
       "    </tr>\n",
       "  </thead>\n",
       "  <tbody>\n",
       "    <tr>\n",
       "      <th>0</th>\n",
       "      <td>1</td>\n",
       "      <td>247.625163</td>\n",
       "    </tr>\n",
       "    <tr>\n",
       "      <th>1</th>\n",
       "      <td>2</td>\n",
       "      <td>214.517579</td>\n",
       "    </tr>\n",
       "    <tr>\n",
       "      <th>2</th>\n",
       "      <td>3</td>\n",
       "      <td>249.133097</td>\n",
       "    </tr>\n",
       "    <tr>\n",
       "      <th>3</th>\n",
       "      <td>4</td>\n",
       "      <td>188.818888</td>\n",
       "    </tr>\n",
       "    <tr>\n",
       "      <th>4</th>\n",
       "      <td>5</td>\n",
       "      <td>104.808839</td>\n",
       "    </tr>\n",
       "    <tr>\n",
       "      <th>5</th>\n",
       "      <td>6</td>\n",
       "      <td>316.120068</td>\n",
       "    </tr>\n",
       "    <tr>\n",
       "      <th>6</th>\n",
       "      <td>7</td>\n",
       "      <td>198.562460</td>\n",
       "    </tr>\n",
       "    <tr>\n",
       "      <th>7</th>\n",
       "      <td>8</td>\n",
       "      <td>465.060553</td>\n",
       "    </tr>\n",
       "    <tr>\n",
       "      <th>8</th>\n",
       "      <td>9</td>\n",
       "      <td>156.802886</td>\n",
       "    </tr>\n",
       "    <tr>\n",
       "      <th>9</th>\n",
       "      <td>10</td>\n",
       "      <td>243.781379</td>\n",
       "    </tr>\n",
       "    <tr>\n",
       "      <th>10</th>\n",
       "      <td>11</td>\n",
       "      <td>185.904535</td>\n",
       "    </tr>\n",
       "    <tr>\n",
       "      <th>11</th>\n",
       "      <td>12</td>\n",
       "      <td>146.502081</td>\n",
       "    </tr>\n",
       "    <tr>\n",
       "      <th>12</th>\n",
       "      <td>13</td>\n",
       "      <td>119.455743</td>\n",
       "    </tr>\n",
       "    <tr>\n",
       "      <th>13</th>\n",
       "      <td>14</td>\n",
       "      <td>364.052587</td>\n",
       "    </tr>\n",
       "    <tr>\n",
       "      <th>14</th>\n",
       "      <td>15</td>\n",
       "      <td>416.801578</td>\n",
       "    </tr>\n",
       "    <tr>\n",
       "      <th>15</th>\n",
       "      <td>16</td>\n",
       "      <td>481.664703</td>\n",
       "    </tr>\n",
       "    <tr>\n",
       "      <th>16</th>\n",
       "      <td>17</td>\n",
       "      <td>412.221072</td>\n",
       "    </tr>\n",
       "    <tr>\n",
       "      <th>17</th>\n",
       "      <td>18</td>\n",
       "      <td>421.067604</td>\n",
       "    </tr>\n",
       "    <tr>\n",
       "      <th>18</th>\n",
       "      <td>19</td>\n",
       "      <td>227.187130</td>\n",
       "    </tr>\n",
       "    <tr>\n",
       "      <th>19</th>\n",
       "      <td>20</td>\n",
       "      <td>229.350776</td>\n",
       "    </tr>\n",
       "  </tbody>\n",
       "</table>\n",
       "</div>"
      ],
      "text/plain": [
       "    chromosoon  score_doelfunctie\n",
       "0            1         247.625163\n",
       "1            2         214.517579\n",
       "2            3         249.133097\n",
       "3            4         188.818888\n",
       "4            5         104.808839\n",
       "5            6         316.120068\n",
       "6            7         198.562460\n",
       "7            8         465.060553\n",
       "8            9         156.802886\n",
       "9           10         243.781379\n",
       "10          11         185.904535\n",
       "11          12         146.502081\n",
       "12          13         119.455743\n",
       "13          14         364.052587\n",
       "14          15         416.801578\n",
       "15          16         481.664703\n",
       "16          17         412.221072\n",
       "17          18         421.067604\n",
       "18          19         227.187130\n",
       "19          20         229.350776"
      ]
     },
     "execution_count": 72,
     "metadata": {},
     "output_type": "execute_result"
    }
   ],
   "source": [
    "populatie = pd.DataFrame({'chromosoon': range(1, 21),\n",
    "                          'score_doelfunctie': [247.6251629, 214.51757898, 249.13309669, 188.81888775, 104.80883904,\n",
    "                                                316.12006777, 198.56246032, 465.06055288, 156.80288596, 243.7813792,\n",
    "                                                185.9045345, 146.50208061, 119.45574293, 364.05258658, 416.80157775,\n",
    "                                                481.66470259, 412.22107183, 421.06760396, 227.18712982, 229.35077602]})\n",
    "populatie"
   ]
  },
  {
   "cell_type": "markdown",
   "id": "5954473a6ccd0f55",
   "metadata": {},
   "source": [
    "#ANTWOORD\n",
    "\n",
    "Van de selected chromosonen op basis van het minimalisatieprobleem zal tussen de chromosonen 1, 3, 6, 8 en 20 zal 20 winnnen met zijn waarde van 229.35 heeft die de laagste.\n",
    "\n",
    "Wát er wordt gedaan:\n",
    "Je neemt een klein “toernooi” (hier: chromosomen 1, 3, 6, 8 en 20) en kiest daaruit één winnaar om door te mogen naar de paringspool.\n",
    "Hoe die winnaar wordt bepaald:\n",
    "Omdat het probleem een minimalisatie is, wint het chromosoom met de laagste doelfunctiescore.\n",
    "Wat het resultaat is voor dit toernooi:\n",
    "– Chromosoom 1 → score 247.63\n",
    "– Chromosoom 3 → score 249.13\n",
    "– Chromosoom 6 → score 316.12\n",
    "– Chromosoom 8 → score 465.06\n",
    "– Chromosoom 20 → score 229.35\n",
    "De laagste score is 229.35, dus chromosoom 20 wordt geselecteerd."
   ]
  },
  {
   "cell_type": "markdown",
   "id": "ede52cde1467a2ac",
   "metadata": {},
   "source": [
    "\n",
    "# Vraag 9 \n",
    "Onder vraag 9 zie je de code voor het oplossen van een Sudoku met simulated annealing. Je krijgt een startbestand en het is de bedoeling de nullen te vervangen door de cijfers 1 tot en met 9. Bij het oplossen hou je rekening met volgende Sudoku contraints:\n",
    "- In elke rij de getallen 1 tot en met 9 exact 1 keer voorkomen.\n",
    "- In elke kolom de getallen 1 tot en met 9 exact 1 keer voorkomen.\n",
    "*In een echte Sudoku is je veld ook verdeeld in 9 blokken van 3\\*3. In elk blok moet elk getal van 1 tot en met 9 exact 1 keer voorkomen. Deze laatste regel implementeren we niet voor deze heuristiek.*\n",
    "\n",
    "Bij deze heuristiek lees je eerst een startSituatie van een sudoku in waarbij de in te vullen waarbij de in te vullen waarden gelijk zijn aan 0 (zie csv). Het grootste deel van de code is al uitgewerkt.\n",
    "\n",
    "- Cel 1: StartSituatie inlezen > leest de sudoku in. Hierin pas je niet aan.\n",
    "- Cel 2: emptyfields aanmaken > maakt een lijst van de indices van de lege velden. Hierin pas je niets aan.\n",
    "- Cel 3: Simulated annealing klasse > bevat de klasse Sudoku die de simulated annealing uitvoert."
   ]
  },
  {
   "cell_type": "code",
   "execution_count": 86,
   "id": "7bf58e69113fcfdc",
   "metadata": {
    "ExecuteTime": {
     "end_time": "2024-06-11T14:08:56.232083Z",
     "start_time": "2024-06-11T14:08:56.226443Z"
    }
   },
   "outputs": [],
   "source": [
    "#CEL 1: Startsituatie inlezen (NIETS AANPASSEN)\n",
    "## \n",
    "from simanneal import Annealer\n",
    "\n",
    "board = pd.read_csv('sudoku.csv', header=None)\n",
    "\n",
    "#CEL 2: emptyfields aanmaken (NIETS AANPASSEN)\n",
    "# Code om de indexen van de lege velden in een list te steken [Niet aanpassen]\n",
    "board_emptyFields = board == 0\n",
    "emptyfields = np.where(board_emptyFields.to_numpy().flatten() == True)[\n",
    "    0].tolist()  #De indices van de lege velden (velden met nul)"
   ]
  },
  {
   "cell_type": "markdown",
   "id": "331ee928377ea91d",
   "metadata": {},
   "source": [
    "## a. (2 punten)\n",
    "Werk in Cel 3 de move functie uit. Je weight bij een move slechts één willekeurig veld van de Sudoku naar een andere waarde. Enkel velden die nog niet zijn ingevuld waren bij de startSituatie (waarde = 0) mogen gewijzigd worden. (tip: emptyfields bevat de indices van de lege velden)"
   ]
  },
  {
   "cell_type": "code",
   "execution_count": 94,
   "id": "4884dc0699f5f66e",
   "metadata": {
    "ExecuteTime": {
     "end_time": "2024-06-11T14:08:56.242982Z",
     "start_time": "2024-06-11T14:08:56.237809Z"
    }
   },
   "outputs": [],
   "source": [
    "#CEL 3: Simulated annealing klasse\n",
    "class Sudoku(Annealer):\n",
    "    # ENGERGY FUNCTIE NIET AANPASSEN\n",
    "    def energy(self):\n",
    "        s = pd.DataFrame(self.state.reshape(9, 9))\n",
    "        lineTotal = 45\n",
    "        lineSums = pd.concat([s.sum(axis=1), s.sum(axis=0)])  #Telt de som van de inhoud van de rijen en de kolommen \n",
    "        valueCounts = pd.Series(np.unique(s, return_counts=True))[\n",
    "            1]  #Telt hoe vaak elk getal voorkomt in een rij of kolom\n",
    "        valueCountErrorCost = np.absolute(valueCounts - 9).sum() * 10\n",
    "        lineValueErrorCost = np.absolute(lineSums - lineTotal).sum() * 2\n",
    "        return valueCountErrorCost + lineValueErrorCost\n",
    "    \n",
    "#ANTWOORD\n",
    "    def move(self):\n",
    "        \"\"\"\n",
    "        Maakt een willekeurige zet door één leeg veld te veranderen naar een andere waarde.\n",
    "        Alleen velden die leeg waren in de startSituatie (waarde 0) mogen worden gewijzigd.\n",
    "        \"\"\"\n",
    "        import random\n",
    "        \n",
    "        # Kies willekeurig een leeg veld uit emptyFields\n",
    "        if len(emptyfields) == 0:\n",
    "            return  # Geen lege velden om te wijzigen\n",
    "        \n",
    "        # Selecteer willekeurig een positie uit de lege velden\n",
    "        random_index = random.randint(0, len(emptyfields) - 1)\n",
    "        linear_index = emptyfields[random_index]  # Dit is een enkele integer\n",
    "        \n",
    "        # Converteer de lineaire index naar row, col coordinaten\n",
    "        # Voor een 9x9 sudoku: row = index // 9, col = index % 9\n",
    "        row = linear_index // 9\n",
    "        col = linear_index % 9\n",
    "        \n",
    "        # Kies een nieuwe waarde (1-9) die verschilt van de huidige waarde\n",
    "        current_value = self.state[row, col]\n",
    "        possible_values = [i for i in range(1, 10) if i != current_value]\n",
    "        \n",
    "        if possible_values:\n",
    "            new_value = random.choice(possible_values)\n",
    "            self.state[row, col] = new_value"
   ]
  },
  {
   "cell_type": "markdown",
   "id": "674d0b5f9d4e8a99",
   "metadata": {},
   "source": [
    "## b. (1 punt)\n",
    "Voer de heuristiek uit door de 4 cellen na elkaar uit te voeren."
   ]
  },
  {
   "cell_type": "code",
   "execution_count": 95,
   "id": "268a26ee03f86567",
   "metadata": {
    "ExecuteTime": {
     "end_time": "2024-06-11T14:09:30.906138Z",
     "start_time": "2024-06-11T14:08:56.243989Z"
    }
   },
   "outputs": [
    {
     "name": "stderr",
     "output_type": "stream",
     "text": [
      " Temperature        Energy    Accept   Improve     Elapsed   Remaining\n",
      " 25000.00000       2306.00                         0:00:00            \r"
     ]
    },
    {
     "name": "stderr",
     "output_type": "stream",
     "text": [
      "     2.50000         44.00     0.00%     0.00%     0:00:18     0:00:00"
     ]
    },
    {
     "data": {
      "text/plain": [
       "(array([[5, 9, 2, 4, 7, 1, 7, 4, 7],\n",
       "        [5, 5, 4, 8, 7, 2, 5, 1, 9],\n",
       "        [6, 9, 1, 3, 4, 6, 1, 9, 8],\n",
       "        [3, 2, 3, 7, 2, 9, 3, 6, 9],\n",
       "        [4, 5, 9, 3, 5, 7, 4, 5, 3],\n",
       "        [1, 2, 6, 6, 3, 5, 8, 9, 3],\n",
       "        [8, 2, 8, 7, 1, 5, 4, 8, 2],\n",
       "        [6, 8, 8, 1, 9, 3, 6, 4, 1],\n",
       "        [7, 4, 2, 6, 6, 7, 8, 1, 2]]),\n",
       " 36)"
      ]
     },
     "execution_count": 95,
     "metadata": {},
     "output_type": "execute_result"
    }
   ],
   "source": [
    "probleem = Sudoku(np.array(board))\n",
    "probleem.anneal()"
   ]
  },
  {
   "cell_type": "code",
   "execution_count": null,
   "id": "aa71cd94",
   "metadata": {},
   "outputs": [],
   "source": []
  }
 ],
 "metadata": {
  "kernelspec": {
   "display_name": "Python 3",
   "language": "python",
   "name": "python3"
  },
  "language_info": {
   "codemirror_mode": {
    "name": "ipython",
    "version": 3
   },
   "file_extension": ".py",
   "mimetype": "text/x-python",
   "name": "python",
   "nbconvert_exporter": "python",
   "pygments_lexer": "ipython3",
   "version": "3.10.4"
  }
 },
 "nbformat": 4,
 "nbformat_minor": 5
}
