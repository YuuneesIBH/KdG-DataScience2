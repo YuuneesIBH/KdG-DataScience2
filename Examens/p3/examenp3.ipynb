{
 "cells": [
  {
   "cell_type": "code",
   "execution_count": 6,
   "metadata": {},
   "outputs": [],
   "source": [
    "# Vraag 2 – Data Science 2 examen (5 punten)\n",
    "# \n",
    "# De CSV’s inzamelingenGFT.csv, inzamelingenRest.csv en inzamelingenPapier.csv \n",
    "# werden gedownload van de site van het bedrijf dat de afvalophaling doet bij docent 'Jan' thuis.\n",
    "# In de betreffende gemeente worden ‘GFT’ (groenten, fruit en tuinafval), ‘Restafval’ en ‘Papier’ \n",
    "# opgehaald in containers. Bij de ophaling worden sensoren gebruikt om het nettogewicht van de container te wegen.\n",
    "# \n",
    "# Volgende kolommen zijn aanwezig in de CSV’s:\n",
    "# 1. Tijdsindicatoren: Jaar, Maand, Dag en Week\n",
    "# 2. Verwerkings codes: Geeft aan hoe het afval verwerkt wordt. \n",
    "#    Er zijn slechts een beperkt aantal codes die gebruikt worden.\n",
    "# 3. Gewicht (kg): het effectief gewogen lediging in kg\n",
    "# 4. Eural codes: Europese vastgelegde codes die het type afval beschrijven:\n",
    "#    150101 = ‘Papier en karton’, 200108 = ‘GFT’, 200301 = ‘Restafval’\n",
    "#\n",
    "# Maak een script dat de bestanden inleest en de nodige dataprocessing uitvoert op basis van onderstaande vereisten:\n",
    "#\n",
    "# a) Het script moet automatisch uitgevoerd kunnen worden op bestanden met dezelfde structuur.\n",
    "# b) Je maakt geen gebruik van for-loops, while of list comprehensions. Gebruik vectorisatie.\n",
    "# c) Gebruik efficiënte verwerkingsmethoden van Pandas/Numpy.\n",
    "#    Minimaliseer het geheugengebruik van de dataframe door een verstandige keuze van datatypes.\n",
    "#    Tip: Categorische data kan je het efficiëntst opslaan met behulp van het category datatype.\n",
    "# d) -9 kg wil zeggen dat er voor die ophaling geen weging heeft plaatsgevonden. Vervang deze waarden door NaN.\n",
    "# e) Als er bij GFT-afval geen weging heeft plaatsgevonden dan is dat omwille van een defect van de weegschaal.\n",
    "#    Zorg ervoor dat die ontbrekende waarden vervangen worden door het gewicht van de voorgaande ophaling van GFT.\n",
    "# f) De informatie tussen haakjes bij ‘Verwerkings codes’ is niet relevant. Haal deze weg.\n",
    "# g) Voeg de kolom ‘kostprijs’ toe op volgende manier:\n",
    "#    GFT: 0.21 euro/kg\n",
    "#    Restafval: 0.31 euro/kg + 0.65 euro per lediging\n",
    "#    Papier: 0.4 euro per lediging\n",
    "# h) Voeg de 3 dataframes samen tot 1 dataframe met alle informatie met behulp van de concat() methode."
   ]
  },
  {
   "cell_type": "code",
   "execution_count": 7,
   "metadata": {},
   "outputs": [],
   "source": [
    "import pandas as pd\n",
    "import numpy as np "
   ]
  },
  {
   "cell_type": "code",
   "execution_count": 8,
   "metadata": {},
   "outputs": [],
   "source": [
    "gft = pd.read_csv(\"inzamelingenGFT.csv\", sep=\";\")\n",
    "rest = pd.read_csv(\"inzamelingenRest.csv\", sep=\";\")\n",
    "papier = pd.read_csv(\"inzamelingenPapier.csv\", sep=\";\")"
   ]
  },
  {
   "cell_type": "code",
   "execution_count": 9,
   "metadata": {},
   "outputs": [],
   "source": [
    "dtype_convert = {\n",
    "    \"Verwerkings codes\": \"category\",\n",
    "    \"Eural codes\": \"category\",\n",
    "    \"Maand\": \"int8\",\n",
    "    \"Jaar\": \"int16\",\n",
    "    \"Dag\": \"int8\",\n",
    "    \"Week\": \"int8\"\n",
    "}\n",
    "\n",
    "gft = gft.astype(dtype_convert)\n",
    "rest = rest.astype(dtype_convert)\n",
    "papier = papier.astype(dtype_convert)"
   ]
  },
  {
   "cell_type": "code",
   "execution_count": 10,
   "metadata": {},
   "outputs": [],
   "source": [
    "gft[\"Gewicht (kg)\"] = pd.to_numeric(gft[\"Gewicht (kg)\"], errors=\"coerce\").replace(-9, np.nan)\n",
    "rest[\"Gewicht (kg)\"] = pd.to_numeric(rest[\"Gewicht (kg)\"], errors=\"coerce\").replace(-9, np.nan)\n",
    "papier[\"Gewicht (kg)\"] = pd.to_numeric(papier[\"Gewicht (kg)\"], errors=\"coerce\").replace(-9, np.nan)"
   ]
  },
  {
   "cell_type": "code",
   "execution_count": 11,
   "metadata": {},
   "outputs": [
    {
     "name": "stderr",
     "output_type": "stream",
     "text": [
      "/var/folders/4n/z403ds5x0n141m695xdfdlcm0000gn/T/ipykernel_6790/82898771.py:1: FutureWarning: Series.fillna with 'method' is deprecated and will raise in a future version. Use obj.ffill() or obj.bfill() instead.\n",
      "  gft[\"Gewicht (kg)\"] = gft[\"Gewicht (kg)\"].fillna(method=\"ffill\")\n"
     ]
    }
   ],
   "source": [
    "gft[\"Gewicht (kg)\"] = gft[\"Gewicht (kg)\"].fillna(method=\"ffill\")\n"
   ]
  },
  {
   "cell_type": "code",
   "execution_count": 12,
   "metadata": {},
   "outputs": [],
   "source": [
    "gft[\"Verwerkings codes\"] = gft[\"Verwerkings codes\"].str.replace(r\"\\s*\\(.*\\)\", \"\", regex=True)\n",
    "rest[\"Verwerkings codes\"] = rest[\"Verwerkings codes\"].str.replace(r\"\\s*\\(.*\\)\", \"\", regex=True)\n",
    "papier[\"Verwerkings codes\"] = papier[\"Verwerkings codes\"].str.replace(r\"\\s*\\(.*\\)\", \"\", regex=True)"
   ]
  },
  {
   "cell_type": "code",
   "execution_count": 13,
   "metadata": {},
   "outputs": [],
   "source": [
    "gft[\"kostprijs\"] = gft[\"Gewicht (kg)\"] * 0.21\n",
    "rest[\"kostprijs\"] = rest[\"Gewicht (kg)\"] * 0.31 + 0.65\n",
    "papier[\"kostprijs\"] = 0.4  # vast bedrag per lediging"
   ]
  },
  {
   "cell_type": "code",
   "execution_count": 14,
   "metadata": {},
   "outputs": [],
   "source": [
    "gft[\"type\"] = \"GFT\"\n",
    "rest[\"type\"] = \"Restafval\"\n",
    "papier[\"type\"] = \"Papier\""
   ]
  },
  {
   "cell_type": "code",
   "execution_count": 15,
   "metadata": {},
   "outputs": [],
   "source": [
    "df_alles = pd.concat([gft, rest, papier], ignore_index=True)"
   ]
  },
  {
   "cell_type": "code",
   "execution_count": 18,
   "metadata": {},
   "outputs": [
    {
     "data": {
      "text/html": [
       "<div>\n",
       "<style scoped>\n",
       "    .dataframe tbody tr th:only-of-type {\n",
       "        vertical-align: middle;\n",
       "    }\n",
       "\n",
       "    .dataframe tbody tr th {\n",
       "        vertical-align: top;\n",
       "    }\n",
       "\n",
       "    .dataframe thead th {\n",
       "        text-align: right;\n",
       "    }\n",
       "</style>\n",
       "<table border=\"1\" class=\"dataframe\">\n",
       "  <thead>\n",
       "    <tr style=\"text-align: right;\">\n",
       "      <th></th>\n",
       "      <th>Gewicht (kg)</th>\n",
       "      <th>Eural codes</th>\n",
       "      <th>Verwerkings codes</th>\n",
       "      <th>Maand</th>\n",
       "      <th>Jaar</th>\n",
       "      <th>Dag</th>\n",
       "      <th>Week</th>\n",
       "      <th>kostprijs</th>\n",
       "      <th>type</th>\n",
       "    </tr>\n",
       "  </thead>\n",
       "  <tbody>\n",
       "    <tr>\n",
       "      <th>0</th>\n",
       "      <td>NaN</td>\n",
       "      <td>200108</td>\n",
       "      <td>Composteren</td>\n",
       "      <td>2</td>\n",
       "      <td>2025</td>\n",
       "      <td>14</td>\n",
       "      <td>7</td>\n",
       "      <td>NaN</td>\n",
       "      <td>GFT</td>\n",
       "    </tr>\n",
       "    <tr>\n",
       "      <th>1</th>\n",
       "      <td>NaN</td>\n",
       "      <td>200108</td>\n",
       "      <td>Composteren</td>\n",
       "      <td>1</td>\n",
       "      <td>2025</td>\n",
       "      <td>31</td>\n",
       "      <td>5</td>\n",
       "      <td>NaN</td>\n",
       "      <td>GFT</td>\n",
       "    </tr>\n",
       "    <tr>\n",
       "      <th>2</th>\n",
       "      <td>NaN</td>\n",
       "      <td>200108</td>\n",
       "      <td>Composteren</td>\n",
       "      <td>1</td>\n",
       "      <td>2025</td>\n",
       "      <td>17</td>\n",
       "      <td>3</td>\n",
       "      <td>NaN</td>\n",
       "      <td>GFT</td>\n",
       "    </tr>\n",
       "    <tr>\n",
       "      <th>3</th>\n",
       "      <td>NaN</td>\n",
       "      <td>200108</td>\n",
       "      <td>Composteren</td>\n",
       "      <td>1</td>\n",
       "      <td>2025</td>\n",
       "      <td>3</td>\n",
       "      <td>1</td>\n",
       "      <td>NaN</td>\n",
       "      <td>GFT</td>\n",
       "    </tr>\n",
       "    <tr>\n",
       "      <th>4</th>\n",
       "      <td>NaN</td>\n",
       "      <td>200108</td>\n",
       "      <td>Composteren</td>\n",
       "      <td>12</td>\n",
       "      <td>2024</td>\n",
       "      <td>20</td>\n",
       "      <td>51</td>\n",
       "      <td>NaN</td>\n",
       "      <td>GFT</td>\n",
       "    </tr>\n",
       "  </tbody>\n",
       "</table>\n",
       "</div>"
      ],
      "text/plain": [
       "   Gewicht (kg)  Eural codes Verwerkings codes  Maand  Jaar  Dag  Week  \\\n",
       "0           NaN       200108       Composteren      2  2025   14     7   \n",
       "1           NaN       200108       Composteren      1  2025   31     5   \n",
       "2           NaN       200108       Composteren      1  2025   17     3   \n",
       "3           NaN       200108       Composteren      1  2025    3     1   \n",
       "4           NaN       200108       Composteren     12  2024   20    51   \n",
       "\n",
       "   kostprijs type  \n",
       "0        NaN  GFT  \n",
       "1        NaN  GFT  \n",
       "2        NaN  GFT  \n",
       "3        NaN  GFT  \n",
       "4        NaN  GFT  "
      ]
     },
     "execution_count": 18,
     "metadata": {},
     "output_type": "execute_result"
    }
   ],
   "source": [
    "df_alles.head()"
   ]
  },
  {
   "cell_type": "code",
   "execution_count": 19,
   "metadata": {},
   "outputs": [],
   "source": [
    "# Vraag 3b – Data Science 2 examen (6 punten)\n",
    "#\n",
    "# b) Bouw onderstaande grafiek na (6p)\n",
    "# De grafiek moet er precies hetzelfde uitzien zoals de afbeelding. \n",
    "# Vertrek hierbij van de CSV inzamelingenALL.csv.\n",
    "# De jaren 2020 en 2025 zijn niet meegenomen in de resultaten omdat de data daarvan niet volledig was.\n",
    "#\n",
    "# Zoals je merkt zal je eerst de data uit de CSV in het juiste formaat moeten omzetten. \n",
    "# Als het je niet lukt om de data te transformeren naar het juiste formaat voor de visualisatie \n",
    "# dan kan je er voor kiezen om de ‘commented’ getransformeerde dataframes in het examenbestand te gebruiken.\n",
    "# Dit kost je 3 punten. Laat in elk geval je poging tot transformatie staan omdat een gedeeltelijke oplossing toch nog punten kan opleveren.\n",
    "#\n",
    "# Tip1: Als je halve jaartallen ziet op de x-as gebruik dan de functie plt.xticks()\n",
    "# Tip2: Als je een zwart thema gebruikt in PyCharm zie je inverse kleuren. \n",
    "#       Ga naar File > Settings > Zoek “invert image outputs for dark themes” en disable dit om de juiste kleuren te krijgen."
   ]
  },
  {
   "cell_type": "code",
   "execution_count": 20,
   "metadata": {},
   "outputs": [],
   "source": [
    "import pandas as pd\n",
    "import matplotlib.pyplot as plt"
   ]
  },
  {
   "cell_type": "code",
   "execution_count": 2,
   "metadata": {},
   "outputs": [
    {
     "ename": "NameError",
     "evalue": "name 'pd' is not defined",
     "output_type": "error",
     "traceback": [
      "\u001b[0;31m---------------------------------------------------------------------------\u001b[0m",
      "\u001b[0;31mNameError\u001b[0m                                 Traceback (most recent call last)",
      "Cell \u001b[0;32mIn[2], line 2\u001b[0m\n\u001b[1;32m      1\u001b[0m \u001b[38;5;66;03m# Inlezen met correcte decimale scheiding\u001b[39;00m\n\u001b[0;32m----> 2\u001b[0m df_all \u001b[38;5;241m=\u001b[39m \u001b[43mpd\u001b[49m\u001b[38;5;241m.\u001b[39mread_csv(\u001b[38;5;124m\"\u001b[39m\u001b[38;5;124minzamelingenALL.csv\u001b[39m\u001b[38;5;124m\"\u001b[39m, sep\u001b[38;5;241m=\u001b[39m\u001b[38;5;124m\"\u001b[39m\u001b[38;5;124m;\u001b[39m\u001b[38;5;124m\"\u001b[39m, decimal\u001b[38;5;241m=\u001b[39m\u001b[38;5;124m\"\u001b[39m\u001b[38;5;124m,\u001b[39m\u001b[38;5;124m\"\u001b[39m)\n",
      "\u001b[0;31mNameError\u001b[0m: name 'pd' is not defined"
     ]
    }
   ],
   "source": [
    "# Inlezen met correcte decimale scheiding\n",
    "df_all = pd.read_csv(\"inzamelingenALL.csv\", sep=\";\", decimal=\",\")"
   ]
  },
  {
   "cell_type": "code",
   "execution_count": 3,
   "metadata": {},
   "outputs": [
    {
     "ename": "NameError",
     "evalue": "name 'pd' is not defined",
     "output_type": "error",
     "traceback": [
      "\u001b[0;31m---------------------------------------------------------------------------\u001b[0m",
      "\u001b[0;31mNameError\u001b[0m                                 Traceback (most recent call last)",
      "Cell \u001b[0;32mIn[3], line 2\u001b[0m\n\u001b[1;32m      1\u001b[0m \u001b[38;5;66;03m# Converteren naar juiste types\u001b[39;00m\n\u001b[0;32m----> 2\u001b[0m df_all[\u001b[38;5;124m\"\u001b[39m\u001b[38;5;124mGewicht (kg)\u001b[39m\u001b[38;5;124m\"\u001b[39m] \u001b[38;5;241m=\u001b[39m \u001b[43mpd\u001b[49m\u001b[38;5;241m.\u001b[39mto_numeric(df_all[\u001b[38;5;124m\"\u001b[39m\u001b[38;5;124mGewicht (kg)\u001b[39m\u001b[38;5;124m\"\u001b[39m], errors\u001b[38;5;241m=\u001b[39m\u001b[38;5;124m\"\u001b[39m\u001b[38;5;124mcoerce\u001b[39m\u001b[38;5;124m\"\u001b[39m)\n\u001b[1;32m      3\u001b[0m df_all[\u001b[38;5;124m\"\u001b[39m\u001b[38;5;124mkostprijs\u001b[39m\u001b[38;5;124m\"\u001b[39m] \u001b[38;5;241m=\u001b[39m pd\u001b[38;5;241m.\u001b[39mto_numeric(df_all[\u001b[38;5;124m\"\u001b[39m\u001b[38;5;124mkostprijs\u001b[39m\u001b[38;5;124m\"\u001b[39m], errors\u001b[38;5;241m=\u001b[39m\u001b[38;5;124m\"\u001b[39m\u001b[38;5;124mcoerce\u001b[39m\u001b[38;5;124m\"\u001b[39m)\n",
      "\u001b[0;31mNameError\u001b[0m: name 'pd' is not defined"
     ]
    }
   ],
   "source": [
    "# Converteren naar juiste types\n",
    "df_all[\"Gewicht (kg)\"] = pd.to_numeric(df_all[\"Gewicht (kg)\"], errors=\"coerce\")\n",
    "df_all[\"kostprijs\"] = pd.to_numeric(df_all[\"kostprijs\"], errors=\"coerce\")"
   ]
  },
  {
   "cell_type": "code",
   "execution_count": 23,
   "metadata": {},
   "outputs": [],
   "source": [
    "# Filter jaren tussen 2021 en 2024\n",
    "df_all = df_all[df_all[\"Jaar\"].between(2021, 2024)]"
   ]
  },
  {
   "cell_type": "code",
   "execution_count": 28,
   "metadata": {},
   "outputs": [],
   "source": [
    "# Eerst alle kolomnamen strippen voor veiligheid\n",
    "df_all.columns\n",
    "df_all.columns = df_all.columns.str.strip()"
   ]
  },
  {
   "cell_type": "code",
   "execution_count": 29,
   "metadata": {},
   "outputs": [],
   "source": [
    "# Filter per type afval obv 'Verwerkings codes'\n",
    "gft = df_all[df_all[\"Verwerkings codes\"] == 135]     # pas dit aan indien andere code\n",
    "papier = df_all[df_all[\"Verwerkings codes\"] == 237]\n",
    "rest = df_all[df_all[\"Verwerkings codes\"] == 126]"
   ]
  },
  {
   "cell_type": "code",
   "execution_count": 30,
   "metadata": {},
   "outputs": [],
   "source": [
    "gft[\"Fractie\"] = \"GFT\"\n",
    "papier[\"Fractie\"] = \"Papier\"\n",
    "rest[\"Fractie\"] = \"Restafval\""
   ]
  },
  {
   "cell_type": "code",
   "execution_count": 31,
   "metadata": {},
   "outputs": [],
   "source": [
    "df = pd.concat([gft, papier, rest])\n"
   ]
  },
  {
   "cell_type": "code",
   "execution_count": 32,
   "metadata": {},
   "outputs": [],
   "source": [
    "df_per_jaar = df.groupby([\"Jaar\", \"Fractie\"])[\"kostprijs\"].sum().reset_index()\n"
   ]
  },
  {
   "cell_type": "code",
   "execution_count": 33,
   "metadata": {},
   "outputs": [],
   "source": [
    "# Filter de gewichten > 0\n",
    "gewichten = df_all[\"Gewicht (kg)\"]\n",
    "gewichten = gewichten[gewichten > 0]"
   ]
  },
  {
   "cell_type": "code",
   "execution_count": 34,
   "metadata": {},
   "outputs": [
    {
     "data": {
      "text/plain": [
       "(array([ 6.73076923, 11.53846154, 14.42307692, 14.42307692, 12.5       ,\n",
       "         9.61538462,  8.65384615,  6.73076923, 10.57692308,  2.88461538,\n",
       "         0.96153846,  0.        ,  0.        ,  0.        ,  0.        ,\n",
       "         0.        ,  0.        ,  0.        ,  0.        ,  0.96153846]),\n",
       " array([ 2.5 ,  4.05,  5.6 ,  7.15,  8.7 , 10.25, 11.8 , 13.35, 14.9 ,\n",
       "        16.45, 18.  , 19.55, 21.1 , 22.65, 24.2 , 25.75, 27.3 , 28.85,\n",
       "        30.4 , 31.95, 33.5 ]),\n",
       " <BarContainer object of 20 artists>)"
      ]
     },
     "execution_count": 34,
     "metadata": {},
     "output_type": "execute_result"
    },
    {
     "data": {
      "image/png": "[encoded data removed]",
      "text/plain": [
       "<Figure size 800x500 with 1 Axes>"
      ]
     },
     "metadata": {},
     "output_type": "display_data"
    }
   ],
   "source": [
    "# Histogram plotten\n",
    "plt.figure(figsize=(8, 5))\n",
    "plt.hist(gewichten, bins=20, alpha=0.3, edgecolor='black', weights=[100/len(gewichten)]*len(gewichten))"
   ]
  },
  {
   "cell_type": "code",
   "execution_count": 35,
   "metadata": {},
   "outputs": [
    {
     "data": {
      "image/png": "[encoded data removed]",
      "text/plain": [
       "<Figure size 640x480 with 1 Axes>"
      ]
     },
     "metadata": {},
     "output_type": "display_data"
    }
   ],
   "source": [
    "plt.title(\"Verdeling van de gewichten\")\n",
    "plt.xlabel(\"Gewicht in kg\")\n",
    "plt.ylabel(\"Percentage\")\n",
    "plt.grid(True)\n",
    "plt.tight_layout()\n",
    "plt.show()"
   ]
  },
  {
   "cell_type": "code",
   "execution_count": 1,
   "metadata": {},
   "outputs": [
    {
     "ename": "NameError",
     "evalue": "name 'df_all' is not defined",
     "output_type": "error",
     "traceback": [
      "\u001b[0;31m---------------------------------------------------------------------------\u001b[0m",
      "\u001b[0;31mNameError\u001b[0m                                 Traceback (most recent call last)",
      "Cell \u001b[0;32mIn[1], line 4\u001b[0m\n\u001b[1;32m      1\u001b[0m \u001b[38;5;28;01mimport\u001b[39;00m\u001b[38;5;250m \u001b[39m\u001b[38;5;21;01mmatplotlib\u001b[39;00m\u001b[38;5;21;01m.\u001b[39;00m\u001b[38;5;21;01mpyplot\u001b[39;00m\u001b[38;5;250m \u001b[39m\u001b[38;5;28;01mas\u001b[39;00m\u001b[38;5;250m \u001b[39m\u001b[38;5;21;01mplt\u001b[39;00m\n\u001b[1;32m      3\u001b[0m \u001b[38;5;66;03m# Stap 1: Filter alleen gewichten > 0\u001b[39;00m\n\u001b[0;32m----> 4\u001b[0m gewichten \u001b[38;5;241m=\u001b[39m \u001b[43mdf_all\u001b[49m[\u001b[38;5;124m\"\u001b[39m\u001b[38;5;124mGewicht (kg)\u001b[39m\u001b[38;5;124m\"\u001b[39m]\n\u001b[1;32m      5\u001b[0m gewichten \u001b[38;5;241m=\u001b[39m gewichten[gewichten \u001b[38;5;241m>\u001b[39m \u001b[38;5;241m0\u001b[39m]\n\u001b[1;32m      7\u001b[0m \u001b[38;5;66;03m# Stap 2: Plot histogram met percentages\u001b[39;00m\n",
      "\u001b[0;31mNameError\u001b[0m: name 'df_all' is not defined"
     ]
    }
   ],
   "source": [
    "import matplotlib.pyplot as plt\n",
    "\n",
    "# Stap 1: Filter alleen gewichten > 0\n",
    "gewichten = df_all[\"Gewicht (kg)\"]\n",
    "gewichten = gewichten[gewichten > 0]\n",
    "\n",
    "# Stap 2: Plot histogram met percentages\n",
    "plt.figure(figsize=(8, 5))\n",
    "plt.hist(gewichten, bins=20, alpha=0.3, edgecolor='black', weights=[100/len(gewichten)] * len(gewichten))\n",
    "\n",
    "# Stap 3: Labels toevoegen\n",
    "plt.title(\"Verdeling van de gewichten\")\n",
    "plt.xlabel(\"Gewicht in kg\")\n",
    "plt.ylabel(\"Percentage\")\n",
    "plt.grid(True)\n",
    "plt.tight_layout()\n",
    "plt.show()\n"
   ]
  },
  {
   "cell_type": "code",
   "execution_count": null,
   "metadata": {},
   "outputs": [],
   "source": []
  }
 ],
 "metadata": {
  "kernelspec": {
   "display_name": "Python 3",
   "language": "python",
   "name": "python3"
  },
  "language_info": {
   "codemirror_mode": {
    "name": "ipython",
    "version": 3
   },
   "file_extension": ".py",
   "mimetype": "text/x-python",
   "name": "python",
   "nbconvert_exporter": "python",
   "pygments_lexer": "ipython3",
   "version": "3.10.4"
  }
 },
 "nbformat": 4,
 "nbformat_minor": 2
}
