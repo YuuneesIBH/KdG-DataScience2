{
 "cells": [
  {
   "cell_type": "code",
   "execution_count": 1,
   "metadata": {},
   "outputs": [],
   "source": [
    "# Vraag 3b – Data Science 2 examen (6 punten)\n",
    "#\n",
    "# b) Bouw onderstaande grafiek na (6p)\n",
    "# De grafiek moet er precies hetzelfde uitzien zoals de afbeelding. \n",
    "# Vertrek hierbij van de CSV inzamelingenALL.csv.\n",
    "# De jaren 2020 en 2025 zijn niet meegenomen in de resultaten omdat de data daarvan niet volledig was.\n",
    "#\n",
    "# Zoals je merkt zal je eerst de data uit de CSV in het juiste formaat moeten omzetten. \n",
    "# Als het je niet lukt om de data te transformeren naar het juiste formaat voor de visualisatie \n",
    "# dan kan je er voor kiezen om de ‘commented’ getransformeerde dataframes in het examenbestand te gebruiken.\n",
    "# Dit kost je 3 punten. Laat in elk geval je poging tot transformatie staan omdat een gedeeltelijke oplossing toch nog punten kan opleveren.\n",
    "#\n",
    "# Tip1: Als je halve jaartallen ziet op de x-as gebruik dan de functie plt.xticks()\n",
    "# Tip2: Als je een zwart thema gebruikt in PyCharm zie je inverse kleuren. \n",
    "#       Ga naar File > Settings > Zoek “invert image outputs for dark themes” en disable dit om de juiste kleuren te krijgen."
   ]
  },
  {
   "cell_type": "code",
   "execution_count": 2,
   "metadata": {},
   "outputs": [],
   "source": [
    "import pandas as pd\n",
    "import matplotlib.pyplot as plt"
   ]
  },
  {
   "cell_type": "code",
   "execution_count": 9,
   "metadata": {},
   "outputs": [],
   "source": [
    "# Inlezen met correcte decimale scheiding\n",
    "df_all = pd.read_csv(\"inzamelingenALL.csv\", sep=\";\", decimal=\",\")"
   ]
  },
  {
   "cell_type": "code",
   "execution_count": 4,
   "metadata": {},
   "outputs": [],
   "source": [
    "# Converteren naar juiste types\n",
    "df_all[\"Gewicht (kg)\"] = pd.to_numeric(df_all[\"Gewicht (kg)\"], errors=\"coerce\")\n",
    "df_all[\"kostprijs\"] = pd.to_numeric(df_all[\"kostprijs\"], errors=\"coerce\")"
   ]
  },
  {
   "cell_type": "code",
   "execution_count": 5,
   "metadata": {},
   "outputs": [],
   "source": [
    "# Filter jaren tussen 2021 en 2024\n",
    "df_all = df_all[df_all[\"Jaar\"].between(2021, 2024)]"
   ]
  },
  {
   "cell_type": "code",
   "execution_count": 8,
   "metadata": {},
   "outputs": [
    {
     "ename": "ValueError",
     "evalue": "De kolom 'type' ontbreekt in de CSV. Zorg ervoor dat deze kolom bestaat voordat je groepeert.",
     "output_type": "error",
     "traceback": [
      "\u001b[0;31m---------------------------------------------------------------------------\u001b[0m",
      "\u001b[0;31mValueError\u001b[0m                                Traceback (most recent call last)",
      "Cell \u001b[0;32mIn[8], line 3\u001b[0m\n\u001b[1;32m      1\u001b[0m \u001b[38;5;66;03m# Controleren of kolom 'type' bestaat\u001b[39;00m\n\u001b[1;32m      2\u001b[0m \u001b[38;5;28;01mif\u001b[39;00m \u001b[38;5;124m'\u001b[39m\u001b[38;5;124mtype\u001b[39m\u001b[38;5;124m'\u001b[39m \u001b[38;5;129;01mnot\u001b[39;00m \u001b[38;5;129;01min\u001b[39;00m df_all\u001b[38;5;241m.\u001b[39mcolumns:\n\u001b[0;32m----> 3\u001b[0m     \u001b[38;5;28;01mraise\u001b[39;00m \u001b[38;5;167;01mValueError\u001b[39;00m(\u001b[38;5;124m\"\u001b[39m\u001b[38;5;124mDe kolom \u001b[39m\u001b[38;5;124m'\u001b[39m\u001b[38;5;124mtype\u001b[39m\u001b[38;5;124m'\u001b[39m\u001b[38;5;124m ontbreekt in de CSV. Zorg ervoor dat deze kolom bestaat voordat je groepeert.\u001b[39m\u001b[38;5;124m\"\u001b[39m)\n",
      "\u001b[0;31mValueError\u001b[0m: De kolom 'type' ontbreekt in de CSV. Zorg ervoor dat deze kolom bestaat voordat je groepeert."
     ]
    }
   ],
   "source": [
    "# Controleren of kolom 'type' bestaat\n",
    "if 'type' not in df_all.columns:\n",
    "    raise ValueError(\"De kolom 'type' ontbreekt in de CSV. Zorg ervoor dat deze kolom bestaat voordat je groepeert.\")"
   ]
  },
  {
   "cell_type": "code",
   "execution_count": null,
   "metadata": {},
   "outputs": [],
   "source": []
  }
 ],
 "metadata": {
  "kernelspec": {
   "display_name": "Python 3",
   "language": "python",
   "name": "python3"
  },
  "language_info": {
   "codemirror_mode": {
    "name": "ipython",
    "version": 3
   },
   "file_extension": ".py",
   "mimetype": "text/x-python",
   "name": "python",
   "nbconvert_exporter": "python",
   "pygments_lexer": "ipython3",
   "version": "3.10.4"
  }
 },
 "nbformat": 4,
 "nbformat_minor": 2
}
