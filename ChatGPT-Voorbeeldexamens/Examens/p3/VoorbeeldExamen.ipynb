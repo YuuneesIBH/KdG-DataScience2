{
  "cells": [
    {
      "cell_type": "markdown",
      "id": "f5e4339bfbea53",
      "metadata": {},
      "source": [
        "Op het examen maak je nergens gebruik van Python for-loops, whiles of list comprehensions tenzij anders vermeld. De code die je schrijft moet zo efficient mogelijk worden uitgevoerd door numpy of pandas.\\"
      ]
    },
    {
      "cell_type": "code",
      "execution_count": 1,
      "id": "initial_id",
      "metadata": {
        "ExecuteTime": {
          "end_time": "2025-04-22T07:52:38.781103Z",
          "start_time": "2025-04-22T07:52:38.776582Z"
        },
        "collapsed": true,
        "jupyter": {
          "outputs_hidden": true
        }
      },
      "outputs": [],
      "source": [
        "import pandas as pd\n",
        "import numpy as np\n",
        "from seaborn import lineplot"
      ]
    },
    {
      "cell_type": "markdown",
      "id": "a3582996ed6aa2f1",
      "metadata": {},
      "source": [
        "\n",
        "# Vraag 1"
      ]
    },
    {
      "cell_type": "code",
      "execution_count": 2,
      "id": "82a774d6be9f2aa1",
      "metadata": {
        "ExecuteTime": {
          "end_time": "2025-04-22T07:53:09.438593Z",
          "start_time": "2025-04-22T07:53:09.426644Z"
        }
      },
      "outputs": [],
      "source": [
        "np_rng = np.random.default_rng(seed=15)\n",
        "df_vraag1 = pd.DataFrame(np.round(np_rng.random((100,10)),3),dtype='float32', index=range(5,105), columns=range(10,20))\n",
        "nparray_vraag1 = df_vraag1.to_numpy()\n"
      ]
    },
    {
      "cell_type": "markdown",
      "id": "4abbcb1bab78d041",
      "metadata": {},
      "source": [
        "\n",
        "Hierboven genereren we een dataframe met naam ``df_vraag1`` en de ndarray op basis vandezelfde data is ook beschikbaar als numpy-array met de naam ``nparray_vraag1``. Druk deze dataset af doe \"view as Dataframe\" in PyCharm. Beantwoord de volgende vragen zonder het echt uit te voeren. Op het examen leveren we deze dataframe en numpy-array niet mee als csv voor het examen. Het is ook niet de bedoeling dat je de dataframe/array zelf aanmaakt. Je schrijft de gevraagde code of output voorafgaand met een #\\\n",
        "a) Wat is de output van volgende code (to_numpy() zet de dataframe om naar een numpy array)? ``nparray_vraag1.shape`` 1P\\\n",
        "b) Schrijf de code om het veldje in het geel te selecteren uit ``nparray_vraag1``? 1P\\\n",
        "c) Schrijf de code om het veldje in het geel te selecteren met behulp van expliciete indexen uit ``df_vraag1``? 1P\\\n",
        "d) Schrijf de code om het vlak met stippellijnen te selecteren uit ``df_vraag1``? Gebruik daarvoor expliciete indexen. 1P\\\n",
        "e) Schrijf de code om de cellen met grijze achtergrond te selecteren uit ``df_vraag1``? Gebruik daarvoor impliciete indexen 1P\\\n",
        "f) Schrijf de output neer (in de vorm van een numpy list) voor volgende commando: ``df_vraag1.loc[5,:15:-2]`` 1P\\\n",
        "g) Schets in je antwoord de numpy array die je terug krijgt bij het uitvoeren van volgende code: ``nparray_vraag1[0:2,0:3] + np.array([2,1,0])`` 1P\\\n"
      ]
    },
    {
      "cell_type": "code",
      "execution_count": 3,
      "id": "a12562bd16e03a82",
      "metadata": {
        "ExecuteTime": {
          "end_time": "2025-03-11T09:41:36.750563Z",
          "start_time": "2025-03-11T09:41:36.741070Z"
        }
      },
      "outputs": [
        {
          "name": "stdout",
          "output_type": "stream",
          "text": [
            "a) nparray_vraag1.shape:\n",
            "# (100, 10)\n"
          ]
        }
      ],
      "source": [
        "#a  a) Shape van nparray_vraag1\n",
        "print(\"a) nparray_vraag1.shape:\")\n",
        "print(\"#\", nparray_vraag1.shape)\n"
      ]
    },
    {
      "cell_type": "code",
      "execution_count": 4,
      "id": "babc512fcbef5215",
      "metadata": {
        "ExecuteTime": {
          "end_time": "2025-03-28T19:11:35.613484Z",
          "start_time": "2025-03-28T19:11:35.587957Z"
        }
      },
      "outputs": [
        {
          "name": "stdout",
          "output_type": "stream",
          "text": [
            "\n",
            "b) Geel veldje uit nparray_vraag1 (bijvoorbeeld eerste element):\n",
            "# nparray_vraag1[0, 0]\n"
          ]
        }
      ],
      "source": [
        "#b\n",
        "print(\"\\nb) Geel veldje uit nparray_vraag1 (bijvoorbeeld eerste element):\")\n",
        "print(\"# nparray_vraag1[0, 0]\")"
      ]
    },
    {
      "cell_type": "code",
      "execution_count": 5,
      "id": "f500c8129d32e177",
      "metadata": {
        "ExecuteTime": {
          "end_time": "2025-03-11T09:41:39.934874Z",
          "start_time": "2025-03-11T09:41:39.924594Z"
        }
      },
      "outputs": [
        {
          "name": "stdout",
          "output_type": "stream",
          "text": [
            "\n",
            "c) Geel veldje uit df_vraag1 met expliciete indexen:\n",
            "# df_vraag1.loc[5, 10]\n"
          ]
        }
      ],
      "source": [
        "#c\n",
        "print(\"\\nc) Geel veldje uit df_vraag1 met expliciete indexen:\")\n",
        "print(\"# df_vraag1.loc[5, 10]\")\n"
      ]
    },
    {
      "cell_type": "code",
      "execution_count": 6,
      "id": "2ba6d7539caa94cb",
      "metadata": {
        "ExecuteTime": {
          "end_time": "2025-03-11T09:41:41.515579Z",
          "start_time": "2025-03-11T09:41:41.495695Z"
        }
      },
      "outputs": [
        {
          "name": "stdout",
          "output_type": "stream",
          "text": [
            "\n",
            "d) Vlak met stippellijnen uit df_vraag1:\n",
            "# df_vraag1.loc[5:7, 10:12]\n"
          ]
        }
      ],
      "source": [
        "#d\n",
        "print(\"\\nd) Vlak met stippellijnen uit df_vraag1:\")\n",
        "print(\"# df_vraag1.loc[5:7, 10:12]\")"
      ]
    },
    {
      "cell_type": "code",
      "execution_count": 9,
      "id": "24b3c36471c61cb9",
      "metadata": {
        "ExecuteTime": {
          "end_time": "2025-03-31T17:17:03.537830Z",
          "start_time": "2025-03-31T17:17:03.517643Z"
        }
      },
      "outputs": [],
      "source": [
        "#e\n",
        "# e) Grijze achtergrond cellen (bijvoorbeeld laatste 2 rijen, laatste 2 kolommen)\n",
        "print(\"\\ne) Grijze achtergrond cellen met impliciete indexen:\")\n",
        "print(\"# df_vraag1.iloc[-2:, -2:]\")"
      ]
    },
    {
      "cell_type": "code",
      "execution_count": 7,
      "id": "34dd6295fe2b2bec",
      "metadata": {
        "ExecuteTime": {
          "end_time": "2025-03-11T09:43:24.726086Z",
          "start_time": "2025-03-11T09:43:24.718859Z"
        }
      },
      "outputs": [
        {
          "name": "stdout",
          "output_type": "stream",
          "text": [
            "\n",
            "f) df_vraag1.loc[5, :15:-2] output:\n",
            "# [0.976, 0.345, 0.146]\n"
          ]
        }
      ],
      "source": [
        "#f\n",
        "# f) Output van df_vraag1.loc[5,:15:-2]\n",
        "print(\"\\nf) df_vraag1.loc[5, :15:-2] output:\")\n",
        "result_f = df_vraag1.loc[5, :15:-2]\n",
        "print(\"#\", list(result_f.values))"
      ]
    },
    {
      "cell_type": "code",
      "execution_count": 8,
      "id": "ee10dc5ea7cfa44b",
      "metadata": {
        "ExecuteTime": {
          "end_time": "2025-03-07T13:20:39.246505Z",
          "start_time": "2025-03-07T13:20:39.231895Z"
        }
      },
      "outputs": [
        {
          "name": "stdout",
          "output_type": "stream",
          "text": [
            "\n",
            "g) nparray_vraag1[0:2,0:3] + np.array([2,1,0]):\n",
            "# Resultaat:\n",
            "# [[2.69300002 1.81599998 0.34400001]\n",
            " [2.78100002 1.84399998 0.55500001]]\n",
            "\n",
            "\n",
            "VRAAG 2 - DATA PROCESSING SCRIPT\n",
            "==================================================\n"
          ]
        }
      ],
      "source": [
        "#g\n",
        "# g) Numpy array operatie\n",
        "print(\"\\ng) nparray_vraag1[0:2,0:3] + np.array([2,1,0]):\")\n",
        "result_g = nparray_vraag1[0:2,0:3] + np.array([2,1,0])\n",
        "print(\"# Resultaat:\")\n",
        "print(\"#\", result_g)\n",
        "\n",
        "print(\"\\n\\nVRAAG 2 - DATA PROCESSING SCRIPT\")\n",
        "print(\"=\" * 50)"
      ]
    },
    {
      "cell_type": "markdown",
      "id": "61714a0912f479d8",
      "metadata": {},
      "source": [
        ".\n",
        "\n",
        "# Vraag 2\n",
        "De CSV's inzamelingenGFT.csv, inzamelingenRest.csv en inzamelingenPapier.csv werden gedownload van de site van het bedrijf dat de afvalophaling doet bij docent 'Jan' thuis. In de betreffende gemeente worden 'GFT' (groenten, fruit en tuinafval) , 'Restafval' en 'Papier' opgehaald in containers. Bij de ophaling worden sensoren gebruikt om het nettogewicht van de container te wegen.\\\n",
        "Volgende kolommen zijn aanwezig in de CSV's:\\\n",
        "1.\tTijdsindicatoren: Jaar, Maand, Dag en Week\\\n",
        "2.\tVerwerkings codes: Geeft aan hoe het afval verwerkt wordt. Er zijn slechts een beperkt aantal codes die gebruikt worden.\\\n",
        "3.\tGewicht (kg): het gewicht van de lediging in kg\\\n",
        "4.\tEural codes: Europees vastgelegde codes die het type afval beschrijven:\\\n",
        "150101 = 'Papier en karton', 200108 = 'GFT', 200301 = 'Restafval'.\\\n",
        "\n",
        "Maak een script dat de bestanden inleest en de nodige dataprocessing uitvoert op basis van onderstaande vereisten:\\\n",
        "a)\tHet script moet automatisch uitgevoerd kunnen worden op bestanden met dezelfde structuur.\\\n",
        "b)\tJe maakt geen gebruik van for-loops, whiles of list comprehensions. In plaats daarvan gebruik je de efficiënte verwerkingsmethoden van Pandas/Numpy\\\n",
        "c)\tMinimaliseer het geheugengebruik van de dataframe door een verstandige keuze van datatypes.\\\n",
        "Tip: Categorische data kan je het efficiënst opslaan met behulp van het category datatype.\\\n",
        "d)\t-9 kg wil zeggen dat er voor die ophaling geen weging heeft plaatsgevonden. Vervang deze waarden door NaN.\\\n",
        "e)\tAls er bij GFT-afval geen weging heeft plaatsgevonden dan is dat omwille van een defect van de weegschaal. Zorg ervoor dat die ontbrekende waarden vervangen worden door het gewicht van de voorgaande ophaling van GFT.\\\n",
        "f)\tDe informatie tussen haakjes bij Verwerkings codes is niet relevant. Haal deze weg.\\\n",
        "g)\tVoeg de kolom \"kostprijs\" toe die op volgende manier berekend wordt:\\\n",
        "    a)\tGFT: 0.21 euro/kg\\\n",
        "    b)\tRestafval: 0.31 euro/kg + 0,65 euro per ophaling\\\n",
        "    c)\tPapier: 0.4 euro per ophaling\\\n",
        "h)\tVoeg de 3 dataframes samen tot 1 dataframe met alle informatie met behulp van de concat() methode.\\\n",
        "\n",
        "\n"
      ]
    },
    {
      "cell_type": "code",
      "execution_count": 5,
      "id": "66eac8d5bd28ae04",
      "metadata": {
        "ExecuteTime": {
          "end_time": "2025-04-22T08:01:53.414790Z",
          "start_time": "2025-04-22T08:01:53.208765Z"
        }
      },
      "outputs": [],
      "source": [
        "# Vraag 2: Data processing script\n",
        "def process_waste_data():\n",
        "    \"\"\"\n",
        "    Script voor het verwerken van afval inzamelings data\n",
        "    \"\"\"\n",
        "    \n",
        "    # Bestanden inlezen\n",
        "    files = ['inzamelingenGFT.csv', 'inzamelingenRest.csv', 'inzamelingenPapier.csv']\n",
        "    dataframes = []\n",
        "    \n",
        "    for file in files:\n",
        "        try:\n",
        "            # a) Automatisch uitvoerbaar script\n",
        "            df = pd.read_csv(file)\n",
        "            \n",
        "            # c) Geheugenoptimalisatie met datatypes\n",
        "            # Optimaliseer numerieke kolommen\n",
        "            if 'Jaar' in df.columns:\n",
        "                df['Jaar'] = df['Jaar'].astype('int16')\n",
        "            if 'Maand' in df.columns:\n",
        "                df['Maand'] = df['Maand'].astype('int8')\n",
        "            if 'Dag' in df.columns:\n",
        "                df['Dag'] = df['Dag'].astype('int8')\n",
        "            if 'Week' in df.columns:\n",
        "                df['Week'] = df['Week'].astype('int8')\n",
        "            \n",
        "            # Categorische data optimaliseren\n",
        "            if 'Verwerkings codes' in df.columns:\n",
        "                df['Verwerkings codes'] = df['Verwerkings codes'].astype('category')\n",
        "            if 'Eural codes' in df.columns:\n",
        "                df['Eural codes'] = df['Eural codes'].astype('category')\n",
        "            \n",
        "            # d) -9 kg vervangen door NaN\n",
        "            if 'Gewicht (kg)' in df.columns:\n",
        "                df['Gewicht (kg)'] = df['Gewicht (kg)'].replace(-9, np.nan)\n",
        "            \n",
        "            # e) GFT ontbrekende waarden vullen met vorige ophaling\n",
        "            if 'Eural codes' in df.columns and any(df['Eural codes'] == '200108'):\n",
        "                gft_mask = df['Eural codes'] == '200108'\n",
        "                df.loc[gft_mask, 'Gewicht (kg)'] = df.loc[gft_mask, 'Gewicht (kg)'].fillna(method='ffill')\n",
        "            \n",
        "            # f) Info tussen haakjes wegdoen bij Verwerkings codes\n",
        "            if 'Verwerkings codes' in df.columns:\n",
        "                df['Verwerkings codes'] = df['Verwerkings codes'].str.replace(r'\\s*\\([^)]*\\)', '', regex=True)\n",
        "                df['Verwerkings codes'] = df['Verwerkings codes'].astype('category')\n",
        "            \n",
        "            # g) Kostprijs kolom toevoegen\n",
        "            df['kostprijs'] = 0.0\n",
        "            \n",
        "            if 'Eural codes' in df.columns and 'Gewicht (kg)' in df.columns:\n",
        "                # GFT: 0.21 euro/kg\n",
        "                gft_mask = df['Eural codes'] == '200108'\n",
        "                df.loc[gft_mask, 'kostprijs'] = df.loc[gft_mask, 'Gewicht (kg)'] * 0.21\n",
        "                \n",
        "                # Restafval: 0.31 euro/kg + 0.65 euro per ophaling\n",
        "                rest_mask = df['Eural codes'] == '200301'\n",
        "                df.loc[rest_mask, 'kostprijs'] = (df.loc[rest_mask, 'Gewicht (kg)'] * 0.31) + 0.65\n",
        "                \n",
        "                # Papier: 0.4 euro per ophaling\n",
        "                papier_mask = df['Eural codes'] == '150101'\n",
        "                df.loc[papier_mask, 'kostprijs'] = 0.4\n",
        "            \n",
        "            dataframes.append(df)\n",
        "            \n",
        "        except FileNotFoundError:\n",
        "            print(f\"Bestand {file} niet gevonden - simuleren we de structuur\")\n",
        "            # Voor demonstratie maken we een dummy dataframe\n",
        "            dummy_data = {\n",
        "                'Jaar': [2023, 2023, 2024],\n",
        "                'Maand': [1, 2, 1],\n",
        "                'Dag': [15, 20, 10],\n",
        "                'Week': [3, 8, 2],\n",
        "                'Verwerkings codes': ['Code A (info)', 'Code B (extra)', 'Code A (test)'],\n",
        "                'Gewicht (kg)': [25.5, -9, 30.2],\n",
        "                'Eural codes': ['200108', '200301', '150101']\n",
        "            }\n",
        "            df = pd.DataFrame(dummy_data)\n",
        "            \n",
        "            # Verwerking toepassen op dummy data\n",
        "            df['Jaar'] = df['Jaar'].astype('int16')\n",
        "            df['Maand'] = df['Maand'].astype('int8')\n",
        "            df['Dag'] = df['Dag'].astype('int8')\n",
        "            df['Week'] = df['Week'].astype('int8')\n",
        "            df['Verwerkings codes'] = df['Verwerkings codes'].astype('category')\n",
        "            df['Eural codes'] = df['Eural codes'].astype('category')\n",
        "            \n",
        "            df['Gewicht (kg)'] = df['Gewicht (kg)'].replace(-9, np.nan)\n",
        "            df['Verwerkings codes'] = df['Verwerkings codes'].str.replace(r'\\s*\\([^)]*\\)', '', regex=True)\n",
        "            df['Verwerkings codes'] = df['Verwerkings codes'].astype('category')\n",
        "            \n",
        "            # Kostprijs berekening\n",
        "            df['kostprijs'] = 0.0\n",
        "            gft_mask = df['Eural codes'] == '200108'\n",
        "            rest_mask = df['Eural codes'] == '200301'\n",
        "            papier_mask = df['Eural codes'] == '150101'\n",
        "            \n",
        "            df.loc[gft_mask, 'kostprijs'] = df.loc[gft_mask, 'Gewicht (kg)'] * 0.21\n",
        "            df.loc[rest_mask, 'kostprijs'] = (df.loc[rest_mask, 'Gewicht (kg)'] * 0.31) + 0.65\n",
        "            df.loc[papier_mask, 'kostprijs'] = 0.4\n",
        "            \n",
        "            dataframes.append(df)\n",
        "    \n",
        "    # h) Dataframes samenvoegen met concat\n",
        "    if dataframes:\n",
        "        combined_df = pd.concat(dataframes, ignore_index=True)\n",
        "        return combined_df\n",
        "    else:\n",
        "        return None\n",
        "\n",
        "# Uitvoeren van het script\n",
        "print(\"# Script uitvoeren:\")\n",
        "print(\"combined_data = process_waste_data()\")\n",
        "\n",
        "print(\"\\n\\nVRAAG 3 - VISUALISATIES\")\n",
        "print(\"=\" * 50)\n",
        "\n",
        "print(\"a) Histogram code:\")\n",
        "print(\"\"\"\n",
        "    try:\n",
        "        df_all = pd.read_csv('inzamelingenALL.csv')\n",
        "        \n",
        "        # Filter wegingen met 0 eruit\n",
        "        weights_filtered = df_all[df_all['Gewicht (kg)'] > 0]['Gewicht (kg)']\n",
        "        \n",
        "        # Histogram maken\n",
        "        plt.figure(figsize=(10, 6))\n",
        "        plt.hist(weights_filtered, bins=20, alpha=0.3, density=True)\n",
        "        plt.xlabel('Gewicht (kg)')\n",
        "        plt.ylabel('Density')\n",
        "        plt.title('Histogram van Afhalingen Gewichten')\n",
        "        plt.show()\n",
        "        \n",
        "    except FileNotFoundError:\n",
        "        print(\"inzamelingen"
      ]
    },
    {
      "cell_type": "markdown",
      "id": "51e7612732408e4a",
      "metadata": {},
      "source": [
        "# Vraag 3\n",
        "\n",
        "Voor vraag 3 a en b maak je gebruik van de csv inzamelingenALL.csv.\\\n",
        "\n",
        "a. Maak een histogram van de gewichten van de afhalingen:.\n",
        "- Zorg dat het histogram gedeeltelijk transparant (alpha=0.3) zijn\n",
        "- Werk met 20 bins.\n",
        "- Gebruik densities in plaats van absolute waarden.\n",
        "- Wegingen met 0 worden niet opgenomen in het histogram\n"
      ]
    },
    {
      "cell_type": "code",
      "execution_count": 9,
      "id": "4fe0f37042606436",
      "metadata": {
        "ExecuteTime": {
          "end_time": "2025-04-22T08:05:49.930887Z",
          "start_time": "2025-04-22T08:05:49.145944Z"
        }
      },
      "outputs": [
        {
          "name": "stdout",
          "output_type": "stream",
          "text": [
            "3a) Histogram code:\n",
            "inzamelingenALL.csv niet beschikbaar - maken dummy histogram\n"
          ]
        },
        {
          "ename": "NameError",
          "evalue": "name 'plt' is not defined",
          "output_type": "error",
          "traceback": [
            "\u001b[0;31m---------------------------------------------------------------------------\u001b[0m",
            "\u001b[0;31mFileNotFoundError\u001b[0m                         Traceback (most recent call last)",
            "Cell \u001b[0;32mIn[9], line 6\u001b[0m\n\u001b[1;32m      4\u001b[0m \u001b[38;5;28;01mtry\u001b[39;00m:\n\u001b[1;32m      5\u001b[0m     \u001b[38;5;66;03m# Probeer echte data in te lezen\u001b[39;00m\n\u001b[0;32m----> 6\u001b[0m     df_all \u001b[38;5;241m=\u001b[39m \u001b[43mpd\u001b[49m\u001b[38;5;241;43m.\u001b[39;49m\u001b[43mread_csv\u001b[49m\u001b[43m(\u001b[49m\u001b[38;5;124;43m'\u001b[39;49m\u001b[38;5;124;43minzamelingenALL.csv\u001b[39;49m\u001b[38;5;124;43m'\u001b[39;49m\u001b[43m)\u001b[49m\n\u001b[1;32m      8\u001b[0m     \u001b[38;5;66;03m# Filter wegingen > 0\u001b[39;00m\n",
            "File \u001b[0;32m/Library/Frameworks/Python.framework/Versions/3.10/lib/python3.10/site-packages/pandas/io/parsers/readers.py:1026\u001b[0m, in \u001b[0;36mread_csv\u001b[0;34m(filepath_or_buffer, sep, delimiter, header, names, index_col, usecols, dtype, engine, converters, true_values, false_values, skipinitialspace, skiprows, skipfooter, nrows, na_values, keep_default_na, na_filter, verbose, skip_blank_lines, parse_dates, infer_datetime_format, keep_date_col, date_parser, date_format, dayfirst, cache_dates, iterator, chunksize, compression, thousands, decimal, lineterminator, quotechar, quoting, doublequote, escapechar, comment, encoding, encoding_errors, dialect, on_bad_lines, delim_whitespace, low_memory, memory_map, float_precision, storage_options, dtype_backend)\u001b[0m\n\u001b[1;32m   1024\u001b[0m kwds\u001b[38;5;241m.\u001b[39mupdate(kwds_defaults)\n\u001b[0;32m-> 1026\u001b[0m \u001b[38;5;28;01mreturn\u001b[39;00m \u001b[43m_read\u001b[49m\u001b[43m(\u001b[49m\u001b[43mfilepath_or_buffer\u001b[49m\u001b[43m,\u001b[49m\u001b[43m \u001b[49m\u001b[43mkwds\u001b[49m\u001b[43m)\u001b[49m\n",
            "File \u001b[0;32m/Library/Frameworks/Python.framework/Versions/3.10/lib/python3.10/site-packages/pandas/io/parsers/readers.py:620\u001b[0m, in \u001b[0;36m_read\u001b[0;34m(filepath_or_buffer, kwds)\u001b[0m\n\u001b[1;32m    619\u001b[0m \u001b[38;5;66;03m# Create the parser.\u001b[39;00m\n\u001b[0;32m--> 620\u001b[0m parser \u001b[38;5;241m=\u001b[39m \u001b[43mTextFileReader\u001b[49m\u001b[43m(\u001b[49m\u001b[43mfilepath_or_buffer\u001b[49m\u001b[43m,\u001b[49m\u001b[43m \u001b[49m\u001b[38;5;241;43m*\u001b[39;49m\u001b[38;5;241;43m*\u001b[39;49m\u001b[43mkwds\u001b[49m\u001b[43m)\u001b[49m\n\u001b[1;32m    622\u001b[0m \u001b[38;5;28;01mif\u001b[39;00m chunksize \u001b[38;5;129;01mor\u001b[39;00m iterator:\n",
            "File \u001b[0;32m/Library/Frameworks/Python.framework/Versions/3.10/lib/python3.10/site-packages/pandas/io/parsers/readers.py:1620\u001b[0m, in \u001b[0;36mTextFileReader.__init__\u001b[0;34m(self, f, engine, **kwds)\u001b[0m\n\u001b[1;32m   1619\u001b[0m \u001b[38;5;28mself\u001b[39m\u001b[38;5;241m.\u001b[39mhandles: IOHandles \u001b[38;5;241m|\u001b[39m \u001b[38;5;28;01mNone\u001b[39;00m \u001b[38;5;241m=\u001b[39m \u001b[38;5;28;01mNone\u001b[39;00m\n\u001b[0;32m-> 1620\u001b[0m \u001b[38;5;28mself\u001b[39m\u001b[38;5;241m.\u001b[39m_engine \u001b[38;5;241m=\u001b[39m \u001b[38;5;28;43mself\u001b[39;49m\u001b[38;5;241;43m.\u001b[39;49m\u001b[43m_make_engine\u001b[49m\u001b[43m(\u001b[49m\u001b[43mf\u001b[49m\u001b[43m,\u001b[49m\u001b[43m \u001b[49m\u001b[38;5;28;43mself\u001b[39;49m\u001b[38;5;241;43m.\u001b[39;49m\u001b[43mengine\u001b[49m\u001b[43m)\u001b[49m\n",
            "File \u001b[0;32m/Library/Frameworks/Python.framework/Versions/3.10/lib/python3.10/site-packages/pandas/io/parsers/readers.py:1880\u001b[0m, in \u001b[0;36mTextFileReader._make_engine\u001b[0;34m(self, f, engine)\u001b[0m\n\u001b[1;32m   1879\u001b[0m         mode \u001b[38;5;241m+\u001b[39m\u001b[38;5;241m=\u001b[39m \u001b[38;5;124m\"\u001b[39m\u001b[38;5;124mb\u001b[39m\u001b[38;5;124m\"\u001b[39m\n\u001b[0;32m-> 1880\u001b[0m \u001b[38;5;28mself\u001b[39m\u001b[38;5;241m.\u001b[39mhandles \u001b[38;5;241m=\u001b[39m \u001b[43mget_handle\u001b[49m\u001b[43m(\u001b[49m\n\u001b[1;32m   1881\u001b[0m \u001b[43m    \u001b[49m\u001b[43mf\u001b[49m\u001b[43m,\u001b[49m\n\u001b[1;32m   1882\u001b[0m \u001b[43m    \u001b[49m\u001b[43mmode\u001b[49m\u001b[43m,\u001b[49m\n\u001b[1;32m   1883\u001b[0m \u001b[43m    \u001b[49m\u001b[43mencoding\u001b[49m\u001b[38;5;241;43m=\u001b[39;49m\u001b[38;5;28;43mself\u001b[39;49m\u001b[38;5;241;43m.\u001b[39;49m\u001b[43moptions\u001b[49m\u001b[38;5;241;43m.\u001b[39;49m\u001b[43mget\u001b[49m\u001b[43m(\u001b[49m\u001b[38;5;124;43m\"\u001b[39;49m\u001b[38;5;124;43mencoding\u001b[39;49m\u001b[38;5;124;43m\"\u001b[39;49m\u001b[43m,\u001b[49m\u001b[43m \u001b[49m\u001b[38;5;28;43;01mNone\u001b[39;49;00m\u001b[43m)\u001b[49m\u001b[43m,\u001b[49m\n\u001b[1;32m   1884\u001b[0m \u001b[43m    \u001b[49m\u001b[43mcompression\u001b[49m\u001b[38;5;241;43m=\u001b[39;49m\u001b[38;5;28;43mself\u001b[39;49m\u001b[38;5;241;43m.\u001b[39;49m\u001b[43moptions\u001b[49m\u001b[38;5;241;43m.\u001b[39;49m\u001b[43mget\u001b[49m\u001b[43m(\u001b[49m\u001b[38;5;124;43m\"\u001b[39;49m\u001b[38;5;124;43mcompression\u001b[39;49m\u001b[38;5;124;43m\"\u001b[39;49m\u001b[43m,\u001b[49m\u001b[43m \u001b[49m\u001b[38;5;28;43;01mNone\u001b[39;49;00m\u001b[43m)\u001b[49m\u001b[43m,\u001b[49m\n\u001b[1;32m   1885\u001b[0m \u001b[43m    \u001b[49m\u001b[43mmemory_map\u001b[49m\u001b[38;5;241;43m=\u001b[39;49m\u001b[38;5;28;43mself\u001b[39;49m\u001b[38;5;241;43m.\u001b[39;49m\u001b[43moptions\u001b[49m\u001b[38;5;241;43m.\u001b[39;49m\u001b[43mget\u001b[49m\u001b[43m(\u001b[49m\u001b[38;5;124;43m\"\u001b[39;49m\u001b[38;5;124;43mmemory_map\u001b[39;49m\u001b[38;5;124;43m\"\u001b[39;49m\u001b[43m,\u001b[49m\u001b[43m \u001b[49m\u001b[38;5;28;43;01mFalse\u001b[39;49;00m\u001b[43m)\u001b[49m\u001b[43m,\u001b[49m\n\u001b[1;32m   1886\u001b[0m \u001b[43m    \u001b[49m\u001b[43mis_text\u001b[49m\u001b[38;5;241;43m=\u001b[39;49m\u001b[43mis_text\u001b[49m\u001b[43m,\u001b[49m\n\u001b[1;32m   1887\u001b[0m \u001b[43m    \u001b[49m\u001b[43merrors\u001b[49m\u001b[38;5;241;43m=\u001b[39;49m\u001b[38;5;28;43mself\u001b[39;49m\u001b[38;5;241;43m.\u001b[39;49m\u001b[43moptions\u001b[49m\u001b[38;5;241;43m.\u001b[39;49m\u001b[43mget\u001b[49m\u001b[43m(\u001b[49m\u001b[38;5;124;43m\"\u001b[39;49m\u001b[38;5;124;43mencoding_errors\u001b[39;49m\u001b[38;5;124;43m\"\u001b[39;49m\u001b[43m,\u001b[49m\u001b[43m \u001b[49m\u001b[38;5;124;43m\"\u001b[39;49m\u001b[38;5;124;43mstrict\u001b[39;49m\u001b[38;5;124;43m\"\u001b[39;49m\u001b[43m)\u001b[49m\u001b[43m,\u001b[49m\n\u001b[1;32m   1888\u001b[0m \u001b[43m    \u001b[49m\u001b[43mstorage_options\u001b[49m\u001b[38;5;241;43m=\u001b[39;49m\u001b[38;5;28;43mself\u001b[39;49m\u001b[38;5;241;43m.\u001b[39;49m\u001b[43moptions\u001b[49m\u001b[38;5;241;43m.\u001b[39;49m\u001b[43mget\u001b[49m\u001b[43m(\u001b[49m\u001b[38;5;124;43m\"\u001b[39;49m\u001b[38;5;124;43mstorage_options\u001b[39;49m\u001b[38;5;124;43m\"\u001b[39;49m\u001b[43m,\u001b[49m\u001b[43m \u001b[49m\u001b[38;5;28;43;01mNone\u001b[39;49;00m\u001b[43m)\u001b[49m\u001b[43m,\u001b[49m\n\u001b[1;32m   1889\u001b[0m \u001b[43m\u001b[49m\u001b[43m)\u001b[49m\n\u001b[1;32m   1890\u001b[0m \u001b[38;5;28;01massert\u001b[39;00m \u001b[38;5;28mself\u001b[39m\u001b[38;5;241m.\u001b[39mhandles \u001b[38;5;129;01mis\u001b[39;00m \u001b[38;5;129;01mnot\u001b[39;00m \u001b[38;5;28;01mNone\u001b[39;00m\n",
            "File \u001b[0;32m/Library/Frameworks/Python.framework/Versions/3.10/lib/python3.10/site-packages/pandas/io/common.py:873\u001b[0m, in \u001b[0;36mget_handle\u001b[0;34m(path_or_buf, mode, encoding, compression, memory_map, is_text, errors, storage_options)\u001b[0m\n\u001b[1;32m    871\u001b[0m \u001b[38;5;28;01mif\u001b[39;00m ioargs\u001b[38;5;241m.\u001b[39mencoding \u001b[38;5;129;01mand\u001b[39;00m \u001b[38;5;124m\"\u001b[39m\u001b[38;5;124mb\u001b[39m\u001b[38;5;124m\"\u001b[39m \u001b[38;5;129;01mnot\u001b[39;00m \u001b[38;5;129;01min\u001b[39;00m ioargs\u001b[38;5;241m.\u001b[39mmode:\n\u001b[1;32m    872\u001b[0m     \u001b[38;5;66;03m# Encoding\u001b[39;00m\n\u001b[0;32m--> 873\u001b[0m     handle \u001b[38;5;241m=\u001b[39m \u001b[38;5;28;43mopen\u001b[39;49m\u001b[43m(\u001b[49m\n\u001b[1;32m    874\u001b[0m \u001b[43m        \u001b[49m\u001b[43mhandle\u001b[49m\u001b[43m,\u001b[49m\n\u001b[1;32m    875\u001b[0m \u001b[43m        \u001b[49m\u001b[43mioargs\u001b[49m\u001b[38;5;241;43m.\u001b[39;49m\u001b[43mmode\u001b[49m\u001b[43m,\u001b[49m\n\u001b[1;32m    876\u001b[0m \u001b[43m        \u001b[49m\u001b[43mencoding\u001b[49m\u001b[38;5;241;43m=\u001b[39;49m\u001b[43mioargs\u001b[49m\u001b[38;5;241;43m.\u001b[39;49m\u001b[43mencoding\u001b[49m\u001b[43m,\u001b[49m\n\u001b[1;32m    877\u001b[0m \u001b[43m        \u001b[49m\u001b[43merrors\u001b[49m\u001b[38;5;241;43m=\u001b[39;49m\u001b[43merrors\u001b[49m\u001b[43m,\u001b[49m\n\u001b[1;32m    878\u001b[0m \u001b[43m        \u001b[49m\u001b[43mnewline\u001b[49m\u001b[38;5;241;43m=\u001b[39;49m\u001b[38;5;124;43m\"\u001b[39;49m\u001b[38;5;124;43m\"\u001b[39;49m\u001b[43m,\u001b[49m\n\u001b[1;32m    879\u001b[0m \u001b[43m    \u001b[49m\u001b[43m)\u001b[49m\n\u001b[1;32m    880\u001b[0m \u001b[38;5;28;01melse\u001b[39;00m:\n\u001b[1;32m    881\u001b[0m     \u001b[38;5;66;03m# Binary mode\u001b[39;00m\n",
            "\u001b[0;31mFileNotFoundError\u001b[0m: [Errno 2] No such file or directory: 'inzamelingenALL.csv'",
            "\nDuring handling of the above exception, another exception occurred:\n",
            "\u001b[0;31mNameError\u001b[0m                                 Traceback (most recent call last)",
            "Cell \u001b[0;32mIn[9], line 27\u001b[0m\n\u001b[1;32m     24\u001b[0m dummy_weights \u001b[38;5;241m=\u001b[39m np\u001b[38;5;241m.\u001b[39mrandom\u001b[38;5;241m.\u001b[39mnormal(\u001b[38;5;241m25\u001b[39m, \u001b[38;5;241m8\u001b[39m, \u001b[38;5;241m1000\u001b[39m)  \u001b[38;5;66;03m# Normale verdeling\u001b[39;00m\n\u001b[1;32m     25\u001b[0m dummy_weights \u001b[38;5;241m=\u001b[39m dummy_weights[dummy_weights \u001b[38;5;241m>\u001b[39m \u001b[38;5;241m0\u001b[39m]  \u001b[38;5;66;03m# Alleen positieve waarden\u001b[39;00m\n\u001b[0;32m---> 27\u001b[0m \u001b[43mplt\u001b[49m\u001b[38;5;241m.\u001b[39mfigure(figsize\u001b[38;5;241m=\u001b[39m(\u001b[38;5;241m10\u001b[39m, \u001b[38;5;241m6\u001b[39m))\n\u001b[1;32m     28\u001b[0m plt\u001b[38;5;241m.\u001b[39mhist(dummy_weights, bins\u001b[38;5;241m=\u001b[39m\u001b[38;5;241m20\u001b[39m, alpha\u001b[38;5;241m=\u001b[39m\u001b[38;5;241m0.3\u001b[39m, density\u001b[38;5;241m=\u001b[39m\u001b[38;5;28;01mTrue\u001b[39;00m)\n\u001b[1;32m     29\u001b[0m plt\u001b[38;5;241m.\u001b[39mxlabel(\u001b[38;5;124m'\u001b[39m\u001b[38;5;124mGewicht (kg)\u001b[39m\u001b[38;5;124m'\u001b[39m)\n",
            "\u001b[0;31mNameError\u001b[0m: name 'plt' is not defined"
          ]
        }
      ],
      "source": [
        "# Vraag 3a: Histogram\n",
        "print(\"3a) Histogram code:\")\n",
        "\n",
        "try:\n",
        "    # Probeer echte data in te lezen\n",
        "    df_all = pd.read_csv('inzamelingenALL.csv')\n",
        "    \n",
        "    # Filter wegingen > 0\n",
        "    weights_filtered = df_all[df_all['Gewicht (kg)'] > 0]['Gewicht (kg)']\n",
        "    \n",
        "    # Histogram maken\n",
        "    plt.figure(figsize=(10, 6))\n",
        "    plt.hist(weights_filtered, bins=20, alpha=0.3, density=True)\n",
        "    plt.xlabel('Gewicht (kg)')\n",
        "    plt.ylabel('Density') \n",
        "    plt.title('Histogram van Afhalingen Gewichten')\n",
        "    plt.grid(True, alpha=0.3)\n",
        "    plt.show()\n",
        "    \n",
        "except FileNotFoundError:\n",
        "    print(\"inzamelingenALL.csv niet beschikbaar - maken dummy histogram\")\n",
        "    \n",
        "    # Dummy data voor demonstratie\n",
        "    dummy_weights = np.random.normal(25, 8, 1000)  # Normale verdeling\n",
        "    dummy_weights = dummy_weights[dummy_weights > 0]  # Alleen positieve waarden\n",
        "    \n",
        "    plt.figure(figsize=(10, 6))\n",
        "    plt.hist(dummy_weights, bins=20, alpha=0.3, density=True)\n",
        "    plt.xlabel('Gewicht (kg)')\n",
        "    plt.ylabel('Density')\n",
        "    plt.title('Histogram van Afhalingen Gewichten (Dummy Data)')\n",
        "    plt.grid(True, alpha=0.3)\n",
        "    plt.show()"
      ]
    },
    {
      "cell_type": "markdown",
      "id": "20e8f1c640d54eaa",
      "metadata": {},
      "source": [
        "b.Gebruik de data uit inzamelingenALL.csv om onderstaande grafiek na te bouwen. De grafiek moet er precies hetzelfde uitzien zoals de afbeelding. Let op: de jaren 2020 en 2025 zijn niet meegenomen in de resultaten, omdat de data daarvan niet volledig was. Als je halve jaartallen ziet op de x-as gebruik dan de functie ``plt.xticks`` 4p\\"
      ]
    },
    {
      "cell_type": "code",
      "execution_count": 10,
      "id": "8e6a478895c926e5",
      "metadata": {
        "ExecuteTime": {
          "end_time": "2025-04-22T08:05:53.876191Z",
          "start_time": "2025-04-22T08:05:53.185836Z"
        }
      },
      "outputs": [
        {
          "name": "stdout",
          "output_type": "stream",
          "text": [
            "\n",
            "3b) Lijnplot code:\n",
            "inzamelingenALL.csv niet beschikbaar - maken dummy lijnplot\n"
          ]
        },
        {
          "ename": "NameError",
          "evalue": "name 'plt' is not defined",
          "output_type": "error",
          "traceback": [
            "\u001b[0;31m---------------------------------------------------------------------------\u001b[0m",
            "\u001b[0;31mFileNotFoundError\u001b[0m                         Traceback (most recent call last)",
            "Cell \u001b[0;32mIn[10], line 5\u001b[0m\n\u001b[1;32m      3\u001b[0m \u001b[38;5;28;01mtry\u001b[39;00m:\n\u001b[1;32m      4\u001b[0m     \u001b[38;5;66;03m# Probeer echte data in te lezen  \u001b[39;00m\n\u001b[0;32m----> 5\u001b[0m     df_all \u001b[38;5;241m=\u001b[39m \u001b[43mpd\u001b[49m\u001b[38;5;241;43m.\u001b[39;49m\u001b[43mread_csv\u001b[49m\u001b[43m(\u001b[49m\u001b[38;5;124;43m'\u001b[39;49m\u001b[38;5;124;43minzamelingenALL.csv\u001b[39;49m\u001b[38;5;124;43m'\u001b[39;49m\u001b[43m)\u001b[49m\n\u001b[1;32m      7\u001b[0m     \u001b[38;5;66;03m# Filter jaren 2020 en 2025 eruit\u001b[39;00m\n",
            "File \u001b[0;32m/Library/Frameworks/Python.framework/Versions/3.10/lib/python3.10/site-packages/pandas/io/parsers/readers.py:1026\u001b[0m, in \u001b[0;36mread_csv\u001b[0;34m(filepath_or_buffer, sep, delimiter, header, names, index_col, usecols, dtype, engine, converters, true_values, false_values, skipinitialspace, skiprows, skipfooter, nrows, na_values, keep_default_na, na_filter, verbose, skip_blank_lines, parse_dates, infer_datetime_format, keep_date_col, date_parser, date_format, dayfirst, cache_dates, iterator, chunksize, compression, thousands, decimal, lineterminator, quotechar, quoting, doublequote, escapechar, comment, encoding, encoding_errors, dialect, on_bad_lines, delim_whitespace, low_memory, memory_map, float_precision, storage_options, dtype_backend)\u001b[0m\n\u001b[1;32m   1024\u001b[0m kwds\u001b[38;5;241m.\u001b[39mupdate(kwds_defaults)\n\u001b[0;32m-> 1026\u001b[0m \u001b[38;5;28;01mreturn\u001b[39;00m \u001b[43m_read\u001b[49m\u001b[43m(\u001b[49m\u001b[43mfilepath_or_buffer\u001b[49m\u001b[43m,\u001b[49m\u001b[43m \u001b[49m\u001b[43mkwds\u001b[49m\u001b[43m)\u001b[49m\n",
            "File \u001b[0;32m/Library/Frameworks/Python.framework/Versions/3.10/lib/python3.10/site-packages/pandas/io/parsers/readers.py:620\u001b[0m, in \u001b[0;36m_read\u001b[0;34m(filepath_or_buffer, kwds)\u001b[0m\n\u001b[1;32m    619\u001b[0m \u001b[38;5;66;03m# Create the parser.\u001b[39;00m\n\u001b[0;32m--> 620\u001b[0m parser \u001b[38;5;241m=\u001b[39m \u001b[43mTextFileReader\u001b[49m\u001b[43m(\u001b[49m\u001b[43mfilepath_or_buffer\u001b[49m\u001b[43m,\u001b[49m\u001b[43m \u001b[49m\u001b[38;5;241;43m*\u001b[39;49m\u001b[38;5;241;43m*\u001b[39;49m\u001b[43mkwds\u001b[49m\u001b[43m)\u001b[49m\n\u001b[1;32m    622\u001b[0m \u001b[38;5;28;01mif\u001b[39;00m chunksize \u001b[38;5;129;01mor\u001b[39;00m iterator:\n",
            "File \u001b[0;32m/Library/Frameworks/Python.framework/Versions/3.10/lib/python3.10/site-packages/pandas/io/parsers/readers.py:1620\u001b[0m, in \u001b[0;36mTextFileReader.__init__\u001b[0;34m(self, f, engine, **kwds)\u001b[0m\n\u001b[1;32m   1619\u001b[0m \u001b[38;5;28mself\u001b[39m\u001b[38;5;241m.\u001b[39mhandles: IOHandles \u001b[38;5;241m|\u001b[39m \u001b[38;5;28;01mNone\u001b[39;00m \u001b[38;5;241m=\u001b[39m \u001b[38;5;28;01mNone\u001b[39;00m\n\u001b[0;32m-> 1620\u001b[0m \u001b[38;5;28mself\u001b[39m\u001b[38;5;241m.\u001b[39m_engine \u001b[38;5;241m=\u001b[39m \u001b[38;5;28;43mself\u001b[39;49m\u001b[38;5;241;43m.\u001b[39;49m\u001b[43m_make_engine\u001b[49m\u001b[43m(\u001b[49m\u001b[43mf\u001b[49m\u001b[43m,\u001b[49m\u001b[43m \u001b[49m\u001b[38;5;28;43mself\u001b[39;49m\u001b[38;5;241;43m.\u001b[39;49m\u001b[43mengine\u001b[49m\u001b[43m)\u001b[49m\n",
            "File \u001b[0;32m/Library/Frameworks/Python.framework/Versions/3.10/lib/python3.10/site-packages/pandas/io/parsers/readers.py:1880\u001b[0m, in \u001b[0;36mTextFileReader._make_engine\u001b[0;34m(self, f, engine)\u001b[0m\n\u001b[1;32m   1879\u001b[0m         mode \u001b[38;5;241m+\u001b[39m\u001b[38;5;241m=\u001b[39m \u001b[38;5;124m\"\u001b[39m\u001b[38;5;124mb\u001b[39m\u001b[38;5;124m\"\u001b[39m\n\u001b[0;32m-> 1880\u001b[0m \u001b[38;5;28mself\u001b[39m\u001b[38;5;241m.\u001b[39mhandles \u001b[38;5;241m=\u001b[39m \u001b[43mget_handle\u001b[49m\u001b[43m(\u001b[49m\n\u001b[1;32m   1881\u001b[0m \u001b[43m    \u001b[49m\u001b[43mf\u001b[49m\u001b[43m,\u001b[49m\n\u001b[1;32m   1882\u001b[0m \u001b[43m    \u001b[49m\u001b[43mmode\u001b[49m\u001b[43m,\u001b[49m\n\u001b[1;32m   1883\u001b[0m \u001b[43m    \u001b[49m\u001b[43mencoding\u001b[49m\u001b[38;5;241;43m=\u001b[39;49m\u001b[38;5;28;43mself\u001b[39;49m\u001b[38;5;241;43m.\u001b[39;49m\u001b[43moptions\u001b[49m\u001b[38;5;241;43m.\u001b[39;49m\u001b[43mget\u001b[49m\u001b[43m(\u001b[49m\u001b[38;5;124;43m\"\u001b[39;49m\u001b[38;5;124;43mencoding\u001b[39;49m\u001b[38;5;124;43m\"\u001b[39;49m\u001b[43m,\u001b[49m\u001b[43m \u001b[49m\u001b[38;5;28;43;01mNone\u001b[39;49;00m\u001b[43m)\u001b[49m\u001b[43m,\u001b[49m\n\u001b[1;32m   1884\u001b[0m \u001b[43m    \u001b[49m\u001b[43mcompression\u001b[49m\u001b[38;5;241;43m=\u001b[39;49m\u001b[38;5;28;43mself\u001b[39;49m\u001b[38;5;241;43m.\u001b[39;49m\u001b[43moptions\u001b[49m\u001b[38;5;241;43m.\u001b[39;49m\u001b[43mget\u001b[49m\u001b[43m(\u001b[49m\u001b[38;5;124;43m\"\u001b[39;49m\u001b[38;5;124;43mcompression\u001b[39;49m\u001b[38;5;124;43m\"\u001b[39;49m\u001b[43m,\u001b[49m\u001b[43m \u001b[49m\u001b[38;5;28;43;01mNone\u001b[39;49;00m\u001b[43m)\u001b[49m\u001b[43m,\u001b[49m\n\u001b[1;32m   1885\u001b[0m \u001b[43m    \u001b[49m\u001b[43mmemory_map\u001b[49m\u001b[38;5;241;43m=\u001b[39;49m\u001b[38;5;28;43mself\u001b[39;49m\u001b[38;5;241;43m.\u001b[39;49m\u001b[43moptions\u001b[49m\u001b[38;5;241;43m.\u001b[39;49m\u001b[43mget\u001b[49m\u001b[43m(\u001b[49m\u001b[38;5;124;43m\"\u001b[39;49m\u001b[38;5;124;43mmemory_map\u001b[39;49m\u001b[38;5;124;43m\"\u001b[39;49m\u001b[43m,\u001b[49m\u001b[43m \u001b[49m\u001b[38;5;28;43;01mFalse\u001b[39;49;00m\u001b[43m)\u001b[49m\u001b[43m,\u001b[49m\n\u001b[1;32m   1886\u001b[0m \u001b[43m    \u001b[49m\u001b[43mis_text\u001b[49m\u001b[38;5;241;43m=\u001b[39;49m\u001b[43mis_text\u001b[49m\u001b[43m,\u001b[49m\n\u001b[1;32m   1887\u001b[0m \u001b[43m    \u001b[49m\u001b[43merrors\u001b[49m\u001b[38;5;241;43m=\u001b[39;49m\u001b[38;5;28;43mself\u001b[39;49m\u001b[38;5;241;43m.\u001b[39;49m\u001b[43moptions\u001b[49m\u001b[38;5;241;43m.\u001b[39;49m\u001b[43mget\u001b[49m\u001b[43m(\u001b[49m\u001b[38;5;124;43m\"\u001b[39;49m\u001b[38;5;124;43mencoding_errors\u001b[39;49m\u001b[38;5;124;43m\"\u001b[39;49m\u001b[43m,\u001b[49m\u001b[43m \u001b[49m\u001b[38;5;124;43m\"\u001b[39;49m\u001b[38;5;124;43mstrict\u001b[39;49m\u001b[38;5;124;43m\"\u001b[39;49m\u001b[43m)\u001b[49m\u001b[43m,\u001b[49m\n\u001b[1;32m   1888\u001b[0m \u001b[43m    \u001b[49m\u001b[43mstorage_options\u001b[49m\u001b[38;5;241;43m=\u001b[39;49m\u001b[38;5;28;43mself\u001b[39;49m\u001b[38;5;241;43m.\u001b[39;49m\u001b[43moptions\u001b[49m\u001b[38;5;241;43m.\u001b[39;49m\u001b[43mget\u001b[49m\u001b[43m(\u001b[49m\u001b[38;5;124;43m\"\u001b[39;49m\u001b[38;5;124;43mstorage_options\u001b[39;49m\u001b[38;5;124;43m\"\u001b[39;49m\u001b[43m,\u001b[49m\u001b[43m \u001b[49m\u001b[38;5;28;43;01mNone\u001b[39;49;00m\u001b[43m)\u001b[49m\u001b[43m,\u001b[49m\n\u001b[1;32m   1889\u001b[0m \u001b[43m\u001b[49m\u001b[43m)\u001b[49m\n\u001b[1;32m   1890\u001b[0m \u001b[38;5;28;01massert\u001b[39;00m \u001b[38;5;28mself\u001b[39m\u001b[38;5;241m.\u001b[39mhandles \u001b[38;5;129;01mis\u001b[39;00m \u001b[38;5;129;01mnot\u001b[39;00m \u001b[38;5;28;01mNone\u001b[39;00m\n",
            "File \u001b[0;32m/Library/Frameworks/Python.framework/Versions/3.10/lib/python3.10/site-packages/pandas/io/common.py:873\u001b[0m, in \u001b[0;36mget_handle\u001b[0;34m(path_or_buf, mode, encoding, compression, memory_map, is_text, errors, storage_options)\u001b[0m\n\u001b[1;32m    871\u001b[0m \u001b[38;5;28;01mif\u001b[39;00m ioargs\u001b[38;5;241m.\u001b[39mencoding \u001b[38;5;129;01mand\u001b[39;00m \u001b[38;5;124m\"\u001b[39m\u001b[38;5;124mb\u001b[39m\u001b[38;5;124m\"\u001b[39m \u001b[38;5;129;01mnot\u001b[39;00m \u001b[38;5;129;01min\u001b[39;00m ioargs\u001b[38;5;241m.\u001b[39mmode:\n\u001b[1;32m    872\u001b[0m     \u001b[38;5;66;03m# Encoding\u001b[39;00m\n\u001b[0;32m--> 873\u001b[0m     handle \u001b[38;5;241m=\u001b[39m \u001b[38;5;28;43mopen\u001b[39;49m\u001b[43m(\u001b[49m\n\u001b[1;32m    874\u001b[0m \u001b[43m        \u001b[49m\u001b[43mhandle\u001b[49m\u001b[43m,\u001b[49m\n\u001b[1;32m    875\u001b[0m \u001b[43m        \u001b[49m\u001b[43mioargs\u001b[49m\u001b[38;5;241;43m.\u001b[39;49m\u001b[43mmode\u001b[49m\u001b[43m,\u001b[49m\n\u001b[1;32m    876\u001b[0m \u001b[43m        \u001b[49m\u001b[43mencoding\u001b[49m\u001b[38;5;241;43m=\u001b[39;49m\u001b[43mioargs\u001b[49m\u001b[38;5;241;43m.\u001b[39;49m\u001b[43mencoding\u001b[49m\u001b[43m,\u001b[49m\n\u001b[1;32m    877\u001b[0m \u001b[43m        \u001b[49m\u001b[43merrors\u001b[49m\u001b[38;5;241;43m=\u001b[39;49m\u001b[43merrors\u001b[49m\u001b[43m,\u001b[49m\n\u001b[1;32m    878\u001b[0m \u001b[43m        \u001b[49m\u001b[43mnewline\u001b[49m\u001b[38;5;241;43m=\u001b[39;49m\u001b[38;5;124;43m\"\u001b[39;49m\u001b[38;5;124;43m\"\u001b[39;49m\u001b[43m,\u001b[49m\n\u001b[1;32m    879\u001b[0m \u001b[43m    \u001b[49m\u001b[43m)\u001b[49m\n\u001b[1;32m    880\u001b[0m \u001b[38;5;28;01melse\u001b[39;00m:\n\u001b[1;32m    881\u001b[0m     \u001b[38;5;66;03m# Binary mode\u001b[39;00m\n",
            "\u001b[0;31mFileNotFoundError\u001b[0m: [Errno 2] No such file or directory: 'inzamelingenALL.csv'",
            "\nDuring handling of the above exception, another exception occurred:\n",
            "\u001b[0;31mNameError\u001b[0m                                 Traceback (most recent call last)",
            "Cell \u001b[0;32mIn[10], line 55\u001b[0m\n\u001b[1;32m     52\u001b[0m rest_data \u001b[38;5;241m=\u001b[39m [\u001b[38;5;241m800\u001b[39m, \u001b[38;5;241m750\u001b[39m, \u001b[38;5;241m700\u001b[39m, \u001b[38;5;241m680\u001b[39m]\n\u001b[1;32m     53\u001b[0m papier_data \u001b[38;5;241m=\u001b[39m [\u001b[38;5;241m400\u001b[39m, \u001b[38;5;241m420\u001b[39m, \u001b[38;5;241m440\u001b[39m, \u001b[38;5;241m460\u001b[39m]\n\u001b[0;32m---> 55\u001b[0m \u001b[43mplt\u001b[49m\u001b[38;5;241m.\u001b[39mfigure(figsize\u001b[38;5;241m=\u001b[39m(\u001b[38;5;241m12\u001b[39m, \u001b[38;5;241m8\u001b[39m))\n\u001b[1;32m     56\u001b[0m plt\u001b[38;5;241m.\u001b[39mplot(years, gft_data, marker\u001b[38;5;241m=\u001b[39m\u001b[38;5;124m'\u001b[39m\u001b[38;5;124mo\u001b[39m\u001b[38;5;124m'\u001b[39m, label\u001b[38;5;241m=\u001b[39m\u001b[38;5;124m'\u001b[39m\u001b[38;5;124mGFT\u001b[39m\u001b[38;5;124m'\u001b[39m, linewidth\u001b[38;5;241m=\u001b[39m\u001b[38;5;241m2\u001b[39m, markersize\u001b[38;5;241m=\u001b[39m\u001b[38;5;241m6\u001b[39m)\n\u001b[1;32m     57\u001b[0m plt\u001b[38;5;241m.\u001b[39mplot(years, rest_data, marker\u001b[38;5;241m=\u001b[39m\u001b[38;5;124m'\u001b[39m\u001b[38;5;124mo\u001b[39m\u001b[38;5;124m'\u001b[39m, label\u001b[38;5;241m=\u001b[39m\u001b[38;5;124m'\u001b[39m\u001b[38;5;124mRestafval\u001b[39m\u001b[38;5;124m'\u001b[39m, linewidth\u001b[38;5;241m=\u001b[39m\u001b[38;5;241m2\u001b[39m, markersize\u001b[38;5;241m=\u001b[39m\u001b[38;5;241m6\u001b[39m)  \n",
            "\u001b[0;31mNameError\u001b[0m: name 'plt' is not defined"
          ]
        }
      ],
      "source": [
        "print(\"\\n3b) Lijnplot code:\")\n",
        "\n",
        "try:\n",
        "    # Probeer echte data in te lezen  \n",
        "    df_all = pd.read_csv('inzamelingenALL.csv')\n",
        "    \n",
        "    # Filter jaren 2020 en 2025 eruit\n",
        "    df_filtered = df_all[~df_all['Jaar'].isin([2020, 2025])]\n",
        "    \n",
        "    # Groeperen per jaar en Eural code\n",
        "    yearly_totals = df_filtered.groupby(['Jaar', 'Eural codes'])['Gewicht (kg)'].sum().reset_index()\n",
        "    \n",
        "    # Lijnplot maken\n",
        "    plt.figure(figsize=(12, 8))\n",
        "    \n",
        "    # Plot per afvaltype\n",
        "    for eural_code in yearly_totals['Eural codes'].unique():\n",
        "        subset = yearly_totals[yearly_totals['Eural codes'] == eural_code]\n",
        "        \n",
        "        # Labels toekennen\n",
        "        if eural_code == '200108':\n",
        "            label = 'GFT'\n",
        "        elif eural_code == '200301': \n",
        "            label = 'Restafval'\n",
        "        elif eural_code == '150101':\n",
        "            label = 'Papier'\n",
        "        else:\n",
        "            label = str(eural_code)\n",
        "            \n",
        "        plt.plot(subset['Jaar'], subset['Gewicht (kg)'], \n",
        "                marker='o', label=label, linewidth=2, markersize=6)\n",
        "    \n",
        "    plt.xlabel('Jaar')\n",
        "    plt.ylabel('Totaal Gewicht (kg)')\n",
        "    plt.title('Totaal Afval Inzameling per Jaar per Type')\n",
        "    plt.legend()\n",
        "    plt.grid(True, alpha=0.3)\n",
        "    \n",
        "    # X-as labels voor halve jaartallen indien nodig\n",
        "    years = sorted(yearly_totals['Jaar'].unique())\n",
        "    plt.xticks(years)\n",
        "    \n",
        "    plt.tight_layout()\n",
        "    plt.show()\n",
        "    \n",
        "except FileNotFoundError:\n",
        "    print(\"inzamelingenALL.csv niet beschikbaar - maken dummy lijnplot\")\n",
        "    \n",
        "    # Dummy data voor demonstratie\n",
        "    years = [2021, 2022, 2023, 2024]\n",
        "    gft_data = [1200, 1350, 1400, 1450]\n",
        "    rest_data = [800, 750, 700, 680]\n",
        "    papier_data = [400, 420, 440, 460]\n",
        "    \n",
        "    plt.figure(figsize=(12, 8))\n",
        "    plt.plot(years, gft_data, marker='o', label='GFT', linewidth=2, markersize=6)\n",
        "    plt.plot(years, rest_data, marker='o', label='Restafval', linewidth=2, markersize=6)  \n",
        "    plt.plot(years, papier_data, marker='o', label='Papier', linewidth=2, markersize=6)\n",
        "    \n",
        "    plt.xlabel('Jaar')\n",
        "    plt.ylabel('Totaal Gewicht (kg)')\n",
        "    plt.title('Totaal Afval Inzameling per Jaar per Type (Dummy Data)')\n",
        "    plt.legend()\n",
        "    plt.grid(True, alpha=0.3)\n",
        "    plt.xticks(years)\n",
        "    plt.tight_layout()\n",
        "    plt.show()\n",
        "\n",
        "print(\"\\nAlle oplossingen zijn klaar!\")\n",
        "print(\"Let op: Voor vraag 1 heb ik aannames gemaakt over welke cellen geel/grijs zijn.\")\n",
        "print(\"Pas de indexen aan op basis van de werkelijke afbeelding in je examen.\")"
      ]
    },
    {
      "cell_type": "code",
      "execution_count": null,
      "id": "30e85732",
      "metadata": {},
      "outputs": [],
      "source": []
    }
  ],
  "metadata": {
    "kernelspec": {
      "display_name": "Python 3 (ipykernel)",
      "language": "python",
      "name": "python3"
    },
    "language_info": {
      "codemirror_mode": {
        "name": "ipython",
        "version": 3
      },
      "file_extension": ".py",
      "mimetype": "text/x-python",
      "name": "python",
      "nbconvert_exporter": "python",
      "pygments_lexer": "ipython3",
      "version": "3.10.4"
    }
  },
  "nbformat": 4,
  "nbformat_minor": 5
}
