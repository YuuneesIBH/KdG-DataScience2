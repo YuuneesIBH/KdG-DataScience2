{
 "cells": [
  {
   "cell_type": "markdown",
   "id": "f5e4339bfbea53",
   "metadata": {},
   "source": [
    "Op het examen maak je nergens gebruik van Python for-loops, whiles of list comprehensions tenzij anders vermeld. De code die je schrijft moet zo efficient mogelijk worden uitgevoerd door numpy of pandas.\\"
   ]
  },
  {
   "cell_type": "code",
   "id": "initial_id",
   "metadata": {
    "collapsed": true,
    "jupyter": {
     "outputs_hidden": true
    },
    "ExecuteTime": {
     "end_time": "2025-04-22T07:52:38.781103Z",
     "start_time": "2025-04-22T07:52:38.776582Z"
    }
   },
   "source": [
    "import pandas as pd\n",
    "import numpy as np\n",
    "from seaborn import lineplot"
   ],
   "outputs": [],
   "execution_count": 1
  },
  {
   "cell_type": "markdown",
   "id": "a3582996ed6aa2f1",
   "metadata": {},
   "source": [
    "\n",
    "# Vraag 1"
   ]
  },
  {
   "metadata": {
    "ExecuteTime": {
     "end_time": "2025-04-22T07:53:09.438593Z",
     "start_time": "2025-04-22T07:53:09.426644Z"
    }
   },
   "cell_type": "code",
   "source": [
    "np_rng = np.random.default_rng(seed=15)\n",
    "df_vraag1 = pd.DataFrame(np.round(np_rng.random((100,10)),3),dtype='float32', index=range(5,105), columns=range(10,20))\n",
    "nparray_vraag1 = df_vraag1.to_numpy()\n"
   ],
   "id": "82a774d6be9f2aa1",
   "outputs": [],
   "execution_count": 4
  },
  {
   "metadata": {},
   "cell_type": "markdown",
   "source": [
    "\n",
    "Hierboven genereren we een dataframe met naam ``df_vraag1`` en de ndarray op basis vandezelfde data is ook beschikbaar als numpy-array met de naam ``nparray_vraag1``. Druk deze dataset af doe \"view as Dataframe\" in PyCharm. Beantwoord de volgende vragen zonder het echt uit te voeren. Op het examen leveren we deze dataframe en numpy-array niet mee als csv voor het examen. Het is ook niet de bedoeling dat je de dataframe/array zelf aanmaakt. Je schrijft de gevraagde code of output voorafgaand met een #\\\n",
    "a) Wat is de output van volgende code (to_numpy() zet de dataframe om naar een numpy array)? ``nparray_vraag1.shape`` 1P\\\n",
    "b) Schrijf de code om het veldje in het geel te selecteren uit ``nparray_vraag1``? 1P\\\n",
    "c) Schrijf de code om het veldje in het geel te selecteren met behulp van expliciete indexen uit ``df_vraag1``? 1P\\\n",
    "d) Schrijf de code om het vlak met stippellijnen te selecteren uit ``df_vraag1``? Gebruik daarvoor expliciete indexen. 1P\\\n",
    "e) Schrijf de code om de cellen met grijze achtergrond te selecteren uit ``df_vraag1``? Gebruik daarvoor impliciete indexen 1P\\\n",
    "f) Schrijf de output neer (in de vorm van een numpy list) voor volgende commando: ``df_vraag1.loc[5,:15:-2]`` 1P\\\n",
    "g) Schets in je antwoord de numpy array die je terug krijgt bij het uitvoeren van volgende code: ``nparray_vraag1[0:2,0:3] + np.array([2,1,0])`` 1P\\\n"
   ],
   "id": "4abbcb1bab78d041"
  },
  {
   "cell_type": "code",
   "id": "a12562bd16e03a82",
   "metadata": {
    "ExecuteTime": {
     "end_time": "2025-03-11T09:41:36.750563Z",
     "start_time": "2025-03-11T09:41:36.741070Z"
    }
   },
   "source": [
    "#a\n",
    "#SOLUTION_START\n",
    "nparray_vraag1.shape\n",
    "#SOLUTION_END"
   ],
   "outputs": [
    {
     "data": {
      "text/plain": [
       "(100, 10)"
      ]
     },
     "execution_count": 4,
     "metadata": {},
     "output_type": "execute_result"
    }
   ],
   "execution_count": 4
  },
  {
   "cell_type": "code",
   "id": "babc512fcbef5215",
   "metadata": {
    "ExecuteTime": {
     "end_time": "2025-03-28T19:11:35.613484Z",
     "start_time": "2025-03-28T19:11:35.587957Z"
    }
   },
   "source": [
    "#b\n",
    "#SOLUTION_START\n",
    "nparray_vraag1[-2,-3]\n",
    "nparray_vraag1[98,7]\n",
    "#SOLUTION_END"
   ],
   "outputs": [
    {
     "data": {
      "text/plain": [
       "0.944"
      ]
     },
     "execution_count": 4,
     "metadata": {},
     "output_type": "execute_result"
    },
    {
     "data": {
      "text/plain": [
       "0.944"
      ]
     },
     "execution_count": 4,
     "metadata": {},
     "output_type": "execute_result"
    }
   ],
   "execution_count": 4
  },
  {
   "cell_type": "code",
   "id": "f500c8129d32e177",
   "metadata": {
    "ExecuteTime": {
     "end_time": "2025-03-11T09:41:39.934874Z",
     "start_time": "2025-03-11T09:41:39.924594Z"
    }
   },
   "source": [
    "#c\n",
    "#SOLUTION_START\n",
    "df_vraag1.loc[103,17]\n",
    "#SOLUTION_END"
   ],
   "outputs": [
    {
     "data": {
      "text/plain": [
       "0.944"
      ]
     },
     "execution_count": 6,
     "metadata": {},
     "output_type": "execute_result"
    }
   ],
   "execution_count": 6
  },
  {
   "cell_type": "code",
   "id": "2ba6d7539caa94cb",
   "metadata": {
    "ExecuteTime": {
     "end_time": "2025-03-11T09:41:41.515579Z",
     "start_time": "2025-03-11T09:41:41.495695Z"
    }
   },
   "source": [
    "#d\n",
    "#SOLUTION_START\n",
    "df_vraag1.loc[10:15,15:18]\n",
    "#SOLUTION_END"
   ],
   "outputs": [
    {
     "data": {
      "text/plain": [
       "       15     16     17     18\n",
       "10  0.413  0.871  0.913  0.354\n",
       "11  0.382  0.071  0.693  0.057\n",
       "12  0.202  0.261  0.306  0.457\n",
       "13  0.475  0.661  0.205  0.935\n",
       "14  0.499  0.282  0.558  0.496\n",
       "15  0.459  0.725  0.744  0.019"
      ],
      "text/html": [
       "<div>\n",
       "<style scoped>\n",
       "    .dataframe tbody tr th:only-of-type {\n",
       "        vertical-align: middle;\n",
       "    }\n",
       "\n",
       "    .dataframe tbody tr th {\n",
       "        vertical-align: top;\n",
       "    }\n",
       "\n",
       "    .dataframe thead th {\n",
       "        text-align: right;\n",
       "    }\n",
       "</style>\n",
       "<table border=\"1\" class=\"dataframe\">\n",
       "  <thead>\n",
       "    <tr style=\"text-align: right;\">\n",
       "      <th></th>\n",
       "      <th>15</th>\n",
       "      <th>16</th>\n",
       "      <th>17</th>\n",
       "      <th>18</th>\n",
       "    </tr>\n",
       "  </thead>\n",
       "  <tbody>\n",
       "    <tr>\n",
       "      <th>10</th>\n",
       "      <td>0.413</td>\n",
       "      <td>0.871</td>\n",
       "      <td>0.913</td>\n",
       "      <td>0.354</td>\n",
       "    </tr>\n",
       "    <tr>\n",
       "      <th>11</th>\n",
       "      <td>0.382</td>\n",
       "      <td>0.071</td>\n",
       "      <td>0.693</td>\n",
       "      <td>0.057</td>\n",
       "    </tr>\n",
       "    <tr>\n",
       "      <th>12</th>\n",
       "      <td>0.202</td>\n",
       "      <td>0.261</td>\n",
       "      <td>0.306</td>\n",
       "      <td>0.457</td>\n",
       "    </tr>\n",
       "    <tr>\n",
       "      <th>13</th>\n",
       "      <td>0.475</td>\n",
       "      <td>0.661</td>\n",
       "      <td>0.205</td>\n",
       "      <td>0.935</td>\n",
       "    </tr>\n",
       "    <tr>\n",
       "      <th>14</th>\n",
       "      <td>0.499</td>\n",
       "      <td>0.282</td>\n",
       "      <td>0.558</td>\n",
       "      <td>0.496</td>\n",
       "    </tr>\n",
       "    <tr>\n",
       "      <th>15</th>\n",
       "      <td>0.459</td>\n",
       "      <td>0.725</td>\n",
       "      <td>0.744</td>\n",
       "      <td>0.019</td>\n",
       "    </tr>\n",
       "  </tbody>\n",
       "</table>\n",
       "</div>"
      ]
     },
     "execution_count": 7,
     "metadata": {},
     "output_type": "execute_result"
    }
   ],
   "execution_count": 7
  },
  {
   "cell_type": "code",
   "id": "24b3c36471c61cb9",
   "metadata": {
    "ExecuteTime": {
     "end_time": "2025-03-31T17:17:03.537830Z",
     "start_time": "2025-03-31T17:17:03.517643Z"
    }
   },
   "source": [
    "#e\n",
    "#SOLUTION_START\n",
    "df_vraag1.iloc[0:5:2,0:5:2]\n",
    "df_vraag1.iloc[0:6:2,0:6:2]\n",
    "#SOLUTION_END"
   ],
   "outputs": [
    {
     "data": {
      "text/plain": [
       "      10     12     14\n",
       "5  0.693  0.344  0.572\n",
       "7  0.331  0.467  0.764\n",
       "9  0.468  0.900  0.624"
      ],
      "text/html": [
       "<div>\n",
       "<style scoped>\n",
       "    .dataframe tbody tr th:only-of-type {\n",
       "        vertical-align: middle;\n",
       "    }\n",
       "\n",
       "    .dataframe tbody tr th {\n",
       "        vertical-align: top;\n",
       "    }\n",
       "\n",
       "    .dataframe thead th {\n",
       "        text-align: right;\n",
       "    }\n",
       "</style>\n",
       "<table border=\"1\" class=\"dataframe\">\n",
       "  <thead>\n",
       "    <tr style=\"text-align: right;\">\n",
       "      <th></th>\n",
       "      <th>10</th>\n",
       "      <th>12</th>\n",
       "      <th>14</th>\n",
       "    </tr>\n",
       "  </thead>\n",
       "  <tbody>\n",
       "    <tr>\n",
       "      <th>5</th>\n",
       "      <td>0.693</td>\n",
       "      <td>0.344</td>\n",
       "      <td>0.572</td>\n",
       "    </tr>\n",
       "    <tr>\n",
       "      <th>7</th>\n",
       "      <td>0.331</td>\n",
       "      <td>0.467</td>\n",
       "      <td>0.764</td>\n",
       "    </tr>\n",
       "    <tr>\n",
       "      <th>9</th>\n",
       "      <td>0.468</td>\n",
       "      <td>0.900</td>\n",
       "      <td>0.624</td>\n",
       "    </tr>\n",
       "  </tbody>\n",
       "</table>\n",
       "</div>"
      ]
     },
     "execution_count": 9,
     "metadata": {},
     "output_type": "execute_result"
    },
    {
     "data": {
      "text/plain": [
       "      10     12     14\n",
       "5  0.693  0.344  0.572\n",
       "7  0.331  0.467  0.764\n",
       "9  0.468  0.900  0.624"
      ],
      "text/html": [
       "<div>\n",
       "<style scoped>\n",
       "    .dataframe tbody tr th:only-of-type {\n",
       "        vertical-align: middle;\n",
       "    }\n",
       "\n",
       "    .dataframe tbody tr th {\n",
       "        vertical-align: top;\n",
       "    }\n",
       "\n",
       "    .dataframe thead th {\n",
       "        text-align: right;\n",
       "    }\n",
       "</style>\n",
       "<table border=\"1\" class=\"dataframe\">\n",
       "  <thead>\n",
       "    <tr style=\"text-align: right;\">\n",
       "      <th></th>\n",
       "      <th>10</th>\n",
       "      <th>12</th>\n",
       "      <th>14</th>\n",
       "    </tr>\n",
       "  </thead>\n",
       "  <tbody>\n",
       "    <tr>\n",
       "      <th>5</th>\n",
       "      <td>0.693</td>\n",
       "      <td>0.344</td>\n",
       "      <td>0.572</td>\n",
       "    </tr>\n",
       "    <tr>\n",
       "      <th>7</th>\n",
       "      <td>0.331</td>\n",
       "      <td>0.467</td>\n",
       "      <td>0.764</td>\n",
       "    </tr>\n",
       "    <tr>\n",
       "      <th>9</th>\n",
       "      <td>0.468</td>\n",
       "      <td>0.900</td>\n",
       "      <td>0.624</td>\n",
       "    </tr>\n",
       "  </tbody>\n",
       "</table>\n",
       "</div>"
      ]
     },
     "execution_count": 9,
     "metadata": {},
     "output_type": "execute_result"
    }
   ],
   "execution_count": 9
  },
  {
   "cell_type": "code",
   "id": "34dd6295fe2b2bec",
   "metadata": {
    "ExecuteTime": {
     "end_time": "2025-03-11T09:43:24.726086Z",
     "start_time": "2025-03-11T09:43:24.718859Z"
    }
   },
   "source": [
    "#f\n",
    "#SOLUTION_START\n",
    "print(df_vraag1.loc[5,:15:-2])\n",
    "#SOLUTION_END"
   ],
   "outputs": [
    {
     "name": "stdout",
     "output_type": "stream",
     "text": [
      "19    0.976\n",
      "17    0.345\n",
      "15    0.146\n",
      "Name: 5, dtype: float32\n"
     ]
    }
   ],
   "execution_count": 10
  },
  {
   "cell_type": "code",
   "execution_count": 12,
   "id": "ee10dc5ea7cfa44b",
   "metadata": {
    "ExecuteTime": {
     "end_time": "2025-03-07T13:20:39.246505Z",
     "start_time": "2025-03-07T13:20:39.231895Z"
    }
   },
   "outputs": [
    {
     "data": {
      "text/plain": [
       "array([[2.69274336, 1.81581712, 0.34440675],\n",
       "       [2.78146601, 1.84379005, 0.55511439]])"
      ]
     },
     "execution_count": 12,
     "metadata": {},
     "output_type": "execute_result"
    }
   ],
   "source": [
    "#g\n",
    "#SOLUTION_START\n",
    "nparray_vraag1[0:2,0:3] + np.array([2,1,0])\n",
    "#SOLUTION_END"
   ]
  },
  {
   "cell_type": "markdown",
   "id": "61714a0912f479d8",
   "metadata": {},
   "source": [
    ".\n",
    "\n",
    "# Vraag 2\n",
    "De CSV's inzamelingenGFT.csv, inzamelingenRest.csv en inzamelingenPapier.csv werden gedownload van de site van het bedrijf dat de afvalophaling doet bij docent 'Jan' thuis. In de betreffende gemeente worden 'GFT' (groenten, fruit en tuinafval) , 'Restafval' en 'Papier' opgehaald in containers. Bij de ophaling worden sensoren gebruikt om het nettogewicht van de container te wegen.\\\n",
    "Volgende kolommen zijn aanwezig in de CSV's:\\\n",
    "1.\tTijdsindicatoren: Jaar, Maand, Dag en Week\\\n",
    "2.\tVerwerkings codes: Geeft aan hoe het afval verwerkt wordt. Er zijn slechts een beperkt aantal codes die gebruikt worden.\\\n",
    "3.\tGewicht (kg): het gewicht van de lediging in kg\\\n",
    "4.\tEural codes: Europees vastgelegde codes die het type afval beschrijven:\\\n",
    "150101 = 'Papier en karton', 200108 = 'GFT', 200301 = 'Restafval'.\\\n",
    "\n",
    "Maak een script dat de bestanden inleest en de nodige dataprocessing uitvoert op basis van onderstaande vereisten:\\\n",
    "a)\tHet script moet automatisch uitgevoerd kunnen worden op bestanden met dezelfde structuur.\\\n",
    "b)\tJe maakt geen gebruik van for-loops, whiles of list comprehensions. In plaats daarvan gebruik je de efficiënte verwerkingsmethoden van Pandas/Numpy\\\n",
    "c)\tMinimaliseer het geheugengebruik van de dataframe door een verstandige keuze van datatypes.\\\n",
    "Tip: Categorische data kan je het efficiënst opslaan met behulp van het category datatype.\\\n",
    "d)\t-9 kg wil zeggen dat er voor die ophaling geen weging heeft plaatsgevonden. Vervang deze waarden door NaN.\\\n",
    "e)\tAls er bij GFT-afval geen weging heeft plaatsgevonden dan is dat omwille van een defect van de weegschaal. Zorg ervoor dat die ontbrekende waarden vervangen worden door het gewicht van de voorgaande ophaling van GFT.\\\n",
    "f)\tDe informatie tussen haakjes bij Verwerkings codes is niet relevant. Haal deze weg.\\\n",
    "g)\tVoeg de kolom \"kostprijs\" toe die op volgende manier berekend wordt:\\\n",
    "    a)\tGFT: 0.21 euro/kg\\\n",
    "    b)\tRestafval: 0.31 euro/kg + 0,65 euro per ophaling\\\n",
    "    c)\tPapier: 0.4 euro per ophaling\\\n",
    "h)\tVoeg de 3 dataframes samen tot 1 dataframe met alle informatie met behulp van de concat() methode.\\\n",
    "\n",
    "\n"
   ]
  },
  {
   "cell_type": "code",
   "id": "66eac8d5bd28ae04",
   "metadata": {
    "ExecuteTime": {
     "end_time": "2025-04-22T08:01:53.414790Z",
     "start_time": "2025-04-22T08:01:53.208765Z"
    }
   },
   "source": [
    "#SOLUTION_START\n",
    "gft = pd.read_csv(\"inzamelingenGFT.csv\", sep=';', decimal= ',', na_values=-9, dtype={'Verwerkings codes': 'category', 'Gewicht (kg)': 'float32', 'Jaar': 'int16', 'Maand': 'int8', 'Dag': 'int8', 'Week': 'int8'})\n",
    "gft['Gewicht (kg)'] = gft['Gewicht (kg)'].ffill()\n",
    "gft['kostprijs']= 0.21*gft['Gewicht (kg)']\n",
    "\n",
    "rest = pd.read_csv(\"inzamelingenRest.csv\", sep=';', decimal= ',', na_values=-9, dtype={'Verwerkings codes': 'category', 'Gewicht (kg)': 'float32', 'Jaar': 'int16', 'Maand': 'int8', 'Dag': 'int8', 'Week': 'int8'})\n",
    "rest['kostprijs']= 0.31*rest['Gewicht (kg)']+0.65\n",
    "\n",
    "papier = pd.read_csv(\"inzamelingenPapier.csv\", sep=';', decimal= ',', na_values=-9, dtype={'Verwerkings codes': 'category', 'Gewicht (kg)': 'float32', 'Jaar': 'int16', 'Maand': 'int8', 'Dag': 'int8', 'Week': 'int8'})\n",
    "papier['kostprijs']= 0.4\n",
    "\n",
    "inzamelingen = pd.concat([gft,rest,papier])\n",
    "inzamelingen['Verwerkings codes'] = inzamelingen['Verwerkings codes'].str.split(n=2).str[0]\n",
    "inzamelingen.info()\n",
    "inzamelingen['Verwerkings codes'] = inzamelingen['Verwerkings codes'].astype('category')\n",
    "inzamelingen.info()\n",
    "#SOLUTION_END"
   ],
   "outputs": [
    {
     "name": "stdout",
     "output_type": "stream",
     "text": [
      "<class 'pandas.core.frame.DataFrame'>\n",
      "Index: 163 entries, 0 to 51\n",
      "Data columns (total 8 columns):\n",
      " #   Column             Non-Null Count  Dtype  \n",
      "---  ------             --------------  -----  \n",
      " 0   Gewicht (kg)       111 non-null    float32\n",
      " 1   Eural codes        163 non-null    int64  \n",
      " 2   Verwerkings codes  163 non-null    object \n",
      " 3   Maand              163 non-null    int8   \n",
      " 4   Jaar               163 non-null    int16  \n",
      " 5   Dag                163 non-null    int8   \n",
      " 6   Week               163 non-null    int8   \n",
      " 7   kostprijs          163 non-null    float64\n",
      "dtypes: float32(1), float64(1), int16(1), int64(1), int8(3), object(1)\n",
      "memory usage: 6.5+ KB\n",
      "<class 'pandas.core.frame.DataFrame'>\n",
      "Index: 163 entries, 0 to 51\n",
      "Data columns (total 8 columns):\n",
      " #   Column             Non-Null Count  Dtype   \n",
      "---  ------             --------------  -----   \n",
      " 0   Gewicht (kg)       111 non-null    float32 \n",
      " 1   Eural codes        163 non-null    int64   \n",
      " 2   Verwerkings codes  163 non-null    category\n",
      " 3   Maand              163 non-null    int8    \n",
      " 4   Jaar               163 non-null    int16   \n",
      " 5   Dag                163 non-null    int8    \n",
      " 6   Week               163 non-null    int8    \n",
      " 7   kostprijs          163 non-null    float64 \n",
      "dtypes: category(1), float32(1), float64(1), int16(1), int64(1), int8(3)\n",
      "memory usage: 5.5 KB\n"
     ]
    }
   ],
   "execution_count": 5
  },
  {
   "cell_type": "markdown",
   "id": "51e7612732408e4a",
   "metadata": {},
   "source": [
    "# Vraag 3\n",
    "\n",
    "Voor vraag 3 a en b maak je gebruik van de csv inzamelingenALL.csv.\\\n",
    "\n",
    "a. Maak een histogram van de gewichten van de afhalingen:.\n",
    "- Zorg dat het histogram gedeeltelijk transparant (alpha=0.3) zijn\n",
    "- Werk met 20 bins.\n",
    "- Gebruik densities in plaats van absolute waarden.\n",
    "- Wegingen met 0 worden niet opgenomen in het histogram\n"
   ]
  },
  {
   "cell_type": "code",
   "id": "4fe0f37042606436",
   "metadata": {
    "ExecuteTime": {
     "end_time": "2025-04-22T08:05:49.930887Z",
     "start_time": "2025-04-22T08:05:49.145944Z"
    }
   },
   "source": [
    "#SOLUTION_START\n",
    "import numpy as np\n",
    "import matplotlib.pyplot as plt\n",
    "inzamelingen_df = pd.read_csv(\"inzamelingenALL.csv\",sep=\";\", decimal=\",\", na_values=0)\n",
    "\n",
    "plt.hist(inzamelingen_df['Gewicht (kg)'], alpha=0.3, density=True, bins=20, label='GFT')\n",
    "#SOLUTION_END"
   ],
   "outputs": [
    {
     "data": {
      "text/plain": [
       "(array([0.04068585, 0.07555943, 0.10462075, 0.08718396, 0.08137169,\n",
       "        0.0639349 , 0.05231037, 0.04068585, 0.06974717, 0.01743679,\n",
       "        0.00581226, 0.        , 0.        , 0.        , 0.        ,\n",
       "        0.        , 0.        , 0.        , 0.        , 0.00581226]),\n",
       " array([ 2.5 ,  4.05,  5.6 ,  7.15,  8.7 , 10.25, 11.8 , 13.35, 14.9 ,\n",
       "        16.45, 18.  , 19.55, 21.1 , 22.65, 24.2 , 25.75, 27.3 , 28.85,\n",
       "        30.4 , 31.95, 33.5 ]),\n",
       " <BarContainer object of 20 artists>)"
      ]
     },
     "execution_count": 7,
     "metadata": {},
     "output_type": "execute_result"
    },
    {
     "data": {
      "text/plain": [
       "<Figure size 640x480 with 1 Axes>"
      ],
      "image/png": "[encoded data removed]"
     },
     "metadata": {},
     "output_type": "display_data"
    }
   ],
   "execution_count": 7
  },
  {
   "cell_type": "markdown",
   "id": "20e8f1c640d54eaa",
   "metadata": {},
   "source": "b.Gebruik de data uit inzamelingenALL.csv om onderstaande grafiek na te bouwen. De grafiek moet er precies hetzelfde uitzien zoals de afbeelding. Let op: de jaren 2020 en 2025 zijn niet meegenomen in de resultaten, omdat de data daarvan niet volledig was. Als je halve jaartallen ziet op de x-as gebruik dan de functie ``plt.xticks`` 4p\\"
  },
  {
   "cell_type": "code",
   "id": "8e6a478895c926e5",
   "metadata": {
    "ExecuteTime": {
     "end_time": "2025-04-22T08:05:53.876191Z",
     "start_time": "2025-04-22T08:05:53.185836Z"
    }
   },
   "source": [
    "#SOLUTION_START\n",
    "inzamelingen_filtered = inzamelingen_df[(inzamelingen_df[\"Jaar\"]>2020) & (inzamelingen_df[\"Jaar\"]<2025)]\n",
    "yearcost_rest = inzamelingen_filtered[inzamelingen_df[\"Eural codes\"]==200301].groupby(['Jaar']).aggregate({'kostprijs':'sum'})\n",
    "yearcost_gft = inzamelingen_filtered[inzamelingen_df[\"Eural codes\"]==200108].groupby(['Jaar']).aggregate({'kostprijs':'sum'})\n",
    "yearcost_papier = inzamelingen_filtered[inzamelingen_df[\"Eural codes\"]==150101].groupby(['Jaar']).aggregate({'kostprijs':'sum'})\n",
    "yearcost_total = inzamelingen_filtered.groupby(['Jaar']).aggregate({'kostprijs':'sum'})\n",
    "\n",
    "# yearcost_total= pd.DataFrame([105.13,103.85,93.185,72.0], columns=['kostprijs'], index=[2021,2022,2023,2024])\n",
    "# yearcost_rest= pd.DataFrame([100.73,98.65,87.985,39.605], columns=['kostprijs'], index=[2021,2022,2023,2024])\n",
    "# yearcost_gft= pd.DataFrame([27.195], columns=['kostprijs'], index=[2024])\n",
    "# yearcost_papier= pd.DataFrame([4.4,5.2,5.2,5.2], columns=['kostprijs'], index=[2021,2022,2023,2024])\n",
    "\n",
    "_=plt.plot(yearcost_rest, label='Restafval', marker='v', linestyle = '--', color='black')\n",
    "_=plt.plot(yearcost_gft, label='GFT', marker='d', linestyle = ':', color='black')\n",
    "_=plt.plot(yearcost_papier, label='Papier', marker='o', linestyle = '-.', color='black')\n",
    "_=plt.plot(yearcost_total, label='Total', marker='x', linestyle='-', color='black')\n",
    "_=plt.legend()\n",
    "_=plt.title('Kostprijs per jaar')\n",
    "_=plt.ylabel('Kostprijs in EUR')\n",
    "_=plt.xlabel('Jaar')\n",
    "_=plt.xticks(yearcost_rest.index)\n",
    "#SOLUTION_END"
   ],
   "outputs": [
    {
     "name": "stderr",
     "output_type": "stream",
     "text": [
      "C:\\Users\\overvelj\\AppData\\Local\\Temp\\ipykernel_35792\\2558301415.py:3: UserWarning: Boolean Series key will be reindexed to match DataFrame index.\n",
      "  yearcost_rest = inzamelingen_filtered[inzamelingen_df[\"Eural codes\"]==200301].groupby(['Jaar']).aggregate({'kostprijs':'sum'})\n",
      "C:\\Users\\overvelj\\AppData\\Local\\Temp\\ipykernel_35792\\2558301415.py:4: UserWarning: Boolean Series key will be reindexed to match DataFrame index.\n",
      "  yearcost_gft = inzamelingen_filtered[inzamelingen_df[\"Eural codes\"]==200108].groupby(['Jaar']).aggregate({'kostprijs':'sum'})\n",
      "C:\\Users\\overvelj\\AppData\\Local\\Temp\\ipykernel_35792\\2558301415.py:5: UserWarning: Boolean Series key will be reindexed to match DataFrame index.\n",
      "  yearcost_papier = inzamelingen_filtered[inzamelingen_df[\"Eural codes\"]==150101].groupby(['Jaar']).aggregate({'kostprijs':'sum'})\n"
     ]
    },
    {
     "data": {
      "text/plain": [
       "<Figure size 640x480 with 1 Axes>"
      ],
      "image/png": "[encoded data removed]"
     },
     "metadata": {},
     "output_type": "display_data"
    }
   ],
   "execution_count": 8
  }
 ],
 "metadata": {
  "kernelspec": {
   "display_name": "Python 3 (ipykernel)",
   "language": "python",
   "name": "python3"
  },
  "language_info": {
   "codemirror_mode": {
    "name": "ipython",
    "version": 3
   },
   "file_extension": ".py",
   "mimetype": "text/x-python",
   "name": "python",
   "nbconvert_exporter": "python",
   "pygments_lexer": "ipython3",
   "version": "3.12.8"
  }
 },
 "nbformat": 4,
 "nbformat_minor": 5
}
