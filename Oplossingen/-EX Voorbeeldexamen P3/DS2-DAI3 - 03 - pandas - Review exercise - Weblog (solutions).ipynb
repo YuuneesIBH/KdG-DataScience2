{
 "cells": [
  {
   "cell_type": "markdown",
   "metadata": {
    "id": "XX7WxJhL50UM"
   },
   "source": [
    "# Weblog Exercise\n",
    "\n",
    "We want to be able to perform analyses on the logs of a web server (\"UofS_access_log.small\"). To do this, you need to get the relevant data into a dataframe. This should be an automated process so that other log files can also be loaded.\n",
    "\n",
    "The following tasks need to be done. The original dataframe should be reworked so that only these columns remain:\n",
    "\n",
    "- domain: contains the addresses of the clients that sent a request\n",
    "- timestamp: is a datetime field (POSIXct) that shows the time of the request\n",
    "- resource: shows the resource that was requested\n",
    "- response_code: gives the HTTP response code returned by the server\n",
    "- response_length: indicates the length of the HTTP response\n"
   ]
  },
  {
   "cell_type": "markdown",
   "source": [
    "Import all necessary libraries here:"
   ],
   "metadata": {
    "collapsed": false
   }
  },
  {
   "cell_type": "code",
   "source": [
    "#SOLUTION_START\n",
    "import pandas as pd\n",
    "#SOLUTION_END"
   ],
   "metadata": {
    "collapsed": false,
    "ExecuteTime": {
     "end_time": "2025-03-17T13:36:24.909541Z",
     "start_time": "2025-03-17T13:36:24.900658Z"
    }
   },
   "outputs": [],
   "execution_count": 1
  },
  {
   "cell_type": "markdown",
   "metadata": {
    "id": "DiLdG3sF50U3"
   },
   "source": [
    "## Reading the data\n",
    "Open the file \"UofS_access_log.small\" and investigate its contents. The file is a log file from a web server.\n",
    "\n",
    "Read the dataframe.\n",
    "- Check for yourself what the separator is.\n",
    "- Incorrect rows can be skipped.\n",
    "- There is no header!\n",
    "- The file uses the \"latin\" encoding (consult the docs to learn how to set the encoding) for characters."
   ]
  },
  {
   "cell_type": "code",
   "metadata": {
    "ExecuteTime": {
     "end_time": "2025-03-17T13:36:34.156022Z",
     "start_time": "2025-03-17T13:36:24.942120Z"
    }
   },
   "source": [
    "#SOLUTION_START\n",
    "#log = pd.read_csv(\"../datasets/UofS_access_log.small.csv\", sep=\" \", encoding=\"latin\", header=None, on_bad_lines='skip')\n",
    "\n",
    "#This commented code below is the solution for the wrong type of response_length column.\n",
    "log = pd.read_csv(\"../../datasets/UofS_access_log\", sep=\" \", encoding=\"latin\", header=None, on_bad_lines='skip', na_values=\"-\", dtype={2: 'string'})\n",
    "log.head()\n",
    "#SOLUTION_END"
   ],
   "outputs": [
    {
     "data": {
      "text/plain": [
       "                         0   1     2                      3       4  \\\n",
       "0             202.32.92.47 NaN  <NA>  [01/Jun/1995:00:00:59  -0600]   \n",
       "1  ix-or7-27.ix.netcom.com NaN  <NA>  [01/Jun/1995:00:02:51  -0600]   \n",
       "2          ram0.huji.ac.il NaN  <NA>  [01/Jun/1995:00:05:44  -0600]   \n",
       "3    eagle40.sasknet.sk.ca NaN  <NA>  [01/Jun/1995:00:08:06  -0600]   \n",
       "4    eagle40.sasknet.sk.ca NaN  <NA>  [01/Jun/1995:00:08:19  -0600]   \n",
       "\n",
       "                           5    6         7  \n",
       "0  GET /~scottp/publish.html  200     271.0  \n",
       "1  GET /~ladd/ostriches.html  200  205908.0  \n",
       "2  GET /~scottp/publish.html  200     271.0  \n",
       "3               GET /~lowey/  200    1116.0  \n",
       "4      GET /~lowey/kevin.gif  200   49649.0  "
      ],
      "text/html": [
       "<div>\n",
       "<style scoped>\n",
       "    .dataframe tbody tr th:only-of-type {\n",
       "        vertical-align: middle;\n",
       "    }\n",
       "\n",
       "    .dataframe tbody tr th {\n",
       "        vertical-align: top;\n",
       "    }\n",
       "\n",
       "    .dataframe thead th {\n",
       "        text-align: right;\n",
       "    }\n",
       "</style>\n",
       "<table border=\"1\" class=\"dataframe\">\n",
       "  <thead>\n",
       "    <tr style=\"text-align: right;\">\n",
       "      <th></th>\n",
       "      <th>0</th>\n",
       "      <th>1</th>\n",
       "      <th>2</th>\n",
       "      <th>3</th>\n",
       "      <th>4</th>\n",
       "      <th>5</th>\n",
       "      <th>6</th>\n",
       "      <th>7</th>\n",
       "    </tr>\n",
       "  </thead>\n",
       "  <tbody>\n",
       "    <tr>\n",
       "      <th>0</th>\n",
       "      <td>202.32.92.47</td>\n",
       "      <td>NaN</td>\n",
       "      <td>&lt;NA&gt;</td>\n",
       "      <td>[01/Jun/1995:00:00:59</td>\n",
       "      <td>-0600]</td>\n",
       "      <td>GET /~scottp/publish.html</td>\n",
       "      <td>200</td>\n",
       "      <td>271.0</td>\n",
       "    </tr>\n",
       "    <tr>\n",
       "      <th>1</th>\n",
       "      <td>ix-or7-27.ix.netcom.com</td>\n",
       "      <td>NaN</td>\n",
       "      <td>&lt;NA&gt;</td>\n",
       "      <td>[01/Jun/1995:00:02:51</td>\n",
       "      <td>-0600]</td>\n",
       "      <td>GET /~ladd/ostriches.html</td>\n",
       "      <td>200</td>\n",
       "      <td>205908.0</td>\n",
       "    </tr>\n",
       "    <tr>\n",
       "      <th>2</th>\n",
       "      <td>ram0.huji.ac.il</td>\n",
       "      <td>NaN</td>\n",
       "      <td>&lt;NA&gt;</td>\n",
       "      <td>[01/Jun/1995:00:05:44</td>\n",
       "      <td>-0600]</td>\n",
       "      <td>GET /~scottp/publish.html</td>\n",
       "      <td>200</td>\n",
       "      <td>271.0</td>\n",
       "    </tr>\n",
       "    <tr>\n",
       "      <th>3</th>\n",
       "      <td>eagle40.sasknet.sk.ca</td>\n",
       "      <td>NaN</td>\n",
       "      <td>&lt;NA&gt;</td>\n",
       "      <td>[01/Jun/1995:00:08:06</td>\n",
       "      <td>-0600]</td>\n",
       "      <td>GET /~lowey/</td>\n",
       "      <td>200</td>\n",
       "      <td>1116.0</td>\n",
       "    </tr>\n",
       "    <tr>\n",
       "      <th>4</th>\n",
       "      <td>eagle40.sasknet.sk.ca</td>\n",
       "      <td>NaN</td>\n",
       "      <td>&lt;NA&gt;</td>\n",
       "      <td>[01/Jun/1995:00:08:19</td>\n",
       "      <td>-0600]</td>\n",
       "      <td>GET /~lowey/kevin.gif</td>\n",
       "      <td>200</td>\n",
       "      <td>49649.0</td>\n",
       "    </tr>\n",
       "  </tbody>\n",
       "</table>\n",
       "</div>"
      ]
     },
     "execution_count": 2,
     "metadata": {},
     "output_type": "execute_result"
    }
   ],
   "execution_count": 2
  },
  {
   "cell_type": "markdown",
   "source": "Investigate the dataframe.",
   "metadata": {
    "collapsed": false
   }
  },
  {
   "cell_type": "code",
   "source": [
    "#SOLUTION_START\n",
    "log.info()\n",
    "log.describe()\n",
    "#SOLUTION_END"
   ],
   "metadata": {
    "collapsed": false,
    "ExecuteTime": {
     "end_time": "2025-03-14T09:05:36.132412Z",
     "start_time": "2025-03-14T09:05:35.319428Z"
    }
   },
   "outputs": [
    {
     "name": "stdout",
     "output_type": "stream",
     "text": [
      "<class 'pandas.core.frame.DataFrame'>\n",
      "RangeIndex: 2408623 entries, 0 to 2408622\n",
      "Data columns (total 8 columns):\n",
      " #   Column  Dtype  \n",
      "---  ------  -----  \n",
      " 0   0       object \n",
      " 1   1       float64\n",
      " 2   2       string \n",
      " 3   3       object \n",
      " 4   4       object \n",
      " 5   5       object \n",
      " 6   6       int64  \n",
      " 7   7       float64\n",
      "dtypes: float64(2), int64(1), object(4), string(1)\n",
      "memory usage: 147.0+ MB\n"
     ]
    },
    {
     "data": {
      "text/plain": [
       "         1             6             7\n",
       "count  0.0  2.408623e+06  2.362336e+06\n",
       "mean   NaN  2.102198e+02  5.479282e+03\n",
       "std    NaN  3.400302e+01  6.396353e+04\n",
       "min    NaN  2.000000e+02  0.000000e+00\n",
       "25%    NaN  2.000000e+02  5.500000e+02\n",
       "50%    NaN  2.000000e+02  1.723000e+03\n",
       "75%    NaN  2.000000e+02  3.455000e+03\n",
       "max    NaN  5.010000e+02  3.019382e+07"
      ],
      "text/html": [
       "<div>\n",
       "<style scoped>\n",
       "    .dataframe tbody tr th:only-of-type {\n",
       "        vertical-align: middle;\n",
       "    }\n",
       "\n",
       "    .dataframe tbody tr th {\n",
       "        vertical-align: top;\n",
       "    }\n",
       "\n",
       "    .dataframe thead th {\n",
       "        text-align: right;\n",
       "    }\n",
       "</style>\n",
       "<table border=\"1\" class=\"dataframe\">\n",
       "  <thead>\n",
       "    <tr style=\"text-align: right;\">\n",
       "      <th></th>\n",
       "      <th>1</th>\n",
       "      <th>6</th>\n",
       "      <th>7</th>\n",
       "    </tr>\n",
       "  </thead>\n",
       "  <tbody>\n",
       "    <tr>\n",
       "      <th>count</th>\n",
       "      <td>0.0</td>\n",
       "      <td>2.408623e+06</td>\n",
       "      <td>2.362336e+06</td>\n",
       "    </tr>\n",
       "    <tr>\n",
       "      <th>mean</th>\n",
       "      <td>NaN</td>\n",
       "      <td>2.102198e+02</td>\n",
       "      <td>5.479282e+03</td>\n",
       "    </tr>\n",
       "    <tr>\n",
       "      <th>std</th>\n",
       "      <td>NaN</td>\n",
       "      <td>3.400302e+01</td>\n",
       "      <td>6.396353e+04</td>\n",
       "    </tr>\n",
       "    <tr>\n",
       "      <th>min</th>\n",
       "      <td>NaN</td>\n",
       "      <td>2.000000e+02</td>\n",
       "      <td>0.000000e+00</td>\n",
       "    </tr>\n",
       "    <tr>\n",
       "      <th>25%</th>\n",
       "      <td>NaN</td>\n",
       "      <td>2.000000e+02</td>\n",
       "      <td>5.500000e+02</td>\n",
       "    </tr>\n",
       "    <tr>\n",
       "      <th>50%</th>\n",
       "      <td>NaN</td>\n",
       "      <td>2.000000e+02</td>\n",
       "      <td>1.723000e+03</td>\n",
       "    </tr>\n",
       "    <tr>\n",
       "      <th>75%</th>\n",
       "      <td>NaN</td>\n",
       "      <td>2.000000e+02</td>\n",
       "      <td>3.455000e+03</td>\n",
       "    </tr>\n",
       "    <tr>\n",
       "      <th>max</th>\n",
       "      <td>NaN</td>\n",
       "      <td>5.010000e+02</td>\n",
       "      <td>3.019382e+07</td>\n",
       "    </tr>\n",
       "  </tbody>\n",
       "</table>\n",
       "</div>"
      ]
     },
     "execution_count": 4,
     "metadata": {},
     "output_type": "execute_result"
    }
   ],
   "execution_count": 4
  },
  {
   "metadata": {},
   "cell_type": "markdown",
   "source": "Delete columns 1 and 2 as they do not contain any relevant information. Use the ``drop()`` function on the dataframe."
  },
  {
   "metadata": {
    "ExecuteTime": {
     "end_time": "2025-03-17T13:36:40.857761Z",
     "start_time": "2025-03-17T13:36:40.657659Z"
    }
   },
   "cell_type": "code",
   "source": [
    "#SOLUTION_START\n",
    "log.drop(columns=[1,2], inplace=True)\n",
    "#SOLUTION_END"
   ],
   "outputs": [],
   "execution_count": 3
  },
  {
   "metadata": {
    "collapsed": false
   },
   "cell_type": "markdown",
   "source": "Column 0 should be named \"domain\", column (with explicit index) 5 should be named \"resource\", 6 should be named \"response_code\", column 7 should be named response_length.Rename these columns in the dataframe by replacing log.columns with the correct names.\n"
  },
  {
   "metadata": {
    "ExecuteTime": {
     "end_time": "2025-03-17T13:36:45.370789Z",
     "start_time": "2025-03-17T13:36:45.361436Z"
    }
   },
   "cell_type": "code",
   "source": [
    "#SOLUTION_START\n",
    "log.columns = [\"domain\",3,4, \"resource\", \"response_code\", \"response_length\"]\n",
    "#SOLUTION_END"
   ],
   "outputs": [],
   "execution_count": 4
  },
  {
   "cell_type": "markdown",
   "source": "The \"response_length\" has the 'object' type but we expected it to be numerical. What is the reason? Try to solve the problem when reading the csv file.",
   "metadata": {
    "collapsed": false
   }
  },
  {
   "cell_type": "code",
   "source": [
    "#SOLUTION_START\n",
    "# The CSV contains '-' in the response_length column.  This '-' probably indicates that the response length is unknown. We can replace these with NaN values.\n",
    "# Add the na_values parameter to the read_csv function.\n",
    "#SOLUTION_END"
   ],
   "metadata": {
    "collapsed": false,
    "ExecuteTime": {
     "end_time": "2025-02-18T10:37:49.991747Z",
     "start_time": "2025-02-18T10:37:49.984499Z"
    }
   },
   "outputs": [],
   "execution_count": 58
  },
  {
   "cell_type": "markdown",
   "source": "In the previous question you had to replace '-' with NaN values. How many NaN values are in response_length?",
   "metadata": {
    "collapsed": false
   }
  },
  {
   "cell_type": "code",
   "source": [
    "#SOLUTION_START\n",
    "log[\"response_length\"].isna().sum()\n",
    "#SOLUTION_END"
   ],
   "metadata": {
    "collapsed": false,
    "ExecuteTime": {
     "end_time": "2025-03-17T13:38:26.974997Z",
     "start_time": "2025-03-17T13:38:26.952615Z"
    }
   },
   "outputs": [
    {
     "data": {
      "text/plain": [
       "46287"
      ]
     },
     "execution_count": 8,
     "metadata": {},
     "output_type": "execute_result"
    }
   ],
   "execution_count": 8
  },
  {
   "cell_type": "markdown",
   "source": [
    "What percentage is that of all rows?"
   ],
   "metadata": {
    "collapsed": false
   }
  },
  {
   "cell_type": "code",
   "source": [
    "#SOLUTION_START\n",
    "log[\"response_length\"].isna().sum() / len(log[\"response_length\"]) * 100\n",
    "#SOLUTION_END"
   ],
   "metadata": {
    "collapsed": false,
    "ExecuteTime": {
     "end_time": "2025-02-18T10:37:50.650516Z",
     "start_time": "2025-02-18T10:37:50.631694Z"
    }
   },
   "outputs": [
    {
     "data": {
      "text/plain": [
       "1.9217204186790542"
      ]
     },
     "execution_count": 60,
     "metadata": {},
     "output_type": "execute_result"
    }
   ],
   "execution_count": 60
  },
  {
   "cell_type": "markdown",
   "source": "The timestamp is spread across columns 3 (date and time) and 4 (timezone). Combine these into one string. Place the result in a variable \"timestamp\" and drop the original columns.",
   "metadata": {
    "collapsed": false
   }
  },
  {
   "cell_type": "code",
   "source": [
    "#SOLUTION_START\n",
    "log['timestamp']= log.loc[:,3] + log.loc[:,4]\n",
    "log.drop(columns=[3,4], inplace=True)\n",
    "#SOLUTION_END"
   ],
   "metadata": {
    "collapsed": false,
    "ExecuteTime": {
     "end_time": "2025-02-18T10:37:52.223882Z",
     "start_time": "2025-02-18T10:37:50.911837Z"
    }
   },
   "outputs": [],
   "execution_count": 61
  },
  {
   "cell_type": "markdown",
   "source": [
    "\n",
    "Remove the 'GET' and 'HTTP/1.0' that sometimes appear at the beginning and end of the \"resource\" column."
   ],
   "metadata": {
    "collapsed": false
   }
  },
  {
   "cell_type": "code",
   "metadata": {
    "ExecuteTime": {
     "end_time": "2025-02-18T10:37:58.309795Z",
     "start_time": "2025-02-18T10:37:52.268751Z"
    }
   },
   "source": [
    "#SOLUTION_START\n",
    "log[\"resource\"] = log[\"resource\"].str.replace(\"GET \", \"\", regex=False).str.replace(\"HTTP/1.0\", \"\", regex=False)\n",
    "#SOLUTION_END"
   ],
   "outputs": [],
   "execution_count": 62
  },
  {
   "cell_type": "markdown",
   "source": [
    "Remove all rows from your dataframe where a missing value occurs."
   ],
   "metadata": {
    "collapsed": false
   }
  },
  {
   "cell_type": "code",
   "source": [
    "#SOLUTION_START\n",
    "log.dropna(inplace=True)\n",
    "log.head()\n",
    "#SOLUTION_END"
   ],
   "metadata": {
    "collapsed": false,
    "ExecuteTime": {
     "end_time": "2025-02-18T10:37:59.307899Z",
     "start_time": "2025-02-18T10:37:58.334723Z"
    }
   },
   "outputs": [
    {
     "data": {
      "text/plain": [
       "                    domain               resource  response_code  \\\n",
       "0             202.32.92.47  /~scottp/publish.html            200   \n",
       "1  ix-or7-27.ix.netcom.com  /~ladd/ostriches.html            200   \n",
       "2          ram0.huji.ac.il  /~scottp/publish.html            200   \n",
       "3    eagle40.sasknet.sk.ca               /~lowey/            200   \n",
       "4    eagle40.sasknet.sk.ca      /~lowey/kevin.gif            200   \n",
       "\n",
       "   response_length                    timestamp  \n",
       "0            271.0  [01/Jun/1995:00:00:59-0600]  \n",
       "1         205908.0  [01/Jun/1995:00:02:51-0600]  \n",
       "2            271.0  [01/Jun/1995:00:05:44-0600]  \n",
       "3           1116.0  [01/Jun/1995:00:08:06-0600]  \n",
       "4          49649.0  [01/Jun/1995:00:08:19-0600]  "
      ],
      "text/html": [
       "<div>\n",
       "<style scoped>\n",
       "    .dataframe tbody tr th:only-of-type {\n",
       "        vertical-align: middle;\n",
       "    }\n",
       "\n",
       "    .dataframe tbody tr th {\n",
       "        vertical-align: top;\n",
       "    }\n",
       "\n",
       "    .dataframe thead th {\n",
       "        text-align: right;\n",
       "    }\n",
       "</style>\n",
       "<table border=\"1\" class=\"dataframe\">\n",
       "  <thead>\n",
       "    <tr style=\"text-align: right;\">\n",
       "      <th></th>\n",
       "      <th>domain</th>\n",
       "      <th>resource</th>\n",
       "      <th>response_code</th>\n",
       "      <th>response_length</th>\n",
       "      <th>timestamp</th>\n",
       "    </tr>\n",
       "  </thead>\n",
       "  <tbody>\n",
       "    <tr>\n",
       "      <th>0</th>\n",
       "      <td>202.32.92.47</td>\n",
       "      <td>/~scottp/publish.html</td>\n",
       "      <td>200</td>\n",
       "      <td>271.0</td>\n",
       "      <td>[01/Jun/1995:00:00:59-0600]</td>\n",
       "    </tr>\n",
       "    <tr>\n",
       "      <th>1</th>\n",
       "      <td>ix-or7-27.ix.netcom.com</td>\n",
       "      <td>/~ladd/ostriches.html</td>\n",
       "      <td>200</td>\n",
       "      <td>205908.0</td>\n",
       "      <td>[01/Jun/1995:00:02:51-0600]</td>\n",
       "    </tr>\n",
       "    <tr>\n",
       "      <th>2</th>\n",
       "      <td>ram0.huji.ac.il</td>\n",
       "      <td>/~scottp/publish.html</td>\n",
       "      <td>200</td>\n",
       "      <td>271.0</td>\n",
       "      <td>[01/Jun/1995:00:05:44-0600]</td>\n",
       "    </tr>\n",
       "    <tr>\n",
       "      <th>3</th>\n",
       "      <td>eagle40.sasknet.sk.ca</td>\n",
       "      <td>/~lowey/</td>\n",
       "      <td>200</td>\n",
       "      <td>1116.0</td>\n",
       "      <td>[01/Jun/1995:00:08:06-0600]</td>\n",
       "    </tr>\n",
       "    <tr>\n",
       "      <th>4</th>\n",
       "      <td>eagle40.sasknet.sk.ca</td>\n",
       "      <td>/~lowey/kevin.gif</td>\n",
       "      <td>200</td>\n",
       "      <td>49649.0</td>\n",
       "      <td>[01/Jun/1995:00:08:19-0600]</td>\n",
       "    </tr>\n",
       "  </tbody>\n",
       "</table>\n",
       "</div>"
      ]
     },
     "execution_count": 63,
     "metadata": {},
     "output_type": "execute_result"
    }
   ],
   "execution_count": 63
  },
  {
   "cell_type": "markdown",
   "source": [
    "Find the row(s) with the largest response_length."
   ],
   "metadata": {
    "collapsed": false
   }
  },
  {
   "cell_type": "code",
   "source": [
    "#SOLUTION_START\n",
    "rows = log.response_length == log.response_length.max()\n",
    "log.loc[rows]\n",
    "#SOLUTION_END"
   ],
   "metadata": {
    "collapsed": false,
    "ExecuteTime": {
     "end_time": "2025-02-18T10:37:59.533847Z",
     "start_time": "2025-02-18T10:37:59.495328Z"
    }
   },
   "outputs": [
    {
     "data": {
      "text/plain": [
       "                    domain                resource  response_code  \\\n",
       "127004   mac40199.usask.ca  /uofs/ivany_movie.mov             200   \n",
       "127629       duke.usask.ca  /uofs/ivany_movie.mov             200   \n",
       "131615   agora.carleton.ca  /uofs/ivany_movie.mov             200   \n",
       "144938     krause.usask.ca  /uofs/ivany_movie.mov             200   \n",
       "161552     grapes.usask.ca  /uofs/ivany_movie.mov             200   \n",
       "164035  palona1.cns.hp.com  /uofs/ivany_movie.mov             200   \n",
       "\n",
       "        response_length                    timestamp  \n",
       "127004       30193824.0  [19/Jun/1995:16:32:20-0600]  \n",
       "127629       30193824.0  [19/Jun/1995:17:59:05-0600]  \n",
       "131615       30193824.0  [20/Jun/1995:08:47:16-0600]  \n",
       "144938       30193824.0  [21/Jun/1995:13:16:53-0600]  \n",
       "161552       30193824.0  [23/Jun/1995:11:09:40-0600]  \n",
       "164035       30193824.0  [23/Jun/1995:15:23:04-0600]  "
      ],
      "text/html": [
       "<div>\n",
       "<style scoped>\n",
       "    .dataframe tbody tr th:only-of-type {\n",
       "        vertical-align: middle;\n",
       "    }\n",
       "\n",
       "    .dataframe tbody tr th {\n",
       "        vertical-align: top;\n",
       "    }\n",
       "\n",
       "    .dataframe thead th {\n",
       "        text-align: right;\n",
       "    }\n",
       "</style>\n",
       "<table border=\"1\" class=\"dataframe\">\n",
       "  <thead>\n",
       "    <tr style=\"text-align: right;\">\n",
       "      <th></th>\n",
       "      <th>domain</th>\n",
       "      <th>resource</th>\n",
       "      <th>response_code</th>\n",
       "      <th>response_length</th>\n",
       "      <th>timestamp</th>\n",
       "    </tr>\n",
       "  </thead>\n",
       "  <tbody>\n",
       "    <tr>\n",
       "      <th>127004</th>\n",
       "      <td>mac40199.usask.ca</td>\n",
       "      <td>/uofs/ivany_movie.mov</td>\n",
       "      <td>200</td>\n",
       "      <td>30193824.0</td>\n",
       "      <td>[19/Jun/1995:16:32:20-0600]</td>\n",
       "    </tr>\n",
       "    <tr>\n",
       "      <th>127629</th>\n",
       "      <td>duke.usask.ca</td>\n",
       "      <td>/uofs/ivany_movie.mov</td>\n",
       "      <td>200</td>\n",
       "      <td>30193824.0</td>\n",
       "      <td>[19/Jun/1995:17:59:05-0600]</td>\n",
       "    </tr>\n",
       "    <tr>\n",
       "      <th>131615</th>\n",
       "      <td>agora.carleton.ca</td>\n",
       "      <td>/uofs/ivany_movie.mov</td>\n",
       "      <td>200</td>\n",
       "      <td>30193824.0</td>\n",
       "      <td>[20/Jun/1995:08:47:16-0600]</td>\n",
       "    </tr>\n",
       "    <tr>\n",
       "      <th>144938</th>\n",
       "      <td>krause.usask.ca</td>\n",
       "      <td>/uofs/ivany_movie.mov</td>\n",
       "      <td>200</td>\n",
       "      <td>30193824.0</td>\n",
       "      <td>[21/Jun/1995:13:16:53-0600]</td>\n",
       "    </tr>\n",
       "    <tr>\n",
       "      <th>161552</th>\n",
       "      <td>grapes.usask.ca</td>\n",
       "      <td>/uofs/ivany_movie.mov</td>\n",
       "      <td>200</td>\n",
       "      <td>30193824.0</td>\n",
       "      <td>[23/Jun/1995:11:09:40-0600]</td>\n",
       "    </tr>\n",
       "    <tr>\n",
       "      <th>164035</th>\n",
       "      <td>palona1.cns.hp.com</td>\n",
       "      <td>/uofs/ivany_movie.mov</td>\n",
       "      <td>200</td>\n",
       "      <td>30193824.0</td>\n",
       "      <td>[23/Jun/1995:15:23:04-0600]</td>\n",
       "    </tr>\n",
       "  </tbody>\n",
       "</table>\n",
       "</div>"
      ]
     },
     "execution_count": 64,
     "metadata": {},
     "output_type": "execute_result"
    }
   ],
   "execution_count": 64
  },
  {
   "cell_type": "markdown",
   "source": [
    "Save the result in a CSV file \"log_result.csv\". Use ',' as the separator and \".\" for decimal numbers."
   ],
   "metadata": {
    "collapsed": false
   }
  },
  {
   "cell_type": "code",
   "source": [
    "#SOLUTION_START\n",
    "log.to_csv(\"log_result.csv\", sep=\",\", decimal=\".\", index=False)\n",
    "#SOLUTION_END"
   ],
   "metadata": {
    "collapsed": false,
    "ExecuteTime": {
     "end_time": "2025-02-18T10:38:19.405651Z",
     "start_time": "2025-02-18T10:37:59.977325Z"
    }
   },
   "outputs": [],
   "execution_count": 65
  },
  {
   "cell_type": "markdown",
   "source": [
    "Now, it is time to check that the solution also works for the full dataset \"UofS_access_log\". Perform the same steps as above. Mind that the file is 227Mb and processing can take a while, but should not take ages.\n",
    "When I ran the code with the full data set, it took about 1 minute.\\\n",
    "I also got a warning ``DtypeWarning: Columns (2) have mixed types.Specify dtype option on import or set low_memory=False.`` Pandas can only know the dtypes after reading the entire file. This is why it is recommended to set the dtype explicitly when reading the file. I added ``dtype={2: 'string'}`` to the read_csv function."
   ],
   "metadata": {
    "collapsed": false
   }
  },
  {
   "metadata": {},
   "cell_type": "markdown",
   "source": ""
  }
 ],
 "metadata": {
  "colab": {
   "name": "Opgaveboek - weblog - oplossingen.ipynb",
   "provenance": []
  },
  "kernelspec": {
   "display_name": "Python 3",
   "language": "python",
   "name": "python3"
  },
  "language_info": {
   "codemirror_mode": {
    "name": "ipython",
    "version": 3
   },
   "file_extension": ".py",
   "mimetype": "text/x-python",
   "name": "python",
   "nbconvert_exporter": "python",
   "pygments_lexer": "ipython3",
   "version": "3.8.7-final"
  }
 },
 "nbformat": 4,
 "nbformat_minor": 0
}
