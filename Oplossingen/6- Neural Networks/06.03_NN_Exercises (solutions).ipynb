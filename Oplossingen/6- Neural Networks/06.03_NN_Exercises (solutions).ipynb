{
 "cells": [
  {
   "cell_type": "markdown",
   "id": "01488c7d-3df5-48cc-b1d2-a429a28445b1",
   "metadata": {},
   "source": [
    "# Neural Networks - Exercises"
   ]
  },
  {
   "cell_type": "markdown",
   "id": "08a7d0d5-49ff-4da9-95ad-18ecab7d6c29",
   "metadata": {},
   "source": [
    "## EXERCISE 1\n",
    "\n",
    "A very small NN has an input layer with 2 nodes and an output layer with 1 node. The are no hidden nodes. Calculate the feedforward pass if the input is [1, 1] the weights are [0.3, -0.1] and the bias is -0.7. The activation function used by the output layer is `sigmoid`. Use numpy arrays and the python `math` module to calculate the output the integration and activation function of the output node. Which of the 2 inputs has the biggest influence one the output?"
   ]
  },
  {
   "cell_type": "code",
   "id": "61fbc82b-fc6f-4186-94ce-12eb76c8f955",
   "metadata": {
    "ExecuteTime": {
     "end_time": "2025-05-12T10:27:25.916271Z",
     "start_time": "2025-05-12T10:27:25.909526Z"
    }
   },
   "source": [
    "import numpy as np\n",
    "import math\n",
    "\n",
    "input = np.array([1, 1])\n",
    "weights = np.array([0.3, -0.1])\n",
    "bias = -0.7\n",
    "\n",
    "#integration = 1 * 0.3 + 1 * (-0.1) - 0.7\n",
    "integration = np.sum(input * weights) + bias\n",
    "\n",
    "# Biggest influence: 1st\n",
    "\n",
    "# activation = sigmoid\n",
    "activation = 1 / (1 + math.exp(-integration))\n",
    "\n",
    "print(integration, activation)"
   ],
   "outputs": [
    {
     "name": "stdout",
     "output_type": "stream",
     "text": [
      "-0.5 0.3775406687981454\n"
     ]
    }
   ],
   "execution_count": 1
  },
  {
   "cell_type": "markdown",
   "id": "f7e03e78-0a81-4089-a355-64d6e4150e1b",
   "metadata": {},
   "source": [
    "## EXERCISE 2\n",
    "\n",
    "The goal is to predict the quality class of wine, based on features that come from a chemical analysis of the wine."
   ]
  },
  {
   "cell_type": "code",
   "id": "56f8914c-cfd4-411c-8bce-c9005d3cbee2",
   "metadata": {
    "ExecuteTime": {
     "end_time": "2025-05-12T10:27:26.279467Z",
     "start_time": "2025-05-12T10:27:25.932273Z"
    }
   },
   "source": [
    "import numpy as np\n",
    "from sklearn.datasets import load_wine\n",
    "wine_x = load_wine().data\n",
    "wine_y = load_wine().target\n",
    "load_wine().DESCR"
   ],
   "outputs": [
    {
     "data": {
      "text/plain": [
       "'.. _wine_dataset:\\n\\nWine recognition dataset\\n------------------------\\n\\n**Data Set Characteristics:**\\n\\n:Number of Instances: 178\\n:Number of Attributes: 13 numeric, predictive attributes and the class\\n:Attribute Information:\\n    - Alcohol\\n    - Malic acid\\n    - Ash\\n    - Alcalinity of ash\\n    - Magnesium\\n    - Total phenols\\n    - Flavanoids\\n    - Nonflavanoid phenols\\n    - Proanthocyanins\\n    - Color intensity\\n    - Hue\\n    - OD280/OD315 of diluted wines\\n    - Proline\\n    - class:\\n        - class_0\\n        - class_1\\n        - class_2\\n\\n:Summary Statistics:\\n\\n============================= ==== ===== ======= =====\\n                                Min   Max   Mean     SD\\n============================= ==== ===== ======= =====\\nAlcohol:                      11.0  14.8    13.0   0.8\\nMalic Acid:                   0.74  5.80    2.34  1.12\\nAsh:                          1.36  3.23    2.36  0.27\\nAlcalinity of Ash:            10.6  30.0    19.5   3.3\\nMagnesium:                    70.0 162.0    99.7  14.3\\nTotal Phenols:                0.98  3.88    2.29  0.63\\nFlavanoids:                   0.34  5.08    2.03  1.00\\nNonflavanoid Phenols:         0.13  0.66    0.36  0.12\\nProanthocyanins:              0.41  3.58    1.59  0.57\\nColour Intensity:              1.3  13.0     5.1   2.3\\nHue:                          0.48  1.71    0.96  0.23\\nOD280/OD315 of diluted wines: 1.27  4.00    2.61  0.71\\nProline:                       278  1680     746   315\\n============================= ==== ===== ======= =====\\n\\n:Missing Attribute Values: None\\n:Class Distribution: class_0 (59), class_1 (71), class_2 (48)\\n:Creator: R.A. Fisher\\n:Donor: Michael Marshall (MARSHALL%PLU@io.arc.nasa.gov)\\n:Date: July, 1988\\n\\nThis is a copy of UCI ML Wine recognition datasets.\\nhttps://archive.ics.uci.edu/ml/machine-learning-databases/wine/wine.data\\n\\nThe data is the results of a chemical analysis of wines grown in the same\\nregion in Italy by three different cultivators. There are thirteen different\\nmeasurements taken for different constituents found in the three types of\\nwine.\\n\\nOriginal Owners:\\n\\nForina, M. et al, PARVUS -\\nAn Extendible Package for Data Exploration, Classification and Correlation.\\nInstitute of Pharmaceutical and Food Analysis and Technologies,\\nVia Brigata Salerno, 16147 Genoa, Italy.\\n\\nCitation:\\n\\nLichman, M. (2013). UCI Machine Learning Repository\\n[https://archive.ics.uci.edu/ml]. Irvine, CA: University of California,\\nSchool of Information and Computer Science.\\n\\n.. dropdown:: References\\n\\n    (1) S. Aeberhard, D. Coomans and O. de Vel,\\n    Comparison of Classifiers in High Dimensional Settings,\\n    Tech. Rep. no. 92-02, (1992), Dept. of Computer Science and Dept. of\\n    Mathematics and Statistics, James Cook University of North Queensland.\\n    (Also submitted to Technometrics).\\n\\n    The data was used with many others for comparing various\\n    classifiers. The classes are separable, though only RDA\\n    has achieved 100% correct classification.\\n    (RDA : 100%, QDA 99.4%, LDA 98.9%, 1NN 96.1% (z-transformed data))\\n    (All results using the leave-one-out technique)\\n\\n    (2) S. Aeberhard, D. Coomans and O. de Vel,\\n    \"THE CLASSIFICATION PERFORMANCE OF RDA\"\\n    Tech. Rep. no. 92-01, (1992), Dept. of Computer Science and Dept. of\\n    Mathematics and Statistics, James Cook University of North Queensland.\\n    (Also submitted to Journal of Chemometrics).\\n'"
      ]
     },
     "execution_count": 2,
     "metadata": {},
     "output_type": "execute_result"
    }
   ],
   "execution_count": 2
  },
  {
   "cell_type": "markdown",
   "id": "06e6bb88-14ad-4bf9-abd8-b87c2a089b67",
   "metadata": {},
   "source": [
    "### 1. Data preparation"
   ]
  },
  {
   "cell_type": "markdown",
   "id": "efea3d3c-059a-406c-a6fb-b36b0efd59f3",
   "metadata": {},
   "source": [
    "a. Print the shapes of wine_x and wine_y. How many wines do we have? How many featues do we have? Check whether there NaN values. How many quality classes do we have?"
   ]
  },
  {
   "cell_type": "code",
   "id": "4c96a982-6572-4f87-aa80-56d5b5c70006",
   "metadata": {
    "ExecuteTime": {
     "end_time": "2025-05-12T10:27:26.581475Z",
     "start_time": "2025-05-12T10:27:26.575243Z"
    }
   },
   "source": [
    "print(wine_x.shape)\n",
    "print(wine_y.shape)"
   ],
   "outputs": [
    {
     "name": "stdout",
     "output_type": "stream",
     "text": [
      "(178, 13)\n",
      "(178,)\n"
     ]
    }
   ],
   "execution_count": 3
  },
  {
   "cell_type": "code",
   "id": "01b5168f-7ddc-47d8-b71e-d9e8d535080e",
   "metadata": {
    "ExecuteTime": {
     "end_time": "2025-05-12T10:27:26.614985Z",
     "start_time": "2025-05-12T10:27:26.601691Z"
    }
   },
   "source": [
    "np.isnan(wine_x).sum()"
   ],
   "outputs": [
    {
     "data": {
      "text/plain": [
       "0"
      ]
     },
     "execution_count": 4,
     "metadata": {},
     "output_type": "execute_result"
    }
   ],
   "execution_count": 4
  },
  {
   "cell_type": "code",
   "id": "30816d2f-8605-4974-8376-f442500bffb9",
   "metadata": {
    "ExecuteTime": {
     "end_time": "2025-05-12T10:27:26.654719Z",
     "start_time": "2025-05-12T10:27:26.645966Z"
    }
   },
   "source": [
    "np.unique(wine_y)"
   ],
   "outputs": [
    {
     "data": {
      "text/plain": [
       "array([0, 1, 2])"
      ]
     },
     "execution_count": 5,
     "metadata": {},
     "output_type": "execute_result"
    }
   ],
   "execution_count": 5
  },
  {
   "cell_type": "markdown",
   "id": "b58cf035-e1c3-4c0c-ad79-4cf81f30acb4",
   "metadata": {},
   "source": [
    "b. Scale the input using min_max scaling (why do we do this?). Split the data in a train (85%) and test dataset (15%) (why do we do this?). Put the output in the right format. What is the name of the format?"
   ]
  },
  {
   "cell_type": "code",
   "id": "ea587909-74b9-4a21-8fcd-b3f56abb7ab5",
   "metadata": {
    "ExecuteTime": {
     "end_time": "2025-05-12T10:27:26.697849Z",
     "start_time": "2025-05-12T10:27:26.688873Z"
    }
   },
   "source": [
    "from sklearn.preprocessing import MinMaxScaler\n",
    "scaler = MinMaxScaler()\n",
    "wine_x_norm = scaler.fit_transform(wine_x)"
   ],
   "outputs": [],
   "execution_count": 6
  },
  {
   "cell_type": "code",
   "id": "1749cda5-b078-4cc5-9085-27e762f9c7cd",
   "metadata": {
    "ExecuteTime": {
     "end_time": "2025-05-12T10:27:26.825364Z",
     "start_time": "2025-05-12T10:27:26.721335Z"
    }
   },
   "source": [
    "from sklearn.model_selection import train_test_split\n",
    "x_train,x_test,y_train,y_test = train_test_split(wine_x_norm,wine_y,test_size=0.15) "
   ],
   "outputs": [],
   "execution_count": 7
  },
  {
   "cell_type": "code",
   "id": "147552cc-42e0-4e76-8e9c-ee491f903cb6",
   "metadata": {
    "ExecuteTime": {
     "end_time": "2025-05-12T10:27:31.809103Z",
     "start_time": "2025-05-12T10:27:26.839447Z"
    }
   },
   "source": [
    "from tensorflow.keras.utils import to_categorical\n",
    "# one-hot encoding for output\n",
    "y_train_onehot = to_categorical(y_train)\n",
    "y_test_onehot = to_categorical(y_test)\n",
    "print(y_train_onehot.shape)"
   ],
   "outputs": [
    {
     "name": "stdout",
     "output_type": "stream",
     "text": [
      "(151, 3)\n"
     ]
    }
   ],
   "execution_count": 8
  },
  {
   "cell_type": "markdown",
   "id": "725e94a3-9828-4e15-bd3c-caf98f3e1f1c",
   "metadata": {},
   "source": [
    "### 2. Define the model\n",
    "\n",
    "Define the input layer with the right number of nodes. For the hidden layers, try out several options yourself. Define the output layer with the right number of nodes and a correct activation function. Print a model summary and compile the model with the Adam optimizer (choose the learning rate yourself), the correct loss function and a well choosen metric."
   ]
  },
  {
   "cell_type": "code",
   "id": "f94e67e6-6399-4e5a-b14b-8f497d427b86",
   "metadata": {
    "ExecuteTime": {
     "end_time": "2025-05-12T10:27:31.972759Z",
     "start_time": "2025-05-12T10:27:31.836774Z"
    }
   },
   "source": [
    "from tensorflow.keras import Model\n",
    "from tensorflow.keras.layers import Input, Dense\n",
    "from tensorflow.keras.optimizers import Adam\n",
    "# input layer 784 nodes\n",
    "inputs = Input(shape=(13,))\n",
    "# 2 hidden layer\n",
    "x = Dense(128, activation='relu')(inputs)\n",
    "x = Dense(64, activation='relu')(x)\n",
    "# output layer\n",
    "outputs = Dense(3, activation='softmax')(x)\n",
    "# construct the model\n",
    "model = Model(inputs, outputs, name='WINE')\n",
    "# print a summary\n",
    "model.summary()\n",
    "# compile the model\n",
    "model.compile(\n",
    "    optimizer=Adam(learning_rate=0.001),\n",
    "    loss='categorical_crossentropy',\n",
    "    metrics=['accuracy']\n",
    ")"
   ],
   "outputs": [
    {
     "data": {
      "text/plain": [
       "\u001B[1mModel: \"WINE\"\u001B[0m\n"
      ],
      "text/html": [
       "<pre style=\"white-space:pre;overflow-x:auto;line-height:normal;font-family:Menlo,'DejaVu Sans Mono',consolas,'Courier New',monospace\"><span style=\"font-weight: bold\">Model: \"WINE\"</span>\n",
       "</pre>\n"
      ]
     },
     "metadata": {},
     "output_type": "display_data"
    },
    {
     "data": {
      "text/plain": [
       "┏━━━━━━━━━━━━━━━━━━━━━━━━━━━━━━━━━┳━━━━━━━━━━━━━━━━━━━━━━━━┳━━━━━━━━━━━━━━━┓\n",
       "┃\u001B[1m \u001B[0m\u001B[1mLayer (type)                   \u001B[0m\u001B[1m \u001B[0m┃\u001B[1m \u001B[0m\u001B[1mOutput Shape          \u001B[0m\u001B[1m \u001B[0m┃\u001B[1m \u001B[0m\u001B[1m      Param #\u001B[0m\u001B[1m \u001B[0m┃\n",
       "┡━━━━━━━━━━━━━━━━━━━━━━━━━━━━━━━━━╇━━━━━━━━━━━━━━━━━━━━━━━━╇━━━━━━━━━━━━━━━┩\n",
       "│ input_layer (\u001B[38;5;33mInputLayer\u001B[0m)        │ (\u001B[38;5;45mNone\u001B[0m, \u001B[38;5;34m13\u001B[0m)             │             \u001B[38;5;34m0\u001B[0m │\n",
       "├─────────────────────────────────┼────────────────────────┼───────────────┤\n",
       "│ dense (\u001B[38;5;33mDense\u001B[0m)                   │ (\u001B[38;5;45mNone\u001B[0m, \u001B[38;5;34m128\u001B[0m)            │         \u001B[38;5;34m1,792\u001B[0m │\n",
       "├─────────────────────────────────┼────────────────────────┼───────────────┤\n",
       "│ dense_1 (\u001B[38;5;33mDense\u001B[0m)                 │ (\u001B[38;5;45mNone\u001B[0m, \u001B[38;5;34m64\u001B[0m)             │         \u001B[38;5;34m8,256\u001B[0m │\n",
       "├─────────────────────────────────┼────────────────────────┼───────────────┤\n",
       "│ dense_2 (\u001B[38;5;33mDense\u001B[0m)                 │ (\u001B[38;5;45mNone\u001B[0m, \u001B[38;5;34m3\u001B[0m)              │           \u001B[38;5;34m195\u001B[0m │\n",
       "└─────────────────────────────────┴────────────────────────┴───────────────┘\n"
      ],
      "text/html": [
       "<pre style=\"white-space:pre;overflow-x:auto;line-height:normal;font-family:Menlo,'DejaVu Sans Mono',consolas,'Courier New',monospace\">┏━━━━━━━━━━━━━━━━━━━━━━━━━━━━━━━━━┳━━━━━━━━━━━━━━━━━━━━━━━━┳━━━━━━━━━━━━━━━┓\n",
       "┃<span style=\"font-weight: bold\"> Layer (type)                    </span>┃<span style=\"font-weight: bold\"> Output Shape           </span>┃<span style=\"font-weight: bold\">       Param # </span>┃\n",
       "┡━━━━━━━━━━━━━━━━━━━━━━━━━━━━━━━━━╇━━━━━━━━━━━━━━━━━━━━━━━━╇━━━━━━━━━━━━━━━┩\n",
       "│ input_layer (<span style=\"color: #0087ff; text-decoration-color: #0087ff\">InputLayer</span>)        │ (<span style=\"color: #00d7ff; text-decoration-color: #00d7ff\">None</span>, <span style=\"color: #00af00; text-decoration-color: #00af00\">13</span>)             │             <span style=\"color: #00af00; text-decoration-color: #00af00\">0</span> │\n",
       "├─────────────────────────────────┼────────────────────────┼───────────────┤\n",
       "│ dense (<span style=\"color: #0087ff; text-decoration-color: #0087ff\">Dense</span>)                   │ (<span style=\"color: #00d7ff; text-decoration-color: #00d7ff\">None</span>, <span style=\"color: #00af00; text-decoration-color: #00af00\">128</span>)            │         <span style=\"color: #00af00; text-decoration-color: #00af00\">1,792</span> │\n",
       "├─────────────────────────────────┼────────────────────────┼───────────────┤\n",
       "│ dense_1 (<span style=\"color: #0087ff; text-decoration-color: #0087ff\">Dense</span>)                 │ (<span style=\"color: #00d7ff; text-decoration-color: #00d7ff\">None</span>, <span style=\"color: #00af00; text-decoration-color: #00af00\">64</span>)             │         <span style=\"color: #00af00; text-decoration-color: #00af00\">8,256</span> │\n",
       "├─────────────────────────────────┼────────────────────────┼───────────────┤\n",
       "│ dense_2 (<span style=\"color: #0087ff; text-decoration-color: #0087ff\">Dense</span>)                 │ (<span style=\"color: #00d7ff; text-decoration-color: #00d7ff\">None</span>, <span style=\"color: #00af00; text-decoration-color: #00af00\">3</span>)              │           <span style=\"color: #00af00; text-decoration-color: #00af00\">195</span> │\n",
       "└─────────────────────────────────┴────────────────────────┴───────────────┘\n",
       "</pre>\n"
      ]
     },
     "metadata": {},
     "output_type": "display_data"
    },
    {
     "data": {
      "text/plain": [
       "\u001B[1m Total params: \u001B[0m\u001B[38;5;34m10,243\u001B[0m (40.01 KB)\n"
      ],
      "text/html": [
       "<pre style=\"white-space:pre;overflow-x:auto;line-height:normal;font-family:Menlo,'DejaVu Sans Mono',consolas,'Courier New',monospace\"><span style=\"font-weight: bold\"> Total params: </span><span style=\"color: #00af00; text-decoration-color: #00af00\">10,243</span> (40.01 KB)\n",
       "</pre>\n"
      ]
     },
     "metadata": {},
     "output_type": "display_data"
    },
    {
     "data": {
      "text/plain": [
       "\u001B[1m Trainable params: \u001B[0m\u001B[38;5;34m10,243\u001B[0m (40.01 KB)\n"
      ],
      "text/html": [
       "<pre style=\"white-space:pre;overflow-x:auto;line-height:normal;font-family:Menlo,'DejaVu Sans Mono',consolas,'Courier New',monospace\"><span style=\"font-weight: bold\"> Trainable params: </span><span style=\"color: #00af00; text-decoration-color: #00af00\">10,243</span> (40.01 KB)\n",
       "</pre>\n"
      ]
     },
     "metadata": {},
     "output_type": "display_data"
    },
    {
     "data": {
      "text/plain": [
       "\u001B[1m Non-trainable params: \u001B[0m\u001B[38;5;34m0\u001B[0m (0.00 B)\n"
      ],
      "text/html": [
       "<pre style=\"white-space:pre;overflow-x:auto;line-height:normal;font-family:Menlo,'DejaVu Sans Mono',consolas,'Courier New',monospace\"><span style=\"font-weight: bold\"> Non-trainable params: </span><span style=\"color: #00af00; text-decoration-color: #00af00\">0</span> (0.00 B)\n",
       "</pre>\n"
      ]
     },
     "metadata": {},
     "output_type": "display_data"
    }
   ],
   "execution_count": 9
  },
  {
   "cell_type": "markdown",
   "id": "9f705e7f-2dae-4cb0-819f-65e612aedea8",
   "metadata": {},
   "source": [
    "### 3. Train the model\n",
    "\n",
    "Train the model with 10% of the training data taken for validation. Choose the number of epochs and the batch_size. Plot the loss function. Do we have overfitting?"
   ]
  },
  {
   "cell_type": "code",
   "id": "de076a77-26e5-41a8-83ac-4f64ae1f79aa",
   "metadata": {
    "scrolled": true,
    "ExecuteTime": {
     "end_time": "2025-05-12T10:27:45.598360Z",
     "start_time": "2025-05-12T10:27:32.003706Z"
    }
   },
   "source": [
    "from plot_loss import plot_loss\n",
    "# train the model\n",
    "history = model.fit(\n",
    "    x_train, # training input\n",
    "    y_train_onehot, # training targets\n",
    "    epochs=100,\n",
    "    batch_size=32,\n",
    "    validation_split=0.1,\n",
    ")\n",
    "# plot loss function\n",
    "plot_loss(history)"
   ],
   "outputs": [
    {
     "name": "stdout",
     "output_type": "stream",
     "text": [
      "Epoch 1/100\n",
      "\u001B[1m5/5\u001B[0m \u001B[32m━━━━━━━━━━━━━━━━━━━━\u001B[0m\u001B[37m\u001B[0m \u001B[1m1s\u001B[0m 60ms/step - accuracy: 0.5811 - loss: 1.0546 - val_accuracy: 0.6875 - val_loss: 0.9979\n",
      "Epoch 2/100\n",
      "\u001B[1m5/5\u001B[0m \u001B[32m━━━━━━━━━━━━━━━━━━━━\u001B[0m\u001B[37m\u001B[0m \u001B[1m0s\u001B[0m 22ms/step - accuracy: 0.8094 - loss: 0.9548 - val_accuracy: 0.7500 - val_loss: 0.9231\n",
      "Epoch 3/100\n",
      "\u001B[1m5/5\u001B[0m \u001B[32m━━━━━━━━━━━━━━━━━━━━\u001B[0m\u001B[37m\u001B[0m \u001B[1m0s\u001B[0m 16ms/step - accuracy: 0.8876 - loss: 0.8820 - val_accuracy: 0.7500 - val_loss: 0.8537\n",
      "Epoch 4/100\n",
      "\u001B[1m5/5\u001B[0m \u001B[32m━━━━━━━━━━━━━━━━━━━━\u001B[0m\u001B[37m\u001B[0m \u001B[1m0s\u001B[0m 14ms/step - accuracy: 0.9487 - loss: 0.7995 - val_accuracy: 0.7500 - val_loss: 0.7813\n",
      "Epoch 5/100\n",
      "\u001B[1m5/5\u001B[0m \u001B[32m━━━━━━━━━━━━━━━━━━━━\u001B[0m\u001B[37m\u001B[0m \u001B[1m0s\u001B[0m 18ms/step - accuracy: 0.9775 - loss: 0.7377 - val_accuracy: 0.7500 - val_loss: 0.7217\n",
      "Epoch 6/100\n",
      "\u001B[1m5/5\u001B[0m \u001B[32m━━━━━━━━━━━━━━━━━━━━\u001B[0m\u001B[37m\u001B[0m \u001B[1m0s\u001B[0m 22ms/step - accuracy: 0.9588 - loss: 0.6554 - val_accuracy: 0.7500 - val_loss: 0.6670\n",
      "Epoch 7/100\n",
      "\u001B[1m5/5\u001B[0m \u001B[32m━━━━━━━━━━━━━━━━━━━━\u001B[0m\u001B[37m\u001B[0m \u001B[1m0s\u001B[0m 23ms/step - accuracy: 0.9432 - loss: 0.5743 - val_accuracy: 0.6875 - val_loss: 0.6256\n",
      "Epoch 8/100\n",
      "\u001B[1m5/5\u001B[0m \u001B[32m━━━━━━━━━━━━━━━━━━━━\u001B[0m\u001B[37m\u001B[0m \u001B[1m0s\u001B[0m 25ms/step - accuracy: 0.9253 - loss: 0.5233 - val_accuracy: 0.8125 - val_loss: 0.5851\n",
      "Epoch 9/100\n",
      "\u001B[1m5/5\u001B[0m \u001B[32m━━━━━━━━━━━━━━━━━━━━\u001B[0m\u001B[37m\u001B[0m \u001B[1m0s\u001B[0m 23ms/step - accuracy: 0.9751 - loss: 0.4317 - val_accuracy: 0.8125 - val_loss: 0.5293\n",
      "Epoch 10/100\n",
      "\u001B[1m5/5\u001B[0m \u001B[32m━━━━━━━━━━━━━━━━━━━━\u001B[0m\u001B[37m\u001B[0m \u001B[1m0s\u001B[0m 19ms/step - accuracy: 0.9791 - loss: 0.3884 - val_accuracy: 0.8125 - val_loss: 0.4717\n",
      "Epoch 11/100\n",
      "\u001B[1m5/5\u001B[0m \u001B[32m━━━━━━━━━━━━━━━━━━━━\u001B[0m\u001B[37m\u001B[0m \u001B[1m0s\u001B[0m 20ms/step - accuracy: 0.9731 - loss: 0.3389 - val_accuracy: 0.8125 - val_loss: 0.4319\n",
      "Epoch 12/100\n",
      "\u001B[1m5/5\u001B[0m \u001B[32m━━━━━━━━━━━━━━━━━━━━\u001B[0m\u001B[37m\u001B[0m \u001B[1m0s\u001B[0m 17ms/step - accuracy: 0.9843 - loss: 0.2837 - val_accuracy: 0.8125 - val_loss: 0.3759\n",
      "Epoch 13/100\n",
      "\u001B[1m5/5\u001B[0m \u001B[32m━━━━━━━━━━━━━━━━━━━━\u001B[0m\u001B[37m\u001B[0m \u001B[1m0s\u001B[0m 21ms/step - accuracy: 0.9709 - loss: 0.2577 - val_accuracy: 0.8125 - val_loss: 0.3632\n",
      "Epoch 14/100\n",
      "\u001B[1m5/5\u001B[0m \u001B[32m━━━━━━━━━━━━━━━━━━━━\u001B[0m\u001B[37m\u001B[0m \u001B[1m0s\u001B[0m 26ms/step - accuracy: 0.9804 - loss: 0.2321 - val_accuracy: 0.8125 - val_loss: 0.4082\n",
      "Epoch 15/100\n",
      "\u001B[1m5/5\u001B[0m \u001B[32m━━━━━━━━━━━━━━━━━━━━\u001B[0m\u001B[37m\u001B[0m \u001B[1m0s\u001B[0m 21ms/step - accuracy: 0.9881 - loss: 0.1803 - val_accuracy: 0.8125 - val_loss: 0.3917\n",
      "Epoch 16/100\n",
      "\u001B[1m5/5\u001B[0m \u001B[32m━━━━━━━━━━━━━━━━━━━━\u001B[0m\u001B[37m\u001B[0m \u001B[1m0s\u001B[0m 16ms/step - accuracy: 0.9838 - loss: 0.1809 - val_accuracy: 0.8125 - val_loss: 0.3548\n",
      "Epoch 17/100\n",
      "\u001B[1m5/5\u001B[0m \u001B[32m━━━━━━━━━━━━━━━━━━━━\u001B[0m\u001B[37m\u001B[0m \u001B[1m0s\u001B[0m 22ms/step - accuracy: 0.9907 - loss: 0.1563 - val_accuracy: 0.8125 - val_loss: 0.3540\n",
      "Epoch 18/100\n",
      "\u001B[1m5/5\u001B[0m \u001B[32m━━━━━━━━━━━━━━━━━━━━\u001B[0m\u001B[37m\u001B[0m \u001B[1m0s\u001B[0m 17ms/step - accuracy: 0.9786 - loss: 0.1582 - val_accuracy: 0.8125 - val_loss: 0.3491\n",
      "Epoch 19/100\n",
      "\u001B[1m5/5\u001B[0m \u001B[32m━━━━━━━━━━━━━━━━━━━━\u001B[0m\u001B[37m\u001B[0m \u001B[1m0s\u001B[0m 14ms/step - accuracy: 0.9938 - loss: 0.1321 - val_accuracy: 0.8750 - val_loss: 0.2996\n",
      "Epoch 20/100\n",
      "\u001B[1m5/5\u001B[0m \u001B[32m━━━━━━━━━━━━━━━━━━━━\u001B[0m\u001B[37m\u001B[0m \u001B[1m0s\u001B[0m 21ms/step - accuracy: 0.9864 - loss: 0.1250 - val_accuracy: 0.8125 - val_loss: 0.3255\n",
      "Epoch 21/100\n",
      "\u001B[1m5/5\u001B[0m \u001B[32m━━━━━━━━━━━━━━━━━━━━\u001B[0m\u001B[37m\u001B[0m \u001B[1m0s\u001B[0m 18ms/step - accuracy: 0.9925 - loss: 0.1001 - val_accuracy: 0.8125 - val_loss: 0.3214\n",
      "Epoch 22/100\n",
      "\u001B[1m5/5\u001B[0m \u001B[32m━━━━━━━━━━━━━━━━━━━━\u001B[0m\u001B[37m\u001B[0m \u001B[1m0s\u001B[0m 18ms/step - accuracy: 0.9864 - loss: 0.1185 - val_accuracy: 0.8125 - val_loss: 0.3417\n",
      "Epoch 23/100\n",
      "\u001B[1m5/5\u001B[0m \u001B[32m━━━━━━━━━━━━━━━━━━━━\u001B[0m\u001B[37m\u001B[0m \u001B[1m0s\u001B[0m 18ms/step - accuracy: 0.9838 - loss: 0.1068 - val_accuracy: 0.8125 - val_loss: 0.3503\n",
      "Epoch 24/100\n",
      "\u001B[1m5/5\u001B[0m \u001B[32m━━━━━━━━━━━━━━━━━━━━\u001B[0m\u001B[37m\u001B[0m \u001B[1m0s\u001B[0m 22ms/step - accuracy: 0.9945 - loss: 0.0913 - val_accuracy: 0.8125 - val_loss: 0.3068\n",
      "Epoch 25/100\n",
      "\u001B[1m5/5\u001B[0m \u001B[32m━━━━━━━━━━━━━━━━━━━━\u001B[0m\u001B[37m\u001B[0m \u001B[1m0s\u001B[0m 16ms/step - accuracy: 0.9945 - loss: 0.0904 - val_accuracy: 0.8750 - val_loss: 0.3075\n",
      "Epoch 26/100\n",
      "\u001B[1m5/5\u001B[0m \u001B[32m━━━━━━━━━━━━━━━━━━━━\u001B[0m\u001B[37m\u001B[0m \u001B[1m0s\u001B[0m 20ms/step - accuracy: 0.9919 - loss: 0.0851 - val_accuracy: 0.8750 - val_loss: 0.2931\n",
      "Epoch 27/100\n",
      "\u001B[1m5/5\u001B[0m \u001B[32m━━━━━━━━━━━━━━━━━━━━\u001B[0m\u001B[37m\u001B[0m \u001B[1m0s\u001B[0m 20ms/step - accuracy: 0.9919 - loss: 0.0782 - val_accuracy: 0.8750 - val_loss: 0.2936\n",
      "Epoch 28/100\n",
      "\u001B[1m5/5\u001B[0m \u001B[32m━━━━━━━━━━━━━━━━━━━━\u001B[0m\u001B[37m\u001B[0m \u001B[1m0s\u001B[0m 21ms/step - accuracy: 0.9945 - loss: 0.0756 - val_accuracy: 0.8125 - val_loss: 0.3448\n",
      "Epoch 29/100\n",
      "\u001B[1m5/5\u001B[0m \u001B[32m━━━━━━━━━━━━━━━━━━━━\u001B[0m\u001B[37m\u001B[0m \u001B[1m0s\u001B[0m 18ms/step - accuracy: 0.9842 - loss: 0.0723 - val_accuracy: 0.8750 - val_loss: 0.3331\n",
      "Epoch 30/100\n",
      "\u001B[1m5/5\u001B[0m \u001B[32m━━━━━━━━━━━━━━━━━━━━\u001B[0m\u001B[37m\u001B[0m \u001B[1m0s\u001B[0m 19ms/step - accuracy: 0.9919 - loss: 0.0619 - val_accuracy: 0.8750 - val_loss: 0.2631\n",
      "Epoch 31/100\n",
      "\u001B[1m5/5\u001B[0m \u001B[32m━━━━━━━━━━━━━━━━━━━━\u001B[0m\u001B[37m\u001B[0m \u001B[1m0s\u001B[0m 17ms/step - accuracy: 0.9881 - loss: 0.0716 - val_accuracy: 0.8750 - val_loss: 0.2499\n",
      "Epoch 32/100\n",
      "\u001B[1m5/5\u001B[0m \u001B[32m━━━━━━━━━━━━━━━━━━━━\u001B[0m\u001B[37m\u001B[0m \u001B[1m0s\u001B[0m 21ms/step - accuracy: 0.9919 - loss: 0.0645 - val_accuracy: 0.8750 - val_loss: 0.3356\n",
      "Epoch 33/100\n",
      "\u001B[1m5/5\u001B[0m \u001B[32m━━━━━━━━━━━━━━━━━━━━\u001B[0m\u001B[37m\u001B[0m \u001B[1m0s\u001B[0m 20ms/step - accuracy: 0.9962 - loss: 0.0575 - val_accuracy: 0.8750 - val_loss: 0.3517\n",
      "Epoch 34/100\n",
      "\u001B[1m5/5\u001B[0m \u001B[32m━━━━━━━━━━━━━━━━━━━━\u001B[0m\u001B[37m\u001B[0m \u001B[1m0s\u001B[0m 20ms/step - accuracy: 0.9867 - loss: 0.0737 - val_accuracy: 0.8750 - val_loss: 0.2810\n",
      "Epoch 35/100\n",
      "\u001B[1m5/5\u001B[0m \u001B[32m━━━━━━━━━━━━━━━━━━━━\u001B[0m\u001B[37m\u001B[0m \u001B[1m0s\u001B[0m 19ms/step - accuracy: 0.9867 - loss: 0.0707 - val_accuracy: 0.8750 - val_loss: 0.2467\n",
      "Epoch 36/100\n",
      "\u001B[1m5/5\u001B[0m \u001B[32m━━━━━━━━━━━━━━━━━━━━\u001B[0m\u001B[37m\u001B[0m \u001B[1m0s\u001B[0m 20ms/step - accuracy: 0.9962 - loss: 0.0540 - val_accuracy: 0.8750 - val_loss: 0.2873\n",
      "Epoch 37/100\n",
      "\u001B[1m5/5\u001B[0m \u001B[32m━━━━━━━━━━━━━━━━━━━━\u001B[0m\u001B[37m\u001B[0m \u001B[1m0s\u001B[0m 23ms/step - accuracy: 0.9919 - loss: 0.0547 - val_accuracy: 0.8750 - val_loss: 0.3456\n",
      "Epoch 38/100\n",
      "\u001B[1m5/5\u001B[0m \u001B[32m━━━━━━━━━━━━━━━━━━━━\u001B[0m\u001B[37m\u001B[0m \u001B[1m0s\u001B[0m 20ms/step - accuracy: 0.9919 - loss: 0.0543 - val_accuracy: 0.8750 - val_loss: 0.3572\n",
      "Epoch 39/100\n",
      "\u001B[1m5/5\u001B[0m \u001B[32m━━━━━━━━━━━━━━━━━━━━\u001B[0m\u001B[37m\u001B[0m \u001B[1m0s\u001B[0m 21ms/step - accuracy: 0.9945 - loss: 0.0421 - val_accuracy: 0.8750 - val_loss: 0.2864\n",
      "Epoch 40/100\n",
      "\u001B[1m5/5\u001B[0m \u001B[32m━━━━━━━━━━━━━━━━━━━━\u001B[0m\u001B[37m\u001B[0m \u001B[1m0s\u001B[0m 15ms/step - accuracy: 0.9945 - loss: 0.0451 - val_accuracy: 0.8750 - val_loss: 0.2636\n",
      "Epoch 41/100\n",
      "\u001B[1m5/5\u001B[0m \u001B[32m━━━━━━━━━━━━━━━━━━━━\u001B[0m\u001B[37m\u001B[0m \u001B[1m0s\u001B[0m 18ms/step - accuracy: 0.9962 - loss: 0.0397 - val_accuracy: 0.8750 - val_loss: 0.2688\n",
      "Epoch 42/100\n",
      "\u001B[1m5/5\u001B[0m \u001B[32m━━━━━━━━━━━━━━━━━━━━\u001B[0m\u001B[37m\u001B[0m \u001B[1m0s\u001B[0m 17ms/step - accuracy: 0.9945 - loss: 0.0401 - val_accuracy: 0.8750 - val_loss: 0.3168\n",
      "Epoch 43/100\n",
      "\u001B[1m5/5\u001B[0m \u001B[32m━━━━━━━━━━━━━━━━━━━━\u001B[0m\u001B[37m\u001B[0m \u001B[1m0s\u001B[0m 15ms/step - accuracy: 0.9945 - loss: 0.0450 - val_accuracy: 0.8750 - val_loss: 0.3684\n",
      "Epoch 44/100\n",
      "\u001B[1m5/5\u001B[0m \u001B[32m━━━━━━━━━━━━━━━━━━━━\u001B[0m\u001B[37m\u001B[0m \u001B[1m0s\u001B[0m 21ms/step - accuracy: 1.0000 - loss: 0.0353 - val_accuracy: 0.8750 - val_loss: 0.3489\n",
      "Epoch 45/100\n",
      "\u001B[1m5/5\u001B[0m \u001B[32m━━━━━━━━━━━━━━━━━━━━\u001B[0m\u001B[37m\u001B[0m \u001B[1m0s\u001B[0m 20ms/step - accuracy: 0.9867 - loss: 0.0429 - val_accuracy: 0.8750 - val_loss: 0.2351\n",
      "Epoch 46/100\n",
      "\u001B[1m5/5\u001B[0m \u001B[32m━━━━━━━━━━━━━━━━━━━━\u001B[0m\u001B[37m\u001B[0m \u001B[1m0s\u001B[0m 20ms/step - accuracy: 0.9919 - loss: 0.0357 - val_accuracy: 0.8750 - val_loss: 0.2264\n",
      "Epoch 47/100\n",
      "\u001B[1m5/5\u001B[0m \u001B[32m━━━━━━━━━━━━━━━━━━━━\u001B[0m\u001B[37m\u001B[0m \u001B[1m0s\u001B[0m 19ms/step - accuracy: 0.9867 - loss: 0.0443 - val_accuracy: 0.8750 - val_loss: 0.3025\n",
      "Epoch 48/100\n",
      "\u001B[1m5/5\u001B[0m \u001B[32m━━━━━━━━━━━━━━━━━━━━\u001B[0m\u001B[37m\u001B[0m \u001B[1m0s\u001B[0m 25ms/step - accuracy: 0.9945 - loss: 0.0323 - val_accuracy: 0.8750 - val_loss: 0.3529\n",
      "Epoch 49/100\n",
      "\u001B[1m5/5\u001B[0m \u001B[32m━━━━━━━━━━━━━━━━━━━━\u001B[0m\u001B[37m\u001B[0m \u001B[1m0s\u001B[0m 21ms/step - accuracy: 0.9867 - loss: 0.0393 - val_accuracy: 0.8750 - val_loss: 0.3460\n",
      "Epoch 50/100\n",
      "\u001B[1m5/5\u001B[0m \u001B[32m━━━━━━━━━━━━━━━━━━━━\u001B[0m\u001B[37m\u001B[0m \u001B[1m0s\u001B[0m 19ms/step - accuracy: 0.9867 - loss: 0.0331 - val_accuracy: 0.8750 - val_loss: 0.2781\n",
      "Epoch 51/100\n",
      "\u001B[1m5/5\u001B[0m \u001B[32m━━━━━━━━━━━━━━━━━━━━\u001B[0m\u001B[37m\u001B[0m \u001B[1m0s\u001B[0m 25ms/step - accuracy: 0.9919 - loss: 0.0354 - val_accuracy: 0.8750 - val_loss: 0.2671\n",
      "Epoch 52/100\n",
      "\u001B[1m5/5\u001B[0m \u001B[32m━━━━━━━━━━━━━━━━━━━━\u001B[0m\u001B[37m\u001B[0m \u001B[1m0s\u001B[0m 26ms/step - accuracy: 0.9919 - loss: 0.0359 - val_accuracy: 0.8750 - val_loss: 0.3408\n",
      "Epoch 53/100\n",
      "\u001B[1m5/5\u001B[0m \u001B[32m━━━━━━━━━━━━━━━━━━━━\u001B[0m\u001B[37m\u001B[0m \u001B[1m0s\u001B[0m 20ms/step - accuracy: 1.0000 - loss: 0.0262 - val_accuracy: 0.8750 - val_loss: 0.3651\n",
      "Epoch 54/100\n",
      "\u001B[1m5/5\u001B[0m \u001B[32m━━━━━━━━━━━━━━━━━━━━\u001B[0m\u001B[37m\u001B[0m \u001B[1m0s\u001B[0m 20ms/step - accuracy: 1.0000 - loss: 0.0324 - val_accuracy: 0.8750 - val_loss: 0.4023\n",
      "Epoch 55/100\n",
      "\u001B[1m5/5\u001B[0m \u001B[32m━━━━━━━━━━━━━━━━━━━━\u001B[0m\u001B[37m\u001B[0m \u001B[1m0s\u001B[0m 22ms/step - accuracy: 0.9975 - loss: 0.0252 - val_accuracy: 0.8750 - val_loss: 0.3398\n",
      "Epoch 56/100\n",
      "\u001B[1m5/5\u001B[0m \u001B[32m━━━━━━━━━━━━━━━━━━━━\u001B[0m\u001B[37m\u001B[0m \u001B[1m0s\u001B[0m 23ms/step - accuracy: 1.0000 - loss: 0.0273 - val_accuracy: 0.8750 - val_loss: 0.3834\n",
      "Epoch 57/100\n",
      "\u001B[1m5/5\u001B[0m \u001B[32m━━━━━━━━━━━━━━━━━━━━\u001B[0m\u001B[37m\u001B[0m \u001B[1m0s\u001B[0m 20ms/step - accuracy: 1.0000 - loss: 0.0227 - val_accuracy: 0.8750 - val_loss: 0.3412\n",
      "Epoch 58/100\n",
      "\u001B[1m5/5\u001B[0m \u001B[32m━━━━━━━━━━━━━━━━━━━━\u001B[0m\u001B[37m\u001B[0m \u001B[1m0s\u001B[0m 18ms/step - accuracy: 1.0000 - loss: 0.0246 - val_accuracy: 0.8750 - val_loss: 0.3137\n",
      "Epoch 59/100\n",
      "\u001B[1m5/5\u001B[0m \u001B[32m━━━━━━━━━━━━━━━━━━━━\u001B[0m\u001B[37m\u001B[0m \u001B[1m0s\u001B[0m 22ms/step - accuracy: 0.9962 - loss: 0.0224 - val_accuracy: 0.8750 - val_loss: 0.3337\n",
      "Epoch 60/100\n",
      "\u001B[1m5/5\u001B[0m \u001B[32m━━━━━━━━━━━━━━━━━━━━\u001B[0m\u001B[37m\u001B[0m \u001B[1m0s\u001B[0m 25ms/step - accuracy: 1.0000 - loss: 0.0178 - val_accuracy: 0.8750 - val_loss: 0.3745\n",
      "Epoch 61/100\n",
      "\u001B[1m5/5\u001B[0m \u001B[32m━━━━━━━━━━━━━━━━━━━━\u001B[0m\u001B[37m\u001B[0m \u001B[1m0s\u001B[0m 23ms/step - accuracy: 1.0000 - loss: 0.0207 - val_accuracy: 0.8750 - val_loss: 0.3167\n",
      "Epoch 62/100\n",
      "\u001B[1m5/5\u001B[0m \u001B[32m━━━━━━━━━━━━━━━━━━━━\u001B[0m\u001B[37m\u001B[0m \u001B[1m0s\u001B[0m 24ms/step - accuracy: 1.0000 - loss: 0.0210 - val_accuracy: 0.8750 - val_loss: 0.2892\n",
      "Epoch 63/100\n",
      "\u001B[1m5/5\u001B[0m \u001B[32m━━━━━━━━━━━━━━━━━━━━\u001B[0m\u001B[37m\u001B[0m \u001B[1m0s\u001B[0m 24ms/step - accuracy: 1.0000 - loss: 0.0218 - val_accuracy: 0.8750 - val_loss: 0.3056\n",
      "Epoch 64/100\n",
      "\u001B[1m5/5\u001B[0m \u001B[32m━━━━━━━━━━━━━━━━━━━━\u001B[0m\u001B[37m\u001B[0m \u001B[1m0s\u001B[0m 28ms/step - accuracy: 1.0000 - loss: 0.0197 - val_accuracy: 0.8750 - val_loss: 0.3153\n",
      "Epoch 65/100\n",
      "\u001B[1m5/5\u001B[0m \u001B[32m━━━━━━━━━━━━━━━━━━━━\u001B[0m\u001B[37m\u001B[0m \u001B[1m0s\u001B[0m 27ms/step - accuracy: 1.0000 - loss: 0.0205 - val_accuracy: 0.8750 - val_loss: 0.3356\n",
      "Epoch 66/100\n",
      "\u001B[1m5/5\u001B[0m \u001B[32m━━━━━━━━━━━━━━━━━━━━\u001B[0m\u001B[37m\u001B[0m \u001B[1m0s\u001B[0m 24ms/step - accuracy: 1.0000 - loss: 0.0191 - val_accuracy: 0.8750 - val_loss: 0.3321\n",
      "Epoch 67/100\n",
      "\u001B[1m5/5\u001B[0m \u001B[32m━━━━━━━━━━━━━━━━━━━━\u001B[0m\u001B[37m\u001B[0m \u001B[1m0s\u001B[0m 22ms/step - accuracy: 1.0000 - loss: 0.0168 - val_accuracy: 0.8750 - val_loss: 0.3313\n",
      "Epoch 68/100\n",
      "\u001B[1m5/5\u001B[0m \u001B[32m━━━━━━━━━━━━━━━━━━━━\u001B[0m\u001B[37m\u001B[0m \u001B[1m0s\u001B[0m 22ms/step - accuracy: 1.0000 - loss: 0.0176 - val_accuracy: 0.8750 - val_loss: 0.3211\n",
      "Epoch 69/100\n",
      "\u001B[1m5/5\u001B[0m \u001B[32m━━━━━━━━━━━━━━━━━━━━\u001B[0m\u001B[37m\u001B[0m \u001B[1m0s\u001B[0m 25ms/step - accuracy: 1.0000 - loss: 0.0187 - val_accuracy: 0.8750 - val_loss: 0.3529\n",
      "Epoch 70/100\n",
      "\u001B[1m5/5\u001B[0m \u001B[32m━━━━━━━━━━━━━━━━━━━━\u001B[0m\u001B[37m\u001B[0m \u001B[1m0s\u001B[0m 28ms/step - accuracy: 1.0000 - loss: 0.0209 - val_accuracy: 0.8750 - val_loss: 0.3658\n",
      "Epoch 71/100\n",
      "\u001B[1m5/5\u001B[0m \u001B[32m━━━━━━━━━━━━━━━━━━━━\u001B[0m\u001B[37m\u001B[0m \u001B[1m0s\u001B[0m 26ms/step - accuracy: 1.0000 - loss: 0.0187 - val_accuracy: 0.8750 - val_loss: 0.3352\n",
      "Epoch 72/100\n",
      "\u001B[1m5/5\u001B[0m \u001B[32m━━━━━━━━━━━━━━━━━━━━\u001B[0m\u001B[37m\u001B[0m \u001B[1m0s\u001B[0m 23ms/step - accuracy: 1.0000 - loss: 0.0172 - val_accuracy: 0.8750 - val_loss: 0.3410\n",
      "Epoch 73/100\n",
      "\u001B[1m5/5\u001B[0m \u001B[32m━━━━━━━━━━━━━━━━━━━━\u001B[0m\u001B[37m\u001B[0m \u001B[1m0s\u001B[0m 25ms/step - accuracy: 1.0000 - loss: 0.0160 - val_accuracy: 0.8750 - val_loss: 0.3566\n",
      "Epoch 74/100\n",
      "\u001B[1m5/5\u001B[0m \u001B[32m━━━━━━━━━━━━━━━━━━━━\u001B[0m\u001B[37m\u001B[0m \u001B[1m0s\u001B[0m 21ms/step - accuracy: 1.0000 - loss: 0.0136 - val_accuracy: 0.8750 - val_loss: 0.3730\n",
      "Epoch 75/100\n",
      "\u001B[1m5/5\u001B[0m \u001B[32m━━━━━━━━━━━━━━━━━━━━\u001B[0m\u001B[37m\u001B[0m \u001B[1m0s\u001B[0m 24ms/step - accuracy: 1.0000 - loss: 0.0141 - val_accuracy: 0.8750 - val_loss: 0.2905\n",
      "Epoch 76/100\n",
      "\u001B[1m5/5\u001B[0m \u001B[32m━━━━━━━━━━━━━━━━━━━━\u001B[0m\u001B[37m\u001B[0m \u001B[1m0s\u001B[0m 22ms/step - accuracy: 1.0000 - loss: 0.0140 - val_accuracy: 0.8750 - val_loss: 0.2717\n",
      "Epoch 77/100\n",
      "\u001B[1m5/5\u001B[0m \u001B[32m━━━━━━━━━━━━━━━━━━━━\u001B[0m\u001B[37m\u001B[0m \u001B[1m0s\u001B[0m 22ms/step - accuracy: 1.0000 - loss: 0.0113 - val_accuracy: 0.8750 - val_loss: 0.3263\n",
      "Epoch 78/100\n",
      "\u001B[1m5/5\u001B[0m \u001B[32m━━━━━━━━━━━━━━━━━━━━\u001B[0m\u001B[37m\u001B[0m \u001B[1m0s\u001B[0m 25ms/step - accuracy: 1.0000 - loss: 0.0149 - val_accuracy: 0.8750 - val_loss: 0.3828\n",
      "Epoch 79/100\n",
      "\u001B[1m5/5\u001B[0m \u001B[32m━━━━━━━━━━━━━━━━━━━━\u001B[0m\u001B[37m\u001B[0m \u001B[1m0s\u001B[0m 21ms/step - accuracy: 1.0000 - loss: 0.0144 - val_accuracy: 0.8750 - val_loss: 0.4013\n",
      "Epoch 80/100\n",
      "\u001B[1m5/5\u001B[0m \u001B[32m━━━━━━━━━━━━━━━━━━━━\u001B[0m\u001B[37m\u001B[0m \u001B[1m0s\u001B[0m 19ms/step - accuracy: 1.0000 - loss: 0.0110 - val_accuracy: 0.8750 - val_loss: 0.3792\n",
      "Epoch 81/100\n",
      "\u001B[1m5/5\u001B[0m \u001B[32m━━━━━━━━━━━━━━━━━━━━\u001B[0m\u001B[37m\u001B[0m \u001B[1m0s\u001B[0m 23ms/step - accuracy: 1.0000 - loss: 0.0140 - val_accuracy: 0.8750 - val_loss: 0.3484\n",
      "Epoch 82/100\n",
      "\u001B[1m5/5\u001B[0m \u001B[32m━━━━━━━━━━━━━━━━━━━━\u001B[0m\u001B[37m\u001B[0m \u001B[1m0s\u001B[0m 22ms/step - accuracy: 1.0000 - loss: 0.0132 - val_accuracy: 0.8750 - val_loss: 0.3262\n",
      "Epoch 83/100\n",
      "\u001B[1m5/5\u001B[0m \u001B[32m━━━━━━━━━━━━━━━━━━━━\u001B[0m\u001B[37m\u001B[0m \u001B[1m0s\u001B[0m 23ms/step - accuracy: 1.0000 - loss: 0.0163 - val_accuracy: 0.8750 - val_loss: 0.3553\n",
      "Epoch 84/100\n",
      "\u001B[1m5/5\u001B[0m \u001B[32m━━━━━━━━━━━━━━━━━━━━\u001B[0m\u001B[37m\u001B[0m \u001B[1m0s\u001B[0m 23ms/step - accuracy: 1.0000 - loss: 0.0132 - val_accuracy: 0.8750 - val_loss: 0.3627\n",
      "Epoch 85/100\n",
      "\u001B[1m5/5\u001B[0m \u001B[32m━━━━━━━━━━━━━━━━━━━━\u001B[0m\u001B[37m\u001B[0m \u001B[1m0s\u001B[0m 22ms/step - accuracy: 1.0000 - loss: 0.0115 - val_accuracy: 0.8750 - val_loss: 0.3596\n",
      "Epoch 86/100\n",
      "\u001B[1m5/5\u001B[0m \u001B[32m━━━━━━━━━━━━━━━━━━━━\u001B[0m\u001B[37m\u001B[0m \u001B[1m0s\u001B[0m 24ms/step - accuracy: 1.0000 - loss: 0.0128 - val_accuracy: 0.8750 - val_loss: 0.4076\n",
      "Epoch 87/100\n",
      "\u001B[1m5/5\u001B[0m \u001B[32m━━━━━━━━━━━━━━━━━━━━\u001B[0m\u001B[37m\u001B[0m \u001B[1m0s\u001B[0m 24ms/step - accuracy: 1.0000 - loss: 0.0114 - val_accuracy: 0.8750 - val_loss: 0.4116\n",
      "Epoch 88/100\n",
      "\u001B[1m5/5\u001B[0m \u001B[32m━━━━━━━━━━━━━━━━━━━━\u001B[0m\u001B[37m\u001B[0m \u001B[1m0s\u001B[0m 18ms/step - accuracy: 1.0000 - loss: 0.0106 - val_accuracy: 0.8750 - val_loss: 0.3778\n",
      "Epoch 89/100\n",
      "\u001B[1m5/5\u001B[0m \u001B[32m━━━━━━━━━━━━━━━━━━━━\u001B[0m\u001B[37m\u001B[0m \u001B[1m0s\u001B[0m 23ms/step - accuracy: 1.0000 - loss: 0.0113 - val_accuracy: 0.8750 - val_loss: 0.3488\n",
      "Epoch 90/100\n",
      "\u001B[1m5/5\u001B[0m \u001B[32m━━━━━━━━━━━━━━━━━━━━\u001B[0m\u001B[37m\u001B[0m \u001B[1m0s\u001B[0m 24ms/step - accuracy: 1.0000 - loss: 0.0111 - val_accuracy: 0.8750 - val_loss: 0.3257\n",
      "Epoch 91/100\n",
      "\u001B[1m5/5\u001B[0m \u001B[32m━━━━━━━━━━━━━━━━━━━━\u001B[0m\u001B[37m\u001B[0m \u001B[1m0s\u001B[0m 20ms/step - accuracy: 1.0000 - loss: 0.0088 - val_accuracy: 0.8750 - val_loss: 0.3358\n",
      "Epoch 92/100\n",
      "\u001B[1m5/5\u001B[0m \u001B[32m━━━━━━━━━━━━━━━━━━━━\u001B[0m\u001B[37m\u001B[0m \u001B[1m0s\u001B[0m 22ms/step - accuracy: 1.0000 - loss: 0.0107 - val_accuracy: 0.8750 - val_loss: 0.3666\n",
      "Epoch 93/100\n",
      "\u001B[1m5/5\u001B[0m \u001B[32m━━━━━━━━━━━━━━━━━━━━\u001B[0m\u001B[37m\u001B[0m \u001B[1m0s\u001B[0m 23ms/step - accuracy: 1.0000 - loss: 0.0096 - val_accuracy: 0.8750 - val_loss: 0.3863\n",
      "Epoch 94/100\n",
      "\u001B[1m5/5\u001B[0m \u001B[32m━━━━━━━━━━━━━━━━━━━━\u001B[0m\u001B[37m\u001B[0m \u001B[1m0s\u001B[0m 20ms/step - accuracy: 1.0000 - loss: 0.0081 - val_accuracy: 0.8750 - val_loss: 0.3778\n",
      "Epoch 95/100\n",
      "\u001B[1m5/5\u001B[0m \u001B[32m━━━━━━━━━━━━━━━━━━━━\u001B[0m\u001B[37m\u001B[0m \u001B[1m0s\u001B[0m 23ms/step - accuracy: 1.0000 - loss: 0.0094 - val_accuracy: 0.8750 - val_loss: 0.3594\n",
      "Epoch 96/100\n",
      "\u001B[1m5/5\u001B[0m \u001B[32m━━━━━━━━━━━━━━━━━━━━\u001B[0m\u001B[37m\u001B[0m \u001B[1m0s\u001B[0m 21ms/step - accuracy: 1.0000 - loss: 0.0106 - val_accuracy: 0.8750 - val_loss: 0.3760\n",
      "Epoch 97/100\n",
      "\u001B[1m5/5\u001B[0m \u001B[32m━━━━━━━━━━━━━━━━━━━━\u001B[0m\u001B[37m\u001B[0m \u001B[1m0s\u001B[0m 22ms/step - accuracy: 1.0000 - loss: 0.0076 - val_accuracy: 0.8750 - val_loss: 0.3895\n",
      "Epoch 98/100\n",
      "\u001B[1m5/5\u001B[0m \u001B[32m━━━━━━━━━━━━━━━━━━━━\u001B[0m\u001B[37m\u001B[0m \u001B[1m0s\u001B[0m 22ms/step - accuracy: 1.0000 - loss: 0.0081 - val_accuracy: 0.8750 - val_loss: 0.3399\n",
      "Epoch 99/100\n",
      "\u001B[1m5/5\u001B[0m \u001B[32m━━━━━━━━━━━━━━━━━━━━\u001B[0m\u001B[37m\u001B[0m \u001B[1m0s\u001B[0m 21ms/step - accuracy: 1.0000 - loss: 0.0063 - val_accuracy: 0.8750 - val_loss: 0.3647\n",
      "Epoch 100/100\n",
      "\u001B[1m5/5\u001B[0m \u001B[32m━━━━━━━━━━━━━━━━━━━━\u001B[0m\u001B[37m\u001B[0m \u001B[1m0s\u001B[0m 20ms/step - accuracy: 1.0000 - loss: 0.0082 - val_accuracy: 0.8750 - val_loss: 0.4770\n"
     ]
    },
    {
     "data": {
      "text/plain": [
       "<Figure size 640x480 with 1 Axes>"
      ],
      "image/png": "[encoded data removed]"
     },
     "metadata": {},
     "output_type": "display_data"
    }
   ],
   "execution_count": 10
  },
  {
   "cell_type": "markdown",
   "id": "20968514-22ec-495c-a89e-fcddb3641dfa",
   "metadata": {},
   "source": [
    "### 4. Evaluate the model\n",
    "\n",
    "Evaluate the model with the test dataset (why thisone?). What is the accuracy of the model?"
   ]
  },
  {
   "cell_type": "code",
   "id": "643bde3c-055b-4606-9a11-e1d430315e42",
   "metadata": {
    "ExecuteTime": {
     "end_time": "2025-05-12T10:28:00.432428Z",
     "start_time": "2025-05-12T10:28:00.301892Z"
    }
   },
   "source": [
    "model.evaluate(x_test,y_test_onehot)"
   ],
   "outputs": [
    {
     "name": "stdout",
     "output_type": "stream",
     "text": [
      "\u001B[1m1/1\u001B[0m \u001B[32m━━━━━━━━━━━━━━━━━━━━\u001B[0m\u001B[37m\u001B[0m \u001B[1m0s\u001B[0m 55ms/step - accuracy: 0.9630 - loss: 0.0634\n"
     ]
    },
    {
     "data": {
      "text/plain": [
       "[0.06337320804595947, 0.9629629850387573]"
      ]
     },
     "execution_count": 11,
     "metadata": {},
     "output_type": "execute_result"
    }
   ],
   "execution_count": 11
  },
  {
   "cell_type": "markdown",
   "id": "0c8acb73-43fa-42e1-a1b2-d856a6a21ddd",
   "metadata": {},
   "source": [
    "### 5. Use the model to predict\n",
    "\n",
    "There is a new wine with the following characteristics for the features: 12, 6.5, 3, 25, 100, 2.5, 4, 0.5, 2, 8, 1, 3, 500. Predict the quality for this wine. What should be the shape of the predict parameter? Can we feed in the feature values right away? Which quality class is predicted? How sure is the prediction?"
   ]
  },
  {
   "cell_type": "code",
   "id": "e4198864-9231-4947-86c7-acb52376a34f",
   "metadata": {
    "jupyter": {
     "source_hidden": true
    },
    "ExecuteTime": {
     "end_time": "2025-05-12T10:28:00.681838Z",
     "start_time": "2025-05-12T10:28:00.470293Z"
    }
   },
   "source": [
    "new_wine = [[12, 6.5, 3, 25, 100, 2.5, 4, 0.5, 2, 8, 1, 3, 500]]  # 2-dimensional!\n",
    "new_wine_norm = scaler.transform(new_wine)  # no fit!\n",
    "predicted_class = model.predict(new_wine_norm)\n",
    "print(predicted_class)"
   ],
   "outputs": [
    {
     "name": "stdout",
     "output_type": "stream",
     "text": [
      "\u001B[1m1/1\u001B[0m \u001B[32m━━━━━━━━━━━━━━━━━━━━\u001B[0m\u001B[37m\u001B[0m \u001B[1m0s\u001B[0m 130ms/step\n",
      "[[0.2882813  0.01872495 0.69299376]]\n"
     ]
    }
   ],
   "execution_count": 12
  },
  {
   "cell_type": "markdown",
   "id": "49ee0f00-7911-4489-946e-c288f00d9f57",
   "metadata": {},
   "source": [
    "## EXERCISE 3\n",
    "\n",
    "In this exercise we will predict the house price, based on some characteristics of the house."
   ]
  },
  {
   "cell_type": "code",
   "id": "2b7866a5-5f48-465a-8064-8ecff70bbf57",
   "metadata": {
    "ExecuteTime": {
     "end_time": "2025-05-12T10:28:03.526288Z",
     "start_time": "2025-05-12T10:28:00.702565Z"
    }
   },
   "source": [
    "from sklearn.datasets import fetch_california_housing\n",
    "houses_x = fetch_california_housing().data\n",
    "houses_y = fetch_california_housing().target\n",
    "fetch_california_housing().DESCR"
   ],
   "outputs": [
    {
     "data": {
      "text/plain": [
       "'.. _california_housing_dataset:\\n\\nCalifornia Housing dataset\\n--------------------------\\n\\n**Data Set Characteristics:**\\n\\n:Number of Instances: 20640\\n\\n:Number of Attributes: 8 numeric, predictive attributes and the target\\n\\n:Attribute Information:\\n    - MedInc        median income in block group\\n    - HouseAge      median house age in block group\\n    - AveRooms      average number of rooms per household\\n    - AveBedrms     average number of bedrooms per household\\n    - Population    block group population\\n    - AveOccup      average number of household members\\n    - Latitude      block group latitude\\n    - Longitude     block group longitude\\n\\n:Missing Attribute Values: None\\n\\nThis dataset was obtained from the StatLib repository.\\nhttps://www.dcc.fc.up.pt/~ltorgo/Regression/cal_housing.html\\n\\nThe target variable is the median house value for California districts,\\nexpressed in hundreds of thousands of dollars ($100,000).\\n\\nThis dataset was derived from the 1990 U.S. census, using one row per census\\nblock group. A block group is the smallest geographical unit for which the U.S.\\nCensus Bureau publishes sample data (a block group typically has a population\\nof 600 to 3,000 people).\\n\\nA household is a group of people residing within a home. Since the average\\nnumber of rooms and bedrooms in this dataset are provided per household, these\\ncolumns may take surprisingly large values for block groups with few households\\nand many empty houses, such as vacation resorts.\\n\\nIt can be downloaded/loaded using the\\n:func:`sklearn.datasets.fetch_california_housing` function.\\n\\n.. rubric:: References\\n\\n- Pace, R. Kelley and Ronald Barry, Sparse Spatial Autoregressions,\\n  Statistics and Probability Letters, 33 (1997) 291-297\\n'"
      ]
     },
     "execution_count": 13,
     "metadata": {},
     "output_type": "execute_result"
    }
   ],
   "execution_count": 13
  },
  {
   "cell_type": "markdown",
   "id": "66a6aac8-8b04-4b7a-b6bc-5694a181d652",
   "metadata": {},
   "source": [
    "### 1. Data preparation"
   ]
  },
  {
   "cell_type": "markdown",
   "id": "32de87a5-6806-4d35-8bd3-7a52869cd471",
   "metadata": {},
   "source": [
    "a. Print the shapes of houses_x and houses_y. How many houses do we have? How many featues do we have? Check whether there NaN values."
   ]
  },
  {
   "cell_type": "code",
   "id": "30d6f234-7cd0-4f6b-9d8d-658f242d7f0f",
   "metadata": {
    "ExecuteTime": {
     "end_time": "2025-05-12T10:28:03.548601Z",
     "start_time": "2025-05-12T10:28:03.544183Z"
    }
   },
   "source": [
    "print(houses_x.shape)\n",
    "print(houses_y.shape)"
   ],
   "outputs": [
    {
     "name": "stdout",
     "output_type": "stream",
     "text": [
      "(20640, 8)\n",
      "(20640,)\n"
     ]
    }
   ],
   "execution_count": 14
  },
  {
   "cell_type": "code",
   "id": "463d5eb4-3095-4c64-95c4-1f47ae7eba39",
   "metadata": {
    "ExecuteTime": {
     "end_time": "2025-05-12T10:28:03.609918Z",
     "start_time": "2025-05-12T10:28:03.600522Z"
    }
   },
   "source": [
    "np.isnan(houses_x).sum()"
   ],
   "outputs": [
    {
     "data": {
      "text/plain": [
       "0"
      ]
     },
     "execution_count": 15,
     "metadata": {},
     "output_type": "execute_result"
    }
   ],
   "execution_count": 15
  },
  {
   "cell_type": "markdown",
   "id": "b4285cd4-a3e3-420c-806c-7bc14983c770",
   "metadata": {},
   "source": [
    "b. Scale the input using min_max scaling (why do we do this?). Split the data in a train (90%) and test dataset (10%) (why do we do this?)."
   ]
  },
  {
   "cell_type": "code",
   "id": "54387d9e-7c82-4772-ba2f-d7aedddf33d5",
   "metadata": {
    "ExecuteTime": {
     "end_time": "2025-05-12T10:28:03.653093Z",
     "start_time": "2025-05-12T10:28:03.646570Z"
    }
   },
   "source": [
    "from sklearn.preprocessing import MinMaxScaler\n",
    "scaler = MinMaxScaler()\n",
    "houses_x_norm = scaler.fit_transform(houses_x)"
   ],
   "outputs": [],
   "execution_count": 16
  },
  {
   "cell_type": "code",
   "id": "ba5b686e-dc9d-438a-9c76-55b205361e33",
   "metadata": {
    "ExecuteTime": {
     "end_time": "2025-05-12T10:28:03.709473Z",
     "start_time": "2025-05-12T10:28:03.698196Z"
    }
   },
   "source": [
    "from sklearn.model_selection import train_test_split\n",
    "x_train,x_test,y_train,y_test = train_test_split(houses_x_norm,houses_y,test_size=0.1) "
   ],
   "outputs": [],
   "execution_count": 17
  },
  {
   "cell_type": "markdown",
   "id": "f907fb3c-ea7e-4661-b89d-78970b482e64",
   "metadata": {},
   "source": [
    "### 2. Define the model\n",
    "\n",
    "Define the input layer with the right number of nodes. For the hidden layers, try out several options yourself. Define the output layer with the right number of nodes and a correct activation function. Print a model summary and compile the model with the Adam optimizer (choose the learning rate yourself), the correct loss function and a well choosen metric. How many parameters (weights and biases) does your model have?"
   ]
  },
  {
   "cell_type": "code",
   "id": "2298432a-1143-46ee-99f6-ce3fbb9ca939",
   "metadata": {
    "ExecuteTime": {
     "end_time": "2025-05-12T10:28:03.797618Z",
     "start_time": "2025-05-12T10:28:03.739480Z"
    }
   },
   "source": [
    "from tensorflow.keras import Model\n",
    "from tensorflow.keras.layers import Input, Dense\n",
    "from tensorflow.keras.optimizers import Adam\n",
    "# input layer 784 nodes\n",
    "inputs = Input(shape=(8,))\n",
    "# 2 hidden layer\n",
    "x = Dense(128, activation='relu')(inputs)\n",
    "x = Dense(64, activation='relu')(x)\n",
    "# output layer\n",
    "outputs = Dense(1, activation='linear')(x)\n",
    "# construct the model\n",
    "model = Model(inputs, outputs, name='HOUSE')\n",
    "# print a summary\n",
    "model.summary()\n",
    "# compile the model\n",
    "model.compile(\n",
    "    optimizer=Adam(learning_rate=0.001),\n",
    "    loss='mean_squared_error',\n",
    "    metrics=['mean_absolute_percentage_error']\n",
    ")"
   ],
   "outputs": [
    {
     "data": {
      "text/plain": [
       "\u001B[1mModel: \"HOUSE\"\u001B[0m\n"
      ],
      "text/html": [
       "<pre style=\"white-space:pre;overflow-x:auto;line-height:normal;font-family:Menlo,'DejaVu Sans Mono',consolas,'Courier New',monospace\"><span style=\"font-weight: bold\">Model: \"HOUSE\"</span>\n",
       "</pre>\n"
      ]
     },
     "metadata": {},
     "output_type": "display_data"
    },
    {
     "data": {
      "text/plain": [
       "┏━━━━━━━━━━━━━━━━━━━━━━━━━━━━━━━━━┳━━━━━━━━━━━━━━━━━━━━━━━━┳━━━━━━━━━━━━━━━┓\n",
       "┃\u001B[1m \u001B[0m\u001B[1mLayer (type)                   \u001B[0m\u001B[1m \u001B[0m┃\u001B[1m \u001B[0m\u001B[1mOutput Shape          \u001B[0m\u001B[1m \u001B[0m┃\u001B[1m \u001B[0m\u001B[1m      Param #\u001B[0m\u001B[1m \u001B[0m┃\n",
       "┡━━━━━━━━━━━━━━━━━━━━━━━━━━━━━━━━━╇━━━━━━━━━━━━━━━━━━━━━━━━╇━━━━━━━━━━━━━━━┩\n",
       "│ input_layer_1 (\u001B[38;5;33mInputLayer\u001B[0m)      │ (\u001B[38;5;45mNone\u001B[0m, \u001B[38;5;34m8\u001B[0m)              │             \u001B[38;5;34m0\u001B[0m │\n",
       "├─────────────────────────────────┼────────────────────────┼───────────────┤\n",
       "│ dense_3 (\u001B[38;5;33mDense\u001B[0m)                 │ (\u001B[38;5;45mNone\u001B[0m, \u001B[38;5;34m128\u001B[0m)            │         \u001B[38;5;34m1,152\u001B[0m │\n",
       "├─────────────────────────────────┼────────────────────────┼───────────────┤\n",
       "│ dense_4 (\u001B[38;5;33mDense\u001B[0m)                 │ (\u001B[38;5;45mNone\u001B[0m, \u001B[38;5;34m64\u001B[0m)             │         \u001B[38;5;34m8,256\u001B[0m │\n",
       "├─────────────────────────────────┼────────────────────────┼───────────────┤\n",
       "│ dense_5 (\u001B[38;5;33mDense\u001B[0m)                 │ (\u001B[38;5;45mNone\u001B[0m, \u001B[38;5;34m1\u001B[0m)              │            \u001B[38;5;34m65\u001B[0m │\n",
       "└─────────────────────────────────┴────────────────────────┴───────────────┘\n"
      ],
      "text/html": [
       "<pre style=\"white-space:pre;overflow-x:auto;line-height:normal;font-family:Menlo,'DejaVu Sans Mono',consolas,'Courier New',monospace\">┏━━━━━━━━━━━━━━━━━━━━━━━━━━━━━━━━━┳━━━━━━━━━━━━━━━━━━━━━━━━┳━━━━━━━━━━━━━━━┓\n",
       "┃<span style=\"font-weight: bold\"> Layer (type)                    </span>┃<span style=\"font-weight: bold\"> Output Shape           </span>┃<span style=\"font-weight: bold\">       Param # </span>┃\n",
       "┡━━━━━━━━━━━━━━━━━━━━━━━━━━━━━━━━━╇━━━━━━━━━━━━━━━━━━━━━━━━╇━━━━━━━━━━━━━━━┩\n",
       "│ input_layer_1 (<span style=\"color: #0087ff; text-decoration-color: #0087ff\">InputLayer</span>)      │ (<span style=\"color: #00d7ff; text-decoration-color: #00d7ff\">None</span>, <span style=\"color: #00af00; text-decoration-color: #00af00\">8</span>)              │             <span style=\"color: #00af00; text-decoration-color: #00af00\">0</span> │\n",
       "├─────────────────────────────────┼────────────────────────┼───────────────┤\n",
       "│ dense_3 (<span style=\"color: #0087ff; text-decoration-color: #0087ff\">Dense</span>)                 │ (<span style=\"color: #00d7ff; text-decoration-color: #00d7ff\">None</span>, <span style=\"color: #00af00; text-decoration-color: #00af00\">128</span>)            │         <span style=\"color: #00af00; text-decoration-color: #00af00\">1,152</span> │\n",
       "├─────────────────────────────────┼────────────────────────┼───────────────┤\n",
       "│ dense_4 (<span style=\"color: #0087ff; text-decoration-color: #0087ff\">Dense</span>)                 │ (<span style=\"color: #00d7ff; text-decoration-color: #00d7ff\">None</span>, <span style=\"color: #00af00; text-decoration-color: #00af00\">64</span>)             │         <span style=\"color: #00af00; text-decoration-color: #00af00\">8,256</span> │\n",
       "├─────────────────────────────────┼────────────────────────┼───────────────┤\n",
       "│ dense_5 (<span style=\"color: #0087ff; text-decoration-color: #0087ff\">Dense</span>)                 │ (<span style=\"color: #00d7ff; text-decoration-color: #00d7ff\">None</span>, <span style=\"color: #00af00; text-decoration-color: #00af00\">1</span>)              │            <span style=\"color: #00af00; text-decoration-color: #00af00\">65</span> │\n",
       "└─────────────────────────────────┴────────────────────────┴───────────────┘\n",
       "</pre>\n"
      ]
     },
     "metadata": {},
     "output_type": "display_data"
    },
    {
     "data": {
      "text/plain": [
       "\u001B[1m Total params: \u001B[0m\u001B[38;5;34m9,473\u001B[0m (37.00 KB)\n"
      ],
      "text/html": [
       "<pre style=\"white-space:pre;overflow-x:auto;line-height:normal;font-family:Menlo,'DejaVu Sans Mono',consolas,'Courier New',monospace\"><span style=\"font-weight: bold\"> Total params: </span><span style=\"color: #00af00; text-decoration-color: #00af00\">9,473</span> (37.00 KB)\n",
       "</pre>\n"
      ]
     },
     "metadata": {},
     "output_type": "display_data"
    },
    {
     "data": {
      "text/plain": [
       "\u001B[1m Trainable params: \u001B[0m\u001B[38;5;34m9,473\u001B[0m (37.00 KB)\n"
      ],
      "text/html": [
       "<pre style=\"white-space:pre;overflow-x:auto;line-height:normal;font-family:Menlo,'DejaVu Sans Mono',consolas,'Courier New',monospace\"><span style=\"font-weight: bold\"> Trainable params: </span><span style=\"color: #00af00; text-decoration-color: #00af00\">9,473</span> (37.00 KB)\n",
       "</pre>\n"
      ]
     },
     "metadata": {},
     "output_type": "display_data"
    },
    {
     "data": {
      "text/plain": [
       "\u001B[1m Non-trainable params: \u001B[0m\u001B[38;5;34m0\u001B[0m (0.00 B)\n"
      ],
      "text/html": [
       "<pre style=\"white-space:pre;overflow-x:auto;line-height:normal;font-family:Menlo,'DejaVu Sans Mono',consolas,'Courier New',monospace\"><span style=\"font-weight: bold\"> Non-trainable params: </span><span style=\"color: #00af00; text-decoration-color: #00af00\">0</span> (0.00 B)\n",
       "</pre>\n"
      ]
     },
     "metadata": {},
     "output_type": "display_data"
    }
   ],
   "execution_count": 18
  },
  {
   "cell_type": "markdown",
   "id": "ece99a86-2c7f-498c-abbb-980da1e3f451",
   "metadata": {},
   "source": [
    "### 3. Train the model\n",
    "\n",
    "Train the model with 10% of the training data taken for validation. Choose the number of epochs and the batch_size. Plot the loss function. Do we have overfitting?"
   ]
  },
  {
   "cell_type": "code",
   "id": "ac3d34e0-98dd-463b-9890-ab501336f1ba",
   "metadata": {
    "scrolled": true,
    "ExecuteTime": {
     "end_time": "2025-05-12T10:29:02.848119Z",
     "start_time": "2025-05-12T10:28:03.848977Z"
    }
   },
   "source": [
    "from plot_loss import plot_loss\n",
    "# train the model\n",
    "history = model.fit(\n",
    "    x_train, # training input\n",
    "    y_train, # training targets\n",
    "    epochs=50,\n",
    "    batch_size=32,\n",
    "    validation_split=0.1,\n",
    ")\n",
    "# plot loss function\n",
    "plot_loss(history)"
   ],
   "outputs": [
    {
     "name": "stdout",
     "output_type": "stream",
     "text": [
      "Epoch 1/50\n",
      "\u001B[1m523/523\u001B[0m \u001B[32m━━━━━━━━━━━━━━━━━━━━\u001B[0m\u001B[37m\u001B[0m \u001B[1m3s\u001B[0m 3ms/step - loss: 1.5209 - mean_absolute_percentage_error: 52.2594 - val_loss: 0.5650 - val_mean_absolute_percentage_error: 31.6935\n",
      "Epoch 2/50\n",
      "\u001B[1m523/523\u001B[0m \u001B[32m━━━━━━━━━━━━━━━━━━━━\u001B[0m\u001B[37m\u001B[0m \u001B[1m1s\u001B[0m 2ms/step - loss: 0.5371 - mean_absolute_percentage_error: 31.2513 - val_loss: 0.5219 - val_mean_absolute_percentage_error: 34.0200\n",
      "Epoch 3/50\n",
      "\u001B[1m523/523\u001B[0m \u001B[32m━━━━━━━━━━━━━━━━━━━━\u001B[0m\u001B[37m\u001B[0m \u001B[1m1s\u001B[0m 2ms/step - loss: 0.4863 - mean_absolute_percentage_error: 29.2201 - val_loss: 0.4831 - val_mean_absolute_percentage_error: 25.7143\n",
      "Epoch 4/50\n",
      "\u001B[1m523/523\u001B[0m \u001B[32m━━━━━━━━━━━━━━━━━━━━\u001B[0m\u001B[37m\u001B[0m \u001B[1m1s\u001B[0m 2ms/step - loss: 0.4663 - mean_absolute_percentage_error: 27.5400 - val_loss: 0.4634 - val_mean_absolute_percentage_error: 25.0079\n",
      "Epoch 5/50\n",
      "\u001B[1m523/523\u001B[0m \u001B[32m━━━━━━━━━━━━━━━━━━━━\u001B[0m\u001B[37m\u001B[0m \u001B[1m1s\u001B[0m 2ms/step - loss: 0.4664 - mean_absolute_percentage_error: 27.0383 - val_loss: 0.4611 - val_mean_absolute_percentage_error: 23.4098\n",
      "Epoch 6/50\n",
      "\u001B[1m523/523\u001B[0m \u001B[32m━━━━━━━━━━━━━━━━━━━━\u001B[0m\u001B[37m\u001B[0m \u001B[1m1s\u001B[0m 2ms/step - loss: 0.4430 - mean_absolute_percentage_error: 26.3131 - val_loss: 0.4575 - val_mean_absolute_percentage_error: 22.5359\n",
      "Epoch 7/50\n",
      "\u001B[1m523/523\u001B[0m \u001B[32m━━━━━━━━━━━━━━━━━━━━\u001B[0m\u001B[37m\u001B[0m \u001B[1m1s\u001B[0m 2ms/step - loss: 0.4127 - mean_absolute_percentage_error: 25.6763 - val_loss: 0.4294 - val_mean_absolute_percentage_error: 24.8288\n",
      "Epoch 8/50\n",
      "\u001B[1m523/523\u001B[0m \u001B[32m━━━━━━━━━━━━━━━━━━━━\u001B[0m\u001B[37m\u001B[0m \u001B[1m1s\u001B[0m 2ms/step - loss: 0.4276 - mean_absolute_percentage_error: 25.6870 - val_loss: 0.5016 - val_mean_absolute_percentage_error: 21.4839\n",
      "Epoch 9/50\n",
      "\u001B[1m523/523\u001B[0m \u001B[32m━━━━━━━━━━━━━━━━━━━━\u001B[0m\u001B[37m\u001B[0m \u001B[1m1s\u001B[0m 2ms/step - loss: 0.4045 - mean_absolute_percentage_error: 25.1090 - val_loss: 0.4208 - val_mean_absolute_percentage_error: 27.0556\n",
      "Epoch 10/50\n",
      "\u001B[1m523/523\u001B[0m \u001B[32m━━━━━━━━━━━━━━━━━━━━\u001B[0m\u001B[37m\u001B[0m \u001B[1m1s\u001B[0m 2ms/step - loss: 0.4075 - mean_absolute_percentage_error: 24.7232 - val_loss: 0.4110 - val_mean_absolute_percentage_error: 23.8876\n",
      "Epoch 11/50\n",
      "\u001B[1m523/523\u001B[0m \u001B[32m━━━━━━━━━━━━━━━━━━━━\u001B[0m\u001B[37m\u001B[0m \u001B[1m1s\u001B[0m 2ms/step - loss: 0.3772 - mean_absolute_percentage_error: 23.9156 - val_loss: 0.4260 - val_mean_absolute_percentage_error: 28.2702\n",
      "Epoch 12/50\n",
      "\u001B[1m523/523\u001B[0m \u001B[32m━━━━━━━━━━━━━━━━━━━━\u001B[0m\u001B[37m\u001B[0m \u001B[1m1s\u001B[0m 2ms/step - loss: 0.3996 - mean_absolute_percentage_error: 24.4632 - val_loss: 0.4345 - val_mean_absolute_percentage_error: 27.8980\n",
      "Epoch 13/50\n",
      "\u001B[1m523/523\u001B[0m \u001B[32m━━━━━━━━━━━━━━━━━━━━\u001B[0m\u001B[37m\u001B[0m \u001B[1m1s\u001B[0m 2ms/step - loss: 0.3951 - mean_absolute_percentage_error: 24.5772 - val_loss: 0.4036 - val_mean_absolute_percentage_error: 25.2754\n",
      "Epoch 14/50\n",
      "\u001B[1m523/523\u001B[0m \u001B[32m━━━━━━━━━━━━━━━━━━━━\u001B[0m\u001B[37m\u001B[0m \u001B[1m1s\u001B[0m 2ms/step - loss: 0.3917 - mean_absolute_percentage_error: 24.1379 - val_loss: 0.4017 - val_mean_absolute_percentage_error: 20.8277\n",
      "Epoch 15/50\n",
      "\u001B[1m523/523\u001B[0m \u001B[32m━━━━━━━━━━━━━━━━━━━━\u001B[0m\u001B[37m\u001B[0m \u001B[1m1s\u001B[0m 2ms/step - loss: 0.3620 - mean_absolute_percentage_error: 22.9031 - val_loss: 0.3789 - val_mean_absolute_percentage_error: 21.4631\n",
      "Epoch 16/50\n",
      "\u001B[1m523/523\u001B[0m \u001B[32m━━━━━━━━━━━━━━━━━━━━\u001B[0m\u001B[37m\u001B[0m \u001B[1m1s\u001B[0m 2ms/step - loss: 0.3699 - mean_absolute_percentage_error: 23.3381 - val_loss: 0.3713 - val_mean_absolute_percentage_error: 21.9090\n",
      "Epoch 17/50\n",
      "\u001B[1m523/523\u001B[0m \u001B[32m━━━━━━━━━━━━━━━━━━━━\u001B[0m\u001B[37m\u001B[0m \u001B[1m1s\u001B[0m 2ms/step - loss: 0.3773 - mean_absolute_percentage_error: 23.9197 - val_loss: 0.3882 - val_mean_absolute_percentage_error: 24.4731\n",
      "Epoch 18/50\n",
      "\u001B[1m523/523\u001B[0m \u001B[32m━━━━━━━━━━━━━━━━━━━━\u001B[0m\u001B[37m\u001B[0m \u001B[1m1s\u001B[0m 2ms/step - loss: 0.3636 - mean_absolute_percentage_error: 23.0717 - val_loss: 0.3765 - val_mean_absolute_percentage_error: 20.7276\n",
      "Epoch 19/50\n",
      "\u001B[1m523/523\u001B[0m \u001B[32m━━━━━━━━━━━━━━━━━━━━\u001B[0m\u001B[37m\u001B[0m \u001B[1m1s\u001B[0m 2ms/step - loss: 0.3448 - mean_absolute_percentage_error: 22.3970 - val_loss: 0.3724 - val_mean_absolute_percentage_error: 21.4784\n",
      "Epoch 20/50\n",
      "\u001B[1m523/523\u001B[0m \u001B[32m━━━━━━━━━━━━━━━━━━━━\u001B[0m\u001B[37m\u001B[0m \u001B[1m1s\u001B[0m 2ms/step - loss: 0.3491 - mean_absolute_percentage_error: 22.4872 - val_loss: 0.4246 - val_mean_absolute_percentage_error: 28.8225\n",
      "Epoch 21/50\n",
      "\u001B[1m523/523\u001B[0m \u001B[32m━━━━━━━━━━━━━━━━━━━━\u001B[0m\u001B[37m\u001B[0m \u001B[1m1s\u001B[0m 2ms/step - loss: 0.3572 - mean_absolute_percentage_error: 22.8608 - val_loss: 0.3603 - val_mean_absolute_percentage_error: 21.3376\n",
      "Epoch 22/50\n",
      "\u001B[1m523/523\u001B[0m \u001B[32m━━━━━━━━━━━━━━━━━━━━\u001B[0m\u001B[37m\u001B[0m \u001B[1m1s\u001B[0m 2ms/step - loss: 0.3404 - mean_absolute_percentage_error: 22.3500 - val_loss: 0.3656 - val_mean_absolute_percentage_error: 23.6553\n",
      "Epoch 23/50\n",
      "\u001B[1m523/523\u001B[0m \u001B[32m━━━━━━━━━━━━━━━━━━━━\u001B[0m\u001B[37m\u001B[0m \u001B[1m1s\u001B[0m 2ms/step - loss: 0.3415 - mean_absolute_percentage_error: 22.7731 - val_loss: 0.3639 - val_mean_absolute_percentage_error: 21.5329\n",
      "Epoch 24/50\n",
      "\u001B[1m523/523\u001B[0m \u001B[32m━━━━━━━━━━━━━━━━━━━━\u001B[0m\u001B[37m\u001B[0m \u001B[1m1s\u001B[0m 2ms/step - loss: 0.3380 - mean_absolute_percentage_error: 22.4230 - val_loss: 0.4230 - val_mean_absolute_percentage_error: 20.8130\n",
      "Epoch 25/50\n",
      "\u001B[1m523/523\u001B[0m \u001B[32m━━━━━━━━━━━━━━━━━━━━\u001B[0m\u001B[37m\u001B[0m \u001B[1m1s\u001B[0m 2ms/step - loss: 0.3352 - mean_absolute_percentage_error: 22.1309 - val_loss: 0.3495 - val_mean_absolute_percentage_error: 19.6136\n",
      "Epoch 26/50\n",
      "\u001B[1m523/523\u001B[0m \u001B[32m━━━━━━━━━━━━━━━━━━━━\u001B[0m\u001B[37m\u001B[0m \u001B[1m1s\u001B[0m 2ms/step - loss: 0.3376 - mean_absolute_percentage_error: 22.2990 - val_loss: 0.3442 - val_mean_absolute_percentage_error: 22.0461\n",
      "Epoch 27/50\n",
      "\u001B[1m523/523\u001B[0m \u001B[32m━━━━━━━━━━━━━━━━━━━━\u001B[0m\u001B[37m\u001B[0m \u001B[1m1s\u001B[0m 2ms/step - loss: 0.3269 - mean_absolute_percentage_error: 22.2477 - val_loss: 0.3677 - val_mean_absolute_percentage_error: 19.2270\n",
      "Epoch 28/50\n",
      "\u001B[1m523/523\u001B[0m \u001B[32m━━━━━━━━━━━━━━━━━━━━\u001B[0m\u001B[37m\u001B[0m \u001B[1m1s\u001B[0m 2ms/step - loss: 0.3398 - mean_absolute_percentage_error: 21.9915 - val_loss: 0.3573 - val_mean_absolute_percentage_error: 23.3875\n",
      "Epoch 29/50\n",
      "\u001B[1m523/523\u001B[0m \u001B[32m━━━━━━━━━━━━━━━━━━━━\u001B[0m\u001B[37m\u001B[0m \u001B[1m1s\u001B[0m 2ms/step - loss: 0.3246 - mean_absolute_percentage_error: 22.2523 - val_loss: 0.3401 - val_mean_absolute_percentage_error: 19.9239\n",
      "Epoch 30/50\n",
      "\u001B[1m523/523\u001B[0m \u001B[32m━━━━━━━━━━━━━━━━━━━━\u001B[0m\u001B[37m\u001B[0m \u001B[1m1s\u001B[0m 2ms/step - loss: 0.3181 - mean_absolute_percentage_error: 21.4935 - val_loss: 0.3405 - val_mean_absolute_percentage_error: 22.2391\n",
      "Epoch 31/50\n",
      "\u001B[1m523/523\u001B[0m \u001B[32m━━━━━━━━━━━━━━━━━━━━\u001B[0m\u001B[37m\u001B[0m \u001B[1m1s\u001B[0m 2ms/step - loss: 0.3309 - mean_absolute_percentage_error: 22.0574 - val_loss: 0.3297 - val_mean_absolute_percentage_error: 20.5020\n",
      "Epoch 32/50\n",
      "\u001B[1m523/523\u001B[0m \u001B[32m━━━━━━━━━━━━━━━━━━━━\u001B[0m\u001B[37m\u001B[0m \u001B[1m1s\u001B[0m 2ms/step - loss: 0.3288 - mean_absolute_percentage_error: 22.0679 - val_loss: 0.3290 - val_mean_absolute_percentage_error: 20.0615\n",
      "Epoch 33/50\n",
      "\u001B[1m523/523\u001B[0m \u001B[32m━━━━━━━━━━━━━━━━━━━━\u001B[0m\u001B[37m\u001B[0m \u001B[1m1s\u001B[0m 2ms/step - loss: 0.3234 - mean_absolute_percentage_error: 21.6776 - val_loss: 0.3261 - val_mean_absolute_percentage_error: 19.8417\n",
      "Epoch 34/50\n",
      "\u001B[1m523/523\u001B[0m \u001B[32m━━━━━━━━━━━━━━━━━━━━\u001B[0m\u001B[37m\u001B[0m \u001B[1m1s\u001B[0m 2ms/step - loss: 0.3151 - mean_absolute_percentage_error: 21.4094 - val_loss: 0.3278 - val_mean_absolute_percentage_error: 22.0217\n",
      "Epoch 35/50\n",
      "\u001B[1m523/523\u001B[0m \u001B[32m━━━━━━━━━━━━━━━━━━━━\u001B[0m\u001B[37m\u001B[0m \u001B[1m1s\u001B[0m 2ms/step - loss: 0.3164 - mean_absolute_percentage_error: 21.4261 - val_loss: 0.3486 - val_mean_absolute_percentage_error: 18.8944\n",
      "Epoch 36/50\n",
      "\u001B[1m523/523\u001B[0m \u001B[32m━━━━━━━━━━━━━━━━━━━━\u001B[0m\u001B[37m\u001B[0m \u001B[1m1s\u001B[0m 2ms/step - loss: 0.3209 - mean_absolute_percentage_error: 21.6659 - val_loss: 0.3216 - val_mean_absolute_percentage_error: 21.1304\n",
      "Epoch 37/50\n",
      "\u001B[1m523/523\u001B[0m \u001B[32m━━━━━━━━━━━━━━━━━━━━\u001B[0m\u001B[37m\u001B[0m \u001B[1m1s\u001B[0m 2ms/step - loss: 0.3079 - mean_absolute_percentage_error: 21.2053 - val_loss: 0.3271 - val_mean_absolute_percentage_error: 19.8925\n",
      "Epoch 38/50\n",
      "\u001B[1m523/523\u001B[0m \u001B[32m━━━━━━━━━━━━━━━━━━━━\u001B[0m\u001B[37m\u001B[0m \u001B[1m1s\u001B[0m 2ms/step - loss: 0.3270 - mean_absolute_percentage_error: 21.4497 - val_loss: 0.3315 - val_mean_absolute_percentage_error: 21.4822\n",
      "Epoch 39/50\n",
      "\u001B[1m523/523\u001B[0m \u001B[32m━━━━━━━━━━━━━━━━━━━━\u001B[0m\u001B[37m\u001B[0m \u001B[1m1s\u001B[0m 2ms/step - loss: 0.3129 - mean_absolute_percentage_error: 21.3374 - val_loss: 0.3280 - val_mean_absolute_percentage_error: 19.7852\n",
      "Epoch 40/50\n",
      "\u001B[1m523/523\u001B[0m \u001B[32m━━━━━━━━━━━━━━━━━━━━\u001B[0m\u001B[37m\u001B[0m \u001B[1m1s\u001B[0m 2ms/step - loss: 0.3042 - mean_absolute_percentage_error: 21.2623 - val_loss: 0.3471 - val_mean_absolute_percentage_error: 18.5467\n",
      "Epoch 41/50\n",
      "\u001B[1m523/523\u001B[0m \u001B[32m━━━━━━━━━━━━━━━━━━━━\u001B[0m\u001B[37m\u001B[0m \u001B[1m1s\u001B[0m 2ms/step - loss: 0.3166 - mean_absolute_percentage_error: 21.3179 - val_loss: 0.3187 - val_mean_absolute_percentage_error: 21.7397\n",
      "Epoch 42/50\n",
      "\u001B[1m523/523\u001B[0m \u001B[32m━━━━━━━━━━━━━━━━━━━━\u001B[0m\u001B[37m\u001B[0m \u001B[1m2s\u001B[0m 3ms/step - loss: 0.3149 - mean_absolute_percentage_error: 21.2827 - val_loss: 0.3276 - val_mean_absolute_percentage_error: 21.9771\n",
      "Epoch 43/50\n",
      "\u001B[1m523/523\u001B[0m \u001B[32m━━━━━━━━━━━━━━━━━━━━\u001B[0m\u001B[37m\u001B[0m \u001B[1m2s\u001B[0m 3ms/step - loss: 0.3058 - mean_absolute_percentage_error: 20.8664 - val_loss: 0.3152 - val_mean_absolute_percentage_error: 19.7633\n",
      "Epoch 44/50\n",
      "\u001B[1m523/523\u001B[0m \u001B[32m━━━━━━━━━━━━━━━━━━━━\u001B[0m\u001B[37m\u001B[0m \u001B[1m2s\u001B[0m 4ms/step - loss: 0.3030 - mean_absolute_percentage_error: 21.0302 - val_loss: 0.3929 - val_mean_absolute_percentage_error: 19.0675\n",
      "Epoch 45/50\n",
      "\u001B[1m523/523\u001B[0m \u001B[32m━━━━━━━━━━━━━━━━━━━━\u001B[0m\u001B[37m\u001B[0m \u001B[1m2s\u001B[0m 3ms/step - loss: 0.3045 - mean_absolute_percentage_error: 21.0028 - val_loss: 0.3148 - val_mean_absolute_percentage_error: 19.8887\n",
      "Epoch 46/50\n",
      "\u001B[1m523/523\u001B[0m \u001B[32m━━━━━━━━━━━━━━━━━━━━\u001B[0m\u001B[37m\u001B[0m \u001B[1m2s\u001B[0m 3ms/step - loss: 0.2994 - mean_absolute_percentage_error: 20.9640 - val_loss: 0.3135 - val_mean_absolute_percentage_error: 20.6958\n",
      "Epoch 47/50\n",
      "\u001B[1m523/523\u001B[0m \u001B[32m━━━━━━━━━━━━━━━━━━━━\u001B[0m\u001B[37m\u001B[0m \u001B[1m1s\u001B[0m 2ms/step - loss: 0.3015 - mean_absolute_percentage_error: 20.9285 - val_loss: 0.4204 - val_mean_absolute_percentage_error: 27.8448\n",
      "Epoch 48/50\n",
      "\u001B[1m523/523\u001B[0m \u001B[32m━━━━━━━━━━━━━━━━━━━━\u001B[0m\u001B[37m\u001B[0m \u001B[1m1s\u001B[0m 3ms/step - loss: 0.3043 - mean_absolute_percentage_error: 21.3190 - val_loss: 0.3036 - val_mean_absolute_percentage_error: 20.3096\n",
      "Epoch 49/50\n",
      "\u001B[1m523/523\u001B[0m \u001B[32m━━━━━━━━━━━━━━━━━━━━\u001B[0m\u001B[37m\u001B[0m \u001B[1m1s\u001B[0m 2ms/step - loss: 0.2958 - mean_absolute_percentage_error: 20.7555 - val_loss: 0.3188 - val_mean_absolute_percentage_error: 23.0052\n",
      "Epoch 50/50\n",
      "\u001B[1m523/523\u001B[0m \u001B[32m━━━━━━━━━━━━━━━━━━━━\u001B[0m\u001B[37m\u001B[0m \u001B[1m1s\u001B[0m 2ms/step - loss: 0.3061 - mean_absolute_percentage_error: 20.8395 - val_loss: 0.3061 - val_mean_absolute_percentage_error: 22.2085\n"
     ]
    },
    {
     "data": {
      "text/plain": [
       "<Figure size 640x480 with 1 Axes>"
      ],
      "image/png": "[encoded data removed]"
     },
     "metadata": {},
     "output_type": "display_data"
    }
   ],
   "execution_count": 19
  },
  {
   "cell_type": "markdown",
   "id": "304e1c08-d354-42b0-8aeb-1d0848234bcc",
   "metadata": {},
   "source": [
    "### 4. Evaluate the model\n",
    "\n",
    "Evaluate the model with the test dataset (why thisone?). What is the accuracy of the model?"
   ]
  },
  {
   "cell_type": "code",
   "id": "0dbbb68d-508a-488e-b7cc-a37f6077879f",
   "metadata": {
    "ExecuteTime": {
     "end_time": "2025-05-12T10:30:08.103193Z",
     "start_time": "2025-05-12T10:30:07.740594Z"
    }
   },
   "source": [
    "model.evaluate(x_test,y_test)"
   ],
   "outputs": [
    {
     "name": "stdout",
     "output_type": "stream",
     "text": [
      "\u001B[1m65/65\u001B[0m \u001B[32m━━━━━━━━━━━━━━━━━━━━\u001B[0m\u001B[37m\u001B[0m \u001B[1m0s\u001B[0m 3ms/step - loss: 0.3090 - mean_absolute_percentage_error: 24.0935\n"
     ]
    },
    {
     "data": {
      "text/plain": [
       "[0.3190830647945404, 23.49052619934082]"
      ]
     },
     "execution_count": 20,
     "metadata": {},
     "output_type": "execute_result"
    }
   ],
   "execution_count": 20
  },
  {
   "cell_type": "markdown",
   "id": "8aa472d8-6b6b-4d16-89a3-0629114d902d",
   "metadata": {},
   "source": [
    "### 5. Use the model to predict\n",
    "\n",
    "There is a house on the market with the following values for the features: 3,30,5,1,1500,4,38,-125. Predict the price for this housee. What should be the shape of the predict parameter? Can we feed in the feature values right away? "
   ]
  },
  {
   "cell_type": "code",
   "id": "40799e95-6d63-4d35-9aae-589a6f4bf35d",
   "metadata": {
    "ExecuteTime": {
     "end_time": "2025-05-12T10:30:08.632016Z",
     "start_time": "2025-05-12T10:30:08.322409Z"
    }
   },
   "source": [
    "new_house = [[3,30,5,1,1500,4,38,-125]]  # 2-dimensional!\n",
    "new_house_norm = scaler.transform(new_house)  # no fit!\n",
    "predicted_price = model.predict(new_house_norm)\n",
    "print(predicted_price)"
   ],
   "outputs": [
    {
     "name": "stdout",
     "output_type": "stream",
     "text": [
      "\u001B[1m1/1\u001B[0m \u001B[32m━━━━━━━━━━━━━━━━━━━━\u001B[0m\u001B[37m\u001B[0m \u001B[1m0s\u001B[0m 185ms/step\n",
      "[[4.5094304]]\n"
     ]
    }
   ],
   "execution_count": 21
  }
 ],
 "metadata": {
  "kernelspec": {
   "display_name": "Python 3 (ipykernel)",
   "language": "python",
   "name": "python3"
  },
  "language_info": {
   "codemirror_mode": {
    "name": "ipython",
    "version": 3
   },
   "file_extension": ".py",
   "mimetype": "text/x-python",
   "name": "python",
   "nbconvert_exporter": "python",
   "pygments_lexer": "ipython3",
   "version": "3.11.7"
  }
 },
 "nbformat": 4,
 "nbformat_minor": 5
}
