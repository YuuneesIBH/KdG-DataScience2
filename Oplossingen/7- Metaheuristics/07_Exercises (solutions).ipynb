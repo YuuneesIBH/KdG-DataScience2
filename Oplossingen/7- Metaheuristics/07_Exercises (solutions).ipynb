{
 "cells": [
  {
   "cell_type": "markdown",
   "id": "7cfa4054-46e9-44f5-a161-61f68d6134c9",
   "metadata": {},
   "source": "# Meta-heuristieken"
  },
  {
   "cell_type": "code",
   "id": "1f83d0af-caa8-47bd-8c7a-6c2c4d4fa88b",
   "metadata": {
    "ExecuteTime": {
     "end_time": "2025-03-15T20:51:05.840923Z",
     "start_time": "2025-03-15T20:51:05.836055Z"
    }
   },
   "source": [
    "import math\n",
    "import numpy as np\n",
    "import pandas as pd\n",
    "from simanneal import Annealer"
   ],
   "outputs": [],
   "execution_count": 14
  },
  {
   "metadata": {},
   "cell_type": "markdown",
   "source": [
    "## Vraag 1: TSP nearest neighbour benadering\n",
    "Slide 14: Geef de oplossing indien je start bij punt b."
   ],
   "id": "8c640805c8210964"
  },
  {
   "metadata": {
    "ExecuteTime": {
     "end_time": "2025-03-15T20:51:05.880326Z",
     "start_time": "2025-03-15T20:51:05.875294Z"
    }
   },
   "cell_type": "code",
   "source": [
    "#SOLUTION_START\n",
    "# (b,c,d,e,a)\n",
    "#SOLUTION_END"
   ],
   "id": "f7e7cd273ba97505",
   "outputs": [],
   "execution_count": 15
  },
  {
   "cell_type": "markdown",
   "id": "8c08789c-15a5-4b72-9a39-46f7cd8abefa",
   "metadata": {},
   "source": [
    "## Vraag 2: De rugzak (aka the knapsack problem)\n",
    "Je bevindt je in een geheime kamer die uitgerust is met een deur met tijdslot. Je ziet een timer aftellen die meldt dat je nog maar vijf minuten over het alvorens de deur voor altijd op slot zal zijn. Voor je neus liggen waardevolle voorwerpen met elk hun eigen opbrengst en gewicht. Je hebt een rugzak bij die een absoluut maximaal gewicht kan torsen van 750gr.   Op Canvas vind je de lijst van voorwerpen met hun gewicht en opbrengst.  Stel de optimale rugzak samen.  Je zou op een optimale opbrengst van 1458 moeten uitkomen (of toch zeker een waarde dicht daarbij in de buurt)."
   ]
  },
  {
   "cell_type": "code",
   "id": "427c9082-7aac-48a8-849c-4a76502ad410",
   "metadata": {
    "ExecuteTime": {
     "end_time": "2025-03-15T20:51:05.900977Z",
     "start_time": "2025-03-15T20:51:05.883666Z"
    }
   },
   "source": [
    "knapsack_items = pd.read_csv('Knapsack Items.csv', delimiter=',')\n",
    "knapsack_items.info()"
   ],
   "outputs": [
    {
     "name": "stdout",
     "output_type": "stream",
     "text": [
      "<class 'pandas.core.frame.DataFrame'>\n",
      "RangeIndex: 15 entries, 0 to 14\n",
      "Data columns (total 3 columns):\n",
      " #   Column         Non-Null Count  Dtype \n",
      "---  ------         --------------  ----- \n",
      " 0   Unnamed: 0     15 non-null     object\n",
      " 1   gewichten(gr)  15 non-null     int64 \n",
      " 2   waarde         15 non-null     int64 \n",
      "dtypes: int64(2), object(1)\n",
      "memory usage: 492.0+ bytes\n"
     ]
    }
   ],
   "execution_count": 16
  },
  {
   "cell_type": "code",
   "id": "e9fad52c-b2ad-45bf-b430-c43abdd42040",
   "metadata": {
    "ExecuteTime": {
     "end_time": "2025-03-15T20:51:11.988643Z",
     "start_time": "2025-03-15T20:51:05.926397Z"
    }
   },
   "source": [
    "#SOLUTION_START\n",
    "\n",
    "class KnapsackProblem(Annealer):\n",
    "    def energy(self):\n",
    "        solution = self.state\n",
    "        total_weight = (solution * weights_items).sum()\n",
    "        if total_weight > 750:\n",
    "            total_value = 0\n",
    "        else:\n",
    "            total_value = (solution * values_items).sum()\n",
    "        return -total_value # - want max\n",
    "\n",
    "    def move(self):\n",
    "        i = np.random.randint(0,len(self.state))\n",
    "        self.state[i] = not self.state[i]\n",
    "\n",
    "weights_items=knapsack_items['gewichten(gr)']\n",
    "values_items=knapsack_items['waarde']\n",
    "init_sol = np.random.randint(0,2,size=len(knapsack_items)) #initial solution\n",
    "knapsack=KnapsackProblem(init_sol)\n",
    "knapsack.anneal()\n",
    "\n",
    "#SOLUTION_END"
   ],
   "outputs": [
    {
     "name": "stderr",
     "output_type": "stream",
     "text": [
      " Temperature        Energy    Accept   Improve     Elapsed   Remaining\n",
      "     2.50000      -1425.00     0.00%     0.00%     0:00:06     0:00:00\r"
     ]
    },
    {
     "data": {
      "text/plain": [
       "(array([1, 0, 1, 0, 1, 0, 1, 1, 1, 0, 0, 0, 0, 1, 1]), -1458)"
      ]
     },
     "execution_count": 17,
     "metadata": {},
     "output_type": "execute_result"
    }
   ],
   "execution_count": 17
  },
  {
   "cell_type": "markdown",
   "id": "91955be1-9cec-4b3e-b9bf-5c8182753148",
   "metadata": {},
   "source": [
    " ## Vraag 3: De dakgoten\n",
    "Je bent belast met het ontwerp van dakgoten waarbij de productiekost zo laag mogelijk moet zijn. Daarom is het noodzakelijk dat de dakgoten een zo optimale doorsnede hebben met het beschikbare materiaal zodat bladeren en vuil makkelijk afgevoerd kunnen worden.  Het bedrijf waarvoor je werkt koopt metalen platen aan die een breedte hebben van 1m. M.a.w. h + b + h  -zie tekening- moet kleiner of gelijk zijn aan 1m.  Bepaal de ideale breedte B en hoogte H van de dakgoot die je uit de platen van 1m kan maken.\n",
    "\n",
    "```\n",
    "  |       |\n",
    "h |       |\n",
    "  |_______|\n",
    "      b\n",
    "```\n"
   ]
  },
  {
   "cell_type": "code",
   "id": "412214f5-fdbe-4d95-a8ae-12a626f758c8",
   "metadata": {
    "ExecuteTime": {
     "end_time": "2025-03-15T20:51:32.203422Z",
     "start_time": "2025-03-15T20:51:31.581891Z"
    }
   },
   "source": [
    "#SOLUTION_START\n",
    "\n",
    "class GutterProblem(Annealer):\n",
    "    def energy(self):\n",
    "        b = self.state[0]\n",
    "        h = (1 - b)/2\n",
    "        return -b*h  # - want max\n",
    "\n",
    "    def move(self):\n",
    "        self.state[0] += np.random.normal(0,0.1)\n",
    "        self.state[0] = np.clip(self.state[0], 0, 1)\n",
    "        return\n",
    "\n",
    "init_sol = np.random.uniform(0,1, size=1) #initial solution\n",
    "gutter=GutterProblem(init_sol)\n",
    "gutter.anneal()\n",
    "\n",
    "#SOLUTION_END"
   ],
   "outputs": [
    {
     "name": "stderr",
     "output_type": "stream",
     "text": [
      " Temperature        Energy    Accept   Improve     Elapsed   Remaining\n",
      "     2.50000         -0.12    99.60%    46.80%     0:00:01     0:00:00\r"
     ]
    },
    {
     "data": {
      "text/plain": [
       "(array([0.49998537]), -0.12499999989302947)"
      ]
     },
     "execution_count": 22,
     "metadata": {},
     "output_type": "execute_result"
    }
   ],
   "execution_count": 22
  },
  {
   "cell_type": "markdown",
   "id": "39df3f6d-20df-40ec-ae4f-2de1b339eb61",
   "metadata": {},
   "source": [
    "## Vraag 4: Voetbalstadium\n",
    "De plaatselijke sportclub wil een nieuw stadion bouwen.  Het sportveld bestaat uit een rechthoek met 2 halve cirkels rechts en links, zie figuur. De omtrek moet 400m bedragen. Tegelijkertijd willen we ervoor zorgen dat het centrale middenveld (de rechthoek) een maximale oppervlakte heeft.   Bepaal de ideale lengte –en breedteverhouding.\n",
    "\n",
    "```\n",
    "                  rechthoek\n",
    "                 ___________\n",
    "              / |           | \\\n",
    "halve cirkel |  |B          |  | halve cirkel\n",
    "              \\ |___________| /\n",
    "                      L\n",
    "```"
   ]
  },
  {
   "cell_type": "code",
   "id": "e2f1eab6-1629-48a3-9ac9-ee838f36cad9",
   "metadata": {
    "ExecuteTime": {
     "end_time": "2025-03-15T20:51:59.604130Z",
     "start_time": "2025-03-15T20:51:58.920317Z"
    }
   },
   "source": [
    "#SOLUTION_START\n",
    "\n",
    "class StadiumProblem(Annealer):\n",
    "    def energy(self):\n",
    "        L = self.state[0]\n",
    "        # circumference = 400 = 2 * L + B * math.pi => B = (400 - 2* L)/math.pi\n",
    "        B = (400 - 2* L)/math.pi\n",
    "        return -B*L   # - want max\n",
    "\n",
    "    def move(self):\n",
    "        self.state[0] += np.random.normal(0,0.1)\n",
    "        self.state[0] = np.clip(self.state[0], 0, 200)\n",
    "        return\n",
    "\n",
    "init_sol = np.random.uniform(0,200, size=1) #initial solution\n",
    "stadium=StadiumProblem(init_sol)\n",
    "stadium.anneal()\n",
    "\n",
    "#SOLUTION_END"
   ],
   "outputs": [
    {
     "name": "stderr",
     "output_type": "stream",
     "text": [
      " Temperature        Energy    Accept   Improve     Elapsed   Remaining\n",
      "     2.50000      -6363.89    96.00%    49.00%     0:00:01     0:00:00\r"
     ]
    },
    {
     "data": {
      "text/plain": [
       "(array([100.00003922]), -6366.197723674834)"
      ]
     },
     "execution_count": 28,
     "metadata": {},
     "output_type": "execute_result"
    }
   ],
   "execution_count": 28
  },
  {
   "cell_type": "markdown",
   "id": "65793d7b-7480-481f-b77f-f6106bc58fc3",
   "metadata": {},
   "source": [
    "## Vraag 5: Optimalisatie\n",
    "Gegeven volgende te maximaliseren doelfunctie:\n",
    "\n",
    "obj = 0.2 + x^2 + y^2 - 0.1 cos(6*pi*x) - 0.1 cos(6*pi*y)\n",
    "\n",
    "Met volgende beperkingen:  -1.0 ≤ x ≤  1.0\ten -1.0 ≤ y ≤  1.0\n",
    "Zoek een goede oplossing.\n"
   ]
  },
  {
   "cell_type": "code",
   "id": "5a7b7c63-f297-4621-8bec-b9d02afc14d0",
   "metadata": {
    "ExecuteTime": {
     "end_time": "2025-03-15T20:51:46.645973Z",
     "start_time": "2025-03-15T20:51:45.779889Z"
    }
   },
   "source": [
    "#SOLUTION_START\n",
    "\n",
    "class OptimalisatieProblem(Annealer):\n",
    "    def energy(self):\n",
    "        x = self.state[0]\n",
    "        y = self.state[1]\n",
    "        return -(0.2 + x**2 + y**2 - 0.1 * math.cos(6*math.pi*x) - 0.1 * math.cos(6*math.pi*y))   # - want max\n",
    "\n",
    "    def move(self):\n",
    "        i = np.random.randint(0,2)\n",
    "        self.state[i] += np.random.normal(0, 0.1)\n",
    "        self.state[i] = np.clip(self.state[i], -1, 1)\n",
    "\n",
    "init_opl =  np.random.uniform(-1,1, size=2) #initial solution\n",
    "opdracht = OptimalisatieProblem(init_opl)\n",
    "opdracht.anneal()\n",
    "\n",
    "#SOLUTION_END"
   ],
   "outputs": [
    {
     "name": "stderr",
     "output_type": "stream",
     "text": [
      " Temperature        Energy    Accept   Improve     Elapsed   Remaining\n",
      "     2.50000         -0.11    97.80%    46.80%     0:00:01     0:00:00\r"
     ]
    },
    {
     "data": {
      "text/plain": [
       "(array([ 1., -1.]), -2.0)"
      ]
     },
     "execution_count": 26,
     "metadata": {},
     "output_type": "execute_result"
    }
   ],
   "execution_count": 26
  }
 ],
 "metadata": {
  "kernelspec": {
   "display_name": "Python 3 (ipykernel)",
   "language": "python",
   "name": "python3"
  },
  "language_info": {
   "codemirror_mode": {
    "name": "ipython",
    "version": 3
   },
   "file_extension": ".py",
   "mimetype": "text/x-python",
   "name": "python",
   "nbconvert_exporter": "python",
   "pygments_lexer": "ipython3",
   "version": "3.11.7"
  }
 },
 "nbformat": 4,
 "nbformat_minor": 5
}
